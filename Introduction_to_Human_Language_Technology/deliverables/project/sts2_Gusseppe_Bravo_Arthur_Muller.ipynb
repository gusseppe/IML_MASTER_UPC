{
  "nbformat": 4,
  "nbformat_minor": 0,
  "metadata": {
    "colab": {
      "name": "sts2_Gusseppe_Bravo_Arthur_Muller.ipynb",
      "provenance": [],
      "collapsed_sections": []
    },
    "kernelspec": {
      "display_name": "Python 3",
      "language": "python",
      "name": "python3"
    },
    "language_info": {
      "codemirror_mode": {
        "name": "ipython",
        "version": 3
      },
      "file_extension": ".py",
      "mimetype": "text/x-python",
      "name": "python",
      "nbconvert_exporter": "python",
      "pygments_lexer": "ipython3",
      "version": "3.7.3"
    }
  },
  "cells": [
    {
      "cell_type": "markdown",
      "metadata": {
        "colab_type": "text",
        "id": "7zVU-eQKO_B1"
      },
      "source": [
        "# Project: Semantic Textual Similarity\n",
        "\n",
        "\n"
      ]
    },
    {
      "cell_type": "markdown",
      "metadata": {
        "colab_type": "text",
        "id": "joIJ7lxQs0Fx"
      },
      "source": [
        "### Mandatory project\n",
        "\n",
        "https://gebakx.github.io/ihlt/sts/index.html#5\n",
        "\n",
        "**Statement:**\n",
        "\n",
        "- Use data set and description of task Semantic Textual Similarity in SemEval 2012.\n",
        "\n",
        "- Implement some approaches to detect paraphrase using sentence similarity metrics.\n",
        "\n",
        "  - Explore some lexical dimensions.\n",
        "  - Explore the syntactic dimension alone.\n",
        "  - Explore the combination of both previous.\n",
        "\n",
        "- Add new components at your choice (optional)\n",
        "\n",
        "- Compare and comment the results achieved by these approaches among them and among the official results.\n",
        "\n",
        "- Send files to raco in IHLT STS Project before the oral presentation:\n",
        "\n",
        "  - Jupyter notebook: sts-[Student1]-[Student2].ipynb\n",
        "\n",
        "  - Slides: sts-[Student1]-[Student2].pdf\n"
      ]
    },
    {
      "cell_type": "markdown",
      "metadata": {
        "id": "i8_n8gTT1cb2",
        "colab_type": "text"
      },
      "source": [
        "## Download repository"
      ]
    },
    {
      "cell_type": "code",
      "metadata": {
        "id": "iXyABNuJ1fg-",
        "colab_type": "code",
        "colab": {}
      },
      "source": [
        "!git clone https://github.com/gusseppe/master_artificial_intelligence\n",
        "!cp -r /content/master_artificial_intelligence/Introduction_to_Human_Language_Technology/deliverables/project/* ."
      ],
      "execution_count": 0,
      "outputs": []
    },
    {
      "cell_type": "markdown",
      "metadata": {
        "id": "rXBW4uzg2ACC",
        "colab_type": "text"
      },
      "source": [
        "## Install requirements"
      ]
    },
    {
      "cell_type": "code",
      "metadata": {
        "id": "zUtpYjdC2FFN",
        "colab_type": "code",
        "colab": {
          "base_uri": "https://localhost:8080/",
          "height": 187
        },
        "outputId": "3b3ad27d-b4d5-4f06-b935-0c0e93a5093b"
      },
      "source": [
        "!head -n 10 requirements.txt"
      ],
      "execution_count": 3,
      "outputs": [
        {
          "output_type": "stream",
          "text": [
            "numpy\r\n",
            "pandas\r\n",
            "tarfile\r\n",
            "pytorch\r\n",
            "nltk\r\n",
            "xgboost\r\n",
            "hyperopt\r\n",
            "sklearn\r\n",
            "hpsklearn\r\n",
            "auto-sklearn\r\n"
          ],
          "name": "stdout"
        }
      ]
    },
    {
      "cell_type": "code",
      "metadata": {
        "id": "PaOTuaO01_Qv",
        "colab_type": "code",
        "colab": {}
      },
      "source": [
        "# !pip install -r requirements.txt"
      ],
      "execution_count": 0,
      "outputs": []
    },
    {
      "cell_type": "markdown",
      "metadata": {
        "colab_type": "text",
        "id": "siyhifONwI5j"
      },
      "source": [
        "## Third Requirements libraries"
      ]
    },
    {
      "cell_type": "code",
      "metadata": {
        "colab_type": "code",
        "id": "cNBxaXFBwMSr",
        "colab": {}
      },
      "source": [
        "import tarfile\n",
        "import nltk\n",
        "import pandas as pd\n",
        "import numpy as np\n",
        "import time\n",
        "import torch\n",
        "import torch.nn as nn\n",
        "import csv\n",
        "import tensorflow as tf\n",
        "import seaborn as sns\n",
        "\n",
        "from nltk import CFG, ChartParser\n",
        "from nltk.book import FreqDist\n",
        "from nltk.corpus import wordnet\n",
        "from nltk.stem import WordNetLemmatizer\n",
        "from scipy.stats import pearsonr\n",
        "from nltk.wsd import lesk\n",
        "from nltk.corpus import wordnet_ic\n",
        "from nltk.corpus import wordnet\n",
        "from nltk.stem import WordNetLemmatizer\n",
        "from nltk.corpus import stopwords\n",
        "from string import punctuation\n",
        "from nltk.corpus import wordnet as wn\n",
        "from scipy import spatial\n",
        "from sklearn.preprocessing import StandardScaler\n",
        "\n",
        "nltk.download('wordnet')\n",
        "nltk.download('maxent_ne_chunker')\n",
        "nltk.download('conll2000')\n"
      ],
      "execution_count": 0,
      "outputs": []
    },
    {
      "cell_type": "markdown",
      "metadata": {
        "id": "QrahOHSLdPHs",
        "colab_type": "text"
      },
      "source": [
        "## Download models\n",
        "\n",
        "These models will be usefull for mapping words into real vectors. Instead of calculating cosine distance after applying some methods (lcs distance, wsd, depency trees, etc.), embeddings will take place. Models:\n",
        "\n",
        "- Fast word2vec\n",
        "- Inferset facebook\n",
        "\n",
        "\n",
        "First, download Fast word2vec and unzip:\n",
        "\n",
        "https://fasttext.cc/docs/en/english-vectors.html\n",
        "\n",
        "Second, download Inferset (model 2) and unzip:\n",
        "\n",
        "https://drive.google.com/file/d/1sfIlbc8C5k_CujTF7UrtW_2lvNIH-EhW/view?usp=sharing\n",
        "\n",
        "\n",
        "\n",
        "References:\n",
        "\n",
        "- Snippet: https://github.com/facebookresearch/InferSent/blob/master/demo.ipynb\n"
      ]
    },
    {
      "cell_type": "markdown",
      "metadata": {
        "id": "fidkT8_LeyPD",
        "colab_type": "text"
      },
      "source": [
        "## Load models\n",
        "\n",
        "Once downloaded the required files, put those models in 'models_repo' folder.\n",
        "\n",
        "\n",
        "1. Load Inferset model (custom model).\n",
        "2. Load fasttext word2vec embedding parsing.\n"
      ]
    },
    {
      "cell_type": "code",
      "metadata": {
        "colab_type": "code",
        "id": "pgUPMfLDR36I",
        "outputId": "da291e5b-74b3-4338-f78c-cbc7c6bd0d76",
        "colab": {
          "base_uri": "https://localhost:8080/",
          "height": 68
        }
      },
      "source": [
        "%%time\n",
        "\n",
        "# !curl -Lo models/glove.840B.300d.zip http://nlp.stanford.edu/data/glove.840B.300d.zip\n",
        "\n",
        "from infersent import InferSent\n",
        "\n",
        "model_version = 2\n",
        "MODEL_PATH = f'./models_repo/infersent{model_version}.pkl'\n",
        "# W2V_PATH = './models_repo/glove.840B.300d.txt' # GloVe\n",
        "W2V_PATH = './models_repo/crawl-300d-2M.vec' # fastText\n",
        "params_model = {'bsize': 64, 'word_emb_dim': 300, 'enc_lstm_dim': 2048,\n",
        "                'pool_type': 'max', 'dpout_model': 0.0, 'version': model_version}\n",
        "\n",
        "model_senteval = InferSent(params_model)\n",
        "model_senteval.load_state_dict(torch.load(MODEL_PATH))\n",
        "model_senteval.set_w2v_path(W2V_PATH)\n",
        "model_senteval.build_vocab_k_words(K=100000)"
      ],
      "execution_count": 0,
      "outputs": [
        {
          "output_type": "stream",
          "text": [
            "Vocab size : 100000\n",
            "CPU times: user 4.94 s, sys: 552 ms, total: 5.5 s\n",
            "Wall time: 5.6 s\n"
          ],
          "name": "stdout"
        }
      ]
    },
    {
      "cell_type": "markdown",
      "metadata": {
        "colab_type": "text",
        "id": "t7Edp8t-8zJs"
      },
      "source": [
        "# Exploratory Data Analysis"
      ]
    },
    {
      "cell_type": "markdown",
      "metadata": {
        "colab_type": "text",
        "id": "HPG5VQQFpS6Q"
      },
      "source": [
        "## Download train/test sets\n"
      ]
    },
    {
      "cell_type": "code",
      "metadata": {
        "colab_type": "code",
        "id": "Y4JCsESbZy2R",
        "outputId": "4891185d-a34a-4d51-abe4-e8ecaff93de9",
        "colab": {
          "base_uri": "https://localhost:8080/",
          "height": 170
        }
      },
      "source": [
        "url_train = 'https://www.cs.york.ac.uk/semeval-2012/task6/data/uploads/datasets/train.tgz'\n",
        "url_test = 'https://www.cs.york.ac.uk/semeval-2012/task6/data/uploads/datasets/test-gold.tgz'\n",
        "\n",
        "!wget -q $url_train\n",
        "!wget -q $url_test\n",
        "\n",
        "with tarfile.open('train.tgz', \"r:gz\") as tar:\n",
        "  tar.extractall()\n",
        "with tarfile.open('test-gold.tgz', \"r:gz\") as tar:\n",
        "  tar.extractall()\n",
        "\n",
        "!echo 'Training' && ls train && echo '\\nTesting' && ls test-gold"
      ],
      "execution_count": 0,
      "outputs": [
        {
          "output_type": "stream",
          "text": [
            "Training\r\n",
            "00-readme.txt\t   STS.gs.MSRvid.txt\t   STS.input.MSRvid.txt\r\n",
            "correlation.pl\t   STS.gs.SMTeuroparl.txt  STS.input.SMTeuroparl.txt\r\n",
            "STS.gs.MSRpar.txt  STS.input.MSRpar.txt    STS.output.MSRpar.txt\r\n",
            "\\nTesting\r\n",
            "00-readme.txt\t   STS.gs.SMTeuroparl.txt\tSTS.input.MSRvid.txt\r\n",
            "STS.gs.ALL.txt\t   STS.gs.surprise.OnWN.txt\tSTS.input.SMTeuroparl.txt\r\n",
            "STS.gs.MSRpar.txt  STS.gs.surprise.SMTnews.txt\tSTS.input.surprise.OnWN.txt\r\n",
            "STS.gs.MSRvid.txt  STS.input.MSRpar.txt\t\tSTS.input.surprise.SMTnews.txt\r\n"
          ],
          "name": "stdout"
        }
      ]
    },
    {
      "cell_type": "markdown",
      "metadata": {
        "colab_type": "text",
        "id": "ji9wY0Ur88FA"
      },
      "source": [
        "## Read and gather metadata"
      ]
    },
    {
      "cell_type": "markdown",
      "metadata": {
        "colab_type": "text",
        "id": "x6vhNkQ-z_Vx"
      },
      "source": [
        "Let's begin working with **MSRvid** data set\n",
        "\n",
        "Let's load all the training data."
      ]
    },
    {
      "cell_type": "code",
      "metadata": {
        "id": "DE2_9gcu3HLP",
        "colab_type": "code",
        "outputId": "287f4639-1ae5-4703-eb6b-e1e8e8aa0b38",
        "colab": {
          "base_uri": "https://localhost:8080/",
          "height": 221
        }
      },
      "source": [
        "# Training data\n",
        "fnames_train = ['MSRpar', 'MSRvid', \n",
        "             'SMTeuroparl']\n",
        "_train_sents = [pd.read_csv(f'train/STS.input.{f}.txt',\n",
        "                           sep='\\t', quoting=csv.QUOTE_NONE,\n",
        "                           names=['sent1', 'sent2']) for f in fnames_train]\n",
        "train_sents = pd.concat(_train_sents, axis=0, ignore_index=True)\n",
        "_train_label = [pd.read_csv(f'train/STS.gs.{f}.txt',\n",
        "                           names=['score']) for f in fnames_train]\n",
        "train_label = pd.concat(_train_label, axis=0, ignore_index=True)\n",
        "train_data = pd.concat([train_sents, train_label], axis=1)\n",
        "\n",
        "# Testing data\n",
        "fnames_test = fnames_train + ['surprise.OnWN', 'surprise.SMTnews']\n",
        "_test_sents = [pd.read_csv(f'test-gold/STS.input.{f}.txt',\n",
        "                           sep='\\t', quoting=csv.QUOTE_NONE,\n",
        "                           names=['sent1', 'sent2']) for f in fnames_test]\n",
        "test_sents = pd.concat(_test_sents, axis=0, ignore_index=True)\n",
        "_test_label = [pd.read_csv(f'test-gold/STS.gs.{f}.txt',\n",
        "                           names=['score']) for f in fnames_test]\n",
        "test_label = pd.concat(_test_label, axis=0, ignore_index=True)\n",
        "test_data = pd.concat([test_sents, test_label], axis=1)\n",
        "\n",
        "\n",
        "print(f' Train data set: ({len(train_data)}, {len(train_data.columns)})')\n",
        "train_data.head()\n"
      ],
      "execution_count": 23,
      "outputs": [
        {
          "output_type": "stream",
          "text": [
            " Train data set: (2234, 3)\n"
          ],
          "name": "stdout"
        },
        {
          "output_type": "execute_result",
          "data": {
            "text/plain": [
              "                                               sent1  \\\n",
              "0  But other sources close to the sale said Viven...   \n",
              "1  Micron has declared its first quarterly profit...   \n",
              "2  The fines are part of failed Republican effort...   \n",
              "3  The American Anglican Council, which represent...   \n",
              "4  The tech-loaded Nasdaq composite rose 20.96 po...   \n",
              "\n",
              "                                               sent2  score  \n",
              "0  But other sources close to the sale said Viven...   4.00  \n",
              "1  Micron's numbers also marked the first quarter...   3.75  \n",
              "2  Perry said he backs the Senate's efforts, incl...   2.80  \n",
              "3  The American Anglican Council, which represent...   3.40  \n",
              "4  The technology-laced Nasdaq Composite Index <....   2.40  "
            ],
            "text/html": [
              "<div>\n",
              "<style scoped>\n",
              "    .dataframe tbody tr th:only-of-type {\n",
              "        vertical-align: middle;\n",
              "    }\n",
              "\n",
              "    .dataframe tbody tr th {\n",
              "        vertical-align: top;\n",
              "    }\n",
              "\n",
              "    .dataframe thead th {\n",
              "        text-align: right;\n",
              "    }\n",
              "</style>\n",
              "<table border=\"1\" class=\"dataframe\">\n",
              "  <thead>\n",
              "    <tr style=\"text-align: right;\">\n",
              "      <th></th>\n",
              "      <th>sent1</th>\n",
              "      <th>sent2</th>\n",
              "      <th>score</th>\n",
              "    </tr>\n",
              "  </thead>\n",
              "  <tbody>\n",
              "    <tr>\n",
              "      <th>0</th>\n",
              "      <td>But other sources close to the sale said Viven...</td>\n",
              "      <td>But other sources close to the sale said Viven...</td>\n",
              "      <td>4.00</td>\n",
              "    </tr>\n",
              "    <tr>\n",
              "      <th>1</th>\n",
              "      <td>Micron has declared its first quarterly profit...</td>\n",
              "      <td>Micron's numbers also marked the first quarter...</td>\n",
              "      <td>3.75</td>\n",
              "    </tr>\n",
              "    <tr>\n",
              "      <th>2</th>\n",
              "      <td>The fines are part of failed Republican effort...</td>\n",
              "      <td>Perry said he backs the Senate's efforts, incl...</td>\n",
              "      <td>2.80</td>\n",
              "    </tr>\n",
              "    <tr>\n",
              "      <th>3</th>\n",
              "      <td>The American Anglican Council, which represent...</td>\n",
              "      <td>The American Anglican Council, which represent...</td>\n",
              "      <td>3.40</td>\n",
              "    </tr>\n",
              "    <tr>\n",
              "      <th>4</th>\n",
              "      <td>The tech-loaded Nasdaq composite rose 20.96 po...</td>\n",
              "      <td>The technology-laced Nasdaq Composite Index &lt;....</td>\n",
              "      <td>2.40</td>\n",
              "    </tr>\n",
              "  </tbody>\n",
              "</table>\n",
              "</div>"
            ]
          },
          "metadata": {
            "tags": []
          },
          "execution_count": 23
        }
      ]
    },
    {
      "cell_type": "code",
      "metadata": {
        "id": "1BcdgWpn8nez",
        "colab_type": "code",
        "outputId": "01f8d0da-70c8-4ad3-d862-534af9325754",
        "colab": {
          "base_uri": "https://localhost:8080/",
          "height": 221
        }
      },
      "source": [
        "print(f' Test data set: ({len(test_data)}, {len(test_data.columns)})')\n",
        "test_data.head()\n"
      ],
      "execution_count": 5,
      "outputs": [
        {
          "output_type": "stream",
          "text": [
            " Test data set: (3108, 3)\n"
          ],
          "name": "stdout"
        },
        {
          "output_type": "execute_result",
          "data": {
            "text/plain": [
              "                                               sent1  \\\n",
              "0  The problem likely will mean corrective change...   \n",
              "1  The technology-laced Nasdaq Composite Index .I...   \n",
              "2  \"It's a huge black eye,\" said publisher Arthur...   \n",
              "3  SEC Chairman William Donaldson said there is a...   \n",
              "4  Vivendi shares closed 1.9 percent at 15.80 eur...   \n",
              "\n",
              "                                               sent2  score  \n",
              "0  He said the problem needs to be corrected befo...    4.4  \n",
              "1  The broad Standard & Poor's 500 Index .SPX inc...    0.8  \n",
              "2  \"It's a huge black eye,\" Arthur Sulzberger, th...    3.6  \n",
              "3  \"I think there's a building confidence that th...    3.4  \n",
              "4  In New York, Vivendi shares were 1.4 percent d...    1.4  "
            ],
            "text/html": [
              "<div>\n",
              "<style scoped>\n",
              "    .dataframe tbody tr th:only-of-type {\n",
              "        vertical-align: middle;\n",
              "    }\n",
              "\n",
              "    .dataframe tbody tr th {\n",
              "        vertical-align: top;\n",
              "    }\n",
              "\n",
              "    .dataframe thead th {\n",
              "        text-align: right;\n",
              "    }\n",
              "</style>\n",
              "<table border=\"1\" class=\"dataframe\">\n",
              "  <thead>\n",
              "    <tr style=\"text-align: right;\">\n",
              "      <th></th>\n",
              "      <th>sent1</th>\n",
              "      <th>sent2</th>\n",
              "      <th>score</th>\n",
              "    </tr>\n",
              "  </thead>\n",
              "  <tbody>\n",
              "    <tr>\n",
              "      <th>0</th>\n",
              "      <td>The problem likely will mean corrective change...</td>\n",
              "      <td>He said the problem needs to be corrected befo...</td>\n",
              "      <td>4.4</td>\n",
              "    </tr>\n",
              "    <tr>\n",
              "      <th>1</th>\n",
              "      <td>The technology-laced Nasdaq Composite Index .I...</td>\n",
              "      <td>The broad Standard &amp; Poor's 500 Index .SPX inc...</td>\n",
              "      <td>0.8</td>\n",
              "    </tr>\n",
              "    <tr>\n",
              "      <th>2</th>\n",
              "      <td>\"It's a huge black eye,\" said publisher Arthur...</td>\n",
              "      <td>\"It's a huge black eye,\" Arthur Sulzberger, th...</td>\n",
              "      <td>3.6</td>\n",
              "    </tr>\n",
              "    <tr>\n",
              "      <th>3</th>\n",
              "      <td>SEC Chairman William Donaldson said there is a...</td>\n",
              "      <td>\"I think there's a building confidence that th...</td>\n",
              "      <td>3.4</td>\n",
              "    </tr>\n",
              "    <tr>\n",
              "      <th>4</th>\n",
              "      <td>Vivendi shares closed 1.9 percent at 15.80 eur...</td>\n",
              "      <td>In New York, Vivendi shares were 1.4 percent d...</td>\n",
              "      <td>1.4</td>\n",
              "    </tr>\n",
              "  </tbody>\n",
              "</table>\n",
              "</div>"
            ]
          },
          "metadata": {
            "tags": []
          },
          "execution_count": 5
        }
      ]
    },
    {
      "cell_type": "markdown",
      "metadata": {
        "colab_type": "text",
        "id": "lagd7mZjEY7i"
      },
      "source": [
        "**Check frequency of tokens**\n",
        "\n",
        "As shown in the result we should deal with stopwords as well as punctuations.\n"
      ]
    },
    {
      "cell_type": "code",
      "metadata": {
        "colab_type": "code",
        "id": "SThktq12Ct69",
        "outputId": "65c74cb7-b283-45f7-e6b0-1122ef221896",
        "colab": {
          "base_uri": "https://localhost:8080/",
          "height": 85
        }
      },
      "source": [
        "sent1_tokens = train_data['sent1'].apply(nltk.word_tokenize).values\n",
        "sent2_tokens = train_data['sent2'].apply(nltk.word_tokenize).values\n",
        "\n",
        "freq_sent1 = FreqDist(np.concatenate(sent1_tokens).ravel())\n",
        "freq_sent2 = FreqDist(np.concatenate(sent2_tokens).ravel())\n",
        "\n",
        "print(f'Sentence 1:')\n",
        "print(freq_sent1.most_common()[:6])\n",
        "\n",
        "print(f'Sentence 2:')\n",
        "print(freq_sent2.most_common()[:6])"
      ],
      "execution_count": 0,
      "outputs": [
        {
          "output_type": "stream",
          "text": [
            "Sentence 1:\n",
            "[('the', 2297), ('.', 2209), (',', 1828), ('of', 1250), ('a', 1216), ('to', 1065)]\n",
            "Sentence 2:\n",
            "[('the', 2501), ('.', 2227), (',', 1868), ('of', 1322), ('a', 1181), ('to', 1116)]\n"
          ],
          "name": "stdout"
        }
      ]
    },
    {
      "cell_type": "code",
      "metadata": {
        "colab_type": "code",
        "id": "bTJpNLp-B50b",
        "outputId": "ebfa7bff-6ee7-4142-feae-2704cb574bd1",
        "colab": {
          "base_uri": "https://localhost:8080/",
          "height": 85
        }
      },
      "source": [
        "train_data.dtypes"
      ],
      "execution_count": 0,
      "outputs": [
        {
          "output_type": "execute_result",
          "data": {
            "text/plain": [
              "sent1     object\n",
              "sent2     object\n",
              "score    float64\n",
              "dtype: object"
            ]
          },
          "metadata": {
            "tags": []
          },
          "execution_count": 61
        }
      ]
    },
    {
      "cell_type": "markdown",
      "metadata": {
        "colab_type": "text",
        "id": "6t85Q-kW4kln"
      },
      "source": [
        "## Preprocessing\n",
        "\n",
        "- Cast sentences as type string.\n",
        "- Deal with stopwords and puntuations.\n",
        "- Tokenize the sentences.\n",
        "- Tag each word as a Part of speech (POS).\n",
        "- Lemmatize each word into its root but with sense (different than stemming).\n",
        "- Extract WordNet synsets, if necessary.\n"
      ]
    },
    {
      "cell_type": "markdown",
      "metadata": {
        "colab_type": "text",
        "id": "XpL2ZVHnLFHE"
      },
      "source": [
        "**Casting**\n",
        "\n"
      ]
    },
    {
      "cell_type": "code",
      "metadata": {
        "colab_type": "code",
        "id": "gOFy0Jij8eh2",
        "colab": {}
      },
      "source": [
        "# train_data[['sent1', 'sent2']] = train_data[['sent1', 'sent2']].astype(str) \n",
        "# print(train_data.dtypes)\n"
      ],
      "execution_count": 0,
      "outputs": []
    },
    {
      "cell_type": "markdown",
      "metadata": {
        "colab_type": "text",
        "id": "tRCGUGw4LMod"
      },
      "source": [
        "**Stopwords and puntuations**"
      ]
    },
    {
      "cell_type": "code",
      "metadata": {
        "colab_type": "code",
        "id": "QTNFepY80S-D",
        "outputId": "532c8760-f73e-48ad-8f35-8beddf8582de",
        "colab": {
          "base_uri": "https://localhost:8080/",
          "height": 34
        }
      },
      "source": [
        "# stopwords and punctuations\n",
        "\n",
        "def get_stopwords():\n",
        "  stop_words = list(set(stopwords.words('english')))\n",
        "  stop_words_2 = [w.capitalize() for w in stop_words]\n",
        "  stop_words_3 = [w.upper() for w in stop_words]\n",
        "\n",
        "  stop_words_all = stop_words + stop_words_2 + stop_words_3\n",
        "\n",
        "  return stop_words_all\n",
        "\n",
        "def remove_stopwords(tokens, rm_punct=False, custom_chars=None):\n",
        "  \n",
        "  stop_words_all = get_stopwords()\n",
        "  result = [w for w in tokens if w not in stop_words_all]\n",
        "\n",
        "  if rm_punct:\n",
        "    result = [w for w in result if w not in punctuation]\n",
        "\n",
        "  if custom_chars is not None:  # custom characters to remove\n",
        "    result = [w for w in result if w not in custom_chars]\n",
        "\n",
        "  return result\n",
        "\n",
        "# Test\n",
        "s1 = 'A man is riding a bicycle.'\n",
        "remove_stopwords(nltk.word_tokenize(s1), rm_punct=True)"
      ],
      "execution_count": 6,
      "outputs": [
        {
          "output_type": "execute_result",
          "data": {
            "text/plain": [
              "['man', 'riding', 'bicycle']"
            ]
          },
          "metadata": {
            "tags": []
          },
          "execution_count": 6
        }
      ]
    },
    {
      "cell_type": "markdown",
      "metadata": {
        "colab_type": "text",
        "id": "oTTsn8zzLRIk"
      },
      "source": [
        "**POS**\n",
        "\n"
      ]
    },
    {
      "cell_type": "code",
      "metadata": {
        "colab_type": "code",
        "id": "wU1y4vjsLYt1",
        "colab": {}
      },
      "source": [
        "#\n",
        "# Map Treebank tag prefix to WordNet tag\n",
        "#\n",
        "def map_pos_wordnet(pos):\n",
        "  d = {\"N\": wordnet.NOUN, # 'n'\n",
        "       \"V\": wordnet.VERB, # 'v'\n",
        "       \"J\": wordnet.ADJ, #  'a'\n",
        "       \"R\": wordnet.ADV} #  'r'\n",
        "\n",
        "  return d[pos[0]]\n",
        "\n",
        "#\n",
        "# Lemmatize\n",
        "#\n",
        "def lemmatize(pairs):\n",
        "  wnl = WordNetLemmatizer()\n",
        "  result = []\n",
        "  for token, pos in pairs:\n",
        "    if pos[0] in {'N','V', 'J', 'R'}:\n",
        "      synset = wnl.lemmatize(token.lower(), \n",
        "                                     pos=map_pos_wordnet(pos))\n",
        "      result.append(synset)\n",
        "    else:\n",
        "      result.append(token)\n",
        "  return result"
      ],
      "execution_count": 0,
      "outputs": []
    },
    {
      "cell_type": "code",
      "metadata": {
        "colab_type": "code",
        "id": "UaTl3iZn3Kpo",
        "outputId": "eb619379-0f44-4487-8da8-d700dc5fa260",
        "colab": {
          "base_uri": "https://localhost:8080/",
          "height": 34
        }
      },
      "source": [
        "def join_tokens(tokens):\n",
        "  return ' '.join(tokens)\n",
        "\n",
        "join_tokens(['a', 'b'])"
      ],
      "execution_count": 8,
      "outputs": [
        {
          "output_type": "execute_result",
          "data": {
            "text/plain": [
              "'a b'"
            ]
          },
          "metadata": {
            "tags": []
          },
          "execution_count": 8
        }
      ]
    },
    {
      "cell_type": "markdown",
      "metadata": {
        "id": "1U47LDhuzU8B",
        "colab_type": "text"
      },
      "source": [
        "**Embeddings**\n"
      ]
    },
    {
      "cell_type": "code",
      "metadata": {
        "id": "7s4lW-ieIBfP",
        "colab_type": "code",
        "colab": {}
      },
      "source": [
        "def get_score_infersent(X, tokenize=True):\n",
        "    eb1 = model_senteval.encode([X[0]], tokenize=tokenize)\n",
        "    eb2 = model_senteval.encode([X[1]], tokenize=tokenize)\n",
        "\n",
        "    result = 1 - spatial.distance.cosine(eb1,eb2)\n",
        "\n",
        "    return result"
      ],
      "execution_count": 0,
      "outputs": []
    },
    {
      "cell_type": "markdown",
      "metadata": {
        "id": "Rl5lXa4utEdv",
        "colab_type": "text"
      },
      "source": [
        "**WordNet synsets**"
      ]
    },
    {
      "cell_type": "code",
      "metadata": {
        "id": "nuXQP-6stB0B",
        "colab_type": "code",
        "colab": {}
      },
      "source": [
        "#\n",
        "# Get list of synsets for given list of token-pos-pairs\n",
        "#\n",
        "def get_wordnet_synsets(X):\n",
        "    results = []\n",
        "    for x in X:\n",
        "        (token, pos) = x\n",
        "        result = []\n",
        "        \n",
        "        # Try for usual PoS tags in Wordnet\n",
        "        if pos[0] in {'N','V', 'J', 'R'}:\n",
        "            synset = wn.synsets(token.lower(), pos=map_pos_wordnet(pos))\n",
        "          \n",
        "        # Else discard PoS tag and try to get some available synset\n",
        "        else:\n",
        "            synset = wn.synsets(token.lower())\n",
        "\n",
        "        # Use the best found synset\n",
        "        if len(synset):\n",
        "            results.append(synset[0])\n",
        "\n",
        "        # If not found, then try to cleanup the word and try again (without PoS tag)\n",
        "        else:\n",
        "            clean_token = token.lower().translate(str.maketrans('', '', punctuation))\n",
        "            synset = wn.synsets(clean_token)\n",
        "\n",
        "            if len(synset):\n",
        "                results.append(synset[0])\n",
        "\n",
        "            # If nothing helps, then use default synset value as neutral element and placeholder\n",
        "            else:\n",
        "                results.append(wn.synsets('default')[0])\n",
        "        \n",
        "    return results"
      ],
      "execution_count": 0,
      "outputs": []
    },
    {
      "cell_type": "markdown",
      "metadata": {
        "colab_type": "text",
        "id": "6zXQ6J-P7FN2"
      },
      "source": [
        "## Feature engineering\n",
        "\n",
        "Extract the most meaningful features from the sentences"
      ]
    },
    {
      "cell_type": "code",
      "metadata": {
        "colab_type": "code",
        "id": "8Wu5EBlshsQI",
        "colab": {}
      },
      "source": [
        "cols = ['sent1_processed', 'sent2_processed']"
      ],
      "execution_count": 0,
      "outputs": []
    },
    {
      "cell_type": "markdown",
      "metadata": {
        "colab_type": "text",
        "id": "4w_QMTm9LzdG"
      },
      "source": [
        "### Synset based distance metrics\n",
        "\n",
        "Compute multiple measures based on similarities of lemma synsets. Use *greedy* approach to align most similar lemmas using different similarity metrics:\n",
        "\n",
        "- Path similarity\n",
        "- Leacock & Chodorow (normalized)\n",
        "- Wu & Palmer\n",
        "- Lin\n",
        "\n",
        "When quering synsets for single lemmas, not all synsets can be found, e.g. if lemma has PoS tag *n* and such do not exist for matching synset. For these cases, synset query is conducted without PoS tag to get at least some result. If even this does not help, then default synset is used.\n",
        "\n",
        "Also when computing distances, an alignment of most similar synsets is done pair-wise. Mathing lemmas are then removed and do not considered in further alignment process. However, if sentences have different length, then there will be some lemmas in longer sentece left without any match in shorter sentence. In this case rest of lemmas are paired with default synset, so that their similarity is set to 0.\n",
        "\n"
      ]
    },
    {
      "cell_type": "markdown",
      "metadata": {
        "colab_type": "text",
        "id": "dXP4wbloL2dn"
      },
      "source": [
        "**Apply preprocessing steps**\n"
      ]
    },
    {
      "cell_type": "code",
      "metadata": {
        "colab_type": "code",
        "id": "uejpXndGL00G",
        "outputId": "6bc7863c-7655-4c1c-825d-d008aa1666a0",
        "colab": {
          "base_uri": "https://localhost:8080/",
          "height": 179
        }
      },
      "source": [
        "%%time\n",
        "#\n",
        "# Preprocessing sentences and generating lemmas, PoS tags and synsets\n",
        "# \n",
        "def preprocess_data_synsets(data):\n",
        "  for col in ['sent1', 'sent2']:\n",
        "    col_p = col+'_processed'\n",
        "    data[col_p] = data[col].apply(nltk.word_tokenize)\n",
        "    data[col_p] = data[col_p].apply(remove_stopwords, rm_punct=True)\n",
        "    data[col_p] = data[col_p].apply(nltk.pos_tag)\n",
        "    data[col_p] = data[col_p].apply(lemmatize)\n",
        "    data[col_p] = data[col_p].apply(nltk.pos_tag)\n",
        "    # data[col_p] = data[col_p].apply(join_tokens)\n",
        "    # data[col_p] = data[col_p].apply(core_relationship)\n",
        "\n",
        "    # Compute synsets for every sentence with best choices and add to dataset as extra columns\n",
        "    data[col_p] = data[col_p].apply(get_wordnet_synsets)\n",
        "    \n",
        "\n",
        "# Apply preprocessing to training data\n",
        "preprocess_data_synsets(train_data)  \n",
        "train_data.head(2)"
      ],
      "execution_count": 0,
      "outputs": [
        {
          "output_type": "stream",
          "text": [
            "CPU times: user 7.52 s, sys: 104 ms, total: 7.62 s\n",
            "Wall time: 7.75 s\n"
          ],
          "name": "stdout"
        },
        {
          "output_type": "execute_result",
          "data": {
            "text/plain": [
              "                                               sent1  \\\n",
              "0  But other sources close to the sale said Viven...   \n",
              "1  Micron has declared its first quarterly profit...   \n",
              "\n",
              "                                               sent2  score  \\\n",
              "0  But other sources close to the sale said Viven...   4.00   \n",
              "1  Micron's numbers also marked the first quarter...   3.75   \n",
              "\n",
              "                                     sent1_processed  \\\n",
              "0  [Synset('beginning.n.04'), Synset('close.a.01'...   \n",
              "1  [Synset('micron.n.01'), Synset('declare.v.01')...   \n",
              "\n",
              "                                     sent2_processed  \n",
              "0  [Synset('beginning.n.04'), Synset('close.a.01'...  \n",
              "1  [Synset('micron.n.01'), Synset('second.n.01'),...  "
            ],
            "text/html": [
              "<div>\n",
              "<style scoped>\n",
              "    .dataframe tbody tr th:only-of-type {\n",
              "        vertical-align: middle;\n",
              "    }\n",
              "\n",
              "    .dataframe tbody tr th {\n",
              "        vertical-align: top;\n",
              "    }\n",
              "\n",
              "    .dataframe thead th {\n",
              "        text-align: right;\n",
              "    }\n",
              "</style>\n",
              "<table border=\"1\" class=\"dataframe\">\n",
              "  <thead>\n",
              "    <tr style=\"text-align: right;\">\n",
              "      <th></th>\n",
              "      <th>sent1</th>\n",
              "      <th>sent2</th>\n",
              "      <th>score</th>\n",
              "      <th>sent1_processed</th>\n",
              "      <th>sent2_processed</th>\n",
              "    </tr>\n",
              "  </thead>\n",
              "  <tbody>\n",
              "    <tr>\n",
              "      <th>0</th>\n",
              "      <td>But other sources close to the sale said Viven...</td>\n",
              "      <td>But other sources close to the sale said Viven...</td>\n",
              "      <td>4.00</td>\n",
              "      <td>[Synset('beginning.n.04'), Synset('close.a.01'...</td>\n",
              "      <td>[Synset('beginning.n.04'), Synset('close.a.01'...</td>\n",
              "    </tr>\n",
              "    <tr>\n",
              "      <th>1</th>\n",
              "      <td>Micron has declared its first quarterly profit...</td>\n",
              "      <td>Micron's numbers also marked the first quarter...</td>\n",
              "      <td>3.75</td>\n",
              "      <td>[Synset('micron.n.01'), Synset('declare.v.01')...</td>\n",
              "      <td>[Synset('micron.n.01'), Synset('second.n.01'),...</td>\n",
              "    </tr>\n",
              "  </tbody>\n",
              "</table>\n",
              "</div>"
            ]
          },
          "metadata": {
            "tags": []
          },
          "execution_count": 133
        }
      ]
    },
    {
      "cell_type": "code",
      "metadata": {
        "colab_type": "code",
        "id": "-wYXjh-6ROe1",
        "outputId": "cf1429af-4429-4a79-dfd3-f15a5e17e09c",
        "colab": {
          "base_uri": "https://localhost:8080/",
          "height": 352
        }
      },
      "source": [
        "%%time\n",
        "brown_ic = wordnet_ic.ic('ic-brown.dat')\n",
        "\n",
        "# Lambdas for similarity measures\n",
        "similarity_lin = lambda syn1, syn2: syn1.lin_similarity(syn2, ic=brown_ic)\n",
        "similarity_lch = lambda syn1, syn2: syn1.lch_similarity(syn2) / syn1.lch_similarity(syn1)\n",
        "similarity_wup = lambda syn1, syn2: syn1.wup_similarity(syn2)\n",
        "similarity_ps = lambda syn1, syn2: syn1.path_similarity(syn2)\n",
        "\n",
        "# Greedily find best synset pairs from two sentences and compute the average similarity\n",
        "def greedy_avg_alignment_similarity(synsets, sim_f):\n",
        "    \n",
        "    # Use shorter list as first one\n",
        "    if (len(synsets[0]) <= len(synsets[1])):\n",
        "        synsets1 = synsets[0].copy()\n",
        "        synsets2 = synsets[1].copy()\n",
        "    else:\n",
        "        synsets1 = synsets[1].copy()\n",
        "        synsets2 = synsets[0].copy()\n",
        "    \n",
        "    # Collect best similarities comparing synsents from shorter list to longer list  \n",
        "    sims = []\n",
        "    for syn1 in synsets1:\n",
        "        best_sim = 0\n",
        "        best_syn2 = None\n",
        "        \n",
        "        # Find best similarity in second set\n",
        "        for syn2 in synsets2:\n",
        "            # Get similarity\n",
        "            try:\n",
        "                sim = sim_f(syn1, syn2)\n",
        "            except:\n",
        "                sim = 0\n",
        "            \n",
        "            # Check if sim = NoneType\n",
        "            if not sim:\n",
        "                sim = 0\n",
        "            \n",
        "            if sim >= best_sim:\n",
        "                best_sim = sim\n",
        "                best_syn2 = syn2\n",
        "\n",
        "        # Add best pair\n",
        "        sims.append(best_sim)\n",
        "                \n",
        "        # Remove found synset from second list\n",
        "        synsets2.remove(best_syn2)\n",
        "        \n",
        "    # For rest of not aligned lemma pairs use default similarity of 0\n",
        "    for syn2 in synsets2:\n",
        "        sims.append(0)\n",
        "        \n",
        "    return np.mean(sims)\n",
        "\n",
        "#\n",
        "# Add different distance measuares based on synsets from WordNet\n",
        "#\n",
        "def add_synset_distance_metrics(data, synsets_cols):\n",
        "    data['ps'] = data[synsets_cols].apply(lambda x: greedy_avg_alignment_similarity(x, similarity_ps), axis=1)\n",
        "    data['lch'] = data[synsets_cols].apply(lambda x: greedy_avg_alignment_similarity(x, similarity_lch), axis=1)\n",
        "    data['wup'] = data[synsets_cols].apply(lambda x: greedy_avg_alignment_similarity(x, similarity_wup), axis=1)\n",
        "    data['lin'] = data[synsets_cols].apply(lambda x: greedy_avg_alignment_similarity(x, similarity_lin), axis=1)\n",
        "\n",
        "# Append multiple synset based distances to dataframe\n",
        "add_synset_distance_metrics(train_data, cols)\n",
        "\n",
        "# Sample output\n",
        "train_data.head(2)\n"
      ],
      "execution_count": 0,
      "outputs": [
        {
          "output_type": "stream",
          "text": [
            "CPU times: user 22 s, sys: 309 ms, total: 22.3 s\n",
            "Wall time: 22.4 s\n"
          ],
          "name": "stdout"
        },
        {
          "output_type": "execute_result",
          "data": {
            "text/plain": [
              "                                               sent1  \\\n",
              "0  But other sources close to the sale said Viven...   \n",
              "1  Micron has declared its first quarterly profit...   \n",
              "\n",
              "                                               sent2  score  \\\n",
              "0  But other sources close to the sale said Viven...   4.00   \n",
              "1  Micron's numbers also marked the first quarter...   3.75   \n",
              "\n",
              "                                     sent1_processed  \\\n",
              "0  [Synset('beginning.n.04'), Synset('close.a.01'...   \n",
              "1  [Synset('micron.n.01'), Synset('declare.v.01')...   \n",
              "\n",
              "                                     sent2_processed        ps       lch  \\\n",
              "0  [Synset('beginning.n.04'), Synset('close.a.01'...  0.576236  0.478867   \n",
              "1  [Synset('micron.n.01'), Synset('second.n.01'),...  0.433333  0.366896   \n",
              "\n",
              "        wup       lin  \n",
              "0  0.603125  0.441224  \n",
              "1  0.444444  0.280471  "
            ],
            "text/html": [
              "<div>\n",
              "<style scoped>\n",
              "    .dataframe tbody tr th:only-of-type {\n",
              "        vertical-align: middle;\n",
              "    }\n",
              "\n",
              "    .dataframe tbody tr th {\n",
              "        vertical-align: top;\n",
              "    }\n",
              "\n",
              "    .dataframe thead th {\n",
              "        text-align: right;\n",
              "    }\n",
              "</style>\n",
              "<table border=\"1\" class=\"dataframe\">\n",
              "  <thead>\n",
              "    <tr style=\"text-align: right;\">\n",
              "      <th></th>\n",
              "      <th>sent1</th>\n",
              "      <th>sent2</th>\n",
              "      <th>score</th>\n",
              "      <th>sent1_processed</th>\n",
              "      <th>sent2_processed</th>\n",
              "      <th>ps</th>\n",
              "      <th>lch</th>\n",
              "      <th>wup</th>\n",
              "      <th>lin</th>\n",
              "    </tr>\n",
              "  </thead>\n",
              "  <tbody>\n",
              "    <tr>\n",
              "      <th>0</th>\n",
              "      <td>But other sources close to the sale said Viven...</td>\n",
              "      <td>But other sources close to the sale said Viven...</td>\n",
              "      <td>4.00</td>\n",
              "      <td>[Synset('beginning.n.04'), Synset('close.a.01'...</td>\n",
              "      <td>[Synset('beginning.n.04'), Synset('close.a.01'...</td>\n",
              "      <td>0.576236</td>\n",
              "      <td>0.478867</td>\n",
              "      <td>0.603125</td>\n",
              "      <td>0.441224</td>\n",
              "    </tr>\n",
              "    <tr>\n",
              "      <th>1</th>\n",
              "      <td>Micron has declared its first quarterly profit...</td>\n",
              "      <td>Micron's numbers also marked the first quarter...</td>\n",
              "      <td>3.75</td>\n",
              "      <td>[Synset('micron.n.01'), Synset('declare.v.01')...</td>\n",
              "      <td>[Synset('micron.n.01'), Synset('second.n.01'),...</td>\n",
              "      <td>0.433333</td>\n",
              "      <td>0.366896</td>\n",
              "      <td>0.444444</td>\n",
              "      <td>0.280471</td>\n",
              "    </tr>\n",
              "  </tbody>\n",
              "</table>\n",
              "</div>"
            ]
          },
          "metadata": {
            "tags": []
          },
          "execution_count": 134
        }
      ]
    },
    {
      "cell_type": "markdown",
      "metadata": {
        "colab_type": "text",
        "id": "sHAGQesAMPqV"
      },
      "source": [
        "### Dependency Trees\n",
        "\n",
        "**Apply preprocessing steps**"
      ]
    },
    {
      "cell_type": "code",
      "metadata": {
        "id": "PIqz8skJulta",
        "colab_type": "code",
        "colab": {}
      },
      "source": [
        "from nltk.parse.corenlp import CoreNLPDependencyParser\n",
        "from nltk.metrics.distance import jaro_similarity, jaro_winkler_similarity\n",
        "\n",
        "parser = CoreNLPDependencyParser(url='http://localhost:9000')\n",
        "\n",
        "def dp_relationship(sent):\n",
        "\n",
        "#   results = []\n",
        "#   for x in X:\n",
        "#     result = []\n",
        "\n",
        "    parse = parser.raw_parse(sent)\n",
        "    tree = next(parse)\n",
        "    triples = list(tree.triples())\n",
        "    # print(triples1)\n",
        "    core_triples = list()\n",
        "    for (a,b,c) in triples:\n",
        "      # if b in ['nsubj']:\n",
        "      core_triples.append(c)\n",
        "      core_triples.append(a)\n",
        "      # if b in ['nmod']:\n",
        "      #   core_triples1.append(c)\n",
        "      #   core_triples1.append(a)\n",
        "      # elif b in ['dobj']:\n",
        "      #   core_triples1.append(c)\n",
        "      #   core_triples1.append(a)\n",
        "    # core_triples1 = [(c, a) for (a,b,c) in triples1 if b in ['nsubj']]\n",
        "    unique = []\n",
        "    [unique.append(item) for item in core_triples if item not in unique]\n",
        "\n",
        "    unique = [item for item in unique if 'V' in item[1] or 'N' in item[1] ]\n",
        "\n",
        "    return unique\n"
      ],
      "execution_count": 0,
      "outputs": []
    },
    {
      "cell_type": "code",
      "metadata": {
        "colab_type": "code",
        "id": "EtoCvLJ_epqJ",
        "outputId": "f73deec3-de35-4705-e3b6-f18faf31bb4f",
        "colab": {
          "base_uri": "https://localhost:8080/",
          "height": 485
        }
      },
      "source": [
        "%%time\n",
        "\n",
        "def preprocess_data_trees(data):\n",
        "  for col in ['sent1', 'sent2']:\n",
        "    data[col+'_processed'] = data[col].apply(nltk.word_tokenize)\n",
        "    data[col+'_processed'] = data[col+'_processed'].apply(remove_stopwords, \n",
        "                                                          rm_punct=True)\n",
        "    data[col+'_processed'] = data[col+'_processed'].apply(join_tokens)\n",
        "    # data[col+'_processed'] = data[col+'_processed'].apply(nltk.pos_tag)\n",
        "    data[col+'_processed'] = data[col+'_processed'].apply(dp_relationship)\n",
        "    data[col+'_processed'] = data[col+'_processed'].apply(lemmatize)\n",
        "    data[col+'_processed'] = data[col+'_processed'].apply(join_tokens)\n",
        "    # data[col+'_processed'] = data[col+'_processed'].apply(lemmatize)\n",
        "    # data[col+'_processed'] = data[col+'_processed'].apply(join_tokens)\n",
        "\n",
        "preprocess_data_trees(train_data)\n",
        "train_data.head(3)"
      ],
      "execution_count": 0,
      "outputs": [
        {
          "output_type": "stream",
          "text": [
            "CPU times: user 57.1 s, sys: 1.28 s, total: 58.4 s\n",
            "Wall time: 5min 47s\n"
          ],
          "name": "stdout"
        },
        {
          "output_type": "execute_result",
          "data": {
            "text/plain": [
              "                                               sent1  \\\n",
              "0  But other sources close to the sale said Viven...   \n",
              "1  Micron has declared its first quarterly profit...   \n",
              "2  The fines are part of failed Republican effort...   \n",
              "\n",
              "                                               sent2  score  \\\n",
              "0  But other sources close to the sale said Viven...   4.00   \n",
              "1  Micron's numbers also marked the first quarter...   3.75   \n",
              "2  Perry said he backs the Senate's efforts, incl...   2.80   \n",
              "\n",
              "                                     sent1_processed  \\\n",
              "0  sale say source keep vivendi hop bid door see ...   \n",
              "1                         micron declare profit year   \n",
              "2  part fail fine entice force effort return demo...   \n",
              "\n",
              "                                     sent2_processed        ps       lch  \\\n",
              "0          sale say source keep vivendi bid door day  0.576236  0.478867   \n",
              "1   number mark micron profit year manufacturer dram  0.433333  0.366896   \n",
              "2  perry say effort senate back fine include forc...  0.423077  0.371224   \n",
              "\n",
              "        wup       lin  \n",
              "0  0.603125  0.441224  \n",
              "1  0.444444  0.280471  \n",
              "2  0.485209  0.043715  "
            ],
            "text/html": [
              "<div>\n",
              "<style scoped>\n",
              "    .dataframe tbody tr th:only-of-type {\n",
              "        vertical-align: middle;\n",
              "    }\n",
              "\n",
              "    .dataframe tbody tr th {\n",
              "        vertical-align: top;\n",
              "    }\n",
              "\n",
              "    .dataframe thead th {\n",
              "        text-align: right;\n",
              "    }\n",
              "</style>\n",
              "<table border=\"1\" class=\"dataframe\">\n",
              "  <thead>\n",
              "    <tr style=\"text-align: right;\">\n",
              "      <th></th>\n",
              "      <th>sent1</th>\n",
              "      <th>sent2</th>\n",
              "      <th>score</th>\n",
              "      <th>sent1_processed</th>\n",
              "      <th>sent2_processed</th>\n",
              "      <th>ps</th>\n",
              "      <th>lch</th>\n",
              "      <th>wup</th>\n",
              "      <th>lin</th>\n",
              "    </tr>\n",
              "  </thead>\n",
              "  <tbody>\n",
              "    <tr>\n",
              "      <th>0</th>\n",
              "      <td>But other sources close to the sale said Viven...</td>\n",
              "      <td>But other sources close to the sale said Viven...</td>\n",
              "      <td>4.00</td>\n",
              "      <td>sale say source keep vivendi hop bid door see ...</td>\n",
              "      <td>sale say source keep vivendi bid door day</td>\n",
              "      <td>0.576236</td>\n",
              "      <td>0.478867</td>\n",
              "      <td>0.603125</td>\n",
              "      <td>0.441224</td>\n",
              "    </tr>\n",
              "    <tr>\n",
              "      <th>1</th>\n",
              "      <td>Micron has declared its first quarterly profit...</td>\n",
              "      <td>Micron's numbers also marked the first quarter...</td>\n",
              "      <td>3.75</td>\n",
              "      <td>micron declare profit year</td>\n",
              "      <td>number mark micron profit year manufacturer dram</td>\n",
              "      <td>0.433333</td>\n",
              "      <td>0.366896</td>\n",
              "      <td>0.444444</td>\n",
              "      <td>0.280471</td>\n",
              "    </tr>\n",
              "    <tr>\n",
              "      <th>2</th>\n",
              "      <td>The fines are part of failed Republican effort...</td>\n",
              "      <td>Perry said he backs the Senate's efforts, incl...</td>\n",
              "      <td>2.80</td>\n",
              "      <td>part fail fine entice force effort return demo...</td>\n",
              "      <td>perry say effort senate back fine include forc...</td>\n",
              "      <td>0.423077</td>\n",
              "      <td>0.371224</td>\n",
              "      <td>0.485209</td>\n",
              "      <td>0.043715</td>\n",
              "    </tr>\n",
              "  </tbody>\n",
              "</table>\n",
              "</div>"
            ]
          },
          "metadata": {
            "tags": []
          },
          "execution_count": 136
        }
      ]
    },
    {
      "cell_type": "code",
      "metadata": {
        "colab_type": "code",
        "id": "yDRw8CGlLEzQ",
        "outputId": "f73e5374-28b3-4192-d4a0-5905b1e0679e",
        "colab": {
          "base_uri": "https://localhost:8080/",
          "height": 352
        }
      },
      "source": [
        "%%time\n",
        "\n",
        "depen_parsing = train_data[cols].apply(get_score_infersent, axis=1).values\n",
        "depen_parsing = pd.DataFrame(np.stack(depen_parsing), columns=['dp'])\n",
        "train_data = pd.concat([train_data, depen_parsing], axis=1)\n",
        "train_data.head(2)"
      ],
      "execution_count": 0,
      "outputs": [
        {
          "output_type": "stream",
          "text": [
            "CPU times: user 4.62 ms, sys: 0 ns, total: 4.62 ms\n",
            "Wall time: 5.11 ms\n"
          ],
          "name": "stdout"
        },
        {
          "output_type": "execute_result",
          "data": {
            "text/plain": [
              "                                               sent1  \\\n",
              "0  But other sources close to the sale said Viven...   \n",
              "1  Micron has declared its first quarterly profit...   \n",
              "\n",
              "                                               sent2  score  \\\n",
              "0  But other sources close to the sale said Viven...   4.00   \n",
              "1  Micron's numbers also marked the first quarter...   3.75   \n",
              "\n",
              "                                     sent1_processed  \\\n",
              "0  sale say source keep vivendi hop bid door see ...   \n",
              "1                         micron declare profit year   \n",
              "\n",
              "                                    sent2_processed        ps       lch  \\\n",
              "0         sale say source keep vivendi bid door day  0.576236  0.478867   \n",
              "1  number mark micron profit year manufacturer dram  0.433333  0.366896   \n",
              "\n",
              "        wup       lin        dp  \n",
              "0  0.603125  0.441224  0.944957  \n",
              "1  0.444444  0.280471  0.916931  "
            ],
            "text/html": [
              "<div>\n",
              "<style scoped>\n",
              "    .dataframe tbody tr th:only-of-type {\n",
              "        vertical-align: middle;\n",
              "    }\n",
              "\n",
              "    .dataframe tbody tr th {\n",
              "        vertical-align: top;\n",
              "    }\n",
              "\n",
              "    .dataframe thead th {\n",
              "        text-align: right;\n",
              "    }\n",
              "</style>\n",
              "<table border=\"1\" class=\"dataframe\">\n",
              "  <thead>\n",
              "    <tr style=\"text-align: right;\">\n",
              "      <th></th>\n",
              "      <th>sent1</th>\n",
              "      <th>sent2</th>\n",
              "      <th>score</th>\n",
              "      <th>sent1_processed</th>\n",
              "      <th>sent2_processed</th>\n",
              "      <th>ps</th>\n",
              "      <th>lch</th>\n",
              "      <th>wup</th>\n",
              "      <th>lin</th>\n",
              "      <th>dp</th>\n",
              "    </tr>\n",
              "  </thead>\n",
              "  <tbody>\n",
              "    <tr>\n",
              "      <th>0</th>\n",
              "      <td>But other sources close to the sale said Viven...</td>\n",
              "      <td>But other sources close to the sale said Viven...</td>\n",
              "      <td>4.00</td>\n",
              "      <td>sale say source keep vivendi hop bid door see ...</td>\n",
              "      <td>sale say source keep vivendi bid door day</td>\n",
              "      <td>0.576236</td>\n",
              "      <td>0.478867</td>\n",
              "      <td>0.603125</td>\n",
              "      <td>0.441224</td>\n",
              "      <td>0.944957</td>\n",
              "    </tr>\n",
              "    <tr>\n",
              "      <th>1</th>\n",
              "      <td>Micron has declared its first quarterly profit...</td>\n",
              "      <td>Micron's numbers also marked the first quarter...</td>\n",
              "      <td>3.75</td>\n",
              "      <td>micron declare profit year</td>\n",
              "      <td>number mark micron profit year manufacturer dram</td>\n",
              "      <td>0.433333</td>\n",
              "      <td>0.366896</td>\n",
              "      <td>0.444444</td>\n",
              "      <td>0.280471</td>\n",
              "      <td>0.916931</td>\n",
              "    </tr>\n",
              "  </tbody>\n",
              "</table>\n",
              "</div>"
            ]
          },
          "metadata": {
            "tags": []
          },
          "execution_count": 137
        }
      ]
    },
    {
      "cell_type": "markdown",
      "metadata": {
        "colab_type": "text",
        "id": "z7joapffRmKt"
      },
      "source": [
        "### SentEval: sentence embeddings\n",
        "\n",
        "This function yields a score from  a pretrained model, based on word embedding.\n",
        "\n",
        "\n"
      ]
    },
    {
      "cell_type": "code",
      "metadata": {
        "colab_type": "code",
        "id": "UdGtcl75z-ql",
        "outputId": "e7a4588f-6f09-4d33-f765-b1f72d40f369",
        "colab": {
          "base_uri": "https://localhost:8080/",
          "height": 451
        }
      },
      "source": [
        "def preprocess_data_sentevel(data):\n",
        "  for col in ['sent1', 'sent2']:\n",
        "    data[col+'_processed'] = data[col].apply(nltk.word_tokenize)\n",
        "    data[col+'_processed'] = data[col+'_processed'].apply(remove_stopwords, \n",
        "                                                          rm_punct=True)\n",
        "    data[col+'_processed'] = data[col+'_processed'].apply(nltk.pos_tag)\n",
        "    data[col+'_processed'] = data[col+'_processed'].apply(lemmatize)\n",
        "    data[col+'_processed'] = data[col+'_processed'].apply(join_tokens)\n",
        "\n",
        "preprocess_data_sentevel(train_data)\n",
        "train_data.head(3)"
      ],
      "execution_count": 0,
      "outputs": [
        {
          "output_type": "execute_result",
          "data": {
            "text/plain": [
              "                                               sent1  \\\n",
              "0  But other sources close to the sale said Viven...   \n",
              "1  Micron has declared its first quarterly profit...   \n",
              "2  The fines are part of failed Republican effort...   \n",
              "\n",
              "                                               sent2  score  \\\n",
              "0  But other sources close to the sale said Viven...   4.00   \n",
              "1  Micron's numbers also marked the first quarter...   3.75   \n",
              "2  Perry said he backs the Senate's efforts, incl...   2.80   \n",
              "\n",
              "                                     sent1_processed  \\\n",
              "0  source close sale say vivendi keep door open b...   \n",
              "1   micron declare first quarterly profit three year   \n",
              "2  fine part fail republican effort force entice ...   \n",
              "\n",
              "                                     sent2_processed        ps       lch  \\\n",
              "0  source close sale say vivendi keep door open b...  0.576236  0.478867   \n",
              "1  micron 's number also mark first quarterly pro...  0.433333  0.366896   \n",
              "2  perry say back senate 's effort include fine f...  0.423077  0.371224   \n",
              "\n",
              "        wup       lin        dp  \n",
              "0  0.603125  0.441224  0.944957  \n",
              "1  0.444444  0.280471  0.916931  \n",
              "2  0.485209  0.043715  0.939007  "
            ],
            "text/html": [
              "<div>\n",
              "<style scoped>\n",
              "    .dataframe tbody tr th:only-of-type {\n",
              "        vertical-align: middle;\n",
              "    }\n",
              "\n",
              "    .dataframe tbody tr th {\n",
              "        vertical-align: top;\n",
              "    }\n",
              "\n",
              "    .dataframe thead th {\n",
              "        text-align: right;\n",
              "    }\n",
              "</style>\n",
              "<table border=\"1\" class=\"dataframe\">\n",
              "  <thead>\n",
              "    <tr style=\"text-align: right;\">\n",
              "      <th></th>\n",
              "      <th>sent1</th>\n",
              "      <th>sent2</th>\n",
              "      <th>score</th>\n",
              "      <th>sent1_processed</th>\n",
              "      <th>sent2_processed</th>\n",
              "      <th>ps</th>\n",
              "      <th>lch</th>\n",
              "      <th>wup</th>\n",
              "      <th>lin</th>\n",
              "      <th>dp</th>\n",
              "    </tr>\n",
              "  </thead>\n",
              "  <tbody>\n",
              "    <tr>\n",
              "      <th>0</th>\n",
              "      <td>But other sources close to the sale said Viven...</td>\n",
              "      <td>But other sources close to the sale said Viven...</td>\n",
              "      <td>4.00</td>\n",
              "      <td>source close sale say vivendi keep door open b...</td>\n",
              "      <td>source close sale say vivendi keep door open b...</td>\n",
              "      <td>0.576236</td>\n",
              "      <td>0.478867</td>\n",
              "      <td>0.603125</td>\n",
              "      <td>0.441224</td>\n",
              "      <td>0.944957</td>\n",
              "    </tr>\n",
              "    <tr>\n",
              "      <th>1</th>\n",
              "      <td>Micron has declared its first quarterly profit...</td>\n",
              "      <td>Micron's numbers also marked the first quarter...</td>\n",
              "      <td>3.75</td>\n",
              "      <td>micron declare first quarterly profit three year</td>\n",
              "      <td>micron 's number also mark first quarterly pro...</td>\n",
              "      <td>0.433333</td>\n",
              "      <td>0.366896</td>\n",
              "      <td>0.444444</td>\n",
              "      <td>0.280471</td>\n",
              "      <td>0.916931</td>\n",
              "    </tr>\n",
              "    <tr>\n",
              "      <th>2</th>\n",
              "      <td>The fines are part of failed Republican effort...</td>\n",
              "      <td>Perry said he backs the Senate's efforts, incl...</td>\n",
              "      <td>2.80</td>\n",
              "      <td>fine part fail republican effort force entice ...</td>\n",
              "      <td>perry say back senate 's effort include fine f...</td>\n",
              "      <td>0.423077</td>\n",
              "      <td>0.371224</td>\n",
              "      <td>0.485209</td>\n",
              "      <td>0.043715</td>\n",
              "      <td>0.939007</td>\n",
              "    </tr>\n",
              "  </tbody>\n",
              "</table>\n",
              "</div>"
            ]
          },
          "metadata": {
            "tags": []
          },
          "execution_count": 138
        }
      ]
    },
    {
      "cell_type": "code",
      "metadata": {
        "colab_type": "code",
        "id": "8o5s3b58_0We",
        "outputId": "58e90967-a313-4b22-dd69-835920e450af",
        "colab": {
          "base_uri": "https://localhost:8080/",
          "height": 352
        }
      },
      "source": [
        "%%time\n",
        "\n",
        "infer_feat = train_data[cols].apply(get_score_infersent, axis=1)\n",
        "infer_feat = pd.DataFrame(np.stack(infer_feat), columns=['infer'])\n",
        "train_data = pd.concat([train_data, infer_feat], axis=1)\n",
        "train_data.head(2)\n"
      ],
      "execution_count": 0,
      "outputs": [
        {
          "output_type": "stream",
          "text": [
            "CPU times: user 9min 48s, sys: 299 ms, total: 9min 48s\n",
            "Wall time: 9min 48s\n"
          ],
          "name": "stdout"
        },
        {
          "output_type": "execute_result",
          "data": {
            "text/plain": [
              "                                               sent1  \\\n",
              "0  But other sources close to the sale said Viven...   \n",
              "1  Micron has declared its first quarterly profit...   \n",
              "\n",
              "                                               sent2  score  \\\n",
              "0  But other sources close to the sale said Viven...   4.00   \n",
              "1  Micron's numbers also marked the first quarter...   3.75   \n",
              "\n",
              "                                     sent1_processed  \\\n",
              "0  source close sale say vivendi keep door open b...   \n",
              "1   micron declare first quarterly profit three year   \n",
              "\n",
              "                                     sent2_processed        ps       lch  \\\n",
              "0  source close sale say vivendi keep door open b...  0.576236  0.478867   \n",
              "1  micron 's number also mark first quarterly pro...  0.433333  0.366896   \n",
              "\n",
              "        wup       lin        dp     infer  \n",
              "0  0.603125  0.441224  0.944957  0.958609  \n",
              "1  0.444444  0.280471  0.916931  0.946287  "
            ],
            "text/html": [
              "<div>\n",
              "<style scoped>\n",
              "    .dataframe tbody tr th:only-of-type {\n",
              "        vertical-align: middle;\n",
              "    }\n",
              "\n",
              "    .dataframe tbody tr th {\n",
              "        vertical-align: top;\n",
              "    }\n",
              "\n",
              "    .dataframe thead th {\n",
              "        text-align: right;\n",
              "    }\n",
              "</style>\n",
              "<table border=\"1\" class=\"dataframe\">\n",
              "  <thead>\n",
              "    <tr style=\"text-align: right;\">\n",
              "      <th></th>\n",
              "      <th>sent1</th>\n",
              "      <th>sent2</th>\n",
              "      <th>score</th>\n",
              "      <th>sent1_processed</th>\n",
              "      <th>sent2_processed</th>\n",
              "      <th>ps</th>\n",
              "      <th>lch</th>\n",
              "      <th>wup</th>\n",
              "      <th>lin</th>\n",
              "      <th>dp</th>\n",
              "      <th>infer</th>\n",
              "    </tr>\n",
              "  </thead>\n",
              "  <tbody>\n",
              "    <tr>\n",
              "      <th>0</th>\n",
              "      <td>But other sources close to the sale said Viven...</td>\n",
              "      <td>But other sources close to the sale said Viven...</td>\n",
              "      <td>4.00</td>\n",
              "      <td>source close sale say vivendi keep door open b...</td>\n",
              "      <td>source close sale say vivendi keep door open b...</td>\n",
              "      <td>0.576236</td>\n",
              "      <td>0.478867</td>\n",
              "      <td>0.603125</td>\n",
              "      <td>0.441224</td>\n",
              "      <td>0.944957</td>\n",
              "      <td>0.958609</td>\n",
              "    </tr>\n",
              "    <tr>\n",
              "      <th>1</th>\n",
              "      <td>Micron has declared its first quarterly profit...</td>\n",
              "      <td>Micron's numbers also marked the first quarter...</td>\n",
              "      <td>3.75</td>\n",
              "      <td>micron declare first quarterly profit three year</td>\n",
              "      <td>micron 's number also mark first quarterly pro...</td>\n",
              "      <td>0.433333</td>\n",
              "      <td>0.366896</td>\n",
              "      <td>0.444444</td>\n",
              "      <td>0.280471</td>\n",
              "      <td>0.916931</td>\n",
              "      <td>0.946287</td>\n",
              "    </tr>\n",
              "  </tbody>\n",
              "</table>\n",
              "</div>"
            ]
          },
          "metadata": {
            "tags": []
          },
          "execution_count": 139
        }
      ]
    },
    {
      "cell_type": "markdown",
      "metadata": {
        "id": "pU8ZgWE8bbOv",
        "colab_type": "text"
      },
      "source": [
        "### Overlapping\n",
        "\n",
        "Count how many words appears from one sentence to the other.\n",
        "\n",
        "\n"
      ]
    },
    {
      "cell_type": "code",
      "metadata": {
        "id": "6_9vNkD2cU6k",
        "colab_type": "code",
        "colab": {}
      },
      "source": [
        "def preprocess_count_overlap(data):\n",
        "  for col in ['sent1', 'sent2']:\n",
        "    data[col+'_processed'] = data[col].apply(nltk.word_tokenize)\n",
        "    data[col+'_processed'] = data[col+'_processed'].apply(remove_stopwords, \n",
        "                                                          rm_punct=True)\n",
        "    data[col+'_processed'] = data[col+'_processed'].apply(nltk.pos_tag)\n",
        "    data[col+'_processed'] = data[col+'_processed'].apply(lemmatize)\n",
        "    data[col+'_processed'] = data[col+'_processed'].apply(join_tokens)\n",
        "\n",
        "\n",
        "preprocess_count_overlap(train_data)\n",
        "\n",
        "\n",
        "def count_overlap(X):\n",
        "  words1 = X[0].strip().split()\n",
        "  words2 = X[1].strip().split()\n",
        "\n",
        "  counter = 0\n",
        "  for w in words1:\n",
        "    counter += words2.count(w)\n",
        "\n",
        "  score = 2*counter / (len(words1) + len(words2))\n",
        "\n",
        "  return score\n"
      ],
      "execution_count": 0,
      "outputs": []
    },
    {
      "cell_type": "code",
      "metadata": {
        "id": "rSBZp3n9ii4P",
        "colab_type": "code",
        "outputId": "d0db090c-b3c2-4dbc-b73c-9f377042f4a9",
        "colab": {
          "base_uri": "https://localhost:8080/",
          "height": 352
        }
      },
      "source": [
        "%%time\n",
        "\n",
        "overlap_feat = train_data[cols].apply(count_overlap, axis=1)\n",
        "overlap_feat = pd.DataFrame(np.stack(overlap_feat), columns=['over'])\n",
        "train_data = pd.concat([train_data, overlap_feat], axis=1)\n",
        "train_data.head(2)\n"
      ],
      "execution_count": 0,
      "outputs": [
        {
          "output_type": "stream",
          "text": [
            "CPU times: user 140 ms, sys: 0 ns, total: 140 ms\n",
            "Wall time: 183 ms\n"
          ],
          "name": "stdout"
        },
        {
          "output_type": "execute_result",
          "data": {
            "text/plain": [
              "                                               sent1  \\\n",
              "0  But other sources close to the sale said Viven...   \n",
              "1  Micron has declared its first quarterly profit...   \n",
              "\n",
              "                                               sent2  score  \\\n",
              "0  But other sources close to the sale said Viven...   4.00   \n",
              "1  Micron's numbers also marked the first quarter...   3.75   \n",
              "\n",
              "                                     sent1_processed  \\\n",
              "0  source close sale say vivendi keep door open b...   \n",
              "1   micron declare first quarterly profit three year   \n",
              "\n",
              "                                     sent2_processed        ps       lch  \\\n",
              "0  source close sale say vivendi keep door open b...  0.576236  0.478867   \n",
              "1  micron 's number also mark first quarterly pro...  0.433333  0.366896   \n",
              "\n",
              "        wup       lin        dp     infer      over  \n",
              "0  0.603125  0.441224  0.944957  0.958609  0.642857  \n",
              "1  0.444444  0.280471  0.916931  0.946287  0.631579  "
            ],
            "text/html": [
              "<div>\n",
              "<style scoped>\n",
              "    .dataframe tbody tr th:only-of-type {\n",
              "        vertical-align: middle;\n",
              "    }\n",
              "\n",
              "    .dataframe tbody tr th {\n",
              "        vertical-align: top;\n",
              "    }\n",
              "\n",
              "    .dataframe thead th {\n",
              "        text-align: right;\n",
              "    }\n",
              "</style>\n",
              "<table border=\"1\" class=\"dataframe\">\n",
              "  <thead>\n",
              "    <tr style=\"text-align: right;\">\n",
              "      <th></th>\n",
              "      <th>sent1</th>\n",
              "      <th>sent2</th>\n",
              "      <th>score</th>\n",
              "      <th>sent1_processed</th>\n",
              "      <th>sent2_processed</th>\n",
              "      <th>ps</th>\n",
              "      <th>lch</th>\n",
              "      <th>wup</th>\n",
              "      <th>lin</th>\n",
              "      <th>dp</th>\n",
              "      <th>infer</th>\n",
              "      <th>over</th>\n",
              "    </tr>\n",
              "  </thead>\n",
              "  <tbody>\n",
              "    <tr>\n",
              "      <th>0</th>\n",
              "      <td>But other sources close to the sale said Viven...</td>\n",
              "      <td>But other sources close to the sale said Viven...</td>\n",
              "      <td>4.00</td>\n",
              "      <td>source close sale say vivendi keep door open b...</td>\n",
              "      <td>source close sale say vivendi keep door open b...</td>\n",
              "      <td>0.576236</td>\n",
              "      <td>0.478867</td>\n",
              "      <td>0.603125</td>\n",
              "      <td>0.441224</td>\n",
              "      <td>0.944957</td>\n",
              "      <td>0.958609</td>\n",
              "      <td>0.642857</td>\n",
              "    </tr>\n",
              "    <tr>\n",
              "      <th>1</th>\n",
              "      <td>Micron has declared its first quarterly profit...</td>\n",
              "      <td>Micron's numbers also marked the first quarter...</td>\n",
              "      <td>3.75</td>\n",
              "      <td>micron declare first quarterly profit three year</td>\n",
              "      <td>micron 's number also mark first quarterly pro...</td>\n",
              "      <td>0.433333</td>\n",
              "      <td>0.366896</td>\n",
              "      <td>0.444444</td>\n",
              "      <td>0.280471</td>\n",
              "      <td>0.916931</td>\n",
              "      <td>0.946287</td>\n",
              "      <td>0.631579</td>\n",
              "    </tr>\n",
              "  </tbody>\n",
              "</table>\n",
              "</div>"
            ]
          },
          "metadata": {
            "tags": []
          },
          "execution_count": 213
        }
      ]
    },
    {
      "cell_type": "markdown",
      "metadata": {
        "id": "ig5xWO1TbAaw",
        "colab_type": "text"
      },
      "source": [
        "### Universal encoder\n",
        "\n",
        "This is similar to inferset. So, can be used for text similarity problems.\n",
        "\n",
        "\n",
        "https://arxiv.org/abs/1803.11175\n",
        "\n"
      ]
    },
    {
      "cell_type": "code",
      "metadata": {
        "id": "trxgBqBsboWa",
        "colab_type": "code",
        "colab": {
          "base_uri": "https://localhost:8080/",
          "height": 68
        },
        "outputId": "d417faec-30a3-4a10-e77a-8aaa7c1df675"
      },
      "source": [
        "%%time\n",
        "\n",
        "from absl import logging\n",
        "\n",
        "import tensorflow as tf\n",
        "import tensorflow_hub as hub\n",
        "import matplotlib.pyplot as plt\n",
        "import numpy as np\n",
        "import os\n",
        "import pandas as pd\n",
        "import re\n",
        "import seaborn as sns\n",
        "\n",
        "module_url = \"https://tfhub.dev/google/universal-sentence-encoder/4\" \n",
        "model = hub.load(module_url)\n",
        "print (\"module %s loaded\" % module_url)\n",
        "\n",
        "def embed(input):\n",
        "  return model(input)"
      ],
      "execution_count": 13,
      "outputs": [
        {
          "output_type": "stream",
          "text": [
            "module https://tfhub.dev/google/universal-sentence-encoder/4 loaded\n",
            "CPU times: user 5.22 s, sys: 1.27 s, total: 6.49 s\n",
            "Wall time: 6.66 s\n"
          ],
          "name": "stdout"
        }
      ]
    },
    {
      "cell_type": "code",
      "metadata": {
        "id": "z3wADSNgw6sj",
        "colab_type": "code",
        "colab": {
          "base_uri": "https://localhost:8080/",
          "height": 51
        },
        "outputId": "a365fc4a-f9dc-49d8-a273-55d8a36d08bf"
      },
      "source": [
        "%%time\n",
        "\n",
        "def preprocess_uni_encoder(data):\n",
        "  for col in ['sent1', 'sent2']:\n",
        "    data[col+'_processed'] = data[col].apply(nltk.word_tokenize)\n",
        "    data[col+'_processed'] = data[col+'_processed'].apply(remove_stopwords, \n",
        "                                                          rm_punct=True)\n",
        "    data[col+'_processed'] = data[col+'_processed'].apply(nltk.pos_tag)\n",
        "    data[col+'_processed'] = data[col+'_processed'].apply(lemmatize)\n",
        "    data[col+'_processed'] = data[col+'_processed'].apply(join_tokens)\n",
        "\n",
        "\n",
        "def get_score_univer_encoder(X):\n",
        "  sts_encode1 = tf.nn.l2_normalize(embed(tf.constant(X['sent1_processed'].tolist())), axis=1)\n",
        "  sts_encode2 = tf.nn.l2_normalize(embed(tf.constant(X['sent2_processed'].tolist())), axis=1)\n",
        "  cosine_similarities = tf.reduce_sum(tf.multiply(sts_encode1, sts_encode2), axis=1)\n",
        "  clip_cosine_similarities = tf.clip_by_value(cosine_similarities, -1.0, 1.0)\n",
        "  scores = 1.0 - tf.acos(clip_cosine_similarities)\n",
        "\n",
        "  return scores\n",
        "\n",
        "preprocess_uni_encoder(train_data)"
      ],
      "execution_count": 24,
      "outputs": [
        {
          "output_type": "stream",
          "text": [
            "CPU times: user 4.18 s, sys: 67.5 ms, total: 4.25 s\n",
            "Wall time: 4.29 s\n"
          ],
          "name": "stdout"
        }
      ]
    },
    {
      "cell_type": "code",
      "metadata": {
        "id": "2dOZSx3geNLL",
        "colab_type": "code",
        "colab": {}
      },
      "source": [
        "# train_data = pd.concat([train_data, X_load_train], axis=1)\n",
        "# train_data.head()"
      ],
      "execution_count": 0,
      "outputs": []
    },
    {
      "cell_type": "code",
      "metadata": {
        "id": "h2tfc3NscLbW",
        "colab_type": "code",
        "colab": {
          "base_uri": "https://localhost:8080/",
          "height": 352
        },
        "outputId": "0dc1c415-cba9-4c81-912d-4bcf836912a4"
      },
      "source": [
        "%%time\n",
        "\n",
        "uniencoder_feat = get_score_univer_encoder(train_data)\n",
        "uniencoder_feat = pd.DataFrame(np.stack(uniencoder_feat), columns=['uni'])\n",
        "train_data = pd.concat([train_data, uniencoder_feat], axis=1)\n",
        "train_data.head(2)"
      ],
      "execution_count": 28,
      "outputs": [
        {
          "output_type": "stream",
          "text": [
            "CPU times: user 815 ms, sys: 99.2 ms, total: 914 ms\n",
            "Wall time: 588 ms\n"
          ],
          "name": "stdout"
        },
        {
          "output_type": "execute_result",
          "data": {
            "text/plain": [
              "                                               sent1  \\\n",
              "0  But other sources close to the sale said Viven...   \n",
              "1  Micron has declared its first quarterly profit...   \n",
              "\n",
              "                                               sent2  score  \\\n",
              "0  But other sources close to the sale said Viven...   4.00   \n",
              "1  Micron's numbers also marked the first quarter...   3.75   \n",
              "\n",
              "                                     sent1_processed  \\\n",
              "0  source close sale say vivendi keep door open b...   \n",
              "1   micron declare first quarterly profit three year   \n",
              "\n",
              "                                     sent2_processed        ps       lch  \\\n",
              "0  source close sale say vivendi keep door open b...  0.576236  0.478867   \n",
              "1  micron 's number also mark first quarterly pro...  0.433333  0.366896   \n",
              "\n",
              "        wup       lin        dp     infer      over       uni  \n",
              "0  0.603125  0.441224  0.944957  0.958609  0.642857  0.308706  \n",
              "1  0.444444  0.280471  0.916931  0.946287  0.631579  0.121527  "
            ],
            "text/html": [
              "<div>\n",
              "<style scoped>\n",
              "    .dataframe tbody tr th:only-of-type {\n",
              "        vertical-align: middle;\n",
              "    }\n",
              "\n",
              "    .dataframe tbody tr th {\n",
              "        vertical-align: top;\n",
              "    }\n",
              "\n",
              "    .dataframe thead th {\n",
              "        text-align: right;\n",
              "    }\n",
              "</style>\n",
              "<table border=\"1\" class=\"dataframe\">\n",
              "  <thead>\n",
              "    <tr style=\"text-align: right;\">\n",
              "      <th></th>\n",
              "      <th>sent1</th>\n",
              "      <th>sent2</th>\n",
              "      <th>score</th>\n",
              "      <th>sent1_processed</th>\n",
              "      <th>sent2_processed</th>\n",
              "      <th>ps</th>\n",
              "      <th>lch</th>\n",
              "      <th>wup</th>\n",
              "      <th>lin</th>\n",
              "      <th>dp</th>\n",
              "      <th>infer</th>\n",
              "      <th>over</th>\n",
              "      <th>uni</th>\n",
              "    </tr>\n",
              "  </thead>\n",
              "  <tbody>\n",
              "    <tr>\n",
              "      <th>0</th>\n",
              "      <td>But other sources close to the sale said Viven...</td>\n",
              "      <td>But other sources close to the sale said Viven...</td>\n",
              "      <td>4.00</td>\n",
              "      <td>source close sale say vivendi keep door open b...</td>\n",
              "      <td>source close sale say vivendi keep door open b...</td>\n",
              "      <td>0.576236</td>\n",
              "      <td>0.478867</td>\n",
              "      <td>0.603125</td>\n",
              "      <td>0.441224</td>\n",
              "      <td>0.944957</td>\n",
              "      <td>0.958609</td>\n",
              "      <td>0.642857</td>\n",
              "      <td>0.308706</td>\n",
              "    </tr>\n",
              "    <tr>\n",
              "      <th>1</th>\n",
              "      <td>Micron has declared its first quarterly profit...</td>\n",
              "      <td>Micron's numbers also marked the first quarter...</td>\n",
              "      <td>3.75</td>\n",
              "      <td>micron declare first quarterly profit three year</td>\n",
              "      <td>micron 's number also mark first quarterly pro...</td>\n",
              "      <td>0.433333</td>\n",
              "      <td>0.366896</td>\n",
              "      <td>0.444444</td>\n",
              "      <td>0.280471</td>\n",
              "      <td>0.916931</td>\n",
              "      <td>0.946287</td>\n",
              "      <td>0.631579</td>\n",
              "      <td>0.121527</td>\n",
              "    </tr>\n",
              "  </tbody>\n",
              "</table>\n",
              "</div>"
            ]
          },
          "metadata": {
            "tags": []
          },
          "execution_count": 28
        }
      ]
    },
    {
      "cell_type": "markdown",
      "metadata": {
        "colab_type": "text",
        "id": "LBX00Y80McCA"
      },
      "source": [
        "# Modeling\n",
        "\n",
        "Try a baseline model with the final features: basically the join of the scores (from dependency tree, wds, lcs, etc).\n",
        "\n",
        "\n",
        "\n",
        "\n",
        "\n"
      ]
    },
    {
      "cell_type": "code",
      "metadata": {
        "colab_type": "code",
        "id": "uLkAD_QsR6km",
        "outputId": "8f493e8a-4a14-4082-fccf-ab2dad31f239",
        "colab": {
          "base_uri": "https://localhost:8080/",
          "height": 318
        }
      },
      "source": [
        "train_data.head(2)"
      ],
      "execution_count": 29,
      "outputs": [
        {
          "output_type": "execute_result",
          "data": {
            "text/plain": [
              "                                               sent1  \\\n",
              "0  But other sources close to the sale said Viven...   \n",
              "1  Micron has declared its first quarterly profit...   \n",
              "\n",
              "                                               sent2  score  \\\n",
              "0  But other sources close to the sale said Viven...   4.00   \n",
              "1  Micron's numbers also marked the first quarter...   3.75   \n",
              "\n",
              "                                     sent1_processed  \\\n",
              "0  source close sale say vivendi keep door open b...   \n",
              "1   micron declare first quarterly profit three year   \n",
              "\n",
              "                                     sent2_processed        ps       lch  \\\n",
              "0  source close sale say vivendi keep door open b...  0.576236  0.478867   \n",
              "1  micron 's number also mark first quarterly pro...  0.433333  0.366896   \n",
              "\n",
              "        wup       lin        dp     infer      over       uni  \n",
              "0  0.603125  0.441224  0.944957  0.958609  0.642857  0.308706  \n",
              "1  0.444444  0.280471  0.916931  0.946287  0.631579  0.121527  "
            ],
            "text/html": [
              "<div>\n",
              "<style scoped>\n",
              "    .dataframe tbody tr th:only-of-type {\n",
              "        vertical-align: middle;\n",
              "    }\n",
              "\n",
              "    .dataframe tbody tr th {\n",
              "        vertical-align: top;\n",
              "    }\n",
              "\n",
              "    .dataframe thead th {\n",
              "        text-align: right;\n",
              "    }\n",
              "</style>\n",
              "<table border=\"1\" class=\"dataframe\">\n",
              "  <thead>\n",
              "    <tr style=\"text-align: right;\">\n",
              "      <th></th>\n",
              "      <th>sent1</th>\n",
              "      <th>sent2</th>\n",
              "      <th>score</th>\n",
              "      <th>sent1_processed</th>\n",
              "      <th>sent2_processed</th>\n",
              "      <th>ps</th>\n",
              "      <th>lch</th>\n",
              "      <th>wup</th>\n",
              "      <th>lin</th>\n",
              "      <th>dp</th>\n",
              "      <th>infer</th>\n",
              "      <th>over</th>\n",
              "      <th>uni</th>\n",
              "    </tr>\n",
              "  </thead>\n",
              "  <tbody>\n",
              "    <tr>\n",
              "      <th>0</th>\n",
              "      <td>But other sources close to the sale said Viven...</td>\n",
              "      <td>But other sources close to the sale said Viven...</td>\n",
              "      <td>4.00</td>\n",
              "      <td>source close sale say vivendi keep door open b...</td>\n",
              "      <td>source close sale say vivendi keep door open b...</td>\n",
              "      <td>0.576236</td>\n",
              "      <td>0.478867</td>\n",
              "      <td>0.603125</td>\n",
              "      <td>0.441224</td>\n",
              "      <td>0.944957</td>\n",
              "      <td>0.958609</td>\n",
              "      <td>0.642857</td>\n",
              "      <td>0.308706</td>\n",
              "    </tr>\n",
              "    <tr>\n",
              "      <th>1</th>\n",
              "      <td>Micron has declared its first quarterly profit...</td>\n",
              "      <td>Micron's numbers also marked the first quarter...</td>\n",
              "      <td>3.75</td>\n",
              "      <td>micron declare first quarterly profit three year</td>\n",
              "      <td>micron 's number also mark first quarterly pro...</td>\n",
              "      <td>0.433333</td>\n",
              "      <td>0.366896</td>\n",
              "      <td>0.444444</td>\n",
              "      <td>0.280471</td>\n",
              "      <td>0.916931</td>\n",
              "      <td>0.946287</td>\n",
              "      <td>0.631579</td>\n",
              "      <td>0.121527</td>\n",
              "    </tr>\n",
              "  </tbody>\n",
              "</table>\n",
              "</div>"
            ]
          },
          "metadata": {
            "tags": []
          },
          "execution_count": 29
        }
      ]
    },
    {
      "cell_type": "code",
      "metadata": {
        "colab_type": "code",
        "id": "EMaMwozaSMQm",
        "outputId": "89ccb3ef-0ee0-41b3-ca19-5a863a01ac65",
        "colab": {
          "base_uri": "https://localhost:8080/",
          "height": 204
        }
      },
      "source": [
        "label = 'score'\n",
        "features = [col for col in train_data.columns if col not in ['sent1',\n",
        "                                                             'sent2',\n",
        "                                                             'sent1_processed',\n",
        "                                                             'sent2_processed', label]]\n",
        "X = train_data[features].copy()\n",
        "y = train_data[label].copy()\n",
        "X.head()"
      ],
      "execution_count": 30,
      "outputs": [
        {
          "output_type": "execute_result",
          "data": {
            "text/plain": [
              "         ps       lch       wup       lin        dp     infer      over  \\\n",
              "0  0.576236  0.478867  0.603125  0.441224  0.944957  0.958609  0.642857   \n",
              "1  0.433333  0.366896  0.444444  0.280471  0.916931  0.946287  0.631579   \n",
              "2  0.423077  0.371224  0.485209  0.043715  0.939007  0.938343  0.500000   \n",
              "3  0.622222  0.355331  0.638889  0.333333  0.950514  0.964189  0.733333   \n",
              "4  0.621759  0.593266  0.727564  0.465101  0.879717  0.913712  0.260870   \n",
              "\n",
              "        uni  \n",
              "0  0.308706  \n",
              "1  0.121527  \n",
              "2  0.044599  \n",
              "3  0.394504  \n",
              "4  0.143134  "
            ],
            "text/html": [
              "<div>\n",
              "<style scoped>\n",
              "    .dataframe tbody tr th:only-of-type {\n",
              "        vertical-align: middle;\n",
              "    }\n",
              "\n",
              "    .dataframe tbody tr th {\n",
              "        vertical-align: top;\n",
              "    }\n",
              "\n",
              "    .dataframe thead th {\n",
              "        text-align: right;\n",
              "    }\n",
              "</style>\n",
              "<table border=\"1\" class=\"dataframe\">\n",
              "  <thead>\n",
              "    <tr style=\"text-align: right;\">\n",
              "      <th></th>\n",
              "      <th>ps</th>\n",
              "      <th>lch</th>\n",
              "      <th>wup</th>\n",
              "      <th>lin</th>\n",
              "      <th>dp</th>\n",
              "      <th>infer</th>\n",
              "      <th>over</th>\n",
              "      <th>uni</th>\n",
              "    </tr>\n",
              "  </thead>\n",
              "  <tbody>\n",
              "    <tr>\n",
              "      <th>0</th>\n",
              "      <td>0.576236</td>\n",
              "      <td>0.478867</td>\n",
              "      <td>0.603125</td>\n",
              "      <td>0.441224</td>\n",
              "      <td>0.944957</td>\n",
              "      <td>0.958609</td>\n",
              "      <td>0.642857</td>\n",
              "      <td>0.308706</td>\n",
              "    </tr>\n",
              "    <tr>\n",
              "      <th>1</th>\n",
              "      <td>0.433333</td>\n",
              "      <td>0.366896</td>\n",
              "      <td>0.444444</td>\n",
              "      <td>0.280471</td>\n",
              "      <td>0.916931</td>\n",
              "      <td>0.946287</td>\n",
              "      <td>0.631579</td>\n",
              "      <td>0.121527</td>\n",
              "    </tr>\n",
              "    <tr>\n",
              "      <th>2</th>\n",
              "      <td>0.423077</td>\n",
              "      <td>0.371224</td>\n",
              "      <td>0.485209</td>\n",
              "      <td>0.043715</td>\n",
              "      <td>0.939007</td>\n",
              "      <td>0.938343</td>\n",
              "      <td>0.500000</td>\n",
              "      <td>0.044599</td>\n",
              "    </tr>\n",
              "    <tr>\n",
              "      <th>3</th>\n",
              "      <td>0.622222</td>\n",
              "      <td>0.355331</td>\n",
              "      <td>0.638889</td>\n",
              "      <td>0.333333</td>\n",
              "      <td>0.950514</td>\n",
              "      <td>0.964189</td>\n",
              "      <td>0.733333</td>\n",
              "      <td>0.394504</td>\n",
              "    </tr>\n",
              "    <tr>\n",
              "      <th>4</th>\n",
              "      <td>0.621759</td>\n",
              "      <td>0.593266</td>\n",
              "      <td>0.727564</td>\n",
              "      <td>0.465101</td>\n",
              "      <td>0.879717</td>\n",
              "      <td>0.913712</td>\n",
              "      <td>0.260870</td>\n",
              "      <td>0.143134</td>\n",
              "    </tr>\n",
              "  </tbody>\n",
              "</table>\n",
              "</div>"
            ]
          },
          "metadata": {
            "tags": []
          },
          "execution_count": 30
        }
      ]
    },
    {
      "cell_type": "markdown",
      "metadata": {
        "id": "nn1_-w4ODPsd",
        "colab_type": "text"
      },
      "source": [
        "Save training features and label"
      ]
    },
    {
      "cell_type": "code",
      "metadata": {
        "id": "0T07iATQDPRO",
        "colab_type": "code",
        "colab": {}
      },
      "source": [
        "X_y = pd.concat([X, y], axis=1)\n",
        "X_y.to_csv('train_features.csv', index=False)"
      ],
      "execution_count": 0,
      "outputs": []
    },
    {
      "cell_type": "markdown",
      "metadata": {
        "colab_type": "text",
        "id": "hBuSc_qUe-J3"
      },
      "source": [
        "Scaling all the features with mean 0 and  variance 1\n",
        "\n"
      ]
    },
    {
      "cell_type": "code",
      "metadata": {
        "colab_type": "code",
        "id": "1ebXuX2oe2R7",
        "outputId": "47e2eab1-0f88-48ae-d2bf-848df8e27ea6",
        "colab": {
          "base_uri": "https://localhost:8080/",
          "height": 238
        }
      },
      "source": [
        "from sklearn.preprocessing import StandardScaler\n",
        "scaler = StandardScaler()\n",
        "scaler.fit(X) # This scaler will be used for testing stage too\n",
        "\n",
        "X_scaled = scaler.transform(X)\n",
        "X_scaled"
      ],
      "execution_count": 32,
      "outputs": [
        {
          "output_type": "execute_result",
          "data": {
            "text/plain": [
              "array([[ 0.50869582,  0.08256956,  0.27500424, ...,  0.36778079,\n",
              "         0.32854469,  0.43621894],\n",
              "       [-0.16624555, -0.55401826, -0.59293359, ..., -0.00341259,\n",
              "         0.28332649, -0.22728767],\n",
              "       [-0.21468735, -0.52941227, -0.36996169, ..., -0.2427314 ,\n",
              "        -0.24421923, -0.49997777],\n",
              "       ...,\n",
              "       [ 2.51016403,  0.20271383,  2.44579842, ...,  1.61466474,\n",
              "         1.7604545 ,  2.88669451],\n",
              "       [ 0.18625694,  0.24130234,  0.31719527, ...,  0.693956  ,\n",
              "         0.61492665,  0.43401334],\n",
              "       [-2.04891601, -1.89756609, -2.51533142, ..., -0.73282645,\n",
              "        -1.10336511, -1.06938439]])"
            ]
          },
          "metadata": {
            "tags": []
          },
          "execution_count": 32
        }
      ]
    },
    {
      "cell_type": "code",
      "metadata": {
        "colab_type": "code",
        "id": "xqdYvMoSUxKu",
        "outputId": "311f2c70-e89f-4c51-dae1-31dcbb4c7cee",
        "colab": {
          "base_uri": "https://localhost:8080/",
          "height": 238
        }
      },
      "source": [
        "from sklearn.model_selection import train_test_split\n",
        "# from sklearn.model_selection import GridSearchCV\n",
        "from sklearn.model_selection import KFold\n",
        "\n",
        "test_size = 0.2\n",
        "seed = 41\n",
        "X_train, X_val, y_train, y_val = train_test_split(\n",
        "                X_scaled, y, test_size=test_size, random_state=seed)\n",
        "\n",
        "X_train"
      ],
      "execution_count": 230,
      "outputs": [
        {
          "output_type": "execute_result",
          "data": {
            "text/plain": [
              "array([[ 2.51016403,  3.04533838,  2.18533568, ...,  1.25478875,\n",
              "         0.42400535,  1.25529431],\n",
              "       [-0.30509523, -0.14431314, -0.42490958, ...,  0.60539561,\n",
              "         0.42400535,  0.36418973],\n",
              "       [ 1.25067717, -0.18954768,  0.98720706, ...,  0.74216845,\n",
              "         1.14363181,  1.09803442],\n",
              "       ...,\n",
              "       [-0.46362439,  0.00556136, -0.28906039, ..., -0.47868713,\n",
              "        -0.64515397, -1.55810484],\n",
              "       [-0.2025769 ,  0.87059663,  0.42721216, ..., -1.5349244 ,\n",
              "        -0.9124438 , -1.05280954],\n",
              "       [ 0.19782487, -0.62808658, -0.10259274, ..., -0.02334505,\n",
              "         0.52680913,  0.08621477]])"
            ]
          },
          "metadata": {
            "tags": []
          },
          "execution_count": 230
        }
      ]
    },
    {
      "cell_type": "code",
      "metadata": {
        "colab_type": "code",
        "id": "d8OecD5gm1k3",
        "colab": {}
      },
      "source": [
        "# !pip install xgboost"
      ],
      "execution_count": 0,
      "outputs": []
    },
    {
      "cell_type": "markdown",
      "metadata": {
        "id": "_EDNvoFNiNqA",
        "colab_type": "text"
      },
      "source": [
        "**XGBoost**"
      ]
    },
    {
      "cell_type": "code",
      "metadata": {
        "colab_type": "code",
        "id": "YtM6IB6bMshf",
        "outputId": "f325f70b-cf71-40e9-bf64-a6b0046dd866",
        "colab": {
          "base_uri": "https://localhost:8080/",
          "height": 275
        }
      },
      "source": [
        "%%time\n",
        "\n",
        "from xgboost import XGBRegressor\n",
        "# from lightgbm import LGBMRegressor\n",
        "# from catboost import CatBoostRegressor\n",
        "\n",
        "from xgboost import XGBRegressor\n",
        "\n",
        "estimator_xgboost = XGBRegressor(seed=seed)\n",
        "\n",
        "estimator_xgboost.fit(X_train, y_train)\n",
        "print(f'[+] Validation score: {estimator_xgboost.score(X_val, y_val)}')\n",
        "\n",
        "# Train will all training data\n",
        "estimator_xgboost.fit(X_scaled, y.values)"
      ],
      "execution_count": 231,
      "outputs": [
        {
          "output_type": "stream",
          "text": [
            "/home/guess/anaconda3/lib/python3.7/site-packages/xgboost/core.py:587: FutureWarning: Series.base is deprecated and will be removed in a future version\n",
            "  if getattr(data, 'base', None) is not None and \\\n"
          ],
          "name": "stderr"
        },
        {
          "output_type": "stream",
          "text": [
            "[16:19:13] WARNING: /workspace/src/objective/regression_obj.cu:152: reg:linear is now deprecated in favor of reg:squarederror.\n",
            "[+] Validation score: 0.6936367145905857\n",
            "[16:19:14] WARNING: /workspace/src/objective/regression_obj.cu:152: reg:linear is now deprecated in favor of reg:squarederror.\n",
            "CPU times: user 415 ms, sys: 118 µs, total: 415 ms\n",
            "Wall time: 466 ms\n"
          ],
          "name": "stdout"
        },
        {
          "output_type": "execute_result",
          "data": {
            "text/plain": [
              "XGBRegressor(base_score=0.5, booster='gbtree', colsample_bylevel=1,\n",
              "       colsample_bynode=1, colsample_bytree=1, gamma=0,\n",
              "       importance_type='gain', learning_rate=0.1, max_delta_step=0,\n",
              "       max_depth=3, min_child_weight=1, missing=None, n_estimators=100,\n",
              "       n_jobs=1, nthread=None, objective='reg:linear', random_state=0,\n",
              "       reg_alpha=0, reg_lambda=1, scale_pos_weight=1, seed=41, silent=None,\n",
              "       subsample=1, verbosity=1)"
            ]
          },
          "metadata": {
            "tags": []
          },
          "execution_count": 231
        }
      ]
    },
    {
      "cell_type": "markdown",
      "metadata": {
        "id": "KQZpanYKiQ8O",
        "colab_type": "text"
      },
      "source": [
        "LightGBM"
      ]
    },
    {
      "cell_type": "code",
      "metadata": {
        "id": "E9_k287Rk-GP",
        "colab_type": "code",
        "colab": {
          "base_uri": "https://localhost:8080/",
          "height": 187
        },
        "outputId": "f2d54eb4-c5b8-466b-ed83-2ceb84acf62b"
      },
      "source": [
        "%%time\n",
        "\n",
        "# from xgboost import XGBRegressor\n",
        "from lightgbm import LGBMRegressor\n",
        "# from catboost import CatBoostRegressor\n",
        "\n",
        "estimator_lightgbm = LGBMRegressor(seed=seed)\n",
        "\n",
        "estimator_lightgbm.fit(X_train, y_train)\n",
        "print(f'[+] Validation score: {estimator_lightgbm.score(X_val, y_val)}')\n",
        "\n",
        "# Train will all training data\n",
        "estimator_lightgbm.fit(X_scaled, y.values)\n"
      ],
      "execution_count": 232,
      "outputs": [
        {
          "output_type": "stream",
          "text": [
            "[+] Validation score: 0.7063171902551468\n",
            "CPU times: user 486 ms, sys: 8.14 ms, total: 495 ms\n",
            "Wall time: 577 ms\n"
          ],
          "name": "stdout"
        },
        {
          "output_type": "execute_result",
          "data": {
            "text/plain": [
              "LGBMRegressor(boosting_type='gbdt', class_weight=None, colsample_bytree=1.0,\n",
              "       importance_type='split', learning_rate=0.1, max_depth=-1,\n",
              "       min_child_samples=20, min_child_weight=0.001, min_split_gain=0.0,\n",
              "       n_estimators=100, n_jobs=-1, num_leaves=31, objective=None,\n",
              "       random_state=None, reg_alpha=0.0, reg_lambda=0.0, seed=41,\n",
              "       silent=True, subsample=1.0, subsample_for_bin=200000,\n",
              "       subsample_freq=0)"
            ]
          },
          "metadata": {
            "tags": []
          },
          "execution_count": 232
        }
      ]
    },
    {
      "cell_type": "markdown",
      "metadata": {
        "colab_type": "text",
        "id": "JWFNElFAWicv"
      },
      "source": [
        "## Tuning\n",
        "\n",
        "Search the best hyperparameters for both XGboost and  Lightgbm.\n",
        "\n",
        "\n",
        "Adapted from:\n",
        "\n",
        "\n",
        "https://github.com/dawidkopczyk/blog/blob/master/hyperparam.py\n",
        "\n",
        "References for hyperparameters:\n",
        "\n",
        "https://lightgbm.readthedocs.io/en/latest/Parameters.html\n",
        "\n",
        "https://xgboost.readthedocs.io/en/latest/parameter.html"
      ]
    },
    {
      "cell_type": "code",
      "metadata": {
        "colab_type": "code",
        "id": "gH3xYBvZqK7L",
        "colab": {}
      },
      "source": [
        "# !pip install hyperopt"
      ],
      "execution_count": 0,
      "outputs": []
    },
    {
      "cell_type": "code",
      "metadata": {
        "id": "SSQ-w5CGq6gm",
        "colab_type": "code",
        "colab": {
          "base_uri": "https://localhost:8080/",
          "height": 360
        },
        "outputId": "f38d4f54-ec5f-48c2-8c72-b51eb4266753"
      },
      "source": [
        "%%time\n",
        "\n",
        "from functools import partial\n",
        "from hyperopt import fmin, hp, tpe, Trials, space_eval\n",
        "from sklearn.model_selection import (cross_val_score, train_test_split)\n",
        "from sklearn.metrics import r2_score\n",
        " \n",
        "# Define search space\n",
        "hyper_space_lightgbm = {'n_estimators': 100 + hp.randint('n_estimators', 1000),\n",
        "               'learning_rate': hp.uniform('learning_rate', 0.01, 0.1),\n",
        "               'max_depth':  hp.choice('max_depth', [4, 5, 8, -1]),\n",
        "              #  'max_bin': hp.choice('max_bin', [4, 5, 8, 10]),\n",
        "               'num_leaves': hp.choice('num_leaves', [15, 31, 63, 127]),\n",
        "               'subsample': hp.uniform('subsample', 0.6, 1.0),\n",
        "               'colsample_bytree': hp.uniform('colsample_bytree', 0.5, 1.0)}\n",
        "\n",
        "hyper_space_xgboost = {'n_estimators': 100 + hp.randint('n_estimators', 300),\n",
        "               'learning_rate': hp.uniform('learning_rate', 0.01, 0.1),\n",
        "               'max_depth':  hp.choice('max_depth', [4, 5, 8, 10]),\n",
        "              #  'min_child_weight': hp.choice('min_child_weight', [1, 3, 5, 10]),\n",
        "              #  'max_bin': hp.choice('max_bin', [4, 5, 8, 10]),\n",
        "               'num_leaves': hp.choice('num_leaves', [15, 31, 63, 127]),\n",
        "               'subsample': hp.uniform('subsample', 0.5, 1.0),\n",
        "               'colsample_bytree': hp.uniform('colsample_bytree', 0.5, 1.0)}\n",
        "\n",
        "def evaluate(params, X, y, model='lightgbm'):\n",
        "    \n",
        "    # Initilize instance of estimator\n",
        "    if model == 'lightgbm':\n",
        "      est = LGBMRegressor(boosting='gbdt', n_jobs=-1, random_state=seed)\n",
        "      est.set_params(**params)\n",
        "    else:\n",
        "      est = XGBRegressor(boosting='gbdt', n_jobs=-1, random_state=seed)\n",
        "      est.set_params(**params)\n",
        "    \n",
        "    # Calc CV score\n",
        "    scores = cross_val_score(estimator=est, X=X, y=y, \n",
        "                             scoring='r2', cv=4)\n",
        "    score = np.mean(scores)\n",
        "\n",
        "    return score\n",
        "\n",
        "# Objective minizmied \n",
        "hyperopt_objective_lightgbm = lambda params: (-1.0) * evaluate(params, \n",
        "                                                      X_train, \n",
        "                                                      y_train.values,\n",
        "                                                      'lightgbm')\n",
        "hyperopt_objective_xgboost = lambda params: (-1.0) * evaluate(params, \n",
        "                                                      X_train, \n",
        "                                                      y_train.values,\n",
        "                                                      'xgboost')\n",
        "# Trail\n",
        "trials = Trials()\n",
        " \n",
        "# Set algoritm parameters\n",
        "algo = partial(tpe.suggest, \n",
        "               n_startup_jobs=20, gamma=0.25, n_EI_candidates=24)\n",
        " \n",
        "# Fit Tree Parzen Estimator\n",
        "best_vals_lightgbm = fmin(hyperopt_objective_lightgbm, space=hyper_space_lightgbm,\n",
        "                 algo=algo, max_evals=60, trials=trials,\n",
        "                 rstate=np.random.RandomState(seed=seed))\n",
        "best_vals_xgboost = fmin(hyperopt_objective_xgboost, space=hyper_space_xgboost,\n",
        "                 algo=algo, max_evals=60, trials=trials,\n",
        "                 rstate=np.random.RandomState(seed=seed))\n",
        "# Print best parameters\n",
        "best_params_lightgbm = space_eval(hyper_space_lightgbm, best_vals_lightgbm)\n",
        "best_params_xgboost = space_eval(hyper_space_xgboost, best_vals_xgboost)\n",
        "\n",
        "# Init estimator\n",
        "estimator_lightgbm_tuning = LGBMRegressor(boosting='gbdt', n_jobs=-1, random_state=seed)\n",
        "estimator_xgboost_tuning = XGBRegressor(boosting='gbdt', n_jobs=-1, random_state=seed)\n",
        "\n",
        "# Set params\n",
        "estimator_lightgbm_tuning.set_params(**best_params_lightgbm)\n",
        "estimator_xgboost_tuning.set_params(**best_params_xgboost)\n",
        "\n",
        "# Fit    \n",
        "estimator_lightgbm_tuning.fit(X_train, y_train)\n",
        "estimator_xgboost_tuning.fit(X_train, y_train)\n",
        "\n",
        "y_pred_lightgbm = estimator_lightgbm_tuning.predict(X_val)\n",
        "y_pred_xgboost = estimator_xgboost_tuning.predict(X_val)\n",
        "\n",
        "# Predict\n",
        "score_lightgbm = r2_score(y_val.values, y_pred_lightgbm)\n",
        "score_xgboost = r2_score(y_val.values, y_pred_xgboost)\n",
        "\n",
        "print(f'Validation score lightgbm : {score_lightgbm}')\n",
        "print(f'Validation score xgboost : {score_xgboost}')\n",
        "\n",
        "# Train with all training data\n",
        "estimator_lightgbm_tuning.fit(X_scaled, y.values)\n",
        "estimator_xgboost_tuning.fit(X_scaled, y.values)"
      ],
      "execution_count": 264,
      "outputs": [
        {
          "output_type": "stream",
          "text": [
            "100%|██████████| 60/60 [01:25<00:00,  1.43s/it, best loss: -0.7014482555209234]\n",
            "0it [00:00, ?it/s, best loss: ?]\n"
          ],
          "name": "stdout"
        },
        {
          "output_type": "stream",
          "text": [
            "/home/guess/anaconda3/lib/python3.7/site-packages/xgboost/core.py:587: FutureWarning: Series.base is deprecated and will be removed in a future version\n",
            "  if getattr(data, 'base', None) is not None and \\\n"
          ],
          "name": "stderr"
        },
        {
          "output_type": "stream",
          "text": [
            "[16:33:39] WARNING: /workspace/src/objective/regression_obj.cu:152: reg:linear is now deprecated in favor of reg:squarederror.\n",
            "Validation score lightgbm : 0.7060149024967722\n",
            "Validation score xgboost : 0.7132595307870724\n",
            "[16:33:41] WARNING: /workspace/src/objective/regression_obj.cu:152: reg:linear is now deprecated in favor of reg:squarederror.\n",
            "CPU times: user 1min 26s, sys: 531 ms, total: 1min 27s\n",
            "Wall time: 1min 28s\n"
          ],
          "name": "stdout"
        },
        {
          "output_type": "execute_result",
          "data": {
            "text/plain": [
              "XGBRegressor(base_score=0.5, booster='gbtree', boosting='gbdt',\n",
              "       colsample_bylevel=1, colsample_bynode=1,\n",
              "       colsample_bytree=0.6793822406498514, gamma=0,\n",
              "       importance_type='gain', learning_rate=0.015794729753865512,\n",
              "       max_delta_step=0, max_depth=8, min_child_weight=1, missing=None,\n",
              "       n_estimators=366, n_jobs=-1, nthread=None, num_leaves=15,\n",
              "       objective='reg:linear', random_state=41, reg_alpha=0, reg_lambda=1,\n",
              "       scale_pos_weight=1, seed=None, silent=None,\n",
              "       subsample=0.6990593712749179, verbosity=1)"
            ]
          },
          "metadata": {
            "tags": []
          },
          "execution_count": 264
        }
      ]
    },
    {
      "cell_type": "markdown",
      "metadata": {
        "colab_type": "text",
        "id": "oAudDtdYEKus"
      },
      "source": [
        "## Testing\n",
        "\n",
        "We need to apply all the preprocessing and feature engineering steps to the test data."
      ]
    },
    {
      "cell_type": "markdown",
      "metadata": {
        "colab_type": "text",
        "id": "xWHu-1hsXPoZ"
      },
      "source": [
        "**Synset based metrics**"
      ]
    },
    {
      "cell_type": "code",
      "metadata": {
        "colab_type": "code",
        "id": "j8xcmAXJVj3I",
        "outputId": "21489116-c79d-4c87-9a13-f798c38fe81b",
        "colab": {
          "base_uri": "https://localhost:8080/",
          "height": 357
        }
      },
      "source": [
        "# Preprocess test data\n",
        "preprocess_data_synsets(test_data) \n",
        "# Append multiple synset based distances to dataframe\n",
        "add_synset_distance_metrics(test_data, cols)\n",
        "test_data.head(2)"
      ],
      "execution_count": 0,
      "outputs": [
        {
          "output_type": "execute_result",
          "data": {
            "text/plain": [
              "                                               sent1  \\\n",
              "0  The problem likely will mean corrective change...   \n",
              "1  The technology-laced Nasdaq Composite Index .I...   \n",
              "2  \"It's a huge black eye,\" said publisher Arthur...   \n",
              "3  SEC Chairman William Donaldson said there is a...   \n",
              "4  Vivendi shares closed 1.9 percent at 15.80 eur...   \n",
              "\n",
              "                                               sent2  score  \\\n",
              "0  He said the problem needs to be corrected befo...    4.4   \n",
              "1  The broad Standard & Poor's 500 Index .SPX inc...    0.8   \n",
              "2  \"It's a huge black eye,\" Arthur Sulzberger, th...    3.6   \n",
              "3  \"I think there's a building confidence that th...    3.4   \n",
              "4  In New York, Vivendi shares were 1.4 percent d...    1.4   \n",
              "\n",
              "                                     sent1_processed  \\\n",
              "0  [Synset('problem.n.01'), Synset('likely.a.01')...   \n",
              "1  [Synset('default.n.01'), Synset('national_asso...   \n",
              "2  [Synset('default.n.01'), Synset('second.n.01')...   \n",
              "3  [Synset('second.n.01'), Synset('president.n.04...   \n",
              "4  [Synset('default.n.01'), Synset('share.n.01'),...   \n",
              "\n",
              "                                     sent2_processed  \n",
              "0  [Synset('say.n.01'), Synset('problem.n.01'), S...  \n",
              "1  [Synset('wide.a.01'), Synset('standard.n.01'),...  \n",
              "2  [Synset('default.n.01'), Synset('second.n.01')...  \n",
              "3  [Synset('default.n.01'), Synset('think.v.01'),...  \n",
              "4  [Synset('new.a.01'), Synset('york.n.01'), Syns...  "
            ],
            "text/html": [
              "<div>\n",
              "<style scoped>\n",
              "    .dataframe tbody tr th:only-of-type {\n",
              "        vertical-align: middle;\n",
              "    }\n",
              "\n",
              "    .dataframe tbody tr th {\n",
              "        vertical-align: top;\n",
              "    }\n",
              "\n",
              "    .dataframe thead th {\n",
              "        text-align: right;\n",
              "    }\n",
              "</style>\n",
              "<table border=\"1\" class=\"dataframe\">\n",
              "  <thead>\n",
              "    <tr style=\"text-align: right;\">\n",
              "      <th></th>\n",
              "      <th>sent1</th>\n",
              "      <th>sent2</th>\n",
              "      <th>score</th>\n",
              "      <th>sent1_processed</th>\n",
              "      <th>sent2_processed</th>\n",
              "    </tr>\n",
              "  </thead>\n",
              "  <tbody>\n",
              "    <tr>\n",
              "      <th>0</th>\n",
              "      <td>The problem likely will mean corrective change...</td>\n",
              "      <td>He said the problem needs to be corrected befo...</td>\n",
              "      <td>4.4</td>\n",
              "      <td>[Synset('problem.n.01'), Synset('likely.a.01')...</td>\n",
              "      <td>[Synset('say.n.01'), Synset('problem.n.01'), S...</td>\n",
              "    </tr>\n",
              "    <tr>\n",
              "      <th>1</th>\n",
              "      <td>The technology-laced Nasdaq Composite Index .I...</td>\n",
              "      <td>The broad Standard &amp; Poor's 500 Index .SPX inc...</td>\n",
              "      <td>0.8</td>\n",
              "      <td>[Synset('default.n.01'), Synset('national_asso...</td>\n",
              "      <td>[Synset('wide.a.01'), Synset('standard.n.01'),...</td>\n",
              "    </tr>\n",
              "    <tr>\n",
              "      <th>2</th>\n",
              "      <td>\"It's a huge black eye,\" said publisher Arthur...</td>\n",
              "      <td>\"It's a huge black eye,\" Arthur Sulzberger, th...</td>\n",
              "      <td>3.6</td>\n",
              "      <td>[Synset('default.n.01'), Synset('second.n.01')...</td>\n",
              "      <td>[Synset('default.n.01'), Synset('second.n.01')...</td>\n",
              "    </tr>\n",
              "    <tr>\n",
              "      <th>3</th>\n",
              "      <td>SEC Chairman William Donaldson said there is a...</td>\n",
              "      <td>\"I think there's a building confidence that th...</td>\n",
              "      <td>3.4</td>\n",
              "      <td>[Synset('second.n.01'), Synset('president.n.04...</td>\n",
              "      <td>[Synset('default.n.01'), Synset('think.v.01'),...</td>\n",
              "    </tr>\n",
              "    <tr>\n",
              "      <th>4</th>\n",
              "      <td>Vivendi shares closed 1.9 percent at 15.80 eur...</td>\n",
              "      <td>In New York, Vivendi shares were 1.4 percent d...</td>\n",
              "      <td>1.4</td>\n",
              "      <td>[Synset('default.n.01'), Synset('share.n.01'),...</td>\n",
              "      <td>[Synset('new.a.01'), Synset('york.n.01'), Syns...</td>\n",
              "    </tr>\n",
              "  </tbody>\n",
              "</table>\n",
              "</div>"
            ]
          },
          "metadata": {
            "tags": []
          },
          "execution_count": 150
        }
      ]
    },
    {
      "cell_type": "markdown",
      "metadata": {
        "id": "agcAyE35IBgf",
        "colab_type": "text"
      },
      "source": [
        "**Dependency trees**"
      ]
    },
    {
      "cell_type": "code",
      "metadata": {
        "colab_type": "code",
        "id": "yB0c_HdZIBgg",
        "outputId": "ccf75d9a-ff34-4a91-f39c-5f52fff57449",
        "colab": {
          "base_uri": "https://localhost:8080/",
          "height": 434
        }
      },
      "source": [
        "%%time\n",
        "\n",
        "preprocess_data_trees(test_data)\n",
        "depen_parsing_test = test_data[cols].apply(get_score_infersent, axis=1).values\n",
        "depen_parsing_test = pd.DataFrame(np.stack(depen_parsing_test), columns=['dp'])\n",
        "test_data = pd.concat([test_data, depen_parsing_test], axis=1)\n",
        "test_data.head(2)"
      ],
      "execution_count": 0,
      "outputs": [
        {
          "output_type": "stream",
          "text": [
            "CPU times: user 1min 27s, sys: 2.15 s, total: 1min 29s\n",
            "Wall time: 7min 50s\n"
          ],
          "name": "stdout"
        },
        {
          "output_type": "execute_result",
          "data": {
            "text/plain": [
              "                                               sent1  \\\n",
              "0  The problem likely will mean corrective change...   \n",
              "1  The technology-laced Nasdaq Composite Index .I...   \n",
              "2  \"It's a huge black eye,\" said publisher Arthur...   \n",
              "\n",
              "                                               sent2  score  \\\n",
              "0  He said the problem needs to be corrected befo...    4.4   \n",
              "1  The broad Standard & Poor's 500 Index .SPX inc...    0.8   \n",
              "2  \"It's a huge black eye,\" Arthur Sulzberger, th...    3.6   \n",
              "\n",
              "                                     sent1_processed  \\\n",
              "0        problem mean change start fleet shuttle fly   \n",
              "1                             index nasdaq composite   \n",
              "2  eye say jr. publisher arthur ochs sulzberger p...   \n",
              "\n",
              "                                     sent2_processed        ps       lch  \\\n",
              "0  correct say need problem clear fleet space shu...  0.285233  0.347540   \n",
              "1                                         poor index  0.506706  0.588826   \n",
              "2  say eye publisher newspaper arthur sulzberger ...  0.572329  0.505012   \n",
              "\n",
              "        wup       lin  \n",
              "0  0.340741  0.231831  \n",
              "1  0.582735  0.392431  \n",
              "2  0.626161  0.469726  "
            ],
            "text/html": [
              "<div>\n",
              "<style scoped>\n",
              "    .dataframe tbody tr th:only-of-type {\n",
              "        vertical-align: middle;\n",
              "    }\n",
              "\n",
              "    .dataframe tbody tr th {\n",
              "        vertical-align: top;\n",
              "    }\n",
              "\n",
              "    .dataframe thead th {\n",
              "        text-align: right;\n",
              "    }\n",
              "</style>\n",
              "<table border=\"1\" class=\"dataframe\">\n",
              "  <thead>\n",
              "    <tr style=\"text-align: right;\">\n",
              "      <th></th>\n",
              "      <th>sent1</th>\n",
              "      <th>sent2</th>\n",
              "      <th>score</th>\n",
              "      <th>sent1_processed</th>\n",
              "      <th>sent2_processed</th>\n",
              "      <th>ps</th>\n",
              "      <th>lch</th>\n",
              "      <th>wup</th>\n",
              "      <th>lin</th>\n",
              "    </tr>\n",
              "  </thead>\n",
              "  <tbody>\n",
              "    <tr>\n",
              "      <th>0</th>\n",
              "      <td>The problem likely will mean corrective change...</td>\n",
              "      <td>He said the problem needs to be corrected befo...</td>\n",
              "      <td>4.4</td>\n",
              "      <td>problem mean change start fleet shuttle fly</td>\n",
              "      <td>correct say need problem clear fleet space shu...</td>\n",
              "      <td>0.285233</td>\n",
              "      <td>0.347540</td>\n",
              "      <td>0.340741</td>\n",
              "      <td>0.231831</td>\n",
              "    </tr>\n",
              "    <tr>\n",
              "      <th>1</th>\n",
              "      <td>The technology-laced Nasdaq Composite Index .I...</td>\n",
              "      <td>The broad Standard &amp; Poor's 500 Index .SPX inc...</td>\n",
              "      <td>0.8</td>\n",
              "      <td>index nasdaq composite</td>\n",
              "      <td>poor index</td>\n",
              "      <td>0.506706</td>\n",
              "      <td>0.588826</td>\n",
              "      <td>0.582735</td>\n",
              "      <td>0.392431</td>\n",
              "    </tr>\n",
              "    <tr>\n",
              "      <th>2</th>\n",
              "      <td>\"It's a huge black eye,\" said publisher Arthur...</td>\n",
              "      <td>\"It's a huge black eye,\" Arthur Sulzberger, th...</td>\n",
              "      <td>3.6</td>\n",
              "      <td>eye say jr. publisher arthur ochs sulzberger p...</td>\n",
              "      <td>say eye publisher newspaper arthur sulzberger ...</td>\n",
              "      <td>0.572329</td>\n",
              "      <td>0.505012</td>\n",
              "      <td>0.626161</td>\n",
              "      <td>0.469726</td>\n",
              "    </tr>\n",
              "  </tbody>\n",
              "</table>\n",
              "</div>"
            ]
          },
          "metadata": {
            "tags": []
          },
          "execution_count": 155
        }
      ]
    },
    {
      "cell_type": "markdown",
      "metadata": {
        "colab_type": "text",
        "id": "dGUZyOlCXTPg"
      },
      "source": [
        "**SentEval word embedding**\n"
      ]
    },
    {
      "cell_type": "code",
      "metadata": {
        "colab_type": "code",
        "id": "-XlqjYRwXTmd",
        "outputId": "8e913e10-d2e5-4fa3-cc91-376ef5567cc5",
        "colab": {
          "base_uri": "https://localhost:8080/",
          "height": 386
        }
      },
      "source": [
        "%%time\n",
        "\n",
        "# Preprocess data\n",
        "preprocess_data_sentevel(test_data)\n",
        "\n",
        "infer_feat_test = test_data[cols].apply(get_score_infersent, axis=1)\n",
        "infer_feat_test = pd.DataFrame(np.stack(infer_feat_test), columns=['infer'])\n",
        "test_data = pd.concat([test_data, infer_feat_test], axis=1)\n",
        "test_data.head(2)                                                "
      ],
      "execution_count": 0,
      "outputs": [
        {
          "output_type": "stream",
          "text": [
            "CPU times: user 9min 31s, sys: 371 ms, total: 9min 31s\n",
            "Wall time: 9min 33s\n"
          ],
          "name": "stdout"
        },
        {
          "output_type": "execute_result",
          "data": {
            "text/plain": [
              "                                               sent1  \\\n",
              "0  The problem likely will mean corrective change...   \n",
              "1  The technology-laced Nasdaq Composite Index .I...   \n",
              "\n",
              "                                               sent2  score  \\\n",
              "0  He said the problem needs to be corrected befo...    4.4   \n",
              "1  The broad Standard & Poor's 500 Index .SPX inc...    0.8   \n",
              "\n",
              "                                     sent1_processed  \\\n",
              "0  problem likely mean corrective change shuttle ...   \n",
              "1  technology-laced nasdaq composite index .ixic ...   \n",
              "\n",
              "                                     sent2_processed        ps       lch  \\\n",
              "0  say problem need correct space shuttle fleet c...  0.285233  0.347540   \n",
              "1  broad standard poor 's 500 index .spx inch 3 p...  0.506706  0.588826   \n",
              "\n",
              "        wup       lin        dp     infer  \n",
              "0  0.340741  0.231831  0.963686  0.964584  \n",
              "1  0.582735  0.392431  0.952877  0.946450  "
            ],
            "text/html": [
              "<div>\n",
              "<style scoped>\n",
              "    .dataframe tbody tr th:only-of-type {\n",
              "        vertical-align: middle;\n",
              "    }\n",
              "\n",
              "    .dataframe tbody tr th {\n",
              "        vertical-align: top;\n",
              "    }\n",
              "\n",
              "    .dataframe thead th {\n",
              "        text-align: right;\n",
              "    }\n",
              "</style>\n",
              "<table border=\"1\" class=\"dataframe\">\n",
              "  <thead>\n",
              "    <tr style=\"text-align: right;\">\n",
              "      <th></th>\n",
              "      <th>sent1</th>\n",
              "      <th>sent2</th>\n",
              "      <th>score</th>\n",
              "      <th>sent1_processed</th>\n",
              "      <th>sent2_processed</th>\n",
              "      <th>ps</th>\n",
              "      <th>lch</th>\n",
              "      <th>wup</th>\n",
              "      <th>lin</th>\n",
              "      <th>dp</th>\n",
              "      <th>infer</th>\n",
              "    </tr>\n",
              "  </thead>\n",
              "  <tbody>\n",
              "    <tr>\n",
              "      <th>0</th>\n",
              "      <td>The problem likely will mean corrective change...</td>\n",
              "      <td>He said the problem needs to be corrected befo...</td>\n",
              "      <td>4.4</td>\n",
              "      <td>problem likely mean corrective change shuttle ...</td>\n",
              "      <td>say problem need correct space shuttle fleet c...</td>\n",
              "      <td>0.285233</td>\n",
              "      <td>0.347540</td>\n",
              "      <td>0.340741</td>\n",
              "      <td>0.231831</td>\n",
              "      <td>0.963686</td>\n",
              "      <td>0.964584</td>\n",
              "    </tr>\n",
              "    <tr>\n",
              "      <th>1</th>\n",
              "      <td>The technology-laced Nasdaq Composite Index .I...</td>\n",
              "      <td>The broad Standard &amp; Poor's 500 Index .SPX inc...</td>\n",
              "      <td>0.8</td>\n",
              "      <td>technology-laced nasdaq composite index .ixic ...</td>\n",
              "      <td>broad standard poor 's 500 index .spx inch 3 p...</td>\n",
              "      <td>0.506706</td>\n",
              "      <td>0.588826</td>\n",
              "      <td>0.582735</td>\n",
              "      <td>0.392431</td>\n",
              "      <td>0.952877</td>\n",
              "      <td>0.946450</td>\n",
              "    </tr>\n",
              "  </tbody>\n",
              "</table>\n",
              "</div>"
            ]
          },
          "metadata": {
            "tags": []
          },
          "execution_count": 157
        }
      ]
    },
    {
      "cell_type": "markdown",
      "metadata": {
        "id": "Y-SKNF7Hn1sn",
        "colab_type": "text"
      },
      "source": [
        "### Overlap words"
      ]
    },
    {
      "cell_type": "code",
      "metadata": {
        "id": "EW0uxww0n21Q",
        "colab_type": "code",
        "outputId": "4597adb4-ae98-420f-907f-f1ac00bd796a",
        "colab": {
          "base_uri": "https://localhost:8080/",
          "height": 400
        }
      },
      "source": [
        "%%time\n",
        "preprocess_count_overlap(test_data)\n",
        "overlap_feat_test = test_data[cols].apply(count_overlap, axis=1)\n",
        "overlap_feat_test = pd.DataFrame(np.stack(overlap_feat_test), columns=['over'])\n",
        "test_data = pd.concat([test_data, overlap_feat_test], axis=1)\n",
        "test_data.head(2)"
      ],
      "execution_count": 0,
      "outputs": [
        {
          "output_type": "execute_result",
          "data": {
            "text/plain": [
              "                                               sent1  \\\n",
              "0  The problem likely will mean corrective change...   \n",
              "1  The technology-laced Nasdaq Composite Index .I...   \n",
              "2  \"It's a huge black eye,\" said publisher Arthur...   \n",
              "\n",
              "                                               sent2  score  \\\n",
              "0  He said the problem needs to be corrected befo...    4.4   \n",
              "1  The broad Standard & Poor's 500 Index .SPX inc...    0.8   \n",
              "2  \"It's a huge black eye,\" Arthur Sulzberger, th...    3.6   \n",
              "\n",
              "                                     sent1_processed  \\\n",
              "0  problem likely mean corrective change shuttle ...   \n",
              "1  technology-laced nasdaq composite index .ixic ...   \n",
              "2  `` 's huge black eye '' say publisher arthur o...   \n",
              "\n",
              "                                     sent2_processed        ps       lch  \\\n",
              "0  say problem need correct space shuttle fleet c...  0.285233  0.347540   \n",
              "1  broad standard poor 's 500 index .spx inch 3 p...  0.506706  0.588826   \n",
              "2  `` 's huge black eye '' arthur sulzberger news...  0.572329  0.505012   \n",
              "\n",
              "        wup       lin        dp     infer  \n",
              "0  0.340741  0.231831  0.963686  0.964584  \n",
              "1  0.582735  0.392431  0.952877  0.946450  \n",
              "2  0.626161  0.469726  0.947358  0.950543  "
            ],
            "text/html": [
              "<div>\n",
              "<style scoped>\n",
              "    .dataframe tbody tr th:only-of-type {\n",
              "        vertical-align: middle;\n",
              "    }\n",
              "\n",
              "    .dataframe tbody tr th {\n",
              "        vertical-align: top;\n",
              "    }\n",
              "\n",
              "    .dataframe thead th {\n",
              "        text-align: right;\n",
              "    }\n",
              "</style>\n",
              "<table border=\"1\" class=\"dataframe\">\n",
              "  <thead>\n",
              "    <tr style=\"text-align: right;\">\n",
              "      <th></th>\n",
              "      <th>sent1</th>\n",
              "      <th>sent2</th>\n",
              "      <th>score</th>\n",
              "      <th>sent1_processed</th>\n",
              "      <th>sent2_processed</th>\n",
              "      <th>ps</th>\n",
              "      <th>lch</th>\n",
              "      <th>wup</th>\n",
              "      <th>lin</th>\n",
              "      <th>dp</th>\n",
              "      <th>infer</th>\n",
              "    </tr>\n",
              "  </thead>\n",
              "  <tbody>\n",
              "    <tr>\n",
              "      <th>0</th>\n",
              "      <td>The problem likely will mean corrective change...</td>\n",
              "      <td>He said the problem needs to be corrected befo...</td>\n",
              "      <td>4.4</td>\n",
              "      <td>problem likely mean corrective change shuttle ...</td>\n",
              "      <td>say problem need correct space shuttle fleet c...</td>\n",
              "      <td>0.285233</td>\n",
              "      <td>0.347540</td>\n",
              "      <td>0.340741</td>\n",
              "      <td>0.231831</td>\n",
              "      <td>0.963686</td>\n",
              "      <td>0.964584</td>\n",
              "    </tr>\n",
              "    <tr>\n",
              "      <th>1</th>\n",
              "      <td>The technology-laced Nasdaq Composite Index .I...</td>\n",
              "      <td>The broad Standard &amp; Poor's 500 Index .SPX inc...</td>\n",
              "      <td>0.8</td>\n",
              "      <td>technology-laced nasdaq composite index .ixic ...</td>\n",
              "      <td>broad standard poor 's 500 index .spx inch 3 p...</td>\n",
              "      <td>0.506706</td>\n",
              "      <td>0.588826</td>\n",
              "      <td>0.582735</td>\n",
              "      <td>0.392431</td>\n",
              "      <td>0.952877</td>\n",
              "      <td>0.946450</td>\n",
              "    </tr>\n",
              "    <tr>\n",
              "      <th>2</th>\n",
              "      <td>\"It's a huge black eye,\" said publisher Arthur...</td>\n",
              "      <td>\"It's a huge black eye,\" Arthur Sulzberger, th...</td>\n",
              "      <td>3.6</td>\n",
              "      <td>`` 's huge black eye '' say publisher arthur o...</td>\n",
              "      <td>`` 's huge black eye '' arthur sulzberger news...</td>\n",
              "      <td>0.572329</td>\n",
              "      <td>0.505012</td>\n",
              "      <td>0.626161</td>\n",
              "      <td>0.469726</td>\n",
              "      <td>0.947358</td>\n",
              "      <td>0.950543</td>\n",
              "    </tr>\n",
              "  </tbody>\n",
              "</table>\n",
              "</div>"
            ]
          },
          "metadata": {
            "tags": []
          },
          "execution_count": 229
        }
      ]
    },
    {
      "cell_type": "markdown",
      "metadata": {
        "id": "_7Pf21gxgXh4",
        "colab_type": "text"
      },
      "source": [
        "### Universal encoder"
      ]
    },
    {
      "cell_type": "code",
      "metadata": {
        "id": "feMVGVCkgSn_",
        "colab_type": "code",
        "colab": {
          "base_uri": "https://localhost:8080/",
          "height": 386
        },
        "outputId": "0b9d1d47-0708-42de-b44a-1cc6742a1fac"
      },
      "source": [
        "%%time\n",
        "\n",
        "preprocess_uni_encoder(test_data)\n",
        "uniencoder_feat_test = get_score_univer_encoder(test_data)\n",
        "uniencoder_feat_test = pd.DataFrame(np.stack(uniencoder_feat_test), columns=['uni'])\n",
        "test_data = pd.concat([test_data, uniencoder_feat_test], axis=1)\n",
        "test_data.head(2)"
      ],
      "execution_count": 45,
      "outputs": [
        {
          "output_type": "stream",
          "text": [
            "CPU times: user 1.17 s, sys: 140 ms, total: 1.31 s\n",
            "Wall time: 1.01 s\n"
          ],
          "name": "stdout"
        },
        {
          "output_type": "execute_result",
          "data": {
            "text/plain": [
              "                                               sent1  \\\n",
              "0  The problem likely will mean corrective change...   \n",
              "1  The technology-laced Nasdaq Composite Index .I...   \n",
              "\n",
              "                                               sent2  score  \\\n",
              "0  He said the problem needs to be corrected befo...    4.4   \n",
              "1  The broad Standard & Poor's 500 Index .SPX inc...    0.8   \n",
              "\n",
              "                                     sent1_processed  \\\n",
              "0  problem likely mean corrective change shuttle ...   \n",
              "1  technology-laced nasdaq composite index .ixic ...   \n",
              "\n",
              "                                     sent2_processed        ps       lch  \\\n",
              "0  say problem need correct space shuttle fleet c...  0.285233  0.347540   \n",
              "1  broad standard poor 's 500 index .spx inch 3 p...  0.506706  0.588826   \n",
              "\n",
              "        wup       lin        dp     infer      over       uni  \n",
              "0  0.340741  0.231831  0.963686  0.964584  0.444444  0.132304  \n",
              "1  0.582735  0.392431  0.952877  0.946450  0.333333 -0.043764  "
            ],
            "text/html": [
              "<div>\n",
              "<style scoped>\n",
              "    .dataframe tbody tr th:only-of-type {\n",
              "        vertical-align: middle;\n",
              "    }\n",
              "\n",
              "    .dataframe tbody tr th {\n",
              "        vertical-align: top;\n",
              "    }\n",
              "\n",
              "    .dataframe thead th {\n",
              "        text-align: right;\n",
              "    }\n",
              "</style>\n",
              "<table border=\"1\" class=\"dataframe\">\n",
              "  <thead>\n",
              "    <tr style=\"text-align: right;\">\n",
              "      <th></th>\n",
              "      <th>sent1</th>\n",
              "      <th>sent2</th>\n",
              "      <th>score</th>\n",
              "      <th>sent1_processed</th>\n",
              "      <th>sent2_processed</th>\n",
              "      <th>ps</th>\n",
              "      <th>lch</th>\n",
              "      <th>wup</th>\n",
              "      <th>lin</th>\n",
              "      <th>dp</th>\n",
              "      <th>infer</th>\n",
              "      <th>over</th>\n",
              "      <th>uni</th>\n",
              "    </tr>\n",
              "  </thead>\n",
              "  <tbody>\n",
              "    <tr>\n",
              "      <th>0</th>\n",
              "      <td>The problem likely will mean corrective change...</td>\n",
              "      <td>He said the problem needs to be corrected befo...</td>\n",
              "      <td>4.4</td>\n",
              "      <td>problem likely mean corrective change shuttle ...</td>\n",
              "      <td>say problem need correct space shuttle fleet c...</td>\n",
              "      <td>0.285233</td>\n",
              "      <td>0.347540</td>\n",
              "      <td>0.340741</td>\n",
              "      <td>0.231831</td>\n",
              "      <td>0.963686</td>\n",
              "      <td>0.964584</td>\n",
              "      <td>0.444444</td>\n",
              "      <td>0.132304</td>\n",
              "    </tr>\n",
              "    <tr>\n",
              "      <th>1</th>\n",
              "      <td>The technology-laced Nasdaq Composite Index .I...</td>\n",
              "      <td>The broad Standard &amp; Poor's 500 Index .SPX inc...</td>\n",
              "      <td>0.8</td>\n",
              "      <td>technology-laced nasdaq composite index .ixic ...</td>\n",
              "      <td>broad standard poor 's 500 index .spx inch 3 p...</td>\n",
              "      <td>0.506706</td>\n",
              "      <td>0.588826</td>\n",
              "      <td>0.582735</td>\n",
              "      <td>0.392431</td>\n",
              "      <td>0.952877</td>\n",
              "      <td>0.946450</td>\n",
              "      <td>0.333333</td>\n",
              "      <td>-0.043764</td>\n",
              "    </tr>\n",
              "  </tbody>\n",
              "</table>\n",
              "</div>"
            ]
          },
          "metadata": {
            "tags": []
          },
          "execution_count": 45
        }
      ]
    },
    {
      "cell_type": "markdown",
      "metadata": {
        "id": "_8gZeYibn-RI",
        "colab_type": "text"
      },
      "source": [
        "### Splitting\n"
      ]
    },
    {
      "cell_type": "code",
      "metadata": {
        "colab_type": "code",
        "id": "ZrNsNhmuaslj",
        "outputId": "2efe4426-a6cd-43de-905f-b78eec32189a",
        "colab": {
          "base_uri": "https://localhost:8080/",
          "height": 221
        }
      },
      "source": [
        "X_test = test_data[features].copy()\n",
        "y_test = test_data[label].copy()\n",
        "print(len(X_test))\n",
        "X_test.head()"
      ],
      "execution_count": 46,
      "outputs": [
        {
          "output_type": "stream",
          "text": [
            "3108\n"
          ],
          "name": "stdout"
        },
        {
          "output_type": "execute_result",
          "data": {
            "text/plain": [
              "         ps       lch       wup       lin        dp     infer      over  \\\n",
              "0  0.285233  0.347540  0.340741  0.231831  0.963686  0.964584  0.444444   \n",
              "1  0.506706  0.588826  0.582735  0.392431  0.952877  0.946450  0.333333   \n",
              "2  0.572329  0.505012  0.626161  0.469726  0.947358  0.950543  0.709677   \n",
              "3  0.485281  0.553779  0.538273  0.481043  0.940341  0.942599  0.526316   \n",
              "4  0.293447  0.365735  0.379464  0.334849  0.903658  0.927247  0.421053   \n",
              "\n",
              "        uni  \n",
              "0  0.132304  \n",
              "1 -0.043764  \n",
              "2  0.136746  \n",
              "3  0.083767  \n",
              "4 -0.145027  "
            ],
            "text/html": [
              "<div>\n",
              "<style scoped>\n",
              "    .dataframe tbody tr th:only-of-type {\n",
              "        vertical-align: middle;\n",
              "    }\n",
              "\n",
              "    .dataframe tbody tr th {\n",
              "        vertical-align: top;\n",
              "    }\n",
              "\n",
              "    .dataframe thead th {\n",
              "        text-align: right;\n",
              "    }\n",
              "</style>\n",
              "<table border=\"1\" class=\"dataframe\">\n",
              "  <thead>\n",
              "    <tr style=\"text-align: right;\">\n",
              "      <th></th>\n",
              "      <th>ps</th>\n",
              "      <th>lch</th>\n",
              "      <th>wup</th>\n",
              "      <th>lin</th>\n",
              "      <th>dp</th>\n",
              "      <th>infer</th>\n",
              "      <th>over</th>\n",
              "      <th>uni</th>\n",
              "    </tr>\n",
              "  </thead>\n",
              "  <tbody>\n",
              "    <tr>\n",
              "      <th>0</th>\n",
              "      <td>0.285233</td>\n",
              "      <td>0.347540</td>\n",
              "      <td>0.340741</td>\n",
              "      <td>0.231831</td>\n",
              "      <td>0.963686</td>\n",
              "      <td>0.964584</td>\n",
              "      <td>0.444444</td>\n",
              "      <td>0.132304</td>\n",
              "    </tr>\n",
              "    <tr>\n",
              "      <th>1</th>\n",
              "      <td>0.506706</td>\n",
              "      <td>0.588826</td>\n",
              "      <td>0.582735</td>\n",
              "      <td>0.392431</td>\n",
              "      <td>0.952877</td>\n",
              "      <td>0.946450</td>\n",
              "      <td>0.333333</td>\n",
              "      <td>-0.043764</td>\n",
              "    </tr>\n",
              "    <tr>\n",
              "      <th>2</th>\n",
              "      <td>0.572329</td>\n",
              "      <td>0.505012</td>\n",
              "      <td>0.626161</td>\n",
              "      <td>0.469726</td>\n",
              "      <td>0.947358</td>\n",
              "      <td>0.950543</td>\n",
              "      <td>0.709677</td>\n",
              "      <td>0.136746</td>\n",
              "    </tr>\n",
              "    <tr>\n",
              "      <th>3</th>\n",
              "      <td>0.485281</td>\n",
              "      <td>0.553779</td>\n",
              "      <td>0.538273</td>\n",
              "      <td>0.481043</td>\n",
              "      <td>0.940341</td>\n",
              "      <td>0.942599</td>\n",
              "      <td>0.526316</td>\n",
              "      <td>0.083767</td>\n",
              "    </tr>\n",
              "    <tr>\n",
              "      <th>4</th>\n",
              "      <td>0.293447</td>\n",
              "      <td>0.365735</td>\n",
              "      <td>0.379464</td>\n",
              "      <td>0.334849</td>\n",
              "      <td>0.903658</td>\n",
              "      <td>0.927247</td>\n",
              "      <td>0.421053</td>\n",
              "      <td>-0.145027</td>\n",
              "    </tr>\n",
              "  </tbody>\n",
              "</table>\n",
              "</div>"
            ]
          },
          "metadata": {
            "tags": []
          },
          "execution_count": 46
        }
      ]
    },
    {
      "cell_type": "markdown",
      "metadata": {
        "id": "dC8j_XZfDi0n",
        "colab_type": "text"
      },
      "source": [
        "**Save testing features**\n"
      ]
    },
    {
      "cell_type": "code",
      "metadata": {
        "id": "dBz8LE2LDh_x",
        "colab_type": "code",
        "colab": {}
      },
      "source": [
        "X_y_test = pd.concat([X_test, y_test], axis=1)\n",
        "X_y_test.to_csv('test_features.csv', index=False)"
      ],
      "execution_count": 0,
      "outputs": []
    },
    {
      "cell_type": "markdown",
      "metadata": {
        "colab_type": "text",
        "id": "HB_z-pMRhBSo"
      },
      "source": [
        "**Scaling**"
      ]
    },
    {
      "cell_type": "code",
      "metadata": {
        "colab_type": "code",
        "id": "jbtqGl3vhCl8",
        "outputId": "8a657b05-68c1-461b-9bfd-a72ecd062a57",
        "colab": {
          "base_uri": "https://localhost:8080/",
          "height": 238
        }
      },
      "source": [
        "X_test_scaled = scaler.transform(X_test)\n",
        "X_test_scaled"
      ],
      "execution_count": 48,
      "outputs": [
        {
          "output_type": "execute_result",
          "data": {
            "text/plain": [
              "array([[-8.65733289e-01, -6.64059222e-01, -1.16016356e+00, ...,\n",
              "         5.47792399e-01, -4.66960754e-01, -1.89085532e-01],\n",
              "       [ 1.80299655e-01,  7.07711348e-01,  1.63474364e-01, ...,\n",
              "         1.49645800e-03, -9.12443805e-01, -8.13205749e-01],\n",
              "       [ 4.90241796e-01,  2.31210719e-01,  4.01006641e-01, ...,\n",
              "         1.24786475e-01,  5.96450398e-01, -1.73339978e-01],\n",
              "       ...,\n",
              "       [-1.92666468e+00, -1.82480364e+00, -2.40997130e+00, ...,\n",
              "        -2.38331356e+00, -2.24889296e+00, -1.31584520e+00],\n",
              "       [-1.96338101e+00, -1.84546970e+00, -2.38916184e+00, ...,\n",
              "        -6.79979668e-01,  1.09546723e-01, -9.03037574e-01],\n",
              "       [ 2.39454548e-01, -2.22079986e+00,  3.32498432e-01, ...,\n",
              "         9.07819216e-01,  4.21627318e-02, -4.59715620e-02]])"
            ]
          },
          "metadata": {
            "tags": []
          },
          "execution_count": 48
        }
      ]
    },
    {
      "cell_type": "markdown",
      "metadata": {
        "id": "OjWd1KGAIBgz",
        "colab_type": "text"
      },
      "source": [
        "**XGBoost**"
      ]
    },
    {
      "cell_type": "code",
      "metadata": {
        "colab_type": "code",
        "id": "i785FTb_nUPu",
        "outputId": "afdda1fb-5010-46ef-ad62-61d2d3168d67",
        "colab": {
          "base_uri": "https://localhost:8080/",
          "height": 34
        }
      },
      "source": [
        "y_pred = estimator_xgboost.predict(X_test_scaled)\n",
        "\n",
        "\n",
        "print(f'Pearson correlation: {pearsonr(y_test.values, y_pred)[0]}')"
      ],
      "execution_count": 265,
      "outputs": [
        {
          "output_type": "stream",
          "text": [
            "Pearson correlation: 0.7517778047234789\n"
          ],
          "name": "stdout"
        }
      ]
    },
    {
      "cell_type": "markdown",
      "metadata": {
        "id": "XG0gww_T_5Ro",
        "colab_type": "text"
      },
      "source": [
        "**XGBoost with tuning**"
      ]
    },
    {
      "cell_type": "code",
      "metadata": {
        "id": "cRQsYEYv_44J",
        "colab_type": "code",
        "colab": {
          "base_uri": "https://localhost:8080/",
          "height": 34
        },
        "outputId": "0e4869f8-e9a1-49d3-8436-313a2a05d44a"
      },
      "source": [
        "y_pred = estimator_xgboost_tuning.predict(X_test_scaled)\n",
        "\n",
        "\n",
        "print(f'Pearson correlation: {pearsonr(y_test.values, y_pred)[0]}')"
      ],
      "execution_count": 266,
      "outputs": [
        {
          "output_type": "stream",
          "text": [
            "Pearson correlation: 0.7516741130388345\n"
          ],
          "name": "stdout"
        }
      ]
    },
    {
      "cell_type": "markdown",
      "metadata": {
        "id": "-Qa3raonn4C2",
        "colab_type": "text"
      },
      "source": [
        "**LGBM**"
      ]
    },
    {
      "cell_type": "code",
      "metadata": {
        "id": "_YtVXvSNnzzS",
        "colab_type": "code",
        "colab": {
          "base_uri": "https://localhost:8080/",
          "height": 34
        },
        "outputId": "b5323932-a79f-4f59-a226-7cc11feee93b"
      },
      "source": [
        "y_pred = estimator_lightgbm.predict(X_test_scaled)\n",
        "\n",
        "\n",
        "print(f'Pearson correlation: {pearsonr(y_test.values, y_pred)[0]}')"
      ],
      "execution_count": 267,
      "outputs": [
        {
          "output_type": "stream",
          "text": [
            "Pearson correlation: 0.750299946875743\n"
          ],
          "name": "stdout"
        }
      ]
    },
    {
      "cell_type": "markdown",
      "metadata": {
        "id": "YLm6EWYgxHMq",
        "colab_type": "text"
      },
      "source": [
        "**LGBM with tuning**"
      ]
    },
    {
      "cell_type": "code",
      "metadata": {
        "id": "cBurYkzAxGrE",
        "colab_type": "code",
        "colab": {
          "base_uri": "https://localhost:8080/",
          "height": 34
        },
        "outputId": "b0383538-b41f-476f-a7e2-88521a47cf39"
      },
      "source": [
        "y_pred = estimator_lightgbm_tuning.predict(X_test_scaled)\n",
        "\n",
        "\n",
        "print(f'Pearson correlation: {pearsonr(y_test.values, y_pred)[0]}')"
      ],
      "execution_count": 273,
      "outputs": [
        {
          "output_type": "stream",
          "text": [
            "Pearson correlation: 0.7593424434753651\n"
          ],
          "name": "stdout"
        }
      ]
    },
    {
      "cell_type": "markdown",
      "metadata": {
        "id": "_gRKZkpbwjE7",
        "colab_type": "text"
      },
      "source": [
        "### Feature importance\n"
      ]
    },
    {
      "cell_type": "code",
      "metadata": {
        "id": "uO9MfoiMIBg6",
        "colab_type": "code",
        "outputId": "c796c91a-7e4b-46b9-f1dd-ba5e750b9c92",
        "colab": {
          "base_uri": "https://localhost:8080/",
          "height": 269
        }
      },
      "source": [
        "import matplotlib.pyplot as plt\n",
        "\n",
        "(pd.Series(estimator_xgboost_tuning.feature_importances_, index=X.columns)\n",
        "   .nlargest(10)\n",
        "   .plot(kind='barh')) \n",
        "plt.show()"
      ],
      "execution_count": 281,
      "outputs": [
        {
          "output_type": "display_data",
          "data": {
            "text/plain": [
              "<Figure size 432x288 with 1 Axes>"
            ],
            "image/png": "[encoded data removed]"
          },
          "metadata": {
            "tags": [],
            "needs_background": "light"
          }
        }
      ]
    },
    {
      "cell_type": "markdown",
      "metadata": {
        "id": "-3rhZzDzlzQQ",
        "colab_type": "text"
      },
      "source": [
        "## Save models"
      ]
    },
    {
      "cell_type": "code",
      "metadata": {
        "id": "b3i5Qny4l0m7",
        "colab_type": "code",
        "colab": {
          "base_uri": "https://localhost:8080/",
          "height": 34
        },
        "outputId": "53ef6bb2-4c6c-4d58-c65a-2312156f2f81"
      },
      "source": [
        "from joblib import dump\n",
        "\n",
        "# Save XGBoost\n",
        "dump(estimator_xgboost_tuning, \"estimator_xgboost_tuning.joblib.dat\")\n",
        "\n",
        "# Save lightgbm with tunning\n",
        "dump(estimator_lightgbm_tuning, \"estimator_lightgbm_tuning.joblib.dat\")\n"
      ],
      "execution_count": 307,
      "outputs": [
        {
          "output_type": "execute_result",
          "data": {
            "text/plain": [
              "['estimator_lightgbm_tuning.joblib.dat']"
            ]
          },
          "metadata": {
            "tags": []
          },
          "execution_count": 307
        }
      ]
    },
    {
      "cell_type": "markdown",
      "metadata": {
        "id": "pR69Ok_RtZ1P",
        "colab_type": "text"
      },
      "source": [
        "# Feature selection\n",
        "\n",
        "Let's try to select a subset of features and check if with them, the final model can be improved.\n"
      ]
    },
    {
      "cell_type": "markdown",
      "metadata": {
        "id": "SBJC5fn8nRR5",
        "colab_type": "text"
      },
      "source": [
        "**Read models**"
      ]
    },
    {
      "cell_type": "code",
      "metadata": {
        "id": "YNgtm3FSnR1V",
        "colab_type": "code",
        "colab": {
          "base_uri": "https://localhost:8080/",
          "height": 153
        },
        "outputId": "0646edd8-da1f-4ac1-dfb0-82434d43648b"
      },
      "source": [
        "from joblib import load\n",
        "\n",
        "estimator_lightgbm_tuning_loaded = load(\"estimator_lightgbm_tuning.joblib.dat\")\n",
        "estimator_xgboost_tuning_loaded = load(\"estimator_lightgbm_tuning.joblib.dat\")\n",
        "\n",
        "estimator_lightgbm_tuning_loaded"
      ],
      "execution_count": 3,
      "outputs": [
        {
          "output_type": "execute_result",
          "data": {
            "text/plain": [
              "LGBMRegressor(boosting='gbdt', boosting_type='gbdt', class_weight=None,\n",
              "              colsample_bytree=0.6793822406498514, importance_type='split',\n",
              "              learning_rate=0.015794729753865512, max_depth=8,\n",
              "              min_child_samples=20, min_child_weight=0.001, min_split_gain=0.0,\n",
              "              n_estimators=366, n_jobs=-1, num_leaves=15, objective=None,\n",
              "              random_state=41, reg_alpha=0.0, reg_lambda=0.0, silent=True,\n",
              "              subsample=0.6990593712749179, subsample_for_bin=200000,\n",
              "              subsample_freq=0)"
            ]
          },
          "metadata": {
            "tags": []
          },
          "execution_count": 3
        }
      ]
    },
    {
      "cell_type": "markdown",
      "metadata": {
        "id": "KXQQbObBHUjU",
        "colab_type": "text"
      },
      "source": [
        "**Read training features**"
      ]
    },
    {
      "cell_type": "code",
      "metadata": {
        "id": "qWvDjya6GXQz",
        "colab_type": "code",
        "outputId": "296caefb-afce-4ab9-ebeb-14eed3fe7526",
        "colab": {
          "base_uri": "https://localhost:8080/",
          "height": 221
        }
      },
      "source": [
        "train_load = pd.read_csv('train_features.csv')\n",
        "print(len(train_load))\n",
        "X_load_train = train_load.loc[:, train_load.columns != 'score']\n",
        "y_load_train = train_load['score']\n",
        "\n",
        "scaler2 = StandardScaler()\n",
        "scaler2.fit(X_load_train) # This scaler will be used for testing stage too\n",
        "X_load_train_scaled = scaler2.transform(X_load_train)\n",
        "\n",
        "X_load_train.head()"
      ],
      "execution_count": 4,
      "outputs": [
        {
          "output_type": "stream",
          "text": [
            "2234\n"
          ],
          "name": "stdout"
        },
        {
          "output_type": "execute_result",
          "data": {
            "text/plain": [
              "         ps       lch       wup       lin        dp     infer      over  \\\n",
              "0  0.576236  0.478867  0.603125  0.441224  0.944957  0.958609  0.642857   \n",
              "1  0.433333  0.366896  0.444444  0.280471  0.916931  0.946287  0.631579   \n",
              "2  0.423077  0.371224  0.485209  0.043715  0.939007  0.938343  0.500000   \n",
              "3  0.622222  0.355331  0.638889  0.333333  0.950514  0.964189  0.733333   \n",
              "4  0.621759  0.593266  0.727564  0.465101  0.879717  0.913712  0.260870   \n",
              "\n",
              "        uni  \n",
              "0  0.308706  \n",
              "1  0.121527  \n",
              "2  0.044599  \n",
              "3  0.394504  \n",
              "4  0.143134  "
            ],
            "text/html": [
              "<div>\n",
              "<style scoped>\n",
              "    .dataframe tbody tr th:only-of-type {\n",
              "        vertical-align: middle;\n",
              "    }\n",
              "\n",
              "    .dataframe tbody tr th {\n",
              "        vertical-align: top;\n",
              "    }\n",
              "\n",
              "    .dataframe thead th {\n",
              "        text-align: right;\n",
              "    }\n",
              "</style>\n",
              "<table border=\"1\" class=\"dataframe\">\n",
              "  <thead>\n",
              "    <tr style=\"text-align: right;\">\n",
              "      <th></th>\n",
              "      <th>ps</th>\n",
              "      <th>lch</th>\n",
              "      <th>wup</th>\n",
              "      <th>lin</th>\n",
              "      <th>dp</th>\n",
              "      <th>infer</th>\n",
              "      <th>over</th>\n",
              "      <th>uni</th>\n",
              "    </tr>\n",
              "  </thead>\n",
              "  <tbody>\n",
              "    <tr>\n",
              "      <th>0</th>\n",
              "      <td>0.576236</td>\n",
              "      <td>0.478867</td>\n",
              "      <td>0.603125</td>\n",
              "      <td>0.441224</td>\n",
              "      <td>0.944957</td>\n",
              "      <td>0.958609</td>\n",
              "      <td>0.642857</td>\n",
              "      <td>0.308706</td>\n",
              "    </tr>\n",
              "    <tr>\n",
              "      <th>1</th>\n",
              "      <td>0.433333</td>\n",
              "      <td>0.366896</td>\n",
              "      <td>0.444444</td>\n",
              "      <td>0.280471</td>\n",
              "      <td>0.916931</td>\n",
              "      <td>0.946287</td>\n",
              "      <td>0.631579</td>\n",
              "      <td>0.121527</td>\n",
              "    </tr>\n",
              "    <tr>\n",
              "      <th>2</th>\n",
              "      <td>0.423077</td>\n",
              "      <td>0.371224</td>\n",
              "      <td>0.485209</td>\n",
              "      <td>0.043715</td>\n",
              "      <td>0.939007</td>\n",
              "      <td>0.938343</td>\n",
              "      <td>0.500000</td>\n",
              "      <td>0.044599</td>\n",
              "    </tr>\n",
              "    <tr>\n",
              "      <th>3</th>\n",
              "      <td>0.622222</td>\n",
              "      <td>0.355331</td>\n",
              "      <td>0.638889</td>\n",
              "      <td>0.333333</td>\n",
              "      <td>0.950514</td>\n",
              "      <td>0.964189</td>\n",
              "      <td>0.733333</td>\n",
              "      <td>0.394504</td>\n",
              "    </tr>\n",
              "    <tr>\n",
              "      <th>4</th>\n",
              "      <td>0.621759</td>\n",
              "      <td>0.593266</td>\n",
              "      <td>0.727564</td>\n",
              "      <td>0.465101</td>\n",
              "      <td>0.879717</td>\n",
              "      <td>0.913712</td>\n",
              "      <td>0.260870</td>\n",
              "      <td>0.143134</td>\n",
              "    </tr>\n",
              "  </tbody>\n",
              "</table>\n",
              "</div>"
            ]
          },
          "metadata": {
            "tags": []
          },
          "execution_count": 4
        }
      ]
    },
    {
      "cell_type": "markdown",
      "metadata": {
        "id": "aWDn-WDcHYei",
        "colab_type": "text"
      },
      "source": [
        "**Read testing features**"
      ]
    },
    {
      "cell_type": "code",
      "metadata": {
        "id": "zy74hXkgGxzX",
        "colab_type": "code",
        "outputId": "c18fb41d-a12c-4f41-ad52-9f040d9d37c0",
        "colab": {
          "base_uri": "https://localhost:8080/",
          "height": 221
        }
      },
      "source": [
        "test_load = pd.read_csv('test_features.csv')\n",
        "print(len(test_load))\n",
        "X_load_test = test_load.loc[:, test_load.columns != 'score']\n",
        "y_load_test = test_load['score']\n",
        "\n",
        "X_load_test_scaled = scaler2.transform(X_load_test)\n",
        "\n",
        "X_load_test.head()"
      ],
      "execution_count": 5,
      "outputs": [
        {
          "output_type": "stream",
          "text": [
            "3108\n"
          ],
          "name": "stdout"
        },
        {
          "output_type": "execute_result",
          "data": {
            "text/plain": [
              "         ps       lch       wup       lin        dp     infer      over  \\\n",
              "0  0.285233  0.347540  0.340741  0.231831  0.963686  0.964584  0.444444   \n",
              "1  0.506706  0.588826  0.582735  0.392431  0.952877  0.946450  0.333333   \n",
              "2  0.572329  0.505012  0.626161  0.469726  0.947358  0.950543  0.709677   \n",
              "3  0.485281  0.553779  0.538273  0.481043  0.940341  0.942599  0.526316   \n",
              "4  0.293447  0.365735  0.379464  0.334849  0.903658  0.927247  0.421053   \n",
              "\n",
              "        uni  \n",
              "0  0.132304  \n",
              "1 -0.043764  \n",
              "2  0.136746  \n",
              "3  0.083767  \n",
              "4 -0.145027  "
            ],
            "text/html": [
              "<div>\n",
              "<style scoped>\n",
              "    .dataframe tbody tr th:only-of-type {\n",
              "        vertical-align: middle;\n",
              "    }\n",
              "\n",
              "    .dataframe tbody tr th {\n",
              "        vertical-align: top;\n",
              "    }\n",
              "\n",
              "    .dataframe thead th {\n",
              "        text-align: right;\n",
              "    }\n",
              "</style>\n",
              "<table border=\"1\" class=\"dataframe\">\n",
              "  <thead>\n",
              "    <tr style=\"text-align: right;\">\n",
              "      <th></th>\n",
              "      <th>ps</th>\n",
              "      <th>lch</th>\n",
              "      <th>wup</th>\n",
              "      <th>lin</th>\n",
              "      <th>dp</th>\n",
              "      <th>infer</th>\n",
              "      <th>over</th>\n",
              "      <th>uni</th>\n",
              "    </tr>\n",
              "  </thead>\n",
              "  <tbody>\n",
              "    <tr>\n",
              "      <th>0</th>\n",
              "      <td>0.285233</td>\n",
              "      <td>0.347540</td>\n",
              "      <td>0.340741</td>\n",
              "      <td>0.231831</td>\n",
              "      <td>0.963686</td>\n",
              "      <td>0.964584</td>\n",
              "      <td>0.444444</td>\n",
              "      <td>0.132304</td>\n",
              "    </tr>\n",
              "    <tr>\n",
              "      <th>1</th>\n",
              "      <td>0.506706</td>\n",
              "      <td>0.588826</td>\n",
              "      <td>0.582735</td>\n",
              "      <td>0.392431</td>\n",
              "      <td>0.952877</td>\n",
              "      <td>0.946450</td>\n",
              "      <td>0.333333</td>\n",
              "      <td>-0.043764</td>\n",
              "    </tr>\n",
              "    <tr>\n",
              "      <th>2</th>\n",
              "      <td>0.572329</td>\n",
              "      <td>0.505012</td>\n",
              "      <td>0.626161</td>\n",
              "      <td>0.469726</td>\n",
              "      <td>0.947358</td>\n",
              "      <td>0.950543</td>\n",
              "      <td>0.709677</td>\n",
              "      <td>0.136746</td>\n",
              "    </tr>\n",
              "    <tr>\n",
              "      <th>3</th>\n",
              "      <td>0.485281</td>\n",
              "      <td>0.553779</td>\n",
              "      <td>0.538273</td>\n",
              "      <td>0.481043</td>\n",
              "      <td>0.940341</td>\n",
              "      <td>0.942599</td>\n",
              "      <td>0.526316</td>\n",
              "      <td>0.083767</td>\n",
              "    </tr>\n",
              "    <tr>\n",
              "      <th>4</th>\n",
              "      <td>0.293447</td>\n",
              "      <td>0.365735</td>\n",
              "      <td>0.379464</td>\n",
              "      <td>0.334849</td>\n",
              "      <td>0.903658</td>\n",
              "      <td>0.927247</td>\n",
              "      <td>0.421053</td>\n",
              "      <td>-0.145027</td>\n",
              "    </tr>\n",
              "  </tbody>\n",
              "</table>\n",
              "</div>"
            ]
          },
          "metadata": {
            "tags": []
          },
          "execution_count": 5
        }
      ]
    },
    {
      "cell_type": "markdown",
      "metadata": {
        "id": "ebxYevG-GA49",
        "colab_type": "text"
      },
      "source": [
        "**Correlation matrix**"
      ]
    },
    {
      "cell_type": "markdown",
      "metadata": {
        "id": "Gst1_ODNHqj9",
        "colab_type": "text"
      },
      "source": [
        "We have to selection those features that are not correlated and more important. Similarly, remove those highly correlated and less important.\n",
        "\n"
      ]
    },
    {
      "cell_type": "code",
      "metadata": {
        "id": "E_QWnnfvGULv",
        "colab_type": "code",
        "outputId": "4ab32558-05d4-4703-c2d1-686ca86be4df",
        "colab": {
          "base_uri": "https://localhost:8080/",
          "height": 336
        }
      },
      "source": [
        "import seaborn as sns\n",
        "import matplotlib.pyplot as plt\n",
        "\n",
        "f = plt.figure(figsize=(5, 5))\n",
        "corr = X_load_train.corr(method='pearson')\n",
        "\n",
        "plt.title('Numerical features')\n",
        "sns.heatmap(corr, annot=True, cmap=\"YlGnBu\")\n",
        "plt.show();"
      ],
      "execution_count": 6,
      "outputs": [
        {
          "output_type": "display_data",
          "data": {
            "text/plain": [
              "<Figure size 360x360 with 2 Axes>"
            ],
            "image/png": "[encoded data removed]"
          },
          "metadata": {
            "tags": [],
            "needs_background": "light"
          }
        }
      ]
    },
    {
      "cell_type": "code",
      "metadata": {
        "id": "BrPnIbp1H5-S",
        "colab_type": "code",
        "outputId": "a8fe2ea8-a937-42bf-d963-d758dd3acdb6",
        "colab": {
          "base_uri": "https://localhost:8080/",
          "height": 281
        }
      },
      "source": [
        "feats_to_remove = ['wup']\n",
        "X_train_reduced = X_load_train[[c for c in list(X_load_train.columns) \n",
        "                          if c not in feats_to_remove]]\n",
        "corr = X_train_reduced.corr(method='pearson')\n",
        "\n",
        "plt.title('Numerical features')\n",
        "sns.heatmap(corr, annot=True, cmap=\"YlGnBu\")\n",
        "plt.show();"
      ],
      "execution_count": 7,
      "outputs": [
        {
          "output_type": "display_data",
          "data": {
            "text/plain": [
              "<Figure size 432x288 with 2 Axes>"
            ],
            "image/png": "[encoded data removed]"
          },
          "metadata": {
            "tags": [],
            "needs_background": "light"
          }
        }
      ]
    },
    {
      "cell_type": "code",
      "metadata": {
        "id": "sXzQpAGOPryK",
        "colab_type": "code",
        "outputId": "91468437-5097-4d4f-d4c9-ab25fc35683c",
        "colab": {
          "base_uri": "https://localhost:8080/",
          "height": 153
        }
      },
      "source": [
        "X_load_train_reduced_scaled = X_load_train_scaled[:, 1:]\n",
        "\n",
        "estimator_lightgbm_tuning_loaded.fit(X_load_train_reduced_scaled, y_load_train.values )\n",
        "\n"
      ],
      "execution_count": 298,
      "outputs": [
        {
          "output_type": "execute_result",
          "data": {
            "text/plain": [
              "LGBMRegressor(boosting='gbdt', boosting_type='gbdt', class_weight=None,\n",
              "       colsample_bytree=0.6793822406498514, importance_type='split',\n",
              "       learning_rate=0.015794729753865512, max_depth=8,\n",
              "       min_child_samples=20, min_child_weight=0.001, min_split_gain=0.0,\n",
              "       n_estimators=366, n_jobs=-1, num_leaves=15, objective=None,\n",
              "       random_state=41, reg_alpha=0.0, reg_lambda=0.0, silent=True,\n",
              "       subsample=0.6990593712749179, subsample_for_bin=200000,\n",
              "       subsample_freq=0)"
            ]
          },
          "metadata": {
            "tags": []
          },
          "execution_count": 298
        }
      ]
    },
    {
      "cell_type": "code",
      "metadata": {
        "id": "vi_dpFbd2ZYq",
        "colab_type": "code",
        "outputId": "f2afa8a8-02ba-4bfe-f997-afa506435b67",
        "colab": {
          "base_uri": "https://localhost:8080/",
          "height": 34
        }
      },
      "source": [
        "X_load_test_reduced_scaled = X_load_test_scaled[:, 1:]\n",
        "y_pred2 = estimator_lightgbm_tuning_loaded.predict(X_load_test_reduced_scaled)\n",
        "\n",
        "\n",
        "print(f'Pearson correlation: {pearsonr(y_load_test.values, y_pred2)[0]}')"
      ],
      "execution_count": 299,
      "outputs": [
        {
          "output_type": "stream",
          "text": [
            "Pearson correlation: 0.755302792152225\n"
          ],
          "name": "stdout"
        }
      ]
    },
    {
      "cell_type": "markdown",
      "metadata": {
        "id": "5PLCOuKtr4HX",
        "colab_type": "text"
      },
      "source": [
        "The selection did not improve the overall score, due to the lack of features (only 8)."
      ]
    },
    {
      "cell_type": "markdown",
      "metadata": {
        "id": "6xJ9UJQL2F7e",
        "colab_type": "text"
      },
      "source": [
        "## Boruta\n",
        "\n",
        "Let's confirm the selection with boruta. It says that all the features have to be kept\n",
        "\n",
        "Reference:\n",
        "\n",
        "https://github.com/scikit-learn-contrib/boruta_py"
      ]
    },
    {
      "cell_type": "code",
      "metadata": {
        "id": "5Nhr8pEZ1sE2",
        "colab_type": "code",
        "colab": {
          "base_uri": "https://localhost:8080/",
          "height": 306
        },
        "outputId": "6f466376-ec6b-4105-c6e6-507a6e9fd6c4"
      },
      "source": [
        "from boruta import BorutaPy\n",
        " \n",
        "seed = 41\n",
        "# Random Forests for Boruta \n",
        "rf_boruta = RandomForestRegressor(n_jobs=-1, random_state=seed)\n",
        "# Perform Boruta\n",
        "boruta = BorutaPy(rf_boruta, n_estimators='auto', verbose=1)\n",
        "boruta.fit(X_load_train_scaled, y_load_train)\n",
        " \n",
        "boruta.support_"
      ],
      "execution_count": 62,
      "outputs": [
        {
          "output_type": "stream",
          "text": [
            "Iteration: 1 / 100\n",
            "Iteration: 2 / 100\n",
            "Iteration: 3 / 100\n",
            "Iteration: 4 / 100\n",
            "Iteration: 5 / 100\n",
            "Iteration: 6 / 100\n",
            "Iteration: 7 / 100\n",
            "Iteration: 8 / 100\n",
            "\n",
            "\n",
            "BorutaPy finished running.\n",
            "\n",
            "Iteration: \t9 / 100\n",
            "Confirmed: \t8\n",
            "Tentative: \t0\n",
            "Rejected: \t0\n"
          ],
          "name": "stdout"
        },
        {
          "output_type": "execute_result",
          "data": {
            "text/plain": [
              "array([ True,  True,  True,  True,  True,  True,  True,  True])"
            ]
          },
          "metadata": {
            "tags": []
          },
          "execution_count": 62
        }
      ]
    },
    {
      "cell_type": "markdown",
      "metadata": {
        "id": "uQ55YqPaNP0M",
        "colab_type": "text"
      },
      "source": [
        "## Stacking and Blending\n",
        "\n",
        "In this section we will stack the best two models to see if both joined model can outperforme them individually. Then, we will blend the predictions of this stacked estimator (blending) to create a new feature, then evaluate again."
      ]
    },
    {
      "cell_type": "markdown",
      "metadata": {
        "id": "38UpNVSZ3LXJ",
        "colab_type": "text"
      },
      "source": [
        "**Stacking**"
      ]
    },
    {
      "cell_type": "code",
      "metadata": {
        "id": "KjGr7wk4tHe4",
        "colab_type": "code",
        "colab": {}
      },
      "source": [
        "from sklearn.ensemble import StackingRegressor\n",
        "from sklearn.ensemble import RandomForestRegressor\n",
        "from sklearn.experimental import enable_hist_gradient_boosting  # noqa\n",
        "from sklearn.ensemble import HistGradientBoostingRegressor\n",
        "from sklearn.linear_model import LassoCV\n",
        "from sklearn.linear_model import RidgeCV, RANSACRegressor\n",
        "from sklearn.svm import SVR\n",
        "\n",
        "# estimators = [\n",
        "#     ('Random Forest', RandomForestRegressor(random_state=42)),\n",
        "#     ('Lasso', LassoCV()),\n",
        "#     ('Gradient Boosting', HistGradientBoostingRegressor(random_state=0))\n",
        "# ]\n",
        "estimators = [\n",
        "    ('XGBoost', estimator_xgboost_tuning_loaded),\n",
        "    ('LightGBM', estimator_lightgbm_tuning_loaded,\n",
        "    ('Lasso', RANSACRegressor()))\n",
        "]\n",
        "stacking_regressor = StackingRegressor(\n",
        "    estimators=estimators, final_estimator=RidgeCV()\n",
        ")"
      ],
      "execution_count": 0,
      "outputs": []
    },
    {
      "cell_type": "code",
      "metadata": {
        "id": "F1k4a_W7xs-7",
        "colab_type": "code",
        "colab": {
          "base_uri": "https://localhost:8080/",
          "height": 34
        },
        "outputId": "29d9826d-8e51-4079-c334-a094f8bb9890"
      },
      "source": [
        "stacking_regressor.fit(X_load_train_scaled, y_load_train)\n",
        "y_pred_stacking = stacking_regressor.predict(X_load_test_scaled)\n",
        "\n",
        "print(f'Pearson correlation: {pearsonr(y_load_test.values, y_pred_stacking)[0]}')"
      ],
      "execution_count": 87,
      "outputs": [
        {
          "output_type": "stream",
          "text": [
            "Pearson correlation: 0.7593424434753651\n"
          ],
          "name": "stdout"
        }
      ]
    },
    {
      "cell_type": "markdown",
      "metadata": {
        "id": "5nXXvt0o3O4P",
        "colab_type": "text"
      },
      "source": [
        "**Blending**\n",
        "\n",
        "Added a new feature from the predictions of the stacked model, did not help. It overfitted the model."
      ]
    },
    {
      "cell_type": "code",
      "metadata": {
        "id": "4YrFUWDx4EhL",
        "colab_type": "code",
        "colab": {}
      },
      "source": [
        "blend_train = stacking_regressor.predict(X_load_train_scaled)\n",
        "blend_test = stacking_regressor.predict(X_load_test_scaled)"
      ],
      "execution_count": 0,
      "outputs": []
    },
    {
      "cell_type": "code",
      "metadata": {
        "id": "HSTqH6nz0L4e",
        "colab_type": "code",
        "colab": {}
      },
      "source": [
        "X_train_blend = np.column_stack((X_load_train_scaled, blend_train))\n",
        "X_test_blend = np.column_stack((X_load_test_scaled, blend_test))"
      ],
      "execution_count": 0,
      "outputs": []
    },
    {
      "cell_type": "code",
      "metadata": {
        "id": "XmHoyx4t47z2",
        "colab_type": "code",
        "colab": {
          "base_uri": "https://localhost:8080/",
          "height": 34
        },
        "outputId": "b65f9ed3-6491-41f9-9b94-2df3a394ecea"
      },
      "source": [
        "# Fit model\n",
        "stacking_regressor.fit(X_train_blend, y_load_train)\n",
        "\n",
        "# Predict\n",
        "y_pred_final = stacking_regressor.predict(X_test_blend)\n",
        "\n",
        "print(f'Pearson correlation: {pearsonr(y_load_test.values, y_pred_final)[0]}')"
      ],
      "execution_count": 90,
      "outputs": [
        {
          "output_type": "stream",
          "text": [
            "Pearson correlation: 0.7476401538226516\n"
          ],
          "name": "stdout"
        }
      ]
    },
    {
      "cell_type": "markdown",
      "metadata": {
        "colab_type": "text",
        "id": "IiSEbuGzDVVl"
      },
      "source": [
        "# Conclusions\n",
        "\n",
        "\n",
        "\n",
        "\n",
        "\n"
      ]
    },
    {
      "cell_type": "markdown",
      "metadata": {
        "id": "sC1ywMXm6lL9",
        "colab_type": "text"
      },
      "source": [
        "- Final pearson score (stacked model): **0.759342**\n",
        "- "
      ]
    },
    {
      "cell_type": "code",
      "metadata": {
        "id": "PBS1DL5Y8HQr",
        "colab_type": "code",
        "colab": {}
      },
      "source": [
        ""
      ],
      "execution_count": 0,
      "outputs": []
    }
  ]
}