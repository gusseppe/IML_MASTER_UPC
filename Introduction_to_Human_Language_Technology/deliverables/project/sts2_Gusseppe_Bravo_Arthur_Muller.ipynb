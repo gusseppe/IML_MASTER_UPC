{
  "nbformat": 4,
  "nbformat_minor": 0,
  "metadata": {
    "colab": {
      "name": "sts2_Gusseppe_Bravo_Arthur_Muller.ipynb",
      "provenance": [],
      "collapsed_sections": [],
      "toc_visible": true
    },
    "kernelspec": {
      "display_name": "Python 3",
      "language": "python",
      "name": "python3"
    },
    "language_info": {
      "codemirror_mode": {
        "name": "ipython",
        "version": 3
      },
      "file_extension": ".py",
      "mimetype": "text/x-python",
      "name": "python",
      "nbconvert_exporter": "python",
      "pygments_lexer": "ipython3",
      "version": "3.7.3"
    }
  },
  "cells": [
    {
      "cell_type": "markdown",
      "metadata": {
        "colab_type": "text",
        "id": "7zVU-eQKO_B1"
      },
      "source": [
        "# Project: Semantic Textual Similarity\n",
        "\n",
        "\n"
      ]
    },
    {
      "cell_type": "markdown",
      "metadata": {
        "colab_type": "text",
        "id": "joIJ7lxQs0Fx"
      },
      "source": [
        "### Mandatory project\n",
        "\n",
        "https://gebakx.github.io/ihlt/sts/index.html#5\n",
        "\n",
        "**Statement:**\n",
        "\n",
        "- Use data set and description of task Semantic Textual Similarity in SemEval 2012.\n",
        "\n",
        "- Implement some approaches to detect paraphrase using sentence similarity metrics.\n",
        "\n",
        "  - Explore some lexical dimensions.\n",
        "  - Explore the syntactic dimension alone.\n",
        "  - Explore the combination of both previous.\n",
        "\n",
        "- Add new components at your choice (optional)\n",
        "\n",
        "- Compare and comment the results achieved by these approaches among them and among the official results.\n",
        "\n",
        "- Send files to raco in IHLT STS Project before the oral presentation:\n",
        "\n",
        "  - Jupyter notebook: sts-[Student1]-[Student2].ipynb\n",
        "\n",
        "  - Slides: sts-[Student1]-[Student2].pdf\n"
      ]
    },
    {
      "cell_type": "markdown",
      "metadata": {
        "id": "i8_n8gTT1cb2",
        "colab_type": "text"
      },
      "source": [
        "## Download repository"
      ]
    },
    {
      "cell_type": "code",
      "metadata": {
        "id": "iXyABNuJ1fg-",
        "colab_type": "code",
        "colab": {}
      },
      "source": [
        "!git clone https://github.com/gusseppe/master_artificial_intelligence\n",
        "!cp -r /content/master_artificial_intelligence/Introduction_to_Human_Language_Technology/deliverables/project/* ."
      ],
      "execution_count": 0,
      "outputs": []
    },
    {
      "cell_type": "markdown",
      "metadata": {
        "id": "rXBW4uzg2ACC",
        "colab_type": "text"
      },
      "source": [
        "## Install requirements"
      ]
    },
    {
      "cell_type": "code",
      "metadata": {
        "id": "zUtpYjdC2FFN",
        "colab_type": "code",
        "colab": {}
      },
      "source": [
        "!head -n 10 requirements.txt"
      ],
      "execution_count": 0,
      "outputs": []
    },
    {
      "cell_type": "code",
      "metadata": {
        "id": "PaOTuaO01_Qv",
        "colab_type": "code",
        "colab": {}
      },
      "source": [
        "!pip install -r requirements.txt"
      ],
      "execution_count": 0,
      "outputs": []
    },
    {
      "cell_type": "markdown",
      "metadata": {
        "colab_type": "text",
        "id": "siyhifONwI5j"
      },
      "source": [
        "## Third Requirements libraries"
      ]
    },
    {
      "cell_type": "code",
      "metadata": {
        "colab_type": "code",
        "id": "cNBxaXFBwMSr",
        "colab": {
          "base_uri": "https://localhost:8080/",
          "height": 428
        },
        "outputId": "73a5e7b1-e314-4403-e3d3-00e0d4094e59"
      },
      "source": [
        "import tarfile\n",
        "import nltk\n",
        "import pandas as pd\n",
        "import numpy as np\n",
        "import time\n",
        "import torch\n",
        "import torch.nn as nn\n",
        "import csv\n",
        "\n",
        "from nltk import CFG, ChartParser\n",
        "from nltk.book import FreqDist\n",
        "from nltk.corpus import wordnet\n",
        "from nltk.stem import WordNetLemmatizer\n",
        "from scipy.stats import pearsonr\n",
        "from nltk.wsd import lesk\n",
        "from nltk.corpus import wordnet_ic\n",
        "from nltk.corpus import wordnet\n",
        "from nltk.stem import WordNetLemmatizer\n",
        "from nltk.corpus import stopwords\n",
        "from string import punctuation\n",
        "from nltk.corpus import wordnet as wn\n",
        "from scipy import spatial\n",
        "from sklearn.preprocessing import StandardScaler\n",
        "# nltk.download() # 1. d | 2. book | 3. q\n",
        "nltk.download('wordnet')\n",
        "nltk.download('maxent_ne_chunker')\n",
        "nltk.download('conll2000')\n"
      ],
      "execution_count": 2,
      "outputs": [
        {
          "output_type": "stream",
          "text": [
            "/home/guess/anaconda3/lib/python3.7/site-packages/sklearn/feature_extraction/text.py:17: DeprecationWarning: Using or importing the ABCs from 'collections' instead of from 'collections.abc' is deprecated, and in 3.8 it will stop working\n",
            "  from collections import Mapping, defaultdict\n"
          ],
          "name": "stderr"
        },
        {
          "output_type": "stream",
          "text": [
            "*** Introductory Examples for the NLTK Book ***\n",
            "Loading text1, ..., text9 and sent1, ..., sent9\n",
            "Type the name of the text or sentence to view it.\n",
            "Type: 'texts()' or 'sents()' to list the materials.\n",
            "text1: Moby Dick by Herman Melville 1851\n",
            "text2: Sense and Sensibility by Jane Austen 1811\n",
            "text3: The Book of Genesis\n",
            "text4: Inaugural Address Corpus\n",
            "text5: Chat Corpus\n",
            "text6: Monty Python and the Holy Grail\n",
            "text7: Wall Street Journal\n",
            "text8: Personals Corpus\n",
            "text9: The Man Who Was Thursday by G . K . Chesterton 1908\n"
          ],
          "name": "stdout"
        },
        {
          "output_type": "stream",
          "text": [
            "[nltk_data] Downloading package wordnet to /home/guess/nltk_data...\n",
            "[nltk_data]   Package wordnet is already up-to-date!\n",
            "[nltk_data] Downloading package maxent_ne_chunker to\n",
            "[nltk_data]     /home/guess/nltk_data...\n",
            "[nltk_data]   Package maxent_ne_chunker is already up-to-date!\n",
            "[nltk_data] Downloading package conll2000 to /home/guess/nltk_data...\n",
            "[nltk_data]   Package conll2000 is already up-to-date!\n"
          ],
          "name": "stderr"
        },
        {
          "output_type": "execute_result",
          "data": {
            "text/plain": [
              "True"
            ]
          },
          "metadata": {
            "tags": []
          },
          "execution_count": 2
        }
      ]
    },
    {
      "cell_type": "markdown",
      "metadata": {
        "id": "QrahOHSLdPHs",
        "colab_type": "text"
      },
      "source": [
        "## Download models\n",
        "\n",
        "These models will be usefull for mapping words into real vectors. Instead of calculating cosine distance after applying some methods (lcs distance, wsd, depency trees, etc.), embeddings will take place. Models:\n",
        "\n",
        "- Fast word2vec\n",
        "- Inferset facebook\n",
        "\n",
        "\n",
        "First, download Fast word2vec and unzip:\n",
        "\n",
        "https://fasttext.cc/docs/en/english-vectors.html\n",
        "\n",
        "Second, download Inferset (model 2) and unzip:\n",
        "\n",
        "https://drive.google.com/file/d/1sfIlbc8C5k_CujTF7UrtW_2lvNIH-EhW/view?usp=sharing\n",
        "\n",
        "\n",
        "\n",
        "References:\n",
        "\n",
        "- Snippet: https://github.com/facebookresearch/InferSent/blob/master/demo.ipynb\n"
      ]
    },
    {
      "cell_type": "markdown",
      "metadata": {
        "id": "fidkT8_LeyPD",
        "colab_type": "text"
      },
      "source": [
        "## Load models\n",
        "\n",
        "Once downloaded the required files, put those models in 'models_repo' folder.\n",
        "\n",
        "\n",
        "1. Load Inferset model (custom model).\n",
        "2. Load fasttext word2vec embedding parsing.\n"
      ]
    },
    {
      "cell_type": "code",
      "metadata": {
        "colab_type": "code",
        "id": "pgUPMfLDR36I",
        "outputId": "da291e5b-74b3-4338-f78c-cbc7c6bd0d76",
        "colab": {
          "base_uri": "https://localhost:8080/",
          "height": 68
        }
      },
      "source": [
        "%%time\n",
        "\n",
        "# !curl -Lo models/glove.840B.300d.zip http://nlp.stanford.edu/data/glove.840B.300d.zip\n",
        "\n",
        "from infersent import InferSent\n",
        "\n",
        "model_version = 2\n",
        "MODEL_PATH = f'./models_repo/infersent{model_version}.pkl'\n",
        "# W2V_PATH = './models_repo/glove.840B.300d.txt' # GloVe\n",
        "W2V_PATH = './models_repo/crawl-300d-2M.vec' # fastText\n",
        "params_model = {'bsize': 64, 'word_emb_dim': 300, 'enc_lstm_dim': 2048,\n",
        "                'pool_type': 'max', 'dpout_model': 0.0, 'version': model_version}\n",
        "\n",
        "model_senteval = InferSent(params_model)\n",
        "model_senteval.load_state_dict(torch.load(MODEL_PATH))\n",
        "model_senteval.set_w2v_path(W2V_PATH)\n",
        "model_senteval.build_vocab_k_words(K=100000)"
      ],
      "execution_count": 2,
      "outputs": [
        {
          "output_type": "stream",
          "text": [
            "Vocab size : 100000\n",
            "CPU times: user 4.94 s, sys: 552 ms, total: 5.5 s\n",
            "Wall time: 5.6 s\n"
          ],
          "name": "stdout"
        }
      ]
    },
    {
      "cell_type": "markdown",
      "metadata": {
        "colab_type": "text",
        "id": "t7Edp8t-8zJs"
      },
      "source": [
        "# Exploratory Data Analysis"
      ]
    },
    {
      "cell_type": "markdown",
      "metadata": {
        "colab_type": "text",
        "id": "HPG5VQQFpS6Q"
      },
      "source": [
        "## Download train/test sets\n"
      ]
    },
    {
      "cell_type": "code",
      "metadata": {
        "colab_type": "code",
        "id": "Y4JCsESbZy2R",
        "outputId": "4891185d-a34a-4d51-abe4-e8ecaff93de9",
        "colab": {
          "base_uri": "https://localhost:8080/",
          "height": 170
        }
      },
      "source": [
        "url_train = 'https://www.cs.york.ac.uk/semeval-2012/task6/data/uploads/datasets/train.tgz'\n",
        "url_test = 'https://www.cs.york.ac.uk/semeval-2012/task6/data/uploads/datasets/test-gold.tgz'\n",
        "\n",
        "!wget -q $url_train\n",
        "!wget -q $url_test\n",
        "\n",
        "with tarfile.open('train.tgz', \"r:gz\") as tar:\n",
        "  tar.extractall()\n",
        "with tarfile.open('test-gold.tgz', \"r:gz\") as tar:\n",
        "  tar.extractall()\n",
        "\n",
        "!echo 'Training' && ls train && echo '\\nTesting' && ls test-gold"
      ],
      "execution_count": 0,
      "outputs": [
        {
          "output_type": "stream",
          "text": [
            "Training\r\n",
            "00-readme.txt\t   STS.gs.MSRvid.txt\t   STS.input.MSRvid.txt\r\n",
            "correlation.pl\t   STS.gs.SMTeuroparl.txt  STS.input.SMTeuroparl.txt\r\n",
            "STS.gs.MSRpar.txt  STS.input.MSRpar.txt    STS.output.MSRpar.txt\r\n",
            "\\nTesting\r\n",
            "00-readme.txt\t   STS.gs.SMTeuroparl.txt\tSTS.input.MSRvid.txt\r\n",
            "STS.gs.ALL.txt\t   STS.gs.surprise.OnWN.txt\tSTS.input.SMTeuroparl.txt\r\n",
            "STS.gs.MSRpar.txt  STS.gs.surprise.SMTnews.txt\tSTS.input.surprise.OnWN.txt\r\n",
            "STS.gs.MSRvid.txt  STS.input.MSRpar.txt\t\tSTS.input.surprise.SMTnews.txt\r\n"
          ],
          "name": "stdout"
        }
      ]
    },
    {
      "cell_type": "markdown",
      "metadata": {
        "colab_type": "text",
        "id": "ji9wY0Ur88FA"
      },
      "source": [
        "## Read and gather metadata"
      ]
    },
    {
      "cell_type": "markdown",
      "metadata": {
        "colab_type": "text",
        "id": "x6vhNkQ-z_Vx"
      },
      "source": [
        "Let's begin working with **MSRvid** data set\n",
        "\n",
        "Let's load all the training data."
      ]
    },
    {
      "cell_type": "code",
      "metadata": {
        "id": "_7IHVT7R20Ys",
        "colab_type": "code",
        "colab": {}
      },
      "source": [
        "test_sents1 = pd.read_csv('test-gold/STS.input.MSRpar.txt', \n",
        "                          sep='\\t',\n",
        "                          quoting=csv.QUOTE_NONE, # some lines contain quotes\n",
        "                          names=['sent1', 'sent2']\n",
        "                          )\n",
        "test_sents2 = pd.read_csv('test-gold/STS.input.MSRvid.txt', \n",
        "                          sep='\\t', names=['sent1', 'sent2'])\n",
        "test_sents3 = pd.read_csv('test-gold/STS.input.SMTeuroparl.txt',\n",
        "                          sep='\\t', names=['sent1', 'sent2'])\n",
        "test_sents4 = pd.read_csv('test-gold/STS.input.surprise.OnWN.txt', \n",
        "                          sep='\\t', names=['sent1', 'sent2'])\n",
        "test_sents5 = pd.read_csv('test-gold/STS.input.surprise.SMTnews.txt', \n",
        "                          sep='\\t', names=['sent1', 'sent2'])"
      ],
      "execution_count": 0,
      "outputs": []
    },
    {
      "cell_type": "code",
      "metadata": {
        "id": "DE2_9gcu3HLP",
        "colab_type": "code",
        "colab": {
          "base_uri": "https://localhost:8080/",
          "height": 221
        },
        "outputId": "8caaccb7-9172-427a-887a-81eae1773ebb"
      },
      "source": [
        "# Training data\n",
        "fnames_train = ['MSRpar', 'MSRvid', \n",
        "             'SMTeuroparl']\n",
        "_train_sents = [pd.read_csv(f'train/STS.input.{f}.txt',\n",
        "                           sep='\\t', quoting=csv.QUOTE_NONE,\n",
        "                           names=['sent1', 'sent2']) for f in fnames_train]\n",
        "train_sents = pd.concat(_train_sents, axis=0, ignore_index=True)\n",
        "_train_label = [pd.read_csv(f'train/STS.gs.{f}.txt',\n",
        "                           names=['score']) for f in fnames_train]\n",
        "train_label = pd.concat(_train_label, axis=0, ignore_index=True)\n",
        "train_data = pd.concat([train_sents, train_label], axis=1)\n",
        "\n",
        "# Testing data\n",
        "fnames_test = fnames_train + ['surprise.OnWN', 'surprise.SMTnews']\n",
        "_test_sents = [pd.read_csv(f'test-gold/STS.input.{f}.txt',\n",
        "                           sep='\\t', quoting=csv.QUOTE_NONE,\n",
        "                           names=['sent1', 'sent2']) for f in fnames_test]\n",
        "test_sents = pd.concat(_test_sents, axis=0, ignore_index=True)\n",
        "_test_label = [pd.read_csv(f'test-gold/STS.gs.{f}.txt',\n",
        "                           names=['score']) for f in fnames_test]\n",
        "test_label = pd.concat(_test_label, axis=0, ignore_index=True)\n",
        "test_data = pd.concat([test_sents, test_label], axis=1)\n",
        "\n",
        "\n",
        "print(f' Train data set: ({len(train_data)}, {len(train_data.columns)})')\n",
        "train_data.head()\n"
      ],
      "execution_count": 124,
      "outputs": [
        {
          "output_type": "stream",
          "text": [
            " Train data set: (2234, 3)\n"
          ],
          "name": "stdout"
        },
        {
          "output_type": "execute_result",
          "data": {
            "text/plain": [
              "                                               sent1  \\\n",
              "0  But other sources close to the sale said Viven...   \n",
              "1  Micron has declared its first quarterly profit...   \n",
              "2  The fines are part of failed Republican effort...   \n",
              "3  The American Anglican Council, which represent...   \n",
              "4  The tech-loaded Nasdaq composite rose 20.96 po...   \n",
              "\n",
              "                                               sent2  score  \n",
              "0  But other sources close to the sale said Viven...   4.00  \n",
              "1  Micron's numbers also marked the first quarter...   3.75  \n",
              "2  Perry said he backs the Senate's efforts, incl...   2.80  \n",
              "3  The American Anglican Council, which represent...   3.40  \n",
              "4  The technology-laced Nasdaq Composite Index <....   2.40  "
            ],
            "text/html": [
              "<div>\n",
              "<style scoped>\n",
              "    .dataframe tbody tr th:only-of-type {\n",
              "        vertical-align: middle;\n",
              "    }\n",
              "\n",
              "    .dataframe tbody tr th {\n",
              "        vertical-align: top;\n",
              "    }\n",
              "\n",
              "    .dataframe thead th {\n",
              "        text-align: right;\n",
              "    }\n",
              "</style>\n",
              "<table border=\"1\" class=\"dataframe\">\n",
              "  <thead>\n",
              "    <tr style=\"text-align: right;\">\n",
              "      <th></th>\n",
              "      <th>sent1</th>\n",
              "      <th>sent2</th>\n",
              "      <th>score</th>\n",
              "    </tr>\n",
              "  </thead>\n",
              "  <tbody>\n",
              "    <tr>\n",
              "      <th>0</th>\n",
              "      <td>But other sources close to the sale said Viven...</td>\n",
              "      <td>But other sources close to the sale said Viven...</td>\n",
              "      <td>4.00</td>\n",
              "    </tr>\n",
              "    <tr>\n",
              "      <th>1</th>\n",
              "      <td>Micron has declared its first quarterly profit...</td>\n",
              "      <td>Micron's numbers also marked the first quarter...</td>\n",
              "      <td>3.75</td>\n",
              "    </tr>\n",
              "    <tr>\n",
              "      <th>2</th>\n",
              "      <td>The fines are part of failed Republican effort...</td>\n",
              "      <td>Perry said he backs the Senate's efforts, incl...</td>\n",
              "      <td>2.80</td>\n",
              "    </tr>\n",
              "    <tr>\n",
              "      <th>3</th>\n",
              "      <td>The American Anglican Council, which represent...</td>\n",
              "      <td>The American Anglican Council, which represent...</td>\n",
              "      <td>3.40</td>\n",
              "    </tr>\n",
              "    <tr>\n",
              "      <th>4</th>\n",
              "      <td>The tech-loaded Nasdaq composite rose 20.96 po...</td>\n",
              "      <td>The technology-laced Nasdaq Composite Index &lt;....</td>\n",
              "      <td>2.40</td>\n",
              "    </tr>\n",
              "  </tbody>\n",
              "</table>\n",
              "</div>"
            ]
          },
          "metadata": {
            "tags": []
          },
          "execution_count": 124
        }
      ]
    },
    {
      "cell_type": "code",
      "metadata": {
        "id": "1BcdgWpn8nez",
        "colab_type": "code",
        "colab": {
          "base_uri": "https://localhost:8080/",
          "height": 221
        },
        "outputId": "58a504d8-2fd8-4c16-bd3a-677ba76328db"
      },
      "source": [
        "print(f' Test data set: ({len(test_data)}, {len(test_data.columns)})')\n",
        "test_data.head()\n"
      ],
      "execution_count": 126,
      "outputs": [
        {
          "output_type": "stream",
          "text": [
            " Test data set: (3108, 3)\n"
          ],
          "name": "stdout"
        },
        {
          "output_type": "execute_result",
          "data": {
            "text/plain": [
              "                                               sent1  \\\n",
              "0  The problem likely will mean corrective change...   \n",
              "1  The technology-laced Nasdaq Composite Index .I...   \n",
              "2  \"It's a huge black eye,\" said publisher Arthur...   \n",
              "3  SEC Chairman William Donaldson said there is a...   \n",
              "4  Vivendi shares closed 1.9 percent at 15.80 eur...   \n",
              "\n",
              "                                               sent2  score  \n",
              "0  He said the problem needs to be corrected befo...    4.4  \n",
              "1  The broad Standard & Poor's 500 Index .SPX inc...    0.8  \n",
              "2  \"It's a huge black eye,\" Arthur Sulzberger, th...    3.6  \n",
              "3  \"I think there's a building confidence that th...    3.4  \n",
              "4  In New York, Vivendi shares were 1.4 percent d...    1.4  "
            ],
            "text/html": [
              "<div>\n",
              "<style scoped>\n",
              "    .dataframe tbody tr th:only-of-type {\n",
              "        vertical-align: middle;\n",
              "    }\n",
              "\n",
              "    .dataframe tbody tr th {\n",
              "        vertical-align: top;\n",
              "    }\n",
              "\n",
              "    .dataframe thead th {\n",
              "        text-align: right;\n",
              "    }\n",
              "</style>\n",
              "<table border=\"1\" class=\"dataframe\">\n",
              "  <thead>\n",
              "    <tr style=\"text-align: right;\">\n",
              "      <th></th>\n",
              "      <th>sent1</th>\n",
              "      <th>sent2</th>\n",
              "      <th>score</th>\n",
              "    </tr>\n",
              "  </thead>\n",
              "  <tbody>\n",
              "    <tr>\n",
              "      <th>0</th>\n",
              "      <td>The problem likely will mean corrective change...</td>\n",
              "      <td>He said the problem needs to be corrected befo...</td>\n",
              "      <td>4.4</td>\n",
              "    </tr>\n",
              "    <tr>\n",
              "      <th>1</th>\n",
              "      <td>The technology-laced Nasdaq Composite Index .I...</td>\n",
              "      <td>The broad Standard &amp; Poor's 500 Index .SPX inc...</td>\n",
              "      <td>0.8</td>\n",
              "    </tr>\n",
              "    <tr>\n",
              "      <th>2</th>\n",
              "      <td>\"It's a huge black eye,\" said publisher Arthur...</td>\n",
              "      <td>\"It's a huge black eye,\" Arthur Sulzberger, th...</td>\n",
              "      <td>3.6</td>\n",
              "    </tr>\n",
              "    <tr>\n",
              "      <th>3</th>\n",
              "      <td>SEC Chairman William Donaldson said there is a...</td>\n",
              "      <td>\"I think there's a building confidence that th...</td>\n",
              "      <td>3.4</td>\n",
              "    </tr>\n",
              "    <tr>\n",
              "      <th>4</th>\n",
              "      <td>Vivendi shares closed 1.9 percent at 15.80 eur...</td>\n",
              "      <td>In New York, Vivendi shares were 1.4 percent d...</td>\n",
              "      <td>1.4</td>\n",
              "    </tr>\n",
              "  </tbody>\n",
              "</table>\n",
              "</div>"
            ]
          },
          "metadata": {
            "tags": []
          },
          "execution_count": 126
        }
      ]
    },
    {
      "cell_type": "code",
      "metadata": {
        "colab_type": "code",
        "id": "ezCyFHPDuror",
        "colab": {}
      },
      "source": [
        "# train_sents1 = pd.read_csv('train/STS.input.MSRvid.txt', \n",
        "#                            sep='\\t', names=['sent1', 'sent2'])\n",
        "# train_label = pd.read_csv('train/STS.gs.MSRvid.txt', names=['score'])\n",
        "# train_data = pd.concat([train_sents, train_label], axis=1)\n",
        "\n",
        "# test_sents = pd.read_csv('test-gold/STS.input.MSRvid.txt', sep='\\t', names=['sent1', 'sent2'])\n",
        "# test_label = pd.read_csv('test-gold/STS.gs.MSRvid.txt', names=['score'])\n",
        "# test_data = pd.concat([test_sents, test_label], axis=1)\n",
        "\n",
        "\n",
        "# print(f' Train data set: ({len(train_data)}, {len(train_data.columns)})')\n",
        "# train_data.head()"
      ],
      "execution_count": 0,
      "outputs": []
    },
    {
      "cell_type": "markdown",
      "metadata": {
        "colab_type": "text",
        "id": "lagd7mZjEY7i"
      },
      "source": [
        "**Check frequency of tokens**\n",
        "\n",
        "As shown in the result we should deal with stopwords as well as punctuations.\n"
      ]
    },
    {
      "cell_type": "code",
      "metadata": {
        "colab_type": "code",
        "id": "SThktq12Ct69",
        "outputId": "65c74cb7-b283-45f7-e6b0-1122ef221896",
        "colab": {
          "base_uri": "https://localhost:8080/",
          "height": 85
        }
      },
      "source": [
        "sent1_tokens = train_data['sent1'].apply(nltk.word_tokenize).values\n",
        "sent2_tokens = train_data['sent2'].apply(nltk.word_tokenize).values\n",
        "\n",
        "freq_sent1 = FreqDist(np.concatenate(sent1_tokens).ravel())\n",
        "freq_sent2 = FreqDist(np.concatenate(sent2_tokens).ravel())\n",
        "\n",
        "print(f'Sentence 1:')\n",
        "print(freq_sent1.most_common()[:6])\n",
        "\n",
        "print(f'Sentence 2:')\n",
        "print(freq_sent2.most_common()[:6])"
      ],
      "execution_count": 127,
      "outputs": [
        {
          "output_type": "stream",
          "text": [
            "Sentence 1:\n",
            "[('the', 2297), ('.', 2209), (',', 1828), ('of', 1250), ('a', 1216), ('to', 1065)]\n",
            "Sentence 2:\n",
            "[('the', 2501), ('.', 2227), (',', 1868), ('of', 1322), ('a', 1181), ('to', 1116)]\n"
          ],
          "name": "stdout"
        }
      ]
    },
    {
      "cell_type": "code",
      "metadata": {
        "colab_type": "code",
        "id": "bTJpNLp-B50b",
        "outputId": "ebfa7bff-6ee7-4142-feae-2704cb574bd1",
        "colab": {
          "base_uri": "https://localhost:8080/",
          "height": 85
        }
      },
      "source": [
        "train_data.dtypes"
      ],
      "execution_count": 0,
      "outputs": [
        {
          "output_type": "execute_result",
          "data": {
            "text/plain": [
              "sent1     object\n",
              "sent2     object\n",
              "score    float64\n",
              "dtype: object"
            ]
          },
          "metadata": {
            "tags": []
          },
          "execution_count": 61
        }
      ]
    },
    {
      "cell_type": "markdown",
      "metadata": {
        "colab_type": "text",
        "id": "6t85Q-kW4kln"
      },
      "source": [
        "## Preprocessing\n",
        "\n",
        "- Cast sentences as type string.\n",
        "- Deal with stopwords and puntuations.\n",
        "- Tokenize the sentences.\n",
        "- Tag each word as a Part of speech (POS).\n",
        "- Lemmatize each word into its root but with sense (different than stemming).\n",
        "- Extract WordNet synsets, if necessary.\n"
      ]
    },
    {
      "cell_type": "markdown",
      "metadata": {
        "colab_type": "text",
        "id": "XpL2ZVHnLFHE"
      },
      "source": [
        "**Casting**\n",
        "\n"
      ]
    },
    {
      "cell_type": "code",
      "metadata": {
        "colab_type": "code",
        "id": "gOFy0Jij8eh2",
        "colab": {}
      },
      "source": [
        "# train_data[['sent1', 'sent2']] = train_data[['sent1', 'sent2']].astype(str) \n",
        "# print(train_data.dtypes)\n"
      ],
      "execution_count": 0,
      "outputs": []
    },
    {
      "cell_type": "markdown",
      "metadata": {
        "colab_type": "text",
        "id": "tRCGUGw4LMod"
      },
      "source": [
        "**Stopwords and puntuations**"
      ]
    },
    {
      "cell_type": "code",
      "metadata": {
        "colab_type": "code",
        "id": "QTNFepY80S-D",
        "outputId": "8e29a75b-0f09-4d1a-d05d-a7109c1afa0f",
        "colab": {
          "base_uri": "https://localhost:8080/",
          "height": 34
        }
      },
      "source": [
        "# stopwords and punctuations\n",
        "\n",
        "def get_stopwords():\n",
        "  stop_words = list(set(stopwords.words('english')))\n",
        "  stop_words_2 = [w.capitalize() for w in stop_words]\n",
        "  stop_words_3 = [w.upper() for w in stop_words]\n",
        "\n",
        "  stop_words_all = stop_words + stop_words_2 + stop_words_3\n",
        "\n",
        "  return stop_words_all\n",
        "\n",
        "def remove_stopwords(tokens, rm_punct=False, custom_chars=None):\n",
        "  \n",
        "  stop_words_all = get_stopwords()\n",
        "  result = [w for w in tokens if w not in stop_words_all]\n",
        "\n",
        "  if rm_punct:\n",
        "    result = [w for w in result if w not in punctuation]\n",
        "\n",
        "  if custom_chars is not None:  # custom characters to remove\n",
        "    result = [w for w in result if w not in custom_chars]\n",
        "\n",
        "  return result\n",
        "\n",
        "# Test\n",
        "s1 = 'A man is riding a bicycle.'\n",
        "remove_stopwords(nltk.word_tokenize(s1), rm_punct=True)"
      ],
      "execution_count": 128,
      "outputs": [
        {
          "output_type": "execute_result",
          "data": {
            "text/plain": [
              "['man', 'riding', 'bicycle']"
            ]
          },
          "metadata": {
            "tags": []
          },
          "execution_count": 128
        }
      ]
    },
    {
      "cell_type": "markdown",
      "metadata": {
        "colab_type": "text",
        "id": "oTTsn8zzLRIk"
      },
      "source": [
        "**POS**\n",
        "\n"
      ]
    },
    {
      "cell_type": "code",
      "metadata": {
        "colab_type": "code",
        "id": "wU1y4vjsLYt1",
        "colab": {}
      },
      "source": [
        "#\n",
        "# Map Treebank tag prefix to WordNet tag\n",
        "#\n",
        "def map_pos_wordnet(pos):\n",
        "  d = {\"N\": wordnet.NOUN, # 'n'\n",
        "       \"V\": wordnet.VERB, # 'v'\n",
        "       \"J\": wordnet.ADJ, #  'a'\n",
        "       \"R\": wordnet.ADV} #  'r'\n",
        "\n",
        "  return d[pos[0]]\n",
        "\n",
        "#\n",
        "# Lemmatize\n",
        "#\n",
        "def lemmatize(pairs):\n",
        "  wnl = WordNetLemmatizer()\n",
        "  result = []\n",
        "  for token, pos in pairs:\n",
        "    if pos[0] in {'N','V', 'J', 'R'}:\n",
        "      synset = wnl.lemmatize(token.lower(), \n",
        "                                     pos=map_pos_wordnet(pos))\n",
        "      result.append(synset)\n",
        "    else:\n",
        "      result.append(token)\n",
        "  return result"
      ],
      "execution_count": 0,
      "outputs": []
    },
    {
      "cell_type": "code",
      "metadata": {
        "colab_type": "code",
        "id": "UaTl3iZn3Kpo",
        "outputId": "86c7f787-98e2-4911-f894-03c6518038d9",
        "colab": {
          "base_uri": "https://localhost:8080/",
          "height": 34
        }
      },
      "source": [
        "def join_tokens(tokens):\n",
        "  return ' '.join(tokens)\n",
        "\n",
        "join_tokens(['a', 'b'])"
      ],
      "execution_count": 130,
      "outputs": [
        {
          "output_type": "execute_result",
          "data": {
            "text/plain": [
              "'a b'"
            ]
          },
          "metadata": {
            "tags": []
          },
          "execution_count": 130
        }
      ]
    },
    {
      "cell_type": "markdown",
      "metadata": {
        "id": "1U47LDhuzU8B",
        "colab_type": "text"
      },
      "source": [
        "**Embeddings**\n"
      ]
    },
    {
      "cell_type": "code",
      "metadata": {
        "id": "7s4lW-ieIBfP",
        "colab_type": "code",
        "colab": {}
      },
      "source": [
        "def get_score_infersent(X, tokenize=True):\n",
        "    eb1 = model_senteval.encode([X[0]], tokenize=tokenize)\n",
        "    eb2 = model_senteval.encode([X[1]], tokenize=tokenize)\n",
        "\n",
        "    result = 1 - spatial.distance.cosine(eb1,eb2)\n",
        "\n",
        "    return result"
      ],
      "execution_count": 0,
      "outputs": []
    },
    {
      "cell_type": "markdown",
      "metadata": {
        "id": "Rl5lXa4utEdv",
        "colab_type": "text"
      },
      "source": [
        "**WordNet synsets**"
      ]
    },
    {
      "cell_type": "code",
      "metadata": {
        "id": "nuXQP-6stB0B",
        "colab_type": "code",
        "colab": {}
      },
      "source": [
        "#\n",
        "# Get list of synsets for given list of token-pos-pairs\n",
        "#\n",
        "def get_wordnet_synsets(X):\n",
        "    results = []\n",
        "    for x in X:\n",
        "        (token, pos) = x\n",
        "        result = []\n",
        "        \n",
        "        # Try for usual PoS tags in Wordnet\n",
        "        if pos[0] in {'N','V', 'J', 'R'}:\n",
        "            synset = wn.synsets(token.lower(), pos=map_pos_wordnet(pos))\n",
        "          \n",
        "        # Else discard PoS tag and try to get some available synset\n",
        "        else:\n",
        "            synset = wn.synsets(token.lower())\n",
        "\n",
        "        # Use the best found synset\n",
        "        if len(synset):\n",
        "            results.append(synset[0])\n",
        "\n",
        "        # If not found, then try to cleanup the word and try again (without PoS tag)\n",
        "        else:\n",
        "            clean_token = token.lower().translate(str.maketrans('', '', punctuation))\n",
        "            synset = wn.synsets(clean_token)\n",
        "\n",
        "            if len(synset):\n",
        "                results.append(synset[0])\n",
        "\n",
        "            # If nothing helps, then use default synset value as neutral element and placeholder\n",
        "            else:\n",
        "                results.append(wn.synsets('default')[0])\n",
        "        \n",
        "    return results"
      ],
      "execution_count": 0,
      "outputs": []
    },
    {
      "cell_type": "markdown",
      "metadata": {
        "colab_type": "text",
        "id": "6zXQ6J-P7FN2"
      },
      "source": [
        "## Feature engineering\n",
        "\n",
        "Extract the most meaningful features from the sentences"
      ]
    },
    {
      "cell_type": "code",
      "metadata": {
        "colab_type": "code",
        "id": "8Wu5EBlshsQI",
        "colab": {}
      },
      "source": [
        "cols = ['sent1_processed', 'sent2_processed']"
      ],
      "execution_count": 0,
      "outputs": []
    },
    {
      "cell_type": "markdown",
      "metadata": {
        "colab_type": "text",
        "id": "4w_QMTm9LzdG"
      },
      "source": [
        "### Synset based distance metrics\n",
        "\n",
        "Compute multiple measures based on similarities of lemma synsets. Use *greedy* approach to align most similar lemmas using different similarity metrics:\n",
        "\n",
        "- Path similarity\n",
        "- Leacock & Chodorow (normalized)\n",
        "- Wu & Palmer\n",
        "- Lin\n",
        "\n",
        "When quering synsets for single lemmas, not all synsets can be found, e.g. if lemma has PoS tag *n* and such do not exist for matching synset. For these cases, synset query is conducted without PoS tag to get at least some result. If even this does not help, then default synset is used.\n",
        "\n",
        "Also when computing distances, an alignment of most similar synsets is done pair-wise. Mathing lemmas are then removed and do not considered in further alignment process. However, if sentences have different length, then there will be some lemmas in longer sentece left without any match in shorter sentence. In this case rest of lemmas are paired with default synset, so that their similarity is set to 0.\n",
        "\n"
      ]
    },
    {
      "cell_type": "markdown",
      "metadata": {
        "colab_type": "text",
        "id": "dXP4wbloL2dn"
      },
      "source": [
        "**Apply preprocessing steps**\n"
      ]
    },
    {
      "cell_type": "code",
      "metadata": {
        "colab_type": "code",
        "id": "uejpXndGL00G",
        "outputId": "6bc7863c-7655-4c1c-825d-d008aa1666a0",
        "colab": {
          "base_uri": "https://localhost:8080/",
          "height": 179
        }
      },
      "source": [
        "%%time\n",
        "#\n",
        "# Preprocessing sentences and generating lemmas, PoS tags and synsets\n",
        "# \n",
        "def preprocess_data_synsets(data):\n",
        "  for col in ['sent1', 'sent2']:\n",
        "    col_p = col+'_processed'\n",
        "    data[col_p] = data[col].apply(nltk.word_tokenize)\n",
        "    data[col_p] = data[col_p].apply(remove_stopwords, rm_punct=True)\n",
        "    data[col_p] = data[col_p].apply(nltk.pos_tag)\n",
        "    data[col_p] = data[col_p].apply(lemmatize)\n",
        "    data[col_p] = data[col_p].apply(nltk.pos_tag)\n",
        "    # data[col_p] = data[col_p].apply(join_tokens)\n",
        "    # data[col_p] = data[col_p].apply(core_relationship)\n",
        "\n",
        "    # Compute synsets for every sentence with best choices and add to dataset as extra columns\n",
        "    data[col_p] = data[col_p].apply(get_wordnet_synsets)\n",
        "    \n",
        "\n",
        "# Apply preprocessing to training data\n",
        "preprocess_data_synsets(train_data)  \n",
        "train_data.head(2)"
      ],
      "execution_count": 133,
      "outputs": [
        {
          "output_type": "stream",
          "text": [
            "CPU times: user 7.52 s, sys: 104 ms, total: 7.62 s\n",
            "Wall time: 7.75 s\n"
          ],
          "name": "stdout"
        },
        {
          "output_type": "execute_result",
          "data": {
            "text/plain": [
              "                                               sent1  \\\n",
              "0  But other sources close to the sale said Viven...   \n",
              "1  Micron has declared its first quarterly profit...   \n",
              "\n",
              "                                               sent2  score  \\\n",
              "0  But other sources close to the sale said Viven...   4.00   \n",
              "1  Micron's numbers also marked the first quarter...   3.75   \n",
              "\n",
              "                                     sent1_processed  \\\n",
              "0  [Synset('beginning.n.04'), Synset('close.a.01'...   \n",
              "1  [Synset('micron.n.01'), Synset('declare.v.01')...   \n",
              "\n",
              "                                     sent2_processed  \n",
              "0  [Synset('beginning.n.04'), Synset('close.a.01'...  \n",
              "1  [Synset('micron.n.01'), Synset('second.n.01'),...  "
            ],
            "text/html": [
              "<div>\n",
              "<style scoped>\n",
              "    .dataframe tbody tr th:only-of-type {\n",
              "        vertical-align: middle;\n",
              "    }\n",
              "\n",
              "    .dataframe tbody tr th {\n",
              "        vertical-align: top;\n",
              "    }\n",
              "\n",
              "    .dataframe thead th {\n",
              "        text-align: right;\n",
              "    }\n",
              "</style>\n",
              "<table border=\"1\" class=\"dataframe\">\n",
              "  <thead>\n",
              "    <tr style=\"text-align: right;\">\n",
              "      <th></th>\n",
              "      <th>sent1</th>\n",
              "      <th>sent2</th>\n",
              "      <th>score</th>\n",
              "      <th>sent1_processed</th>\n",
              "      <th>sent2_processed</th>\n",
              "    </tr>\n",
              "  </thead>\n",
              "  <tbody>\n",
              "    <tr>\n",
              "      <th>0</th>\n",
              "      <td>But other sources close to the sale said Viven...</td>\n",
              "      <td>But other sources close to the sale said Viven...</td>\n",
              "      <td>4.00</td>\n",
              "      <td>[Synset('beginning.n.04'), Synset('close.a.01'...</td>\n",
              "      <td>[Synset('beginning.n.04'), Synset('close.a.01'...</td>\n",
              "    </tr>\n",
              "    <tr>\n",
              "      <th>1</th>\n",
              "      <td>Micron has declared its first quarterly profit...</td>\n",
              "      <td>Micron's numbers also marked the first quarter...</td>\n",
              "      <td>3.75</td>\n",
              "      <td>[Synset('micron.n.01'), Synset('declare.v.01')...</td>\n",
              "      <td>[Synset('micron.n.01'), Synset('second.n.01'),...</td>\n",
              "    </tr>\n",
              "  </tbody>\n",
              "</table>\n",
              "</div>"
            ]
          },
          "metadata": {
            "tags": []
          },
          "execution_count": 133
        }
      ]
    },
    {
      "cell_type": "code",
      "metadata": {
        "colab_type": "code",
        "id": "-wYXjh-6ROe1",
        "outputId": "cf1429af-4429-4a79-dfd3-f15a5e17e09c",
        "colab": {
          "base_uri": "https://localhost:8080/",
          "height": 352
        }
      },
      "source": [
        "%%time\n",
        "brown_ic = wordnet_ic.ic('ic-brown.dat')\n",
        "\n",
        "# Lambdas for similarity measures\n",
        "similarity_lin = lambda syn1, syn2: syn1.lin_similarity(syn2, ic=brown_ic)\n",
        "similarity_lch = lambda syn1, syn2: syn1.lch_similarity(syn2) / syn1.lch_similarity(syn1)\n",
        "similarity_wup = lambda syn1, syn2: syn1.wup_similarity(syn2)\n",
        "similarity_ps = lambda syn1, syn2: syn1.path_similarity(syn2)\n",
        "\n",
        "# Greedily find best synset pairs from two sentences and compute the average similarity\n",
        "def greedy_avg_alignment_similarity(synsets, sim_f):\n",
        "    \n",
        "    # Use shorter list as first one\n",
        "    if (len(synsets[0]) <= len(synsets[1])):\n",
        "        synsets1 = synsets[0].copy()\n",
        "        synsets2 = synsets[1].copy()\n",
        "    else:\n",
        "        synsets1 = synsets[1].copy()\n",
        "        synsets2 = synsets[0].copy()\n",
        "    \n",
        "    # Collect best similarities comparing synsents from shorter list to longer list  \n",
        "    sims = []\n",
        "    for syn1 in synsets1:\n",
        "        best_sim = 0\n",
        "        best_syn2 = None\n",
        "        \n",
        "        # Find best similarity in second set\n",
        "        for syn2 in synsets2:\n",
        "            # Get similarity\n",
        "            try:\n",
        "                sim = sim_f(syn1, syn2)\n",
        "            except:\n",
        "                sim = 0\n",
        "            \n",
        "            # Check if sim = NoneType\n",
        "            if not sim:\n",
        "                sim = 0\n",
        "            \n",
        "            if sim >= best_sim:\n",
        "                best_sim = sim\n",
        "                best_syn2 = syn2\n",
        "\n",
        "        # Add best pair\n",
        "        sims.append(best_sim)\n",
        "                \n",
        "        # Remove found synset from second list\n",
        "        synsets2.remove(best_syn2)\n",
        "        \n",
        "    # For rest of not aligned lemma pairs use default similarity of 0\n",
        "    for syn2 in synsets2:\n",
        "        sims.append(0)\n",
        "        \n",
        "    return np.mean(sims)\n",
        "\n",
        "#\n",
        "# Add different distance measuares based on synsets from WordNet\n",
        "#\n",
        "def add_synset_distance_metrics(data, synsets_cols):\n",
        "    data['ps'] = data[synsets_cols].apply(lambda x: greedy_avg_alignment_similarity(x, similarity_ps), axis=1)\n",
        "    data['lch'] = data[synsets_cols].apply(lambda x: greedy_avg_alignment_similarity(x, similarity_lch), axis=1)\n",
        "    data['wup'] = data[synsets_cols].apply(lambda x: greedy_avg_alignment_similarity(x, similarity_wup), axis=1)\n",
        "    data['lin'] = data[synsets_cols].apply(lambda x: greedy_avg_alignment_similarity(x, similarity_lin), axis=1)\n",
        "\n",
        "# Append multiple synset based distances to dataframe\n",
        "add_synset_distance_metrics(train_data, cols)\n",
        "\n",
        "# Sample output\n",
        "train_data.head(2)\n"
      ],
      "execution_count": 134,
      "outputs": [
        {
          "output_type": "stream",
          "text": [
            "CPU times: user 22 s, sys: 309 ms, total: 22.3 s\n",
            "Wall time: 22.4 s\n"
          ],
          "name": "stdout"
        },
        {
          "output_type": "execute_result",
          "data": {
            "text/plain": [
              "                                               sent1  \\\n",
              "0  But other sources close to the sale said Viven...   \n",
              "1  Micron has declared its first quarterly profit...   \n",
              "\n",
              "                                               sent2  score  \\\n",
              "0  But other sources close to the sale said Viven...   4.00   \n",
              "1  Micron's numbers also marked the first quarter...   3.75   \n",
              "\n",
              "                                     sent1_processed  \\\n",
              "0  [Synset('beginning.n.04'), Synset('close.a.01'...   \n",
              "1  [Synset('micron.n.01'), Synset('declare.v.01')...   \n",
              "\n",
              "                                     sent2_processed        ps       lch  \\\n",
              "0  [Synset('beginning.n.04'), Synset('close.a.01'...  0.576236  0.478867   \n",
              "1  [Synset('micron.n.01'), Synset('second.n.01'),...  0.433333  0.366896   \n",
              "\n",
              "        wup       lin  \n",
              "0  0.603125  0.441224  \n",
              "1  0.444444  0.280471  "
            ],
            "text/html": [
              "<div>\n",
              "<style scoped>\n",
              "    .dataframe tbody tr th:only-of-type {\n",
              "        vertical-align: middle;\n",
              "    }\n",
              "\n",
              "    .dataframe tbody tr th {\n",
              "        vertical-align: top;\n",
              "    }\n",
              "\n",
              "    .dataframe thead th {\n",
              "        text-align: right;\n",
              "    }\n",
              "</style>\n",
              "<table border=\"1\" class=\"dataframe\">\n",
              "  <thead>\n",
              "    <tr style=\"text-align: right;\">\n",
              "      <th></th>\n",
              "      <th>sent1</th>\n",
              "      <th>sent2</th>\n",
              "      <th>score</th>\n",
              "      <th>sent1_processed</th>\n",
              "      <th>sent2_processed</th>\n",
              "      <th>ps</th>\n",
              "      <th>lch</th>\n",
              "      <th>wup</th>\n",
              "      <th>lin</th>\n",
              "    </tr>\n",
              "  </thead>\n",
              "  <tbody>\n",
              "    <tr>\n",
              "      <th>0</th>\n",
              "      <td>But other sources close to the sale said Viven...</td>\n",
              "      <td>But other sources close to the sale said Viven...</td>\n",
              "      <td>4.00</td>\n",
              "      <td>[Synset('beginning.n.04'), Synset('close.a.01'...</td>\n",
              "      <td>[Synset('beginning.n.04'), Synset('close.a.01'...</td>\n",
              "      <td>0.576236</td>\n",
              "      <td>0.478867</td>\n",
              "      <td>0.603125</td>\n",
              "      <td>0.441224</td>\n",
              "    </tr>\n",
              "    <tr>\n",
              "      <th>1</th>\n",
              "      <td>Micron has declared its first quarterly profit...</td>\n",
              "      <td>Micron's numbers also marked the first quarter...</td>\n",
              "      <td>3.75</td>\n",
              "      <td>[Synset('micron.n.01'), Synset('declare.v.01')...</td>\n",
              "      <td>[Synset('micron.n.01'), Synset('second.n.01'),...</td>\n",
              "      <td>0.433333</td>\n",
              "      <td>0.366896</td>\n",
              "      <td>0.444444</td>\n",
              "      <td>0.280471</td>\n",
              "    </tr>\n",
              "  </tbody>\n",
              "</table>\n",
              "</div>"
            ]
          },
          "metadata": {
            "tags": []
          },
          "execution_count": 134
        }
      ]
    },
    {
      "cell_type": "markdown",
      "metadata": {
        "colab_type": "text",
        "id": "sHAGQesAMPqV"
      },
      "source": [
        "### Dependency Trees\n",
        "\n",
        "**Apply preprocessing steps**"
      ]
    },
    {
      "cell_type": "code",
      "metadata": {
        "id": "PIqz8skJulta",
        "colab_type": "code",
        "colab": {}
      },
      "source": [
        "from nltk.parse.corenlp import CoreNLPDependencyParser\n",
        "from nltk.metrics.distance import jaro_similarity, jaro_winkler_similarity\n",
        "\n",
        "parser = CoreNLPDependencyParser(url='http://localhost:9000')\n",
        "\n",
        "def dp_relationship(sent):\n",
        "\n",
        "#   results = []\n",
        "#   for x in X:\n",
        "#     result = []\n",
        "\n",
        "    parse = parser.raw_parse(sent)\n",
        "    tree = next(parse)\n",
        "    triples = list(tree.triples())\n",
        "    # print(triples1)\n",
        "    core_triples = list()\n",
        "    for (a,b,c) in triples:\n",
        "      # if b in ['nsubj']:\n",
        "      core_triples.append(c)\n",
        "      core_triples.append(a)\n",
        "      # if b in ['nmod']:\n",
        "      #   core_triples1.append(c)\n",
        "      #   core_triples1.append(a)\n",
        "      # elif b in ['dobj']:\n",
        "      #   core_triples1.append(c)\n",
        "      #   core_triples1.append(a)\n",
        "    # core_triples1 = [(c, a) for (a,b,c) in triples1 if b in ['nsubj']]\n",
        "    unique = []\n",
        "    [unique.append(item) for item in core_triples if item not in unique]\n",
        "\n",
        "    unique = [item for item in unique if 'V' in item[1] or 'N' in item[1] ]\n",
        "\n",
        "    return unique\n"
      ],
      "execution_count": 0,
      "outputs": []
    },
    {
      "cell_type": "code",
      "metadata": {
        "colab_type": "code",
        "id": "EtoCvLJ_epqJ",
        "outputId": "f73deec3-de35-4705-e3b6-f18faf31bb4f",
        "colab": {
          "base_uri": "https://localhost:8080/",
          "height": 485
        }
      },
      "source": [
        "%%time\n",
        "\n",
        "def preprocess_data_trees(data):\n",
        "  for col in ['sent1', 'sent2']:\n",
        "    data[col+'_processed'] = data[col].apply(nltk.word_tokenize)\n",
        "    data[col+'_processed'] = data[col+'_processed'].apply(remove_stopwords, \n",
        "                                                          rm_punct=True)\n",
        "    data[col+'_processed'] = data[col+'_processed'].apply(join_tokens)\n",
        "    # data[col+'_processed'] = data[col+'_processed'].apply(nltk.pos_tag)\n",
        "    data[col+'_processed'] = data[col+'_processed'].apply(dp_relationship)\n",
        "    data[col+'_processed'] = data[col+'_processed'].apply(lemmatize)\n",
        "    data[col+'_processed'] = data[col+'_processed'].apply(join_tokens)\n",
        "    # data[col+'_processed'] = data[col+'_processed'].apply(lemmatize)\n",
        "    # data[col+'_processed'] = data[col+'_processed'].apply(join_tokens)\n",
        "\n",
        "preprocess_data_trees(train_data)\n",
        "train_data.head(3)"
      ],
      "execution_count": 136,
      "outputs": [
        {
          "output_type": "stream",
          "text": [
            "CPU times: user 57.1 s, sys: 1.28 s, total: 58.4 s\n",
            "Wall time: 5min 47s\n"
          ],
          "name": "stdout"
        },
        {
          "output_type": "execute_result",
          "data": {
            "text/plain": [
              "                                               sent1  \\\n",
              "0  But other sources close to the sale said Viven...   \n",
              "1  Micron has declared its first quarterly profit...   \n",
              "2  The fines are part of failed Republican effort...   \n",
              "\n",
              "                                               sent2  score  \\\n",
              "0  But other sources close to the sale said Viven...   4.00   \n",
              "1  Micron's numbers also marked the first quarter...   3.75   \n",
              "2  Perry said he backs the Senate's efforts, incl...   2.80   \n",
              "\n",
              "                                     sent1_processed  \\\n",
              "0  sale say source keep vivendi hop bid door see ...   \n",
              "1                         micron declare profit year   \n",
              "2  part fail fine entice force effort return demo...   \n",
              "\n",
              "                                     sent2_processed        ps       lch  \\\n",
              "0          sale say source keep vivendi bid door day  0.576236  0.478867   \n",
              "1   number mark micron profit year manufacturer dram  0.433333  0.366896   \n",
              "2  perry say effort senate back fine include forc...  0.423077  0.371224   \n",
              "\n",
              "        wup       lin  \n",
              "0  0.603125  0.441224  \n",
              "1  0.444444  0.280471  \n",
              "2  0.485209  0.043715  "
            ],
            "text/html": [
              "<div>\n",
              "<style scoped>\n",
              "    .dataframe tbody tr th:only-of-type {\n",
              "        vertical-align: middle;\n",
              "    }\n",
              "\n",
              "    .dataframe tbody tr th {\n",
              "        vertical-align: top;\n",
              "    }\n",
              "\n",
              "    .dataframe thead th {\n",
              "        text-align: right;\n",
              "    }\n",
              "</style>\n",
              "<table border=\"1\" class=\"dataframe\">\n",
              "  <thead>\n",
              "    <tr style=\"text-align: right;\">\n",
              "      <th></th>\n",
              "      <th>sent1</th>\n",
              "      <th>sent2</th>\n",
              "      <th>score</th>\n",
              "      <th>sent1_processed</th>\n",
              "      <th>sent2_processed</th>\n",
              "      <th>ps</th>\n",
              "      <th>lch</th>\n",
              "      <th>wup</th>\n",
              "      <th>lin</th>\n",
              "    </tr>\n",
              "  </thead>\n",
              "  <tbody>\n",
              "    <tr>\n",
              "      <th>0</th>\n",
              "      <td>But other sources close to the sale said Viven...</td>\n",
              "      <td>But other sources close to the sale said Viven...</td>\n",
              "      <td>4.00</td>\n",
              "      <td>sale say source keep vivendi hop bid door see ...</td>\n",
              "      <td>sale say source keep vivendi bid door day</td>\n",
              "      <td>0.576236</td>\n",
              "      <td>0.478867</td>\n",
              "      <td>0.603125</td>\n",
              "      <td>0.441224</td>\n",
              "    </tr>\n",
              "    <tr>\n",
              "      <th>1</th>\n",
              "      <td>Micron has declared its first quarterly profit...</td>\n",
              "      <td>Micron's numbers also marked the first quarter...</td>\n",
              "      <td>3.75</td>\n",
              "      <td>micron declare profit year</td>\n",
              "      <td>number mark micron profit year manufacturer dram</td>\n",
              "      <td>0.433333</td>\n",
              "      <td>0.366896</td>\n",
              "      <td>0.444444</td>\n",
              "      <td>0.280471</td>\n",
              "    </tr>\n",
              "    <tr>\n",
              "      <th>2</th>\n",
              "      <td>The fines are part of failed Republican effort...</td>\n",
              "      <td>Perry said he backs the Senate's efforts, incl...</td>\n",
              "      <td>2.80</td>\n",
              "      <td>part fail fine entice force effort return demo...</td>\n",
              "      <td>perry say effort senate back fine include forc...</td>\n",
              "      <td>0.423077</td>\n",
              "      <td>0.371224</td>\n",
              "      <td>0.485209</td>\n",
              "      <td>0.043715</td>\n",
              "    </tr>\n",
              "  </tbody>\n",
              "</table>\n",
              "</div>"
            ]
          },
          "metadata": {
            "tags": []
          },
          "execution_count": 136
        }
      ]
    },
    {
      "cell_type": "code",
      "metadata": {
        "colab_type": "code",
        "id": "yDRw8CGlLEzQ",
        "outputId": "f73e5374-28b3-4192-d4a0-5905b1e0679e",
        "colab": {
          "base_uri": "https://localhost:8080/",
          "height": 352
        }
      },
      "source": [
        "%%time\n",
        "\n",
        "depen_parsing = train_data[cols].apply(get_score_infersent, axis=1).values\n",
        "depen_parsing = pd.DataFrame(np.stack(depen_parsing), columns=['dp'])\n",
        "train_data = pd.concat([train_data, depen_parsing], axis=1)\n",
        "train_data.head(2)"
      ],
      "execution_count": 137,
      "outputs": [
        {
          "output_type": "stream",
          "text": [
            "CPU times: user 4.62 ms, sys: 0 ns, total: 4.62 ms\n",
            "Wall time: 5.11 ms\n"
          ],
          "name": "stdout"
        },
        {
          "output_type": "execute_result",
          "data": {
            "text/plain": [
              "                                               sent1  \\\n",
              "0  But other sources close to the sale said Viven...   \n",
              "1  Micron has declared its first quarterly profit...   \n",
              "\n",
              "                                               sent2  score  \\\n",
              "0  But other sources close to the sale said Viven...   4.00   \n",
              "1  Micron's numbers also marked the first quarter...   3.75   \n",
              "\n",
              "                                     sent1_processed  \\\n",
              "0  sale say source keep vivendi hop bid door see ...   \n",
              "1                         micron declare profit year   \n",
              "\n",
              "                                    sent2_processed        ps       lch  \\\n",
              "0         sale say source keep vivendi bid door day  0.576236  0.478867   \n",
              "1  number mark micron profit year manufacturer dram  0.433333  0.366896   \n",
              "\n",
              "        wup       lin        dp  \n",
              "0  0.603125  0.441224  0.944957  \n",
              "1  0.444444  0.280471  0.916931  "
            ],
            "text/html": [
              "<div>\n",
              "<style scoped>\n",
              "    .dataframe tbody tr th:only-of-type {\n",
              "        vertical-align: middle;\n",
              "    }\n",
              "\n",
              "    .dataframe tbody tr th {\n",
              "        vertical-align: top;\n",
              "    }\n",
              "\n",
              "    .dataframe thead th {\n",
              "        text-align: right;\n",
              "    }\n",
              "</style>\n",
              "<table border=\"1\" class=\"dataframe\">\n",
              "  <thead>\n",
              "    <tr style=\"text-align: right;\">\n",
              "      <th></th>\n",
              "      <th>sent1</th>\n",
              "      <th>sent2</th>\n",
              "      <th>score</th>\n",
              "      <th>sent1_processed</th>\n",
              "      <th>sent2_processed</th>\n",
              "      <th>ps</th>\n",
              "      <th>lch</th>\n",
              "      <th>wup</th>\n",
              "      <th>lin</th>\n",
              "      <th>dp</th>\n",
              "    </tr>\n",
              "  </thead>\n",
              "  <tbody>\n",
              "    <tr>\n",
              "      <th>0</th>\n",
              "      <td>But other sources close to the sale said Viven...</td>\n",
              "      <td>But other sources close to the sale said Viven...</td>\n",
              "      <td>4.00</td>\n",
              "      <td>sale say source keep vivendi hop bid door see ...</td>\n",
              "      <td>sale say source keep vivendi bid door day</td>\n",
              "      <td>0.576236</td>\n",
              "      <td>0.478867</td>\n",
              "      <td>0.603125</td>\n",
              "      <td>0.441224</td>\n",
              "      <td>0.944957</td>\n",
              "    </tr>\n",
              "    <tr>\n",
              "      <th>1</th>\n",
              "      <td>Micron has declared its first quarterly profit...</td>\n",
              "      <td>Micron's numbers also marked the first quarter...</td>\n",
              "      <td>3.75</td>\n",
              "      <td>micron declare profit year</td>\n",
              "      <td>number mark micron profit year manufacturer dram</td>\n",
              "      <td>0.433333</td>\n",
              "      <td>0.366896</td>\n",
              "      <td>0.444444</td>\n",
              "      <td>0.280471</td>\n",
              "      <td>0.916931</td>\n",
              "    </tr>\n",
              "  </tbody>\n",
              "</table>\n",
              "</div>"
            ]
          },
          "metadata": {
            "tags": []
          },
          "execution_count": 137
        }
      ]
    },
    {
      "cell_type": "markdown",
      "metadata": {
        "colab_type": "text",
        "id": "z7joapffRmKt"
      },
      "source": [
        "### SentEval: sentence embeddings\n",
        "\n",
        "This function yields a score from  a pretrained model, based on word embedding.\n",
        "\n",
        "\n"
      ]
    },
    {
      "cell_type": "code",
      "metadata": {
        "colab_type": "code",
        "id": "w1Dur0fkVUNs",
        "colab": {}
      },
      "source": [
        "#!conda install pytorch torchvision cpuonly -c pytorch"
      ],
      "execution_count": 0,
      "outputs": []
    },
    {
      "cell_type": "code",
      "metadata": {
        "colab_type": "code",
        "id": "UdGtcl75z-ql",
        "outputId": "e7a4588f-6f09-4d33-f765-b1f72d40f369",
        "colab": {
          "base_uri": "https://localhost:8080/",
          "height": 451
        }
      },
      "source": [
        "def preprocess_data_sentevel(data):\n",
        "  for col in ['sent1', 'sent2']:\n",
        "    data[col+'_processed'] = data[col].apply(nltk.word_tokenize)\n",
        "    data[col+'_processed'] = data[col+'_processed'].apply(remove_stopwords, \n",
        "                                                          rm_punct=True)\n",
        "    data[col+'_processed'] = data[col+'_processed'].apply(nltk.pos_tag)\n",
        "    data[col+'_processed'] = data[col+'_processed'].apply(lemmatize)\n",
        "    data[col+'_processed'] = data[col+'_processed'].apply(join_tokens)\n",
        "\n",
        "preprocess_data_sentevel(train_data)\n",
        "train_data.head(3)"
      ],
      "execution_count": 138,
      "outputs": [
        {
          "output_type": "execute_result",
          "data": {
            "text/plain": [
              "                                               sent1  \\\n",
              "0  But other sources close to the sale said Viven...   \n",
              "1  Micron has declared its first quarterly profit...   \n",
              "2  The fines are part of failed Republican effort...   \n",
              "\n",
              "                                               sent2  score  \\\n",
              "0  But other sources close to the sale said Viven...   4.00   \n",
              "1  Micron's numbers also marked the first quarter...   3.75   \n",
              "2  Perry said he backs the Senate's efforts, incl...   2.80   \n",
              "\n",
              "                                     sent1_processed  \\\n",
              "0  source close sale say vivendi keep door open b...   \n",
              "1   micron declare first quarterly profit three year   \n",
              "2  fine part fail republican effort force entice ...   \n",
              "\n",
              "                                     sent2_processed        ps       lch  \\\n",
              "0  source close sale say vivendi keep door open b...  0.576236  0.478867   \n",
              "1  micron 's number also mark first quarterly pro...  0.433333  0.366896   \n",
              "2  perry say back senate 's effort include fine f...  0.423077  0.371224   \n",
              "\n",
              "        wup       lin        dp  \n",
              "0  0.603125  0.441224  0.944957  \n",
              "1  0.444444  0.280471  0.916931  \n",
              "2  0.485209  0.043715  0.939007  "
            ],
            "text/html": [
              "<div>\n",
              "<style scoped>\n",
              "    .dataframe tbody tr th:only-of-type {\n",
              "        vertical-align: middle;\n",
              "    }\n",
              "\n",
              "    .dataframe tbody tr th {\n",
              "        vertical-align: top;\n",
              "    }\n",
              "\n",
              "    .dataframe thead th {\n",
              "        text-align: right;\n",
              "    }\n",
              "</style>\n",
              "<table border=\"1\" class=\"dataframe\">\n",
              "  <thead>\n",
              "    <tr style=\"text-align: right;\">\n",
              "      <th></th>\n",
              "      <th>sent1</th>\n",
              "      <th>sent2</th>\n",
              "      <th>score</th>\n",
              "      <th>sent1_processed</th>\n",
              "      <th>sent2_processed</th>\n",
              "      <th>ps</th>\n",
              "      <th>lch</th>\n",
              "      <th>wup</th>\n",
              "      <th>lin</th>\n",
              "      <th>dp</th>\n",
              "    </tr>\n",
              "  </thead>\n",
              "  <tbody>\n",
              "    <tr>\n",
              "      <th>0</th>\n",
              "      <td>But other sources close to the sale said Viven...</td>\n",
              "      <td>But other sources close to the sale said Viven...</td>\n",
              "      <td>4.00</td>\n",
              "      <td>source close sale say vivendi keep door open b...</td>\n",
              "      <td>source close sale say vivendi keep door open b...</td>\n",
              "      <td>0.576236</td>\n",
              "      <td>0.478867</td>\n",
              "      <td>0.603125</td>\n",
              "      <td>0.441224</td>\n",
              "      <td>0.944957</td>\n",
              "    </tr>\n",
              "    <tr>\n",
              "      <th>1</th>\n",
              "      <td>Micron has declared its first quarterly profit...</td>\n",
              "      <td>Micron's numbers also marked the first quarter...</td>\n",
              "      <td>3.75</td>\n",
              "      <td>micron declare first quarterly profit three year</td>\n",
              "      <td>micron 's number also mark first quarterly pro...</td>\n",
              "      <td>0.433333</td>\n",
              "      <td>0.366896</td>\n",
              "      <td>0.444444</td>\n",
              "      <td>0.280471</td>\n",
              "      <td>0.916931</td>\n",
              "    </tr>\n",
              "    <tr>\n",
              "      <th>2</th>\n",
              "      <td>The fines are part of failed Republican effort...</td>\n",
              "      <td>Perry said he backs the Senate's efforts, incl...</td>\n",
              "      <td>2.80</td>\n",
              "      <td>fine part fail republican effort force entice ...</td>\n",
              "      <td>perry say back senate 's effort include fine f...</td>\n",
              "      <td>0.423077</td>\n",
              "      <td>0.371224</td>\n",
              "      <td>0.485209</td>\n",
              "      <td>0.043715</td>\n",
              "      <td>0.939007</td>\n",
              "    </tr>\n",
              "  </tbody>\n",
              "</table>\n",
              "</div>"
            ]
          },
          "metadata": {
            "tags": []
          },
          "execution_count": 138
        }
      ]
    },
    {
      "cell_type": "code",
      "metadata": {
        "colab_type": "code",
        "id": "8o5s3b58_0We",
        "outputId": "58e90967-a313-4b22-dd69-835920e450af",
        "colab": {
          "base_uri": "https://localhost:8080/",
          "height": 352
        }
      },
      "source": [
        "%%time\n",
        "\n",
        "infer_feat = train_data[cols].apply(get_score_infersent, axis=1)\n",
        "infer_feat = pd.DataFrame(np.stack(infer_feat), columns=['infer'])\n",
        "train_data = pd.concat([train_data, infer_feat], axis=1)\n",
        "train_data.head(2)\n"
      ],
      "execution_count": 139,
      "outputs": [
        {
          "output_type": "stream",
          "text": [
            "CPU times: user 9min 48s, sys: 299 ms, total: 9min 48s\n",
            "Wall time: 9min 48s\n"
          ],
          "name": "stdout"
        },
        {
          "output_type": "execute_result",
          "data": {
            "text/plain": [
              "                                               sent1  \\\n",
              "0  But other sources close to the sale said Viven...   \n",
              "1  Micron has declared its first quarterly profit...   \n",
              "\n",
              "                                               sent2  score  \\\n",
              "0  But other sources close to the sale said Viven...   4.00   \n",
              "1  Micron's numbers also marked the first quarter...   3.75   \n",
              "\n",
              "                                     sent1_processed  \\\n",
              "0  source close sale say vivendi keep door open b...   \n",
              "1   micron declare first quarterly profit three year   \n",
              "\n",
              "                                     sent2_processed        ps       lch  \\\n",
              "0  source close sale say vivendi keep door open b...  0.576236  0.478867   \n",
              "1  micron 's number also mark first quarterly pro...  0.433333  0.366896   \n",
              "\n",
              "        wup       lin        dp     infer  \n",
              "0  0.603125  0.441224  0.944957  0.958609  \n",
              "1  0.444444  0.280471  0.916931  0.946287  "
            ],
            "text/html": [
              "<div>\n",
              "<style scoped>\n",
              "    .dataframe tbody tr th:only-of-type {\n",
              "        vertical-align: middle;\n",
              "    }\n",
              "\n",
              "    .dataframe tbody tr th {\n",
              "        vertical-align: top;\n",
              "    }\n",
              "\n",
              "    .dataframe thead th {\n",
              "        text-align: right;\n",
              "    }\n",
              "</style>\n",
              "<table border=\"1\" class=\"dataframe\">\n",
              "  <thead>\n",
              "    <tr style=\"text-align: right;\">\n",
              "      <th></th>\n",
              "      <th>sent1</th>\n",
              "      <th>sent2</th>\n",
              "      <th>score</th>\n",
              "      <th>sent1_processed</th>\n",
              "      <th>sent2_processed</th>\n",
              "      <th>ps</th>\n",
              "      <th>lch</th>\n",
              "      <th>wup</th>\n",
              "      <th>lin</th>\n",
              "      <th>dp</th>\n",
              "      <th>infer</th>\n",
              "    </tr>\n",
              "  </thead>\n",
              "  <tbody>\n",
              "    <tr>\n",
              "      <th>0</th>\n",
              "      <td>But other sources close to the sale said Viven...</td>\n",
              "      <td>But other sources close to the sale said Viven...</td>\n",
              "      <td>4.00</td>\n",
              "      <td>source close sale say vivendi keep door open b...</td>\n",
              "      <td>source close sale say vivendi keep door open b...</td>\n",
              "      <td>0.576236</td>\n",
              "      <td>0.478867</td>\n",
              "      <td>0.603125</td>\n",
              "      <td>0.441224</td>\n",
              "      <td>0.944957</td>\n",
              "      <td>0.958609</td>\n",
              "    </tr>\n",
              "    <tr>\n",
              "      <th>1</th>\n",
              "      <td>Micron has declared its first quarterly profit...</td>\n",
              "      <td>Micron's numbers also marked the first quarter...</td>\n",
              "      <td>3.75</td>\n",
              "      <td>micron declare first quarterly profit three year</td>\n",
              "      <td>micron 's number also mark first quarterly pro...</td>\n",
              "      <td>0.433333</td>\n",
              "      <td>0.366896</td>\n",
              "      <td>0.444444</td>\n",
              "      <td>0.280471</td>\n",
              "      <td>0.916931</td>\n",
              "      <td>0.946287</td>\n",
              "    </tr>\n",
              "  </tbody>\n",
              "</table>\n",
              "</div>"
            ]
          },
          "metadata": {
            "tags": []
          },
          "execution_count": 139
        }
      ]
    },
    {
      "cell_type": "markdown",
      "metadata": {
        "id": "pU8ZgWE8bbOv",
        "colab_type": "text"
      },
      "source": [
        "### Overlapping\n",
        "\n",
        "Count how many words appears from one sentence to the other.\n",
        "\n",
        "\n"
      ]
    },
    {
      "cell_type": "code",
      "metadata": {
        "id": "6_9vNkD2cU6k",
        "colab_type": "code",
        "colab": {}
      },
      "source": [
        "def preprocess_count_overlap(data):\n",
        "  for col in ['sent1', 'sent2']:\n",
        "    data[col+'_processed'] = data[col].apply(nltk.word_tokenize)\n",
        "    data[col+'_processed'] = data[col+'_processed'].apply(remove_stopwords, \n",
        "                                                          rm_punct=True)\n",
        "    data[col+'_processed'] = data[col+'_processed'].apply(nltk.pos_tag)\n",
        "    data[col+'_processed'] = data[col+'_processed'].apply(lemmatize)\n",
        "    data[col+'_processed'] = data[col+'_processed'].apply(join_tokens)\n",
        "\n",
        "\n",
        "preprocess_count_overlap(train_data)\n",
        "\n",
        "\n",
        "def count_overlap(X):\n",
        "  words1 = X[0].strip().split()\n",
        "  words2 = X[1].strip().split()\n",
        "\n",
        "  counter = 0\n",
        "  for w in words1:\n",
        "    counter += words2.count(w)\n",
        "\n",
        "  score = 2*counter / (len(words1) + len(words2))\n",
        "\n",
        "  return score\n"
      ],
      "execution_count": 0,
      "outputs": []
    },
    {
      "cell_type": "code",
      "metadata": {
        "id": "rSBZp3n9ii4P",
        "colab_type": "code",
        "colab": {
          "base_uri": "https://localhost:8080/",
          "height": 352
        },
        "outputId": "d0db090c-b3c2-4dbc-b73c-9f377042f4a9"
      },
      "source": [
        "%%time\n",
        "\n",
        "overlap_feat = train_data[cols].apply(count_overlap, axis=1)\n",
        "overlap_feat = pd.DataFrame(np.stack(overlap_feat), columns=['over'])\n",
        "train_data = pd.concat([train_data, overlap_feat], axis=1)\n",
        "train_data.head(2)\n"
      ],
      "execution_count": 213,
      "outputs": [
        {
          "output_type": "stream",
          "text": [
            "CPU times: user 140 ms, sys: 0 ns, total: 140 ms\n",
            "Wall time: 183 ms\n"
          ],
          "name": "stdout"
        },
        {
          "output_type": "execute_result",
          "data": {
            "text/plain": [
              "                                               sent1  \\\n",
              "0  But other sources close to the sale said Viven...   \n",
              "1  Micron has declared its first quarterly profit...   \n",
              "\n",
              "                                               sent2  score  \\\n",
              "0  But other sources close to the sale said Viven...   4.00   \n",
              "1  Micron's numbers also marked the first quarter...   3.75   \n",
              "\n",
              "                                     sent1_processed  \\\n",
              "0  source close sale say vivendi keep door open b...   \n",
              "1   micron declare first quarterly profit three year   \n",
              "\n",
              "                                     sent2_processed        ps       lch  \\\n",
              "0  source close sale say vivendi keep door open b...  0.576236  0.478867   \n",
              "1  micron 's number also mark first quarterly pro...  0.433333  0.366896   \n",
              "\n",
              "        wup       lin        dp     infer      over  \n",
              "0  0.603125  0.441224  0.944957  0.958609  0.642857  \n",
              "1  0.444444  0.280471  0.916931  0.946287  0.631579  "
            ],
            "text/html": [
              "<div>\n",
              "<style scoped>\n",
              "    .dataframe tbody tr th:only-of-type {\n",
              "        vertical-align: middle;\n",
              "    }\n",
              "\n",
              "    .dataframe tbody tr th {\n",
              "        vertical-align: top;\n",
              "    }\n",
              "\n",
              "    .dataframe thead th {\n",
              "        text-align: right;\n",
              "    }\n",
              "</style>\n",
              "<table border=\"1\" class=\"dataframe\">\n",
              "  <thead>\n",
              "    <tr style=\"text-align: right;\">\n",
              "      <th></th>\n",
              "      <th>sent1</th>\n",
              "      <th>sent2</th>\n",
              "      <th>score</th>\n",
              "      <th>sent1_processed</th>\n",
              "      <th>sent2_processed</th>\n",
              "      <th>ps</th>\n",
              "      <th>lch</th>\n",
              "      <th>wup</th>\n",
              "      <th>lin</th>\n",
              "      <th>dp</th>\n",
              "      <th>infer</th>\n",
              "      <th>over</th>\n",
              "    </tr>\n",
              "  </thead>\n",
              "  <tbody>\n",
              "    <tr>\n",
              "      <th>0</th>\n",
              "      <td>But other sources close to the sale said Viven...</td>\n",
              "      <td>But other sources close to the sale said Viven...</td>\n",
              "      <td>4.00</td>\n",
              "      <td>source close sale say vivendi keep door open b...</td>\n",
              "      <td>source close sale say vivendi keep door open b...</td>\n",
              "      <td>0.576236</td>\n",
              "      <td>0.478867</td>\n",
              "      <td>0.603125</td>\n",
              "      <td>0.441224</td>\n",
              "      <td>0.944957</td>\n",
              "      <td>0.958609</td>\n",
              "      <td>0.642857</td>\n",
              "    </tr>\n",
              "    <tr>\n",
              "      <th>1</th>\n",
              "      <td>Micron has declared its first quarterly profit...</td>\n",
              "      <td>Micron's numbers also marked the first quarter...</td>\n",
              "      <td>3.75</td>\n",
              "      <td>micron declare first quarterly profit three year</td>\n",
              "      <td>micron 's number also mark first quarterly pro...</td>\n",
              "      <td>0.433333</td>\n",
              "      <td>0.366896</td>\n",
              "      <td>0.444444</td>\n",
              "      <td>0.280471</td>\n",
              "      <td>0.916931</td>\n",
              "      <td>0.946287</td>\n",
              "      <td>0.631579</td>\n",
              "    </tr>\n",
              "  </tbody>\n",
              "</table>\n",
              "</div>"
            ]
          },
          "metadata": {
            "tags": []
          },
          "execution_count": 213
        }
      ]
    },
    {
      "cell_type": "markdown",
      "metadata": {
        "id": "vt4UOEUKw6-P",
        "colab_type": "text"
      },
      "source": [
        ""
      ]
    },
    {
      "cell_type": "code",
      "metadata": {
        "id": "z3wADSNgw6sj",
        "colab_type": "code",
        "colab": {}
      },
      "source": [
        ""
      ],
      "execution_count": 0,
      "outputs": []
    },
    {
      "cell_type": "markdown",
      "metadata": {
        "colab_type": "text",
        "id": "LBX00Y80McCA"
      },
      "source": [
        "# Modeling\n",
        "\n",
        "Try a baseline model with the final features: basically the join of the scores (fom dependency tree, wds, lcs, etc).\n",
        "\n",
        "\n",
        "\n",
        "\n",
        "\n"
      ]
    },
    {
      "cell_type": "code",
      "metadata": {
        "colab_type": "code",
        "id": "uLkAD_QsR6km",
        "outputId": "fa459f7c-2e89-4a68-d233-8da1af3812b5",
        "colab": {
          "base_uri": "https://localhost:8080/",
          "height": 318
        }
      },
      "source": [
        "train_data.head(2)"
      ],
      "execution_count": 140,
      "outputs": [
        {
          "output_type": "execute_result",
          "data": {
            "text/plain": [
              "                                               sent1  \\\n",
              "0  But other sources close to the sale said Viven...   \n",
              "1  Micron has declared its first quarterly profit...   \n",
              "\n",
              "                                               sent2  score  \\\n",
              "0  But other sources close to the sale said Viven...   4.00   \n",
              "1  Micron's numbers also marked the first quarter...   3.75   \n",
              "\n",
              "                                     sent1_processed  \\\n",
              "0  source close sale say vivendi keep door open b...   \n",
              "1   micron declare first quarterly profit three year   \n",
              "\n",
              "                                     sent2_processed        ps       lch  \\\n",
              "0  source close sale say vivendi keep door open b...  0.576236  0.478867   \n",
              "1  micron 's number also mark first quarterly pro...  0.433333  0.366896   \n",
              "\n",
              "        wup       lin        dp     infer  \n",
              "0  0.603125  0.441224  0.944957  0.958609  \n",
              "1  0.444444  0.280471  0.916931  0.946287  "
            ],
            "text/html": [
              "<div>\n",
              "<style scoped>\n",
              "    .dataframe tbody tr th:only-of-type {\n",
              "        vertical-align: middle;\n",
              "    }\n",
              "\n",
              "    .dataframe tbody tr th {\n",
              "        vertical-align: top;\n",
              "    }\n",
              "\n",
              "    .dataframe thead th {\n",
              "        text-align: right;\n",
              "    }\n",
              "</style>\n",
              "<table border=\"1\" class=\"dataframe\">\n",
              "  <thead>\n",
              "    <tr style=\"text-align: right;\">\n",
              "      <th></th>\n",
              "      <th>sent1</th>\n",
              "      <th>sent2</th>\n",
              "      <th>score</th>\n",
              "      <th>sent1_processed</th>\n",
              "      <th>sent2_processed</th>\n",
              "      <th>ps</th>\n",
              "      <th>lch</th>\n",
              "      <th>wup</th>\n",
              "      <th>lin</th>\n",
              "      <th>dp</th>\n",
              "      <th>infer</th>\n",
              "    </tr>\n",
              "  </thead>\n",
              "  <tbody>\n",
              "    <tr>\n",
              "      <th>0</th>\n",
              "      <td>But other sources close to the sale said Viven...</td>\n",
              "      <td>But other sources close to the sale said Viven...</td>\n",
              "      <td>4.00</td>\n",
              "      <td>source close sale say vivendi keep door open b...</td>\n",
              "      <td>source close sale say vivendi keep door open b...</td>\n",
              "      <td>0.576236</td>\n",
              "      <td>0.478867</td>\n",
              "      <td>0.603125</td>\n",
              "      <td>0.441224</td>\n",
              "      <td>0.944957</td>\n",
              "      <td>0.958609</td>\n",
              "    </tr>\n",
              "    <tr>\n",
              "      <th>1</th>\n",
              "      <td>Micron has declared its first quarterly profit...</td>\n",
              "      <td>Micron's numbers also marked the first quarter...</td>\n",
              "      <td>3.75</td>\n",
              "      <td>micron declare first quarterly profit three year</td>\n",
              "      <td>micron 's number also mark first quarterly pro...</td>\n",
              "      <td>0.433333</td>\n",
              "      <td>0.366896</td>\n",
              "      <td>0.444444</td>\n",
              "      <td>0.280471</td>\n",
              "      <td>0.916931</td>\n",
              "      <td>0.946287</td>\n",
              "    </tr>\n",
              "  </tbody>\n",
              "</table>\n",
              "</div>"
            ]
          },
          "metadata": {
            "tags": []
          },
          "execution_count": 140
        }
      ]
    },
    {
      "cell_type": "code",
      "metadata": {
        "colab_type": "code",
        "id": "EMaMwozaSMQm",
        "outputId": "00ccde1b-97ed-4b7d-be51-02cc7a00fb4c",
        "colab": {
          "base_uri": "https://localhost:8080/",
          "height": 204
        }
      },
      "source": [
        "label = 'score'\n",
        "features = [col for col in train_data.columns if col not in ['sent1',\n",
        "                                                             'sent2',\n",
        "                                                             'sent1_processed',\n",
        "                                                             'sent2_processed', label]]\n",
        "X = train_data[features].copy()\n",
        "y = train_data[label].copy()\n",
        "X.head()"
      ],
      "execution_count": 214,
      "outputs": [
        {
          "output_type": "execute_result",
          "data": {
            "text/plain": [
              "         ps       lch       wup       lin        dp     infer      over\n",
              "0  0.576236  0.478867  0.603125  0.441224  0.944957  0.958609  0.642857\n",
              "1  0.433333  0.366896  0.444444  0.280471  0.916931  0.946287  0.631579\n",
              "2  0.423077  0.371224  0.485209  0.043715  0.939007  0.938343  0.500000\n",
              "3  0.622222  0.355331  0.638889  0.333333  0.950514  0.964189  0.733333\n",
              "4  0.621759  0.593266  0.727564  0.465101  0.879717  0.913712  0.260870"
            ],
            "text/html": [
              "<div>\n",
              "<style scoped>\n",
              "    .dataframe tbody tr th:only-of-type {\n",
              "        vertical-align: middle;\n",
              "    }\n",
              "\n",
              "    .dataframe tbody tr th {\n",
              "        vertical-align: top;\n",
              "    }\n",
              "\n",
              "    .dataframe thead th {\n",
              "        text-align: right;\n",
              "    }\n",
              "</style>\n",
              "<table border=\"1\" class=\"dataframe\">\n",
              "  <thead>\n",
              "    <tr style=\"text-align: right;\">\n",
              "      <th></th>\n",
              "      <th>ps</th>\n",
              "      <th>lch</th>\n",
              "      <th>wup</th>\n",
              "      <th>lin</th>\n",
              "      <th>dp</th>\n",
              "      <th>infer</th>\n",
              "      <th>over</th>\n",
              "    </tr>\n",
              "  </thead>\n",
              "  <tbody>\n",
              "    <tr>\n",
              "      <th>0</th>\n",
              "      <td>0.576236</td>\n",
              "      <td>0.478867</td>\n",
              "      <td>0.603125</td>\n",
              "      <td>0.441224</td>\n",
              "      <td>0.944957</td>\n",
              "      <td>0.958609</td>\n",
              "      <td>0.642857</td>\n",
              "    </tr>\n",
              "    <tr>\n",
              "      <th>1</th>\n",
              "      <td>0.433333</td>\n",
              "      <td>0.366896</td>\n",
              "      <td>0.444444</td>\n",
              "      <td>0.280471</td>\n",
              "      <td>0.916931</td>\n",
              "      <td>0.946287</td>\n",
              "      <td>0.631579</td>\n",
              "    </tr>\n",
              "    <tr>\n",
              "      <th>2</th>\n",
              "      <td>0.423077</td>\n",
              "      <td>0.371224</td>\n",
              "      <td>0.485209</td>\n",
              "      <td>0.043715</td>\n",
              "      <td>0.939007</td>\n",
              "      <td>0.938343</td>\n",
              "      <td>0.500000</td>\n",
              "    </tr>\n",
              "    <tr>\n",
              "      <th>3</th>\n",
              "      <td>0.622222</td>\n",
              "      <td>0.355331</td>\n",
              "      <td>0.638889</td>\n",
              "      <td>0.333333</td>\n",
              "      <td>0.950514</td>\n",
              "      <td>0.964189</td>\n",
              "      <td>0.733333</td>\n",
              "    </tr>\n",
              "    <tr>\n",
              "      <th>4</th>\n",
              "      <td>0.621759</td>\n",
              "      <td>0.593266</td>\n",
              "      <td>0.727564</td>\n",
              "      <td>0.465101</td>\n",
              "      <td>0.879717</td>\n",
              "      <td>0.913712</td>\n",
              "      <td>0.260870</td>\n",
              "    </tr>\n",
              "  </tbody>\n",
              "</table>\n",
              "</div>"
            ]
          },
          "metadata": {
            "tags": []
          },
          "execution_count": 214
        }
      ]
    },
    {
      "cell_type": "markdown",
      "metadata": {
        "id": "nn1_-w4ODPsd",
        "colab_type": "text"
      },
      "source": [
        "Save training features and label"
      ]
    },
    {
      "cell_type": "code",
      "metadata": {
        "id": "0T07iATQDPRO",
        "colab_type": "code",
        "colab": {}
      },
      "source": [
        "X_y = pd.concat([X, y], axis=1)\n",
        "X_y.to_csv('train_features.csv', index=False)"
      ],
      "execution_count": 0,
      "outputs": []
    },
    {
      "cell_type": "markdown",
      "metadata": {
        "colab_type": "text",
        "id": "hBuSc_qUe-J3"
      },
      "source": [
        "Scaling all the features with mean 0 and  variance 1\n",
        "\n"
      ]
    },
    {
      "cell_type": "code",
      "metadata": {
        "colab_type": "code",
        "id": "1ebXuX2oe2R7",
        "outputId": "95b7a5da-e359-4539-87fd-05bf1d08bba2",
        "colab": {
          "base_uri": "https://localhost:8080/",
          "height": 238
        }
      },
      "source": [
        "from sklearn.preprocessing import StandardScaler\n",
        "scaler = StandardScaler()\n",
        "scaler.fit(X) # This scaler will be used for testing stage too\n",
        "\n",
        "X_scaled = scaler.transform(X)\n",
        "X_scaled"
      ],
      "execution_count": 216,
      "outputs": [
        {
          "output_type": "execute_result",
          "data": {
            "text/plain": [
              "array([[ 0.50869582,  0.08256956,  0.27500424, ...,  0.07579499,\n",
              "         0.36778079,  0.32854469],\n",
              "       [-0.16624555, -0.55401826, -0.59293359, ..., -0.71572413,\n",
              "        -0.00341259,  0.28332649],\n",
              "       [-0.21468735, -0.52941227, -0.36996169, ..., -0.09224227,\n",
              "        -0.2427314 , -0.24421923],\n",
              "       ...,\n",
              "       [ 2.51016403,  0.20271383,  2.44579842, ...,  1.63037194,\n",
              "         1.61466474,  1.7604545 ],\n",
              "       [ 0.18625694,  0.24130234,  0.31719527, ...,  0.20388678,\n",
              "         0.693956  ,  0.61492665],\n",
              "       [-2.04891601, -1.89756609, -2.51533142, ..., -0.69555023,\n",
              "        -0.73282645, -1.10336511]])"
            ]
          },
          "metadata": {
            "tags": []
          },
          "execution_count": 216
        }
      ]
    },
    {
      "cell_type": "code",
      "metadata": {
        "colab_type": "code",
        "id": "xqdYvMoSUxKu",
        "outputId": "b11091d7-d068-4c32-e8ed-ae350f5c821d",
        "colab": {
          "base_uri": "https://localhost:8080/",
          "height": 238
        }
      },
      "source": [
        "from sklearn.model_selection import train_test_split\n",
        "# from sklearn.model_selection import GridSearchCV\n",
        "from sklearn.model_selection import KFold\n",
        "\n",
        "test_size = 0.2\n",
        "seed = 42\n",
        "X_train, X_val, y_train, y_val = train_test_split(\n",
        "                X_scaled, y, test_size=test_size, random_state=seed)\n",
        "\n",
        "X_train"
      ],
      "execution_count": 217,
      "outputs": [
        {
          "output_type": "execute_result",
          "data": {
            "text/plain": [
              "array([[-1.75372378, -1.35589997, -1.96835965, ..., -0.36029553,\n",
              "        -0.58159939, -2.24889296],\n",
              "       [-0.73021555, -1.24995855, -0.77317668, ..., -0.23910232,\n",
              "        -0.38560733,  0.04216273],\n",
              "       [ 0.2376524 ,  0.57317172,  0.11737002, ...,  0.31304535,\n",
              "        -0.17631919,  0.04216273],\n",
              "       ...,\n",
              "       [ 0.11114144,  1.45922535,  1.4473579 , ...,  0.4640028 ,\n",
              "         0.31281524, -0.9124438 ],\n",
              "       [-0.36866308,  0.47087765, -0.21068585, ..., -1.14612644,\n",
              "        -0.99700832, -0.9124438 ],\n",
              "       [ 1.05690996,  1.70906983,  0.62255921, ...,  0.18719753,\n",
              "         0.05026374,  0.42400535]])"
            ]
          },
          "metadata": {
            "tags": []
          },
          "execution_count": 217
        }
      ]
    },
    {
      "cell_type": "code",
      "metadata": {
        "colab_type": "code",
        "id": "d8OecD5gm1k3",
        "colab": {}
      },
      "source": [
        "# !pip install xgboost"
      ],
      "execution_count": 0,
      "outputs": []
    },
    {
      "cell_type": "code",
      "metadata": {
        "colab_type": "code",
        "id": "YtM6IB6bMshf",
        "outputId": "3e9acea2-213d-4f2b-f20f-53e559d8eb00",
        "colab": {
          "base_uri": "https://localhost:8080/",
          "height": 139
        }
      },
      "source": [
        "%%time\n",
        "\n",
        "from xgboost import XGBRegressor\n",
        "# from lightgbm import LGBMRegressor\n",
        "# from catboost import CatBoostRegressor\n",
        "\n",
        "from xgboost import XGBRegressor\n",
        "\n",
        "# params = {'n_estimators': 500, 'max_depth': 4, 'min_samples_split': 1,\n",
        "#           'learning_rate': 0.01, 'loss': 'ls'}\n",
        "params = {'n_estimators': [500], 'seed':[seed]}\n",
        "base_estimator = XGBRegressor()\n",
        "# model = XGBRegressor()\n",
        "# for k, v in model.get_params().items():\n",
        "#     if k not in list(params.keys()):\n",
        "#         params[k] = [v]\n",
        "\n",
        "\n",
        "# scoring = 'r2'\n",
        "# num_folds = 5\n",
        "\n",
        "# kfold = KFold(n_splits=num_folds, random_state=seed)\n",
        "# grid_search_t = GridSearchCV(model, params, n_jobs=-1,\n",
        "#                              verbose=1, cv=kfold, \n",
        "#                              return_train_score=True,\n",
        "#                              scoring=scoring)\n",
        "base_estimator.fit(X_train, y_train)\n",
        "base_estimator.score(X_val, y_val)\n",
        "\n",
        "# mean = grid_search_t.cv_results_['mean_test_score'][0]\n",
        "# std = grid_search_t.cv_results_['std_test_score'][0]\n",
        "\n",
        "# name = 'GradientBoostingRegressor'\n",
        "# d = {'name': name, 'mean': round(mean, 3),\n",
        "#                  'std': round(std, 3)}\n",
        "\n",
        "# #Base model\n",
        "\n",
        "# estimator = grid_search_t.best_estimator_\n",
        "\n",
        "# d\n",
        "# clf.fit(X_train, y_train)\n",
        "# mse = mean_squared_error(y_test, clf.predict(X_test))\n",
        "# print(\"MSE: %.4f\" % mse)\n"
      ],
      "execution_count": 299,
      "outputs": [
        {
          "output_type": "stream",
          "text": [
            "/home/guess/anaconda3/lib/python3.7/site-packages/xgboost/core.py:587: FutureWarning: Series.base is deprecated and will be removed in a future version\n",
            "  if getattr(data, 'base', None) is not None and \\\n"
          ],
          "name": "stderr"
        },
        {
          "output_type": "stream",
          "text": [
            "[06:32:03] WARNING: /workspace/src/objective/regression_obj.cu:152: reg:linear is now deprecated in favor of reg:squarederror.\n",
            "CPU times: user 130 ms, sys: 12 ms, total: 142 ms\n",
            "Wall time: 206 ms\n"
          ],
          "name": "stdout"
        },
        {
          "output_type": "execute_result",
          "data": {
            "text/plain": [
              "0.6386506949842549"
            ]
          },
          "metadata": {
            "tags": []
          },
          "execution_count": 299
        }
      ]
    },
    {
      "cell_type": "markdown",
      "metadata": {
        "id": "H5ABBvJC_ZRJ",
        "colab_type": "text"
      },
      "source": [
        "Train with all data"
      ]
    },
    {
      "cell_type": "code",
      "metadata": {
        "id": "1YK3B52aIBgI",
        "colab_type": "code",
        "outputId": "fa7cfaa1-2b7a-4db2-814e-5d98f2dd0de2",
        "colab": {
          "base_uri": "https://localhost:8080/",
          "height": 173
        }
      },
      "source": [
        "base_estimator.fit(X_scaled, y.values)\n",
        "base_estimator"
      ],
      "execution_count": 300,
      "outputs": [
        {
          "output_type": "stream",
          "text": [
            "[06:32:10] WARNING: /workspace/src/objective/regression_obj.cu:152: reg:linear is now deprecated in favor of reg:squarederror.\n"
          ],
          "name": "stdout"
        },
        {
          "output_type": "execute_result",
          "data": {
            "text/plain": [
              "XGBRegressor(base_score=0.5, booster='gbtree', colsample_bylevel=1,\n",
              "             colsample_bynode=1, colsample_bytree=1, gamma=0,\n",
              "             importance_type='gain', learning_rate=0.1, max_delta_step=0,\n",
              "             max_depth=3, min_child_weight=1, missing=None, n_estimators=100,\n",
              "             n_jobs=1, nthread=None, objective='reg:linear', random_state=0,\n",
              "             reg_alpha=0, reg_lambda=1, scale_pos_weight=1, seed=None,\n",
              "             silent=None, subsample=1, verbosity=1)"
            ]
          },
          "metadata": {
            "tags": []
          },
          "execution_count": 300
        }
      ]
    },
    {
      "cell_type": "markdown",
      "metadata": {
        "colab_type": "text",
        "id": "JWFNElFAWicv"
      },
      "source": [
        "## Tuning\n",
        "\n",
        "Search the best hyperparameters"
      ]
    },
    {
      "cell_type": "code",
      "metadata": {
        "colab_type": "code",
        "id": "gH3xYBvZqK7L",
        "colab": {}
      },
      "source": [
        "# !pip install hyperopt, hpsklearn"
      ],
      "execution_count": 0,
      "outputs": []
    },
    {
      "cell_type": "code",
      "metadata": {
        "id": "LLCXvtUjIBgO",
        "colab_type": "code",
        "outputId": "3742d941-5cfb-4818-9370-76dc33fc9972",
        "colab": {
          "base_uri": "https://localhost:8080/",
          "height": 1000
        }
      },
      "source": [
        "%%time\n",
        "\n",
        "from hpsklearn import HyperoptEstimator, xgboost_regression, any_regressor, any_preprocessing\n",
        "from hyperopt import tpe\n",
        "\n",
        "# estim = HyperoptEstimator(regressor=xgboost_regression('my_clf'),\n",
        "estim = HyperoptEstimator(regressor=xgboost_regression('my_clf'),                          \n",
        "#                           preprocessing=[],\n",
        "                          algo=tpe.suggest,\n",
        "                          max_evals=80,\n",
        "                          trial_timeout=300)\n",
        "\n",
        "estim.fit( X_train, y_train.values )\n",
        "print(estim.score(X_val, y_val.values))\n",
        "print(estim.best_model())"
      ],
      "execution_count": 226,
      "outputs": [
        {
          "output_type": "stream",
          "text": [
            "[04:00:25] WARNING: /workspace/src/objective/regression_obj.cu:152: reg:linear is now deprecated in favor of reg:squarederror.\n",
            "100%|██████████| 1/1 [00:00<00:00,  1.80it/s, best loss: 3.7893839838847754]\n",
            "[04:00:26] WARNING: /workspace/src/objective/regression_obj.cu:152: reg:linear is now deprecated in favor of reg:squarederror.\n",
            "100%|██████████| 1/1 [00:04<00:00,  4.11s/it, best loss: 0.36548779030293377]\n",
            "[04:00:30] WARNING: /workspace/src/objective/regression_obj.cu:152: reg:linear is now deprecated in favor of reg:squarederror.\n",
            "100%|██████████| 1/1 [00:01<00:00,  2.00s/it, best loss: 0.36548779030293377]\n",
            "[04:00:32] WARNING: /workspace/src/objective/regression_obj.cu:152: reg:linear is now deprecated in favor of reg:squarederror.\n",
            "100%|██████████| 1/1 [00:04<00:00,  4.42s/it, best loss: 0.29757540822355544]\n",
            "[04:00:37] WARNING: /workspace/src/objective/regression_obj.cu:152: reg:linear is now deprecated in favor of reg:squarederror.\n",
            "100%|██████████| 1/1 [00:01<00:00,  1.07s/it, best loss: 0.29757540822355544]\n",
            "[04:00:38] WARNING: /workspace/src/objective/regression_obj.cu:152: reg:linear is now deprecated in favor of reg:squarederror.\n",
            "100%|██████████| 1/1 [00:00<00:00,  1.26it/s, best loss: 0.29757540822355544]\n",
            "[04:00:38] WARNING: /workspace/src/objective/regression_obj.cu:152: reg:linear is now deprecated in favor of reg:squarederror.\n",
            "100%|██████████| 1/1 [00:01<00:00,  1.28s/it, best loss: 0.2848456924669597]\n",
            "[04:00:40] WARNING: /workspace/src/objective/regression_obj.cu:152: reg:linear is now deprecated in favor of reg:squarederror.\n",
            "100%|██████████| 1/1 [00:01<00:00,  1.45s/it, best loss: 0.2848456924669597]\n",
            "[04:00:41] WARNING: /workspace/src/objective/regression_obj.cu:152: reg:linear is now deprecated in favor of reg:squarederror.\n",
            "100%|██████████| 1/1 [00:00<00:00,  2.71it/s, best loss: 0.2848456924669597]\n",
            "[04:00:42] WARNING: /workspace/src/objective/regression_obj.cu:152: reg:linear is now deprecated in favor of reg:squarederror.\n",
            "100%|██████████| 1/1 [00:00<00:00,  4.35it/s, best loss: 0.2848456924669597]\n",
            "[04:00:42] WARNING: /workspace/src/objective/regression_obj.cu:152: reg:linear is now deprecated in favor of reg:squarederror.\n",
            "100%|██████████| 1/1 [00:00<00:00,  3.92it/s, best loss: 0.2848456924669597]\n",
            "[04:00:42] WARNING: /workspace/src/objective/regression_obj.cu:152: reg:linear is now deprecated in favor of reg:squarederror.\n",
            "100%|██████████| 1/1 [00:01<00:00,  1.43s/it, best loss: 0.2848456924669597]\n",
            "[04:00:44] WARNING: /workspace/src/objective/regression_obj.cu:152: reg:linear is now deprecated in favor of reg:squarederror.\n",
            "100%|██████████| 1/1 [00:00<00:00,  2.07it/s, best loss: 0.2848456924669597]\n",
            "[04:00:44] WARNING: /workspace/src/objective/regression_obj.cu:152: reg:linear is now deprecated in favor of reg:squarederror.\n",
            "100%|██████████| 1/1 [00:01<00:00,  1.87s/it, best loss: 0.2848456924669597]\n",
            "[04:00:46] WARNING: /workspace/src/objective/regression_obj.cu:152: reg:linear is now deprecated in favor of reg:squarederror.\n",
            "100%|██████████| 1/1 [00:04<00:00,  4.11s/it, best loss: 0.2848456924669597]\n",
            "[04:00:50] WARNING: /workspace/src/objective/regression_obj.cu:152: reg:linear is now deprecated in favor of reg:squarederror.\n",
            "100%|██████████| 1/1 [00:01<00:00,  1.81s/it, best loss: 0.2848456924669597]\n",
            "[04:00:52] WARNING: /workspace/src/objective/regression_obj.cu:152: reg:linear is now deprecated in favor of reg:squarederror.\n",
            "100%|██████████| 1/1 [00:00<00:00,  1.52it/s, best loss: 0.2848456924669597]\n",
            "[04:00:53] WARNING: /workspace/src/objective/regression_obj.cu:152: reg:linear is now deprecated in favor of reg:squarederror.\n",
            "100%|██████████| 1/1 [00:01<00:00,  1.25s/it, best loss: 0.2848456924669597]\n",
            "[04:00:54] WARNING: /workspace/src/objective/regression_obj.cu:152: reg:linear is now deprecated in favor of reg:squarederror.\n",
            "100%|██████████| 1/1 [00:02<00:00,  2.94s/it, best loss: 0.2848456924669597]\n",
            "[04:00:57] WARNING: /workspace/src/objective/regression_obj.cu:152: reg:linear is now deprecated in favor of reg:squarederror.\n",
            "100%|██████████| 1/1 [00:01<00:00,  1.40s/it, best loss: 0.2848456924669597]\n",
            "[04:00:58] WARNING: /workspace/src/objective/regression_obj.cu:152: reg:linear is now deprecated in favor of reg:squarederror.\n",
            "100%|██████████| 1/1 [00:00<00:00,  1.19it/s, best loss: 0.2848456924669597]\n",
            "[04:00:59] WARNING: /workspace/src/objective/regression_obj.cu:152: reg:linear is now deprecated in favor of reg:squarederror.\n",
            "100%|██████████| 1/1 [00:01<00:00,  1.59s/it, best loss: 0.2848456924669597]\n",
            "[04:01:01] WARNING: /workspace/src/objective/regression_obj.cu:152: reg:linear is now deprecated in favor of reg:squarederror.\n",
            "100%|██████████| 1/1 [00:02<00:00,  3.00s/it, best loss: 0.2731241187427885]\n",
            "[04:01:04] WARNING: /workspace/src/objective/regression_obj.cu:152: reg:linear is now deprecated in favor of reg:squarederror.\n",
            "100%|██████████| 1/1 [00:03<00:00,  3.26s/it, best loss: 0.2731241187427885]\n",
            "[04:01:07] WARNING: /workspace/src/objective/regression_obj.cu:152: reg:linear is now deprecated in favor of reg:squarederror.\n",
            "100%|██████████| 1/1 [00:01<00:00,  1.77s/it, best loss: 0.2580200972811485]\n",
            "[04:01:09] WARNING: /workspace/src/objective/regression_obj.cu:152: reg:linear is now deprecated in favor of reg:squarederror.\n",
            "100%|██████████| 1/1 [00:02<00:00,  2.70s/it, best loss: 0.2580200972811485]\n",
            "[04:01:12] WARNING: /workspace/src/objective/regression_obj.cu:152: reg:linear is now deprecated in favor of reg:squarederror.\n",
            "100%|██████████| 1/1 [00:02<00:00,  2.62s/it, best loss: 0.2580200972811485]\n",
            "[04:01:14] WARNING: /workspace/src/objective/regression_obj.cu:152: reg:linear is now deprecated in favor of reg:squarederror.\n",
            "100%|██████████| 1/1 [00:02<00:00,  2.02s/it, best loss: 0.2580200972811485]\n",
            "[04:01:16] WARNING: /workspace/src/objective/regression_obj.cu:152: reg:linear is now deprecated in favor of reg:squarederror.\n",
            "100%|██████████| 1/1 [00:02<00:00,  2.14s/it, best loss: 0.2580200972811485]\n",
            "[04:01:18] WARNING: /workspace/src/objective/regression_obj.cu:152: reg:linear is now deprecated in favor of reg:squarederror.\n",
            "100%|██████████| 1/1 [00:02<00:00,  2.60s/it, best loss: 0.2580200972811485]\n",
            "[04:01:21] WARNING: /workspace/src/objective/regression_obj.cu:152: reg:linear is now deprecated in favor of reg:squarederror.\n",
            "100%|██████████| 1/1 [00:02<00:00,  2.76s/it, best loss: 0.2580200972811485]\n",
            "[04:01:24] WARNING: /workspace/src/objective/regression_obj.cu:152: reg:linear is now deprecated in favor of reg:squarederror.\n",
            "100%|██████████| 1/1 [00:04<00:00,  4.07s/it, best loss: 0.2580200972811485]\n",
            "[04:01:28] WARNING: /workspace/src/objective/regression_obj.cu:152: reg:linear is now deprecated in favor of reg:squarederror.\n",
            "100%|██████████| 1/1 [00:00<00:00,  1.60it/s, best loss: 0.2580200972811485]\n",
            "[04:01:29] WARNING: /workspace/src/objective/regression_obj.cu:152: reg:linear is now deprecated in favor of reg:squarederror.\n",
            "100%|██████████| 1/1 [00:03<00:00,  3.76s/it, best loss: 0.2580200972811485]\n",
            "[04:01:32] WARNING: /workspace/src/objective/regression_obj.cu:152: reg:linear is now deprecated in favor of reg:squarederror.\n",
            "100%|██████████| 1/1 [00:00<00:00,  1.20it/s, best loss: 0.2580200972811485]\n",
            "[04:01:33] WARNING: /workspace/src/objective/regression_obj.cu:152: reg:linear is now deprecated in favor of reg:squarederror.\n",
            "100%|██████████| 1/1 [00:02<00:00,  2.26s/it, best loss: 0.2580200972811485]\n",
            "[04:01:36] WARNING: /workspace/src/objective/regression_obj.cu:152: reg:linear is now deprecated in favor of reg:squarederror.\n",
            "100%|██████████| 1/1 [00:04<00:00,  4.50s/it, best loss: 0.2580200972811485]\n",
            "[04:01:40] WARNING: /workspace/src/objective/regression_obj.cu:152: reg:linear is now deprecated in favor of reg:squarederror.\n",
            "100%|██████████| 1/1 [00:03<00:00,  3.26s/it, best loss: 0.2580200972811485]\n",
            "[04:01:43] WARNING: /workspace/src/objective/regression_obj.cu:152: reg:linear is now deprecated in favor of reg:squarederror.\n",
            "100%|██████████| 1/1 [00:04<00:00,  4.39s/it, best loss: 0.2580200972811485]\n",
            "[04:01:48] WARNING: /workspace/src/objective/regression_obj.cu:152: reg:linear is now deprecated in favor of reg:squarederror.\n",
            "100%|██████████| 1/1 [00:01<00:00,  1.88s/it, best loss: 0.2580200972811485]\n",
            "[04:01:50] WARNING: /workspace/src/objective/regression_obj.cu:152: reg:linear is now deprecated in favor of reg:squarederror.\n",
            "100%|██████████| 1/1 [00:00<00:00,  1.13it/s, best loss: 0.2580200972811485]\n",
            "[04:01:51] WARNING: /workspace/src/objective/regression_obj.cu:152: reg:linear is now deprecated in favor of reg:squarederror.\n",
            "100%|██████████| 1/1 [00:02<00:00,  2.81s/it, best loss: 0.2580200972811485]\n",
            "[04:01:54] WARNING: /workspace/src/objective/regression_obj.cu:152: reg:linear is now deprecated in favor of reg:squarederror.\n",
            "100%|██████████| 1/1 [00:02<00:00,  2.38s/it, best loss: 0.2580200972811485]\n",
            "[04:01:56] WARNING: /workspace/src/objective/regression_obj.cu:152: reg:linear is now deprecated in favor of reg:squarederror.\n",
            "100%|██████████| 1/1 [00:00<00:00,  3.80it/s, best loss: 0.2580200972811485]\n",
            "[04:01:56] WARNING: /workspace/src/objective/regression_obj.cu:152: reg:linear is now deprecated in favor of reg:squarederror.\n",
            "100%|██████████| 1/1 [00:01<00:00,  1.38s/it, best loss: 0.2580200972811485]\n",
            "[04:01:58] WARNING: /workspace/src/objective/regression_obj.cu:152: reg:linear is now deprecated in favor of reg:squarederror.\n",
            "100%|██████████| 1/1 [00:01<00:00,  1.08s/it, best loss: 0.2580200972811485]\n",
            "[04:02:00] WARNING: /workspace/src/objective/regression_obj.cu:152: reg:linear is now deprecated in favor of reg:squarederror.\n",
            "100%|██████████| 1/1 [00:00<00:00,  1.81it/s, best loss: 0.2580200972811485]\n",
            "[04:02:01] WARNING: /workspace/src/objective/regression_obj.cu:152: reg:linear is now deprecated in favor of reg:squarederror.\n",
            "100%|██████████| 1/1 [00:05<00:00,  5.46s/it, best loss: 0.2580200972811485]\n",
            "[04:02:06] WARNING: /workspace/src/objective/regression_obj.cu:152: reg:linear is now deprecated in favor of reg:squarederror.\n",
            "100%|██████████| 1/1 [00:03<00:00,  3.46s/it, best loss: 0.2580200972811485]\n",
            "[04:02:10] WARNING: /workspace/src/objective/regression_obj.cu:152: reg:linear is now deprecated in favor of reg:squarederror.\n",
            "100%|██████████| 1/1 [00:01<00:00,  1.27s/it, best loss: 0.2580200972811485]\n",
            "[04:02:11] WARNING: /workspace/src/objective/regression_obj.cu:152: reg:linear is now deprecated in favor of reg:squarederror.\n",
            "100%|██████████| 1/1 [00:01<00:00,  1.17s/it, best loss: 0.2580200972811485]\n",
            "[04:02:12] WARNING: /workspace/src/objective/regression_obj.cu:152: reg:linear is now deprecated in favor of reg:squarederror.\n",
            "100%|██████████| 1/1 [00:00<00:00,  2.53it/s, best loss: 0.2580200972811485]\n",
            "[04:02:13] WARNING: /workspace/src/objective/regression_obj.cu:152: reg:linear is now deprecated in favor of reg:squarederror.\n",
            "100%|██████████| 1/1 [00:01<00:00,  1.40s/it, best loss: 0.2580200972811485]\n",
            "[04:02:14] WARNING: /workspace/src/objective/regression_obj.cu:152: reg:linear is now deprecated in favor of reg:squarederror.\n",
            "100%|██████████| 1/1 [00:01<00:00,  1.79s/it, best loss: 0.2580200972811485]\n",
            "[04:02:16] WARNING: /workspace/src/objective/regression_obj.cu:152: reg:linear is now deprecated in favor of reg:squarederror.\n",
            "100%|██████████| 1/1 [00:04<00:00,  4.79s/it, best loss: 0.2580200972811485]\n",
            "[04:02:21] WARNING: /workspace/src/objective/regression_obj.cu:152: reg:linear is now deprecated in favor of reg:squarederror.\n",
            "100%|██████████| 1/1 [00:02<00:00,  2.08s/it, best loss: 0.2580200972811485]\n",
            "[04:02:23] WARNING: /workspace/src/objective/regression_obj.cu:152: reg:linear is now deprecated in favor of reg:squarederror.\n",
            "100%|██████████| 1/1 [00:00<00:00,  2.17it/s, best loss: 0.2580200972811485]\n",
            "[04:02:23] WARNING: /workspace/src/objective/regression_obj.cu:152: reg:linear is now deprecated in favor of reg:squarederror.\n",
            "100%|██████████| 1/1 [00:02<00:00,  2.82s/it, best loss: 0.2580200972811485]\n",
            "[04:02:26] WARNING: /workspace/src/objective/regression_obj.cu:152: reg:linear is now deprecated in favor of reg:squarederror.\n",
            "100%|██████████| 1/1 [00:05<00:00,  5.87s/it, best loss: 0.2580200972811485]\n",
            "[04:02:32] WARNING: /workspace/src/objective/regression_obj.cu:152: reg:linear is now deprecated in favor of reg:squarederror.\n",
            "100%|██████████| 1/1 [00:00<00:00,  1.35it/s, best loss: 0.2580200972811485]\n",
            "[04:02:33] WARNING: /workspace/src/objective/regression_obj.cu:152: reg:linear is now deprecated in favor of reg:squarederror.\n",
            "100%|██████████| 1/1 [00:01<00:00,  1.72s/it, best loss: 0.2580200972811485]\n",
            "[04:02:35] WARNING: /workspace/src/objective/regression_obj.cu:152: reg:linear is now deprecated in favor of reg:squarederror.\n",
            "100%|██████████| 1/1 [00:03<00:00,  3.31s/it, best loss: 0.2580200972811485]\n",
            "[04:02:38] WARNING: /workspace/src/objective/regression_obj.cu:152: reg:linear is now deprecated in favor of reg:squarederror.\n",
            "100%|██████████| 1/1 [00:01<00:00,  1.39s/it, best loss: 0.2580200972811485]\n",
            "[04:02:39] WARNING: /workspace/src/objective/regression_obj.cu:152: reg:linear is now deprecated in favor of reg:squarederror.\n",
            "100%|██████████| 1/1 [00:01<00:00,  1.75s/it, best loss: 0.2580200972811485]\n",
            "[04:02:41] WARNING: /workspace/src/objective/regression_obj.cu:152: reg:linear is now deprecated in favor of reg:squarederror.\n",
            "100%|██████████| 1/1 [00:02<00:00,  2.41s/it, best loss: 0.2580200972811485]\n",
            "[04:02:43] WARNING: /workspace/src/objective/regression_obj.cu:152: reg:linear is now deprecated in favor of reg:squarederror.\n",
            "100%|██████████| 1/1 [00:02<00:00,  2.87s/it, best loss: 0.2580200972811485]\n",
            "[04:02:46] WARNING: /workspace/src/objective/regression_obj.cu:152: reg:linear is now deprecated in favor of reg:squarederror.\n",
            "100%|██████████| 1/1 [00:01<00:00,  1.59s/it, best loss: 0.2580200972811485]\n",
            "[04:02:48] WARNING: /workspace/src/objective/regression_obj.cu:152: reg:linear is now deprecated in favor of reg:squarederror.\n",
            "100%|██████████| 1/1 [00:03<00:00,  3.08s/it, best loss: 0.2580200972811485]\n",
            "[04:02:51] WARNING: /workspace/src/objective/regression_obj.cu:152: reg:linear is now deprecated in favor of reg:squarederror.\n",
            "100%|██████████| 1/1 [00:04<00:00,  4.25s/it, best loss: 0.2580200972811485]\n",
            "[04:02:55] WARNING: /workspace/src/objective/regression_obj.cu:152: reg:linear is now deprecated in favor of reg:squarederror.\n",
            "100%|██████████| 1/1 [00:02<00:00,  2.20s/it, best loss: 0.2580200972811485]\n",
            "[04:02:58] WARNING: /workspace/src/objective/regression_obj.cu:152: reg:linear is now deprecated in favor of reg:squarederror.\n",
            "100%|██████████| 1/1 [00:03<00:00,  3.76s/it, best loss: 0.2580200972811485]\n",
            "[04:03:01] WARNING: /workspace/src/objective/regression_obj.cu:152: reg:linear is now deprecated in favor of reg:squarederror.\n",
            "100%|██████████| 1/1 [00:02<00:00,  2.32s/it, best loss: 0.2580200972811485]\n",
            "[04:03:04] WARNING: /workspace/src/objective/regression_obj.cu:152: reg:linear is now deprecated in favor of reg:squarederror.\n",
            "100%|██████████| 1/1 [00:00<00:00,  1.20it/s, best loss: 0.2580200972811485]\n",
            "[04:03:05] WARNING: /workspace/src/objective/regression_obj.cu:152: reg:linear is now deprecated in favor of reg:squarederror.\n",
            "100%|██████████| 1/1 [00:06<00:00,  6.46s/it, best loss: 0.2580200972811485]\n",
            "[04:03:11] WARNING: /workspace/src/objective/regression_obj.cu:152: reg:linear is now deprecated in favor of reg:squarederror.\n",
            "100%|██████████| 1/1 [00:01<00:00,  1.01s/it, best loss: 0.2580200972811485]\n",
            "[04:03:12] WARNING: /workspace/src/objective/regression_obj.cu:152: reg:linear is now deprecated in favor of reg:squarederror.\n",
            "100%|██████████| 1/1 [00:00<00:00,  1.45it/s, best loss: 0.2580200972811485]\n",
            "[04:03:13] WARNING: /workspace/src/objective/regression_obj.cu:152: reg:linear is now deprecated in favor of reg:squarederror.\n",
            "100%|██████████| 1/1 [00:04<00:00,  4.40s/it, best loss: 0.2580200972811485]\n",
            "[04:03:17] WARNING: /workspace/src/objective/regression_obj.cu:152: reg:linear is now deprecated in favor of reg:squarederror.\n",
            "100%|██████████| 1/1 [00:03<00:00,  3.55s/it, best loss: 0.2580200972811485]\n",
            "[04:03:21] WARNING: /workspace/src/objective/regression_obj.cu:152: reg:linear is now deprecated in favor of reg:squarederror.\n",
            "100%|██████████| 1/1 [00:02<00:00,  2.48s/it, best loss: 0.2580200972811485]\n",
            "[04:03:23] WARNING: /workspace/src/objective/regression_obj.cu:152: reg:linear is now deprecated in favor of reg:squarederror.\n",
            "100%|██████████| 1/1 [00:00<00:00,  1.69it/s, best loss: 0.2580200972811485]\n",
            "[04:03:24] WARNING: /workspace/src/objective/regression_obj.cu:152: reg:linear is now deprecated in favor of reg:squarederror.\n",
            "0.6600958823071377\n",
            "{'learner': XGBRegressor(base_score=0.5, booster='gbtree',\n",
            "             colsample_bylevel=0.691256899739684, colsample_bynode=1,\n",
            "             colsample_bytree=0.9885013962238178, gamma=8.632535322717437e-06,\n",
            "             importance_type='gain', learning_rate=0.009988285015986373,\n",
            "             max_delta_step=0, max_depth=6, min_child_weight=2, missing=nan,\n",
            "             n_estimators=1400, n_jobs=1, nthread=None, objective='reg:linear',\n",
            "             random_state=0, reg_alpha=0.9986344039069726,\n",
            "             reg_lambda=2.754875724586894, scale_pos_weight=1, seed=4,\n",
            "             silent=None, subsample=0.9323234655182262, verbosity=1), 'preprocs': (), 'ex_preprocs': ()}\n",
            "CPU times: user 8.48 s, sys: 2.14 s, total: 10.6 s\n",
            "Wall time: 3min\n"
          ],
          "name": "stdout"
        }
      ]
    },
    {
      "cell_type": "code",
      "metadata": {
        "colab_type": "code",
        "id": "YHLFJdffuRVT",
        "outputId": "9e15d7b5-a5d6-4dc4-dc81-2ca39fc935ab",
        "colab": {
          "base_uri": "https://localhost:8080/",
          "height": 170
        }
      },
      "source": [
        "best_model_final = estim.best_model()['learner']\n",
        "best_model_final"
      ],
      "execution_count": 227,
      "outputs": [
        {
          "output_type": "execute_result",
          "data": {
            "text/plain": [
              "XGBRegressor(base_score=0.5, booster='gbtree',\n",
              "             colsample_bylevel=0.691256899739684, colsample_bynode=1,\n",
              "             colsample_bytree=0.9885013962238178, gamma=8.632535322717437e-06,\n",
              "             importance_type='gain', learning_rate=0.009988285015986373,\n",
              "             max_delta_step=0, max_depth=6, min_child_weight=2, missing=nan,\n",
              "             n_estimators=1400, n_jobs=1, nthread=None, objective='reg:linear',\n",
              "             random_state=0, reg_alpha=0.9986344039069726,\n",
              "             reg_lambda=2.754875724586894, scale_pos_weight=1, seed=4,\n",
              "             silent=None, subsample=0.9323234655182262, verbosity=1)"
            ]
          },
          "metadata": {
            "tags": []
          },
          "execution_count": 227
        }
      ]
    },
    {
      "cell_type": "markdown",
      "metadata": {
        "colab_type": "text",
        "id": "2LvjtXv-OaYM"
      },
      "source": [
        "Once we decide the best model, we need to retrain  the model with all the training set."
      ]
    },
    {
      "cell_type": "code",
      "metadata": {
        "colab_type": "code",
        "id": "jMq4FjOdtVCS",
        "outputId": "d31afd0c-fa13-42b8-c3c2-cd12568248e2",
        "colab": {
          "base_uri": "https://localhost:8080/",
          "height": 207
        }
      },
      "source": [
        "best_model_final.fit(X_scaled, y.values)\n",
        "best_model_final            "
      ],
      "execution_count": 228,
      "outputs": [
        {
          "output_type": "stream",
          "text": [
            "[04:03:50] WARNING: /workspace/src/objective/regression_obj.cu:152: reg:linear is now deprecated in favor of reg:squarederror.\n"
          ],
          "name": "stdout"
        },
        {
          "output_type": "execute_result",
          "data": {
            "text/plain": [
              "XGBRegressor(base_score=0.5, booster='gbtree',\n",
              "             colsample_bylevel=0.691256899739684, colsample_bynode=1,\n",
              "             colsample_bytree=0.9885013962238178, gamma=8.632535322717437e-06,\n",
              "             importance_type='gain', learning_rate=0.009988285015986373,\n",
              "             max_delta_step=0, max_depth=6, min_child_weight=2, missing=nan,\n",
              "             n_estimators=1400, n_jobs=1, nthread=None, objective='reg:linear',\n",
              "             random_state=0, reg_alpha=0.9986344039069726,\n",
              "             reg_lambda=2.754875724586894, scale_pos_weight=1, seed=4,\n",
              "             silent=None, subsample=0.9323234655182262, verbosity=1)"
            ]
          },
          "metadata": {
            "tags": []
          },
          "execution_count": 228
        }
      ]
    },
    {
      "cell_type": "markdown",
      "metadata": {
        "colab_type": "text",
        "id": "oAudDtdYEKus"
      },
      "source": [
        "## Testing\n",
        "\n",
        "We need to apply all the preprocessing and feature engineering steps to the test data set."
      ]
    },
    {
      "cell_type": "markdown",
      "metadata": {
        "colab_type": "text",
        "id": "xWHu-1hsXPoZ"
      },
      "source": [
        "**Synset based metrics**"
      ]
    },
    {
      "cell_type": "code",
      "metadata": {
        "colab_type": "code",
        "id": "j8xcmAXJVj3I",
        "outputId": "21489116-c79d-4c87-9a13-f798c38fe81b",
        "colab": {
          "base_uri": "https://localhost:8080/",
          "height": 357
        }
      },
      "source": [
        "# Preprocess test data\n",
        "preprocess_data_synsets(test_data) \n",
        "test_data.head(5)"
      ],
      "execution_count": 150,
      "outputs": [
        {
          "output_type": "execute_result",
          "data": {
            "text/plain": [
              "                                               sent1  \\\n",
              "0  The problem likely will mean corrective change...   \n",
              "1  The technology-laced Nasdaq Composite Index .I...   \n",
              "2  \"It's a huge black eye,\" said publisher Arthur...   \n",
              "3  SEC Chairman William Donaldson said there is a...   \n",
              "4  Vivendi shares closed 1.9 percent at 15.80 eur...   \n",
              "\n",
              "                                               sent2  score  \\\n",
              "0  He said the problem needs to be corrected befo...    4.4   \n",
              "1  The broad Standard & Poor's 500 Index .SPX inc...    0.8   \n",
              "2  \"It's a huge black eye,\" Arthur Sulzberger, th...    3.6   \n",
              "3  \"I think there's a building confidence that th...    3.4   \n",
              "4  In New York, Vivendi shares were 1.4 percent d...    1.4   \n",
              "\n",
              "                                     sent1_processed  \\\n",
              "0  [Synset('problem.n.01'), Synset('likely.a.01')...   \n",
              "1  [Synset('default.n.01'), Synset('national_asso...   \n",
              "2  [Synset('default.n.01'), Synset('second.n.01')...   \n",
              "3  [Synset('second.n.01'), Synset('president.n.04...   \n",
              "4  [Synset('default.n.01'), Synset('share.n.01'),...   \n",
              "\n",
              "                                     sent2_processed  \n",
              "0  [Synset('say.n.01'), Synset('problem.n.01'), S...  \n",
              "1  [Synset('wide.a.01'), Synset('standard.n.01'),...  \n",
              "2  [Synset('default.n.01'), Synset('second.n.01')...  \n",
              "3  [Synset('default.n.01'), Synset('think.v.01'),...  \n",
              "4  [Synset('new.a.01'), Synset('york.n.01'), Syns...  "
            ],
            "text/html": [
              "<div>\n",
              "<style scoped>\n",
              "    .dataframe tbody tr th:only-of-type {\n",
              "        vertical-align: middle;\n",
              "    }\n",
              "\n",
              "    .dataframe tbody tr th {\n",
              "        vertical-align: top;\n",
              "    }\n",
              "\n",
              "    .dataframe thead th {\n",
              "        text-align: right;\n",
              "    }\n",
              "</style>\n",
              "<table border=\"1\" class=\"dataframe\">\n",
              "  <thead>\n",
              "    <tr style=\"text-align: right;\">\n",
              "      <th></th>\n",
              "      <th>sent1</th>\n",
              "      <th>sent2</th>\n",
              "      <th>score</th>\n",
              "      <th>sent1_processed</th>\n",
              "      <th>sent2_processed</th>\n",
              "    </tr>\n",
              "  </thead>\n",
              "  <tbody>\n",
              "    <tr>\n",
              "      <th>0</th>\n",
              "      <td>The problem likely will mean corrective change...</td>\n",
              "      <td>He said the problem needs to be corrected befo...</td>\n",
              "      <td>4.4</td>\n",
              "      <td>[Synset('problem.n.01'), Synset('likely.a.01')...</td>\n",
              "      <td>[Synset('say.n.01'), Synset('problem.n.01'), S...</td>\n",
              "    </tr>\n",
              "    <tr>\n",
              "      <th>1</th>\n",
              "      <td>The technology-laced Nasdaq Composite Index .I...</td>\n",
              "      <td>The broad Standard &amp; Poor's 500 Index .SPX inc...</td>\n",
              "      <td>0.8</td>\n",
              "      <td>[Synset('default.n.01'), Synset('national_asso...</td>\n",
              "      <td>[Synset('wide.a.01'), Synset('standard.n.01'),...</td>\n",
              "    </tr>\n",
              "    <tr>\n",
              "      <th>2</th>\n",
              "      <td>\"It's a huge black eye,\" said publisher Arthur...</td>\n",
              "      <td>\"It's a huge black eye,\" Arthur Sulzberger, th...</td>\n",
              "      <td>3.6</td>\n",
              "      <td>[Synset('default.n.01'), Synset('second.n.01')...</td>\n",
              "      <td>[Synset('default.n.01'), Synset('second.n.01')...</td>\n",
              "    </tr>\n",
              "    <tr>\n",
              "      <th>3</th>\n",
              "      <td>SEC Chairman William Donaldson said there is a...</td>\n",
              "      <td>\"I think there's a building confidence that th...</td>\n",
              "      <td>3.4</td>\n",
              "      <td>[Synset('second.n.01'), Synset('president.n.04...</td>\n",
              "      <td>[Synset('default.n.01'), Synset('think.v.01'),...</td>\n",
              "    </tr>\n",
              "    <tr>\n",
              "      <th>4</th>\n",
              "      <td>Vivendi shares closed 1.9 percent at 15.80 eur...</td>\n",
              "      <td>In New York, Vivendi shares were 1.4 percent d...</td>\n",
              "      <td>1.4</td>\n",
              "      <td>[Synset('default.n.01'), Synset('share.n.01'),...</td>\n",
              "      <td>[Synset('new.a.01'), Synset('york.n.01'), Syns...</td>\n",
              "    </tr>\n",
              "  </tbody>\n",
              "</table>\n",
              "</div>"
            ]
          },
          "metadata": {
            "tags": []
          },
          "execution_count": 150
        }
      ]
    },
    {
      "cell_type": "code",
      "metadata": {
        "colab_type": "code",
        "id": "087XLAMLVz0m",
        "outputId": "e5247e2c-ef7d-47ff-cec2-69b9abd2a12d",
        "colab": {
          "base_uri": "https://localhost:8080/",
          "height": 352
        }
      },
      "source": [
        "# Append multiple synset based distances to dataframe\n",
        "add_synset_distance_metrics(test_data, cols)\n",
        "test_data.head(2)"
      ],
      "execution_count": 151,
      "outputs": [
        {
          "output_type": "execute_result",
          "data": {
            "text/plain": [
              "                                               sent1  \\\n",
              "0  The problem likely will mean corrective change...   \n",
              "1  The technology-laced Nasdaq Composite Index .I...   \n",
              "\n",
              "                                               sent2  score  \\\n",
              "0  He said the problem needs to be corrected befo...    4.4   \n",
              "1  The broad Standard & Poor's 500 Index .SPX inc...    0.8   \n",
              "\n",
              "                                     sent1_processed  \\\n",
              "0  [Synset('problem.n.01'), Synset('likely.a.01')...   \n",
              "1  [Synset('default.n.01'), Synset('national_asso...   \n",
              "\n",
              "                                     sent2_processed        ps       lch  \\\n",
              "0  [Synset('say.n.01'), Synset('problem.n.01'), S...  0.285233  0.347540   \n",
              "1  [Synset('wide.a.01'), Synset('standard.n.01'),...  0.506706  0.588826   \n",
              "\n",
              "        wup       lin  \n",
              "0  0.340741  0.231831  \n",
              "1  0.582735  0.392431  "
            ],
            "text/html": [
              "<div>\n",
              "<style scoped>\n",
              "    .dataframe tbody tr th:only-of-type {\n",
              "        vertical-align: middle;\n",
              "    }\n",
              "\n",
              "    .dataframe tbody tr th {\n",
              "        vertical-align: top;\n",
              "    }\n",
              "\n",
              "    .dataframe thead th {\n",
              "        text-align: right;\n",
              "    }\n",
              "</style>\n",
              "<table border=\"1\" class=\"dataframe\">\n",
              "  <thead>\n",
              "    <tr style=\"text-align: right;\">\n",
              "      <th></th>\n",
              "      <th>sent1</th>\n",
              "      <th>sent2</th>\n",
              "      <th>score</th>\n",
              "      <th>sent1_processed</th>\n",
              "      <th>sent2_processed</th>\n",
              "      <th>ps</th>\n",
              "      <th>lch</th>\n",
              "      <th>wup</th>\n",
              "      <th>lin</th>\n",
              "    </tr>\n",
              "  </thead>\n",
              "  <tbody>\n",
              "    <tr>\n",
              "      <th>0</th>\n",
              "      <td>The problem likely will mean corrective change...</td>\n",
              "      <td>He said the problem needs to be corrected befo...</td>\n",
              "      <td>4.4</td>\n",
              "      <td>[Synset('problem.n.01'), Synset('likely.a.01')...</td>\n",
              "      <td>[Synset('say.n.01'), Synset('problem.n.01'), S...</td>\n",
              "      <td>0.285233</td>\n",
              "      <td>0.347540</td>\n",
              "      <td>0.340741</td>\n",
              "      <td>0.231831</td>\n",
              "    </tr>\n",
              "    <tr>\n",
              "      <th>1</th>\n",
              "      <td>The technology-laced Nasdaq Composite Index .I...</td>\n",
              "      <td>The broad Standard &amp; Poor's 500 Index .SPX inc...</td>\n",
              "      <td>0.8</td>\n",
              "      <td>[Synset('default.n.01'), Synset('national_asso...</td>\n",
              "      <td>[Synset('wide.a.01'), Synset('standard.n.01'),...</td>\n",
              "      <td>0.506706</td>\n",
              "      <td>0.588826</td>\n",
              "      <td>0.582735</td>\n",
              "      <td>0.392431</td>\n",
              "    </tr>\n",
              "  </tbody>\n",
              "</table>\n",
              "</div>"
            ]
          },
          "metadata": {
            "tags": []
          },
          "execution_count": 151
        }
      ]
    },
    {
      "cell_type": "markdown",
      "metadata": {
        "id": "agcAyE35IBgf",
        "colab_type": "text"
      },
      "source": [
        "**Dependency trees**"
      ]
    },
    {
      "cell_type": "code",
      "metadata": {
        "colab_type": "code",
        "id": "yB0c_HdZIBgg",
        "colab": {
          "base_uri": "https://localhost:8080/",
          "height": 434
        },
        "outputId": "ccf75d9a-ff34-4a91-f39c-5f52fff57449"
      },
      "source": [
        "%%time\n",
        "\n",
        "preprocess_data_trees(test_data)\n",
        "test_data.head(3)"
      ],
      "execution_count": 155,
      "outputs": [
        {
          "output_type": "stream",
          "text": [
            "CPU times: user 1min 27s, sys: 2.15 s, total: 1min 29s\n",
            "Wall time: 7min 50s\n"
          ],
          "name": "stdout"
        },
        {
          "output_type": "execute_result",
          "data": {
            "text/plain": [
              "                                               sent1  \\\n",
              "0  The problem likely will mean corrective change...   \n",
              "1  The technology-laced Nasdaq Composite Index .I...   \n",
              "2  \"It's a huge black eye,\" said publisher Arthur...   \n",
              "\n",
              "                                               sent2  score  \\\n",
              "0  He said the problem needs to be corrected befo...    4.4   \n",
              "1  The broad Standard & Poor's 500 Index .SPX inc...    0.8   \n",
              "2  \"It's a huge black eye,\" Arthur Sulzberger, th...    3.6   \n",
              "\n",
              "                                     sent1_processed  \\\n",
              "0        problem mean change start fleet shuttle fly   \n",
              "1                             index nasdaq composite   \n",
              "2  eye say jr. publisher arthur ochs sulzberger p...   \n",
              "\n",
              "                                     sent2_processed        ps       lch  \\\n",
              "0  correct say need problem clear fleet space shu...  0.285233  0.347540   \n",
              "1                                         poor index  0.506706  0.588826   \n",
              "2  say eye publisher newspaper arthur sulzberger ...  0.572329  0.505012   \n",
              "\n",
              "        wup       lin  \n",
              "0  0.340741  0.231831  \n",
              "1  0.582735  0.392431  \n",
              "2  0.626161  0.469726  "
            ],
            "text/html": [
              "<div>\n",
              "<style scoped>\n",
              "    .dataframe tbody tr th:only-of-type {\n",
              "        vertical-align: middle;\n",
              "    }\n",
              "\n",
              "    .dataframe tbody tr th {\n",
              "        vertical-align: top;\n",
              "    }\n",
              "\n",
              "    .dataframe thead th {\n",
              "        text-align: right;\n",
              "    }\n",
              "</style>\n",
              "<table border=\"1\" class=\"dataframe\">\n",
              "  <thead>\n",
              "    <tr style=\"text-align: right;\">\n",
              "      <th></th>\n",
              "      <th>sent1</th>\n",
              "      <th>sent2</th>\n",
              "      <th>score</th>\n",
              "      <th>sent1_processed</th>\n",
              "      <th>sent2_processed</th>\n",
              "      <th>ps</th>\n",
              "      <th>lch</th>\n",
              "      <th>wup</th>\n",
              "      <th>lin</th>\n",
              "    </tr>\n",
              "  </thead>\n",
              "  <tbody>\n",
              "    <tr>\n",
              "      <th>0</th>\n",
              "      <td>The problem likely will mean corrective change...</td>\n",
              "      <td>He said the problem needs to be corrected befo...</td>\n",
              "      <td>4.4</td>\n",
              "      <td>problem mean change start fleet shuttle fly</td>\n",
              "      <td>correct say need problem clear fleet space shu...</td>\n",
              "      <td>0.285233</td>\n",
              "      <td>0.347540</td>\n",
              "      <td>0.340741</td>\n",
              "      <td>0.231831</td>\n",
              "    </tr>\n",
              "    <tr>\n",
              "      <th>1</th>\n",
              "      <td>The technology-laced Nasdaq Composite Index .I...</td>\n",
              "      <td>The broad Standard &amp; Poor's 500 Index .SPX inc...</td>\n",
              "      <td>0.8</td>\n",
              "      <td>index nasdaq composite</td>\n",
              "      <td>poor index</td>\n",
              "      <td>0.506706</td>\n",
              "      <td>0.588826</td>\n",
              "      <td>0.582735</td>\n",
              "      <td>0.392431</td>\n",
              "    </tr>\n",
              "    <tr>\n",
              "      <th>2</th>\n",
              "      <td>\"It's a huge black eye,\" said publisher Arthur...</td>\n",
              "      <td>\"It's a huge black eye,\" Arthur Sulzberger, th...</td>\n",
              "      <td>3.6</td>\n",
              "      <td>eye say jr. publisher arthur ochs sulzberger p...</td>\n",
              "      <td>say eye publisher newspaper arthur sulzberger ...</td>\n",
              "      <td>0.572329</td>\n",
              "      <td>0.505012</td>\n",
              "      <td>0.626161</td>\n",
              "      <td>0.469726</td>\n",
              "    </tr>\n",
              "  </tbody>\n",
              "</table>\n",
              "</div>"
            ]
          },
          "metadata": {
            "tags": []
          },
          "execution_count": 155
        }
      ]
    },
    {
      "cell_type": "code",
      "metadata": {
        "colab_type": "code",
        "id": "37MlxUzTIBgk",
        "colab": {
          "base_uri": "https://localhost:8080/",
          "height": 386
        },
        "outputId": "36eca6a7-795f-45fe-e837-9c6690f95f32"
      },
      "source": [
        "%%time\n",
        "\n",
        "depen_parsing_test = test_data[cols].apply(get_score_infersent, axis=1).values\n",
        "depen_parsing_test = pd.DataFrame(np.stack(depen_parsing_test), columns=['dp'])\n",
        "test_data = pd.concat([test_data, depen_parsing_test], axis=1)\n",
        "test_data.head(2)"
      ],
      "execution_count": 156,
      "outputs": [
        {
          "output_type": "stream",
          "text": [
            "CPU times: user 8min 17s, sys: 379 ms, total: 8min 18s\n",
            "Wall time: 8min 21s\n"
          ],
          "name": "stdout"
        },
        {
          "output_type": "execute_result",
          "data": {
            "text/plain": [
              "                                               sent1  \\\n",
              "0  The problem likely will mean corrective change...   \n",
              "1  The technology-laced Nasdaq Composite Index .I...   \n",
              "\n",
              "                                               sent2  score  \\\n",
              "0  He said the problem needs to be corrected befo...    4.4   \n",
              "1  The broad Standard & Poor's 500 Index .SPX inc...    0.8   \n",
              "\n",
              "                               sent1_processed  \\\n",
              "0  problem mean change start fleet shuttle fly   \n",
              "1                       index nasdaq composite   \n",
              "\n",
              "                                     sent2_processed        ps       lch  \\\n",
              "0  correct say need problem clear fleet space shu...  0.285233  0.347540   \n",
              "1                                         poor index  0.506706  0.588826   \n",
              "\n",
              "        wup       lin        dp  \n",
              "0  0.340741  0.231831  0.963686  \n",
              "1  0.582735  0.392431  0.952877  "
            ],
            "text/html": [
              "<div>\n",
              "<style scoped>\n",
              "    .dataframe tbody tr th:only-of-type {\n",
              "        vertical-align: middle;\n",
              "    }\n",
              "\n",
              "    .dataframe tbody tr th {\n",
              "        vertical-align: top;\n",
              "    }\n",
              "\n",
              "    .dataframe thead th {\n",
              "        text-align: right;\n",
              "    }\n",
              "</style>\n",
              "<table border=\"1\" class=\"dataframe\">\n",
              "  <thead>\n",
              "    <tr style=\"text-align: right;\">\n",
              "      <th></th>\n",
              "      <th>sent1</th>\n",
              "      <th>sent2</th>\n",
              "      <th>score</th>\n",
              "      <th>sent1_processed</th>\n",
              "      <th>sent2_processed</th>\n",
              "      <th>ps</th>\n",
              "      <th>lch</th>\n",
              "      <th>wup</th>\n",
              "      <th>lin</th>\n",
              "      <th>dp</th>\n",
              "    </tr>\n",
              "  </thead>\n",
              "  <tbody>\n",
              "    <tr>\n",
              "      <th>0</th>\n",
              "      <td>The problem likely will mean corrective change...</td>\n",
              "      <td>He said the problem needs to be corrected befo...</td>\n",
              "      <td>4.4</td>\n",
              "      <td>problem mean change start fleet shuttle fly</td>\n",
              "      <td>correct say need problem clear fleet space shu...</td>\n",
              "      <td>0.285233</td>\n",
              "      <td>0.347540</td>\n",
              "      <td>0.340741</td>\n",
              "      <td>0.231831</td>\n",
              "      <td>0.963686</td>\n",
              "    </tr>\n",
              "    <tr>\n",
              "      <th>1</th>\n",
              "      <td>The technology-laced Nasdaq Composite Index .I...</td>\n",
              "      <td>The broad Standard &amp; Poor's 500 Index .SPX inc...</td>\n",
              "      <td>0.8</td>\n",
              "      <td>index nasdaq composite</td>\n",
              "      <td>poor index</td>\n",
              "      <td>0.506706</td>\n",
              "      <td>0.588826</td>\n",
              "      <td>0.582735</td>\n",
              "      <td>0.392431</td>\n",
              "      <td>0.952877</td>\n",
              "    </tr>\n",
              "  </tbody>\n",
              "</table>\n",
              "</div>"
            ]
          },
          "metadata": {
            "tags": []
          },
          "execution_count": 156
        }
      ]
    },
    {
      "cell_type": "markdown",
      "metadata": {
        "colab_type": "text",
        "id": "dGUZyOlCXTPg"
      },
      "source": [
        "**SentEval word embedding**\n"
      ]
    },
    {
      "cell_type": "code",
      "metadata": {
        "colab_type": "code",
        "id": "-XlqjYRwXTmd",
        "colab": {
          "base_uri": "https://localhost:8080/",
          "height": 386
        },
        "outputId": "8e913e10-d2e5-4fa3-cc91-376ef5567cc5"
      },
      "source": [
        "%%time\n",
        "\n",
        "# Preprocess data\n",
        "preprocess_data_sentevel(test_data)\n",
        "\n",
        "infer_feat_test = test_data[cols].apply(get_score_infersent, axis=1)\n",
        "infer_feat_test = pd.DataFrame(np.stack(infer_feat_test), columns=['infer'])\n",
        "test_data = pd.concat([test_data, infer_feat_test], axis=1)\n",
        "test_data.head(2)                                                "
      ],
      "execution_count": 157,
      "outputs": [
        {
          "output_type": "stream",
          "text": [
            "CPU times: user 9min 31s, sys: 371 ms, total: 9min 31s\n",
            "Wall time: 9min 33s\n"
          ],
          "name": "stdout"
        },
        {
          "output_type": "execute_result",
          "data": {
            "text/plain": [
              "                                               sent1  \\\n",
              "0  The problem likely will mean corrective change...   \n",
              "1  The technology-laced Nasdaq Composite Index .I...   \n",
              "\n",
              "                                               sent2  score  \\\n",
              "0  He said the problem needs to be corrected befo...    4.4   \n",
              "1  The broad Standard & Poor's 500 Index .SPX inc...    0.8   \n",
              "\n",
              "                                     sent1_processed  \\\n",
              "0  problem likely mean corrective change shuttle ...   \n",
              "1  technology-laced nasdaq composite index .ixic ...   \n",
              "\n",
              "                                     sent2_processed        ps       lch  \\\n",
              "0  say problem need correct space shuttle fleet c...  0.285233  0.347540   \n",
              "1  broad standard poor 's 500 index .spx inch 3 p...  0.506706  0.588826   \n",
              "\n",
              "        wup       lin        dp     infer  \n",
              "0  0.340741  0.231831  0.963686  0.964584  \n",
              "1  0.582735  0.392431  0.952877  0.946450  "
            ],
            "text/html": [
              "<div>\n",
              "<style scoped>\n",
              "    .dataframe tbody tr th:only-of-type {\n",
              "        vertical-align: middle;\n",
              "    }\n",
              "\n",
              "    .dataframe tbody tr th {\n",
              "        vertical-align: top;\n",
              "    }\n",
              "\n",
              "    .dataframe thead th {\n",
              "        text-align: right;\n",
              "    }\n",
              "</style>\n",
              "<table border=\"1\" class=\"dataframe\">\n",
              "  <thead>\n",
              "    <tr style=\"text-align: right;\">\n",
              "      <th></th>\n",
              "      <th>sent1</th>\n",
              "      <th>sent2</th>\n",
              "      <th>score</th>\n",
              "      <th>sent1_processed</th>\n",
              "      <th>sent2_processed</th>\n",
              "      <th>ps</th>\n",
              "      <th>lch</th>\n",
              "      <th>wup</th>\n",
              "      <th>lin</th>\n",
              "      <th>dp</th>\n",
              "      <th>infer</th>\n",
              "    </tr>\n",
              "  </thead>\n",
              "  <tbody>\n",
              "    <tr>\n",
              "      <th>0</th>\n",
              "      <td>The problem likely will mean corrective change...</td>\n",
              "      <td>He said the problem needs to be corrected befo...</td>\n",
              "      <td>4.4</td>\n",
              "      <td>problem likely mean corrective change shuttle ...</td>\n",
              "      <td>say problem need correct space shuttle fleet c...</td>\n",
              "      <td>0.285233</td>\n",
              "      <td>0.347540</td>\n",
              "      <td>0.340741</td>\n",
              "      <td>0.231831</td>\n",
              "      <td>0.963686</td>\n",
              "      <td>0.964584</td>\n",
              "    </tr>\n",
              "    <tr>\n",
              "      <th>1</th>\n",
              "      <td>The technology-laced Nasdaq Composite Index .I...</td>\n",
              "      <td>The broad Standard &amp; Poor's 500 Index .SPX inc...</td>\n",
              "      <td>0.8</td>\n",
              "      <td>technology-laced nasdaq composite index .ixic ...</td>\n",
              "      <td>broad standard poor 's 500 index .spx inch 3 p...</td>\n",
              "      <td>0.506706</td>\n",
              "      <td>0.588826</td>\n",
              "      <td>0.582735</td>\n",
              "      <td>0.392431</td>\n",
              "      <td>0.952877</td>\n",
              "      <td>0.946450</td>\n",
              "    </tr>\n",
              "  </tbody>\n",
              "</table>\n",
              "</div>"
            ]
          },
          "metadata": {
            "tags": []
          },
          "execution_count": 157
        }
      ]
    },
    {
      "cell_type": "markdown",
      "metadata": {
        "id": "Y-SKNF7Hn1sn",
        "colab_type": "text"
      },
      "source": [
        "### Overlap words"
      ]
    },
    {
      "cell_type": "code",
      "metadata": {
        "id": "EW0uxww0n21Q",
        "colab_type": "code",
        "colab": {
          "base_uri": "https://localhost:8080/",
          "height": 400
        },
        "outputId": "4597adb4-ae98-420f-907f-f1ac00bd796a"
      },
      "source": [
        "preprocess_count_overlap(test_data)\n",
        "test_data.head(3)"
      ],
      "execution_count": 229,
      "outputs": [
        {
          "output_type": "execute_result",
          "data": {
            "text/plain": [
              "                                               sent1  \\\n",
              "0  The problem likely will mean corrective change...   \n",
              "1  The technology-laced Nasdaq Composite Index .I...   \n",
              "2  \"It's a huge black eye,\" said publisher Arthur...   \n",
              "\n",
              "                                               sent2  score  \\\n",
              "0  He said the problem needs to be corrected befo...    4.4   \n",
              "1  The broad Standard & Poor's 500 Index .SPX inc...    0.8   \n",
              "2  \"It's a huge black eye,\" Arthur Sulzberger, th...    3.6   \n",
              "\n",
              "                                     sent1_processed  \\\n",
              "0  problem likely mean corrective change shuttle ...   \n",
              "1  technology-laced nasdaq composite index .ixic ...   \n",
              "2  `` 's huge black eye '' say publisher arthur o...   \n",
              "\n",
              "                                     sent2_processed        ps       lch  \\\n",
              "0  say problem need correct space shuttle fleet c...  0.285233  0.347540   \n",
              "1  broad standard poor 's 500 index .spx inch 3 p...  0.506706  0.588826   \n",
              "2  `` 's huge black eye '' arthur sulzberger news...  0.572329  0.505012   \n",
              "\n",
              "        wup       lin        dp     infer  \n",
              "0  0.340741  0.231831  0.963686  0.964584  \n",
              "1  0.582735  0.392431  0.952877  0.946450  \n",
              "2  0.626161  0.469726  0.947358  0.950543  "
            ],
            "text/html": [
              "<div>\n",
              "<style scoped>\n",
              "    .dataframe tbody tr th:only-of-type {\n",
              "        vertical-align: middle;\n",
              "    }\n",
              "\n",
              "    .dataframe tbody tr th {\n",
              "        vertical-align: top;\n",
              "    }\n",
              "\n",
              "    .dataframe thead th {\n",
              "        text-align: right;\n",
              "    }\n",
              "</style>\n",
              "<table border=\"1\" class=\"dataframe\">\n",
              "  <thead>\n",
              "    <tr style=\"text-align: right;\">\n",
              "      <th></th>\n",
              "      <th>sent1</th>\n",
              "      <th>sent2</th>\n",
              "      <th>score</th>\n",
              "      <th>sent1_processed</th>\n",
              "      <th>sent2_processed</th>\n",
              "      <th>ps</th>\n",
              "      <th>lch</th>\n",
              "      <th>wup</th>\n",
              "      <th>lin</th>\n",
              "      <th>dp</th>\n",
              "      <th>infer</th>\n",
              "    </tr>\n",
              "  </thead>\n",
              "  <tbody>\n",
              "    <tr>\n",
              "      <th>0</th>\n",
              "      <td>The problem likely will mean corrective change...</td>\n",
              "      <td>He said the problem needs to be corrected befo...</td>\n",
              "      <td>4.4</td>\n",
              "      <td>problem likely mean corrective change shuttle ...</td>\n",
              "      <td>say problem need correct space shuttle fleet c...</td>\n",
              "      <td>0.285233</td>\n",
              "      <td>0.347540</td>\n",
              "      <td>0.340741</td>\n",
              "      <td>0.231831</td>\n",
              "      <td>0.963686</td>\n",
              "      <td>0.964584</td>\n",
              "    </tr>\n",
              "    <tr>\n",
              "      <th>1</th>\n",
              "      <td>The technology-laced Nasdaq Composite Index .I...</td>\n",
              "      <td>The broad Standard &amp; Poor's 500 Index .SPX inc...</td>\n",
              "      <td>0.8</td>\n",
              "      <td>technology-laced nasdaq composite index .ixic ...</td>\n",
              "      <td>broad standard poor 's 500 index .spx inch 3 p...</td>\n",
              "      <td>0.506706</td>\n",
              "      <td>0.588826</td>\n",
              "      <td>0.582735</td>\n",
              "      <td>0.392431</td>\n",
              "      <td>0.952877</td>\n",
              "      <td>0.946450</td>\n",
              "    </tr>\n",
              "    <tr>\n",
              "      <th>2</th>\n",
              "      <td>\"It's a huge black eye,\" said publisher Arthur...</td>\n",
              "      <td>\"It's a huge black eye,\" Arthur Sulzberger, th...</td>\n",
              "      <td>3.6</td>\n",
              "      <td>`` 's huge black eye '' say publisher arthur o...</td>\n",
              "      <td>`` 's huge black eye '' arthur sulzberger news...</td>\n",
              "      <td>0.572329</td>\n",
              "      <td>0.505012</td>\n",
              "      <td>0.626161</td>\n",
              "      <td>0.469726</td>\n",
              "      <td>0.947358</td>\n",
              "      <td>0.950543</td>\n",
              "    </tr>\n",
              "  </tbody>\n",
              "</table>\n",
              "</div>"
            ]
          },
          "metadata": {
            "tags": []
          },
          "execution_count": 229
        }
      ]
    },
    {
      "cell_type": "code",
      "metadata": {
        "id": "da4NwK2zn5ql",
        "colab_type": "code",
        "colab": {
          "base_uri": "https://localhost:8080/",
          "height": 386
        },
        "outputId": "1c19c94b-db83-443b-fce7-5856f23862c6"
      },
      "source": [
        "%%time\n",
        "\n",
        "overlap_feat_test = test_data[cols].apply(count_overlap, axis=1)\n",
        "overlap_feat_test = pd.DataFrame(np.stack(overlap_feat_test), columns=['over'])\n",
        "test_data = pd.concat([test_data, overlap_feat_test], axis=1)\n",
        "test_data.head(2)\n"
      ],
      "execution_count": 230,
      "outputs": [
        {
          "output_type": "stream",
          "text": [
            "CPU times: user 135 ms, sys: 0 ns, total: 135 ms\n",
            "Wall time: 145 ms\n"
          ],
          "name": "stdout"
        },
        {
          "output_type": "execute_result",
          "data": {
            "text/plain": [
              "                                               sent1  \\\n",
              "0  The problem likely will mean corrective change...   \n",
              "1  The technology-laced Nasdaq Composite Index .I...   \n",
              "\n",
              "                                               sent2  score  \\\n",
              "0  He said the problem needs to be corrected befo...    4.4   \n",
              "1  The broad Standard & Poor's 500 Index .SPX inc...    0.8   \n",
              "\n",
              "                                     sent1_processed  \\\n",
              "0  problem likely mean corrective change shuttle ...   \n",
              "1  technology-laced nasdaq composite index .ixic ...   \n",
              "\n",
              "                                     sent2_processed        ps       lch  \\\n",
              "0  say problem need correct space shuttle fleet c...  0.285233  0.347540   \n",
              "1  broad standard poor 's 500 index .spx inch 3 p...  0.506706  0.588826   \n",
              "\n",
              "        wup       lin        dp     infer      over  \n",
              "0  0.340741  0.231831  0.963686  0.964584  0.444444  \n",
              "1  0.582735  0.392431  0.952877  0.946450  0.333333  "
            ],
            "text/html": [
              "<div>\n",
              "<style scoped>\n",
              "    .dataframe tbody tr th:only-of-type {\n",
              "        vertical-align: middle;\n",
              "    }\n",
              "\n",
              "    .dataframe tbody tr th {\n",
              "        vertical-align: top;\n",
              "    }\n",
              "\n",
              "    .dataframe thead th {\n",
              "        text-align: right;\n",
              "    }\n",
              "</style>\n",
              "<table border=\"1\" class=\"dataframe\">\n",
              "  <thead>\n",
              "    <tr style=\"text-align: right;\">\n",
              "      <th></th>\n",
              "      <th>sent1</th>\n",
              "      <th>sent2</th>\n",
              "      <th>score</th>\n",
              "      <th>sent1_processed</th>\n",
              "      <th>sent2_processed</th>\n",
              "      <th>ps</th>\n",
              "      <th>lch</th>\n",
              "      <th>wup</th>\n",
              "      <th>lin</th>\n",
              "      <th>dp</th>\n",
              "      <th>infer</th>\n",
              "      <th>over</th>\n",
              "    </tr>\n",
              "  </thead>\n",
              "  <tbody>\n",
              "    <tr>\n",
              "      <th>0</th>\n",
              "      <td>The problem likely will mean corrective change...</td>\n",
              "      <td>He said the problem needs to be corrected befo...</td>\n",
              "      <td>4.4</td>\n",
              "      <td>problem likely mean corrective change shuttle ...</td>\n",
              "      <td>say problem need correct space shuttle fleet c...</td>\n",
              "      <td>0.285233</td>\n",
              "      <td>0.347540</td>\n",
              "      <td>0.340741</td>\n",
              "      <td>0.231831</td>\n",
              "      <td>0.963686</td>\n",
              "      <td>0.964584</td>\n",
              "      <td>0.444444</td>\n",
              "    </tr>\n",
              "    <tr>\n",
              "      <th>1</th>\n",
              "      <td>The technology-laced Nasdaq Composite Index .I...</td>\n",
              "      <td>The broad Standard &amp; Poor's 500 Index .SPX inc...</td>\n",
              "      <td>0.8</td>\n",
              "      <td>technology-laced nasdaq composite index .ixic ...</td>\n",
              "      <td>broad standard poor 's 500 index .spx inch 3 p...</td>\n",
              "      <td>0.506706</td>\n",
              "      <td>0.588826</td>\n",
              "      <td>0.582735</td>\n",
              "      <td>0.392431</td>\n",
              "      <td>0.952877</td>\n",
              "      <td>0.946450</td>\n",
              "      <td>0.333333</td>\n",
              "    </tr>\n",
              "  </tbody>\n",
              "</table>\n",
              "</div>"
            ]
          },
          "metadata": {
            "tags": []
          },
          "execution_count": 230
        }
      ]
    },
    {
      "cell_type": "markdown",
      "metadata": {
        "id": "_8gZeYibn-RI",
        "colab_type": "text"
      },
      "source": [
        "### Splitting\n"
      ]
    },
    {
      "cell_type": "code",
      "metadata": {
        "colab_type": "code",
        "id": "ZrNsNhmuaslj",
        "colab": {
          "base_uri": "https://localhost:8080/",
          "height": 221
        },
        "outputId": "34f18b36-e8b6-4c5e-aac7-328148f325c0"
      },
      "source": [
        "X_test = test_data[features].copy()\n",
        "y_test = test_data[label].copy()\n",
        "print(len(X_test))\n",
        "X_test.head()"
      ],
      "execution_count": 231,
      "outputs": [
        {
          "output_type": "stream",
          "text": [
            "3108\n"
          ],
          "name": "stdout"
        },
        {
          "output_type": "execute_result",
          "data": {
            "text/plain": [
              "         ps       lch       wup       lin        dp     infer      over\n",
              "0  0.285233  0.347540  0.340741  0.231831  0.963686  0.964584  0.444444\n",
              "1  0.506706  0.588826  0.582735  0.392431  0.952877  0.946450  0.333333\n",
              "2  0.572329  0.505012  0.626161  0.469726  0.947358  0.950543  0.709677\n",
              "3  0.485281  0.553779  0.538273  0.481043  0.940341  0.942599  0.526316\n",
              "4  0.293447  0.365735  0.379464  0.334849  0.903658  0.927247  0.421053"
            ],
            "text/html": [
              "<div>\n",
              "<style scoped>\n",
              "    .dataframe tbody tr th:only-of-type {\n",
              "        vertical-align: middle;\n",
              "    }\n",
              "\n",
              "    .dataframe tbody tr th {\n",
              "        vertical-align: top;\n",
              "    }\n",
              "\n",
              "    .dataframe thead th {\n",
              "        text-align: right;\n",
              "    }\n",
              "</style>\n",
              "<table border=\"1\" class=\"dataframe\">\n",
              "  <thead>\n",
              "    <tr style=\"text-align: right;\">\n",
              "      <th></th>\n",
              "      <th>ps</th>\n",
              "      <th>lch</th>\n",
              "      <th>wup</th>\n",
              "      <th>lin</th>\n",
              "      <th>dp</th>\n",
              "      <th>infer</th>\n",
              "      <th>over</th>\n",
              "    </tr>\n",
              "  </thead>\n",
              "  <tbody>\n",
              "    <tr>\n",
              "      <th>0</th>\n",
              "      <td>0.285233</td>\n",
              "      <td>0.347540</td>\n",
              "      <td>0.340741</td>\n",
              "      <td>0.231831</td>\n",
              "      <td>0.963686</td>\n",
              "      <td>0.964584</td>\n",
              "      <td>0.444444</td>\n",
              "    </tr>\n",
              "    <tr>\n",
              "      <th>1</th>\n",
              "      <td>0.506706</td>\n",
              "      <td>0.588826</td>\n",
              "      <td>0.582735</td>\n",
              "      <td>0.392431</td>\n",
              "      <td>0.952877</td>\n",
              "      <td>0.946450</td>\n",
              "      <td>0.333333</td>\n",
              "    </tr>\n",
              "    <tr>\n",
              "      <th>2</th>\n",
              "      <td>0.572329</td>\n",
              "      <td>0.505012</td>\n",
              "      <td>0.626161</td>\n",
              "      <td>0.469726</td>\n",
              "      <td>0.947358</td>\n",
              "      <td>0.950543</td>\n",
              "      <td>0.709677</td>\n",
              "    </tr>\n",
              "    <tr>\n",
              "      <th>3</th>\n",
              "      <td>0.485281</td>\n",
              "      <td>0.553779</td>\n",
              "      <td>0.538273</td>\n",
              "      <td>0.481043</td>\n",
              "      <td>0.940341</td>\n",
              "      <td>0.942599</td>\n",
              "      <td>0.526316</td>\n",
              "    </tr>\n",
              "    <tr>\n",
              "      <th>4</th>\n",
              "      <td>0.293447</td>\n",
              "      <td>0.365735</td>\n",
              "      <td>0.379464</td>\n",
              "      <td>0.334849</td>\n",
              "      <td>0.903658</td>\n",
              "      <td>0.927247</td>\n",
              "      <td>0.421053</td>\n",
              "    </tr>\n",
              "  </tbody>\n",
              "</table>\n",
              "</div>"
            ]
          },
          "metadata": {
            "tags": []
          },
          "execution_count": 231
        }
      ]
    },
    {
      "cell_type": "markdown",
      "metadata": {
        "id": "dC8j_XZfDi0n",
        "colab_type": "text"
      },
      "source": [
        "Save testing features"
      ]
    },
    {
      "cell_type": "code",
      "metadata": {
        "id": "dBz8LE2LDh_x",
        "colab_type": "code",
        "colab": {}
      },
      "source": [
        "X_y_test = pd.concat([X_test, y_test], axis=1)\n",
        "X_y_test.to_csv('test_features.csv', index=False)"
      ],
      "execution_count": 0,
      "outputs": []
    },
    {
      "cell_type": "markdown",
      "metadata": {
        "colab_type": "text",
        "id": "HB_z-pMRhBSo"
      },
      "source": [
        "**Scaling**"
      ]
    },
    {
      "cell_type": "code",
      "metadata": {
        "colab_type": "code",
        "id": "jbtqGl3vhCl8",
        "colab": {
          "base_uri": "https://localhost:8080/",
          "height": 238
        },
        "outputId": "0e2502ae-1e2c-4fd4-b075-e643d0945c82"
      },
      "source": [
        "X_test_scaled = scaler.transform(X_test)\n",
        "X_test_scaled"
      ],
      "execution_count": 233,
      "outputs": [
        {
          "output_type": "execute_result",
          "data": {
            "text/plain": [
              "array([[-8.65733289e-01, -6.64059222e-01, -1.16016356e+00, ...,\n",
              "         6.04752103e-01,  5.47792399e-01, -4.66960754e-01],\n",
              "       [ 1.80299655e-01,  7.07711348e-01,  1.63474364e-01, ...,\n",
              "         2.99493957e-01,  1.49645800e-03, -9.12443805e-01],\n",
              "       [ 4.90241796e-01,  2.31210719e-01,  4.01006641e-01, ...,\n",
              "         1.43619283e-01,  1.24786475e-01,  5.96450398e-01],\n",
              "       ...,\n",
              "       [-1.92666468e+00, -1.82480364e+00, -2.40997130e+00, ...,\n",
              "        -1.14722906e+00, -2.38331356e+00, -2.24889296e+00],\n",
              "       [-1.96338101e+00, -1.84546970e+00, -2.38916184e+00, ...,\n",
              "        -2.02937080e+00, -6.79979668e-01,  1.09546723e-01],\n",
              "       [ 2.39454548e-01, -2.22079986e+00,  3.32498432e-01, ...,\n",
              "         6.97716334e-01,  9.07819216e-01,  4.21627318e-02]])"
            ]
          },
          "metadata": {
            "tags": []
          },
          "execution_count": 233
        }
      ]
    },
    {
      "cell_type": "markdown",
      "metadata": {
        "id": "aO6M2C-ZIBgu",
        "colab_type": "text"
      },
      "source": [
        "With tunning"
      ]
    },
    {
      "cell_type": "code",
      "metadata": {
        "id": "vYw_LeIJIBgv",
        "colab_type": "code",
        "colab": {
          "base_uri": "https://localhost:8080/",
          "height": 34
        },
        "outputId": "8d3bfd7e-402f-4309-a319-998a15d89564"
      },
      "source": [
        "y_pred = best_model_final.predict(X_test_scaled)\n",
        "\n",
        "\n",
        "print(f'Pearson correlation: {pearsonr(y_test.values, y_pred)[0]}')"
      ],
      "execution_count": 234,
      "outputs": [
        {
          "output_type": "stream",
          "text": [
            "Pearson correlation: 0.7157993941663809\n"
          ],
          "name": "stdout"
        }
      ]
    },
    {
      "cell_type": "markdown",
      "metadata": {
        "id": "OjWd1KGAIBgz",
        "colab_type": "text"
      },
      "source": [
        "Without tuning"
      ]
    },
    {
      "cell_type": "code",
      "metadata": {
        "colab_type": "code",
        "id": "i785FTb_nUPu",
        "colab": {
          "base_uri": "https://localhost:8080/",
          "height": 34
        },
        "outputId": "8ad86d4c-5d44-48e6-df74-794b94d78e3e"
      },
      "source": [
        "y_pred = base_estimator.predict(X_test_scaled)\n",
        "\n",
        "\n",
        "print(f'Pearson correlation: {pearsonr(y_test.values, y_pred)[0]}')"
      ],
      "execution_count": 301,
      "outputs": [
        {
          "output_type": "stream",
          "text": [
            "Pearson correlation: 0.7099004567694918\n"
          ],
          "name": "stdout"
        }
      ]
    },
    {
      "cell_type": "markdown",
      "metadata": {
        "id": "_gRKZkpbwjE7",
        "colab_type": "text"
      },
      "source": [
        "### Feature importance\n"
      ]
    },
    {
      "cell_type": "code",
      "metadata": {
        "id": "uO9MfoiMIBg6",
        "colab_type": "code",
        "colab": {
          "base_uri": "https://localhost:8080/",
          "height": 269
        },
        "outputId": "8740c641-b0ab-4ecf-8641-4c6b7ae2382b"
      },
      "source": [
        "import matplotlib.pyplot as plt\n",
        "\n",
        "(pd.Series(best_model_final.feature_importances_, index=X.columns)\n",
        "   .nlargest(10)\n",
        "   .plot(kind='barh')) \n",
        "plt.show()"
      ],
      "execution_count": 249,
      "outputs": [
        {
          "output_type": "display_data",
          "data": {
            "text/plain": [
              "<Figure size 432x288 with 1 Axes>"
            ],
            "image/png": "[encoded data removed]"
          },
          "metadata": {
            "tags": [],
            "needs_background": "light"
          }
        }
      ]
    },
    {
      "cell_type": "markdown",
      "metadata": {
        "id": "pR69Ok_RtZ1P",
        "colab_type": "text"
      },
      "source": [
        "# AutoML\n",
        "\n",
        "Try out several models taking into advantage metalearning approach, which is the feature learning space learnt from differents types of datasets. \n",
        "\n",
        "Reference:\n",
        "\n",
        "- Efficient and Robust Automated Machine Learning, Feurer et al., Advances in Neural Information Processing Systems 28 (NIPS 2015).\n"
      ]
    },
    {
      "cell_type": "code",
      "metadata": {
        "id": "OBxxYHA6zC3l",
        "colab_type": "code",
        "colab": {}
      },
      "source": [
        "# !sudo apt-get install build-essential swig\n",
        "# !pip install auto-sklearn"
      ],
      "execution_count": 0,
      "outputs": []
    },
    {
      "cell_type": "code",
      "metadata": {
        "id": "0X-0Yhgl8EUd",
        "colab_type": "code",
        "colab": {}
      },
      "source": [
        "# !pip install deap update_checker tqdm stopit tpot"
      ],
      "execution_count": 0,
      "outputs": []
    },
    {
      "cell_type": "markdown",
      "metadata": {
        "id": "KXQQbObBHUjU",
        "colab_type": "text"
      },
      "source": [
        "Read training features"
      ]
    },
    {
      "cell_type": "code",
      "metadata": {
        "id": "qWvDjya6GXQz",
        "colab_type": "code",
        "colab": {
          "base_uri": "https://localhost:8080/",
          "height": 221
        },
        "outputId": "f5639d56-579c-4f55-9553-fa4feaf0630b"
      },
      "source": [
        "train_load = pd.read_csv('train_features.csv')\n",
        "print(len(train_load))\n",
        "X_load_train = train_load.loc[:, train_load.columns != 'score']\n",
        "y_load_train = train_load['score']\n",
        "\n",
        "scaler2 = StandardScaler()\n",
        "scaler2.fit(X_load_train) # This scaler will be used for testing stage too\n",
        "X_load_train_scaled = scaler2.transform(X_load_train)\n",
        "\n",
        "X_load_train.head()"
      ],
      "execution_count": 3,
      "outputs": [
        {
          "output_type": "stream",
          "text": [
            "2234\n"
          ],
          "name": "stdout"
        },
        {
          "output_type": "execute_result",
          "data": {
            "text/plain": [
              "         ps       lch       wup       lin        dp     infer      over\n",
              "0  0.576236  0.478867  0.603125  0.441224  0.944957  0.958609  0.642857\n",
              "1  0.433333  0.366896  0.444444  0.280471  0.916931  0.946287  0.631579\n",
              "2  0.423077  0.371224  0.485209  0.043715  0.939007  0.938343  0.500000\n",
              "3  0.622222  0.355331  0.638889  0.333333  0.950514  0.964189  0.733333\n",
              "4  0.621759  0.593266  0.727564  0.465101  0.879717  0.913712  0.260870"
            ],
            "text/html": [
              "<div>\n",
              "<style scoped>\n",
              "    .dataframe tbody tr th:only-of-type {\n",
              "        vertical-align: middle;\n",
              "    }\n",
              "\n",
              "    .dataframe tbody tr th {\n",
              "        vertical-align: top;\n",
              "    }\n",
              "\n",
              "    .dataframe thead th {\n",
              "        text-align: right;\n",
              "    }\n",
              "</style>\n",
              "<table border=\"1\" class=\"dataframe\">\n",
              "  <thead>\n",
              "    <tr style=\"text-align: right;\">\n",
              "      <th></th>\n",
              "      <th>ps</th>\n",
              "      <th>lch</th>\n",
              "      <th>wup</th>\n",
              "      <th>lin</th>\n",
              "      <th>dp</th>\n",
              "      <th>infer</th>\n",
              "      <th>over</th>\n",
              "    </tr>\n",
              "  </thead>\n",
              "  <tbody>\n",
              "    <tr>\n",
              "      <th>0</th>\n",
              "      <td>0.576236</td>\n",
              "      <td>0.478867</td>\n",
              "      <td>0.603125</td>\n",
              "      <td>0.441224</td>\n",
              "      <td>0.944957</td>\n",
              "      <td>0.958609</td>\n",
              "      <td>0.642857</td>\n",
              "    </tr>\n",
              "    <tr>\n",
              "      <th>1</th>\n",
              "      <td>0.433333</td>\n",
              "      <td>0.366896</td>\n",
              "      <td>0.444444</td>\n",
              "      <td>0.280471</td>\n",
              "      <td>0.916931</td>\n",
              "      <td>0.946287</td>\n",
              "      <td>0.631579</td>\n",
              "    </tr>\n",
              "    <tr>\n",
              "      <th>2</th>\n",
              "      <td>0.423077</td>\n",
              "      <td>0.371224</td>\n",
              "      <td>0.485209</td>\n",
              "      <td>0.043715</td>\n",
              "      <td>0.939007</td>\n",
              "      <td>0.938343</td>\n",
              "      <td>0.500000</td>\n",
              "    </tr>\n",
              "    <tr>\n",
              "      <th>3</th>\n",
              "      <td>0.622222</td>\n",
              "      <td>0.355331</td>\n",
              "      <td>0.638889</td>\n",
              "      <td>0.333333</td>\n",
              "      <td>0.950514</td>\n",
              "      <td>0.964189</td>\n",
              "      <td>0.733333</td>\n",
              "    </tr>\n",
              "    <tr>\n",
              "      <th>4</th>\n",
              "      <td>0.621759</td>\n",
              "      <td>0.593266</td>\n",
              "      <td>0.727564</td>\n",
              "      <td>0.465101</td>\n",
              "      <td>0.879717</td>\n",
              "      <td>0.913712</td>\n",
              "      <td>0.260870</td>\n",
              "    </tr>\n",
              "  </tbody>\n",
              "</table>\n",
              "</div>"
            ]
          },
          "metadata": {
            "tags": []
          },
          "execution_count": 3
        }
      ]
    },
    {
      "cell_type": "markdown",
      "metadata": {
        "id": "aWDn-WDcHYei",
        "colab_type": "text"
      },
      "source": [
        "Read testing features"
      ]
    },
    {
      "cell_type": "code",
      "metadata": {
        "id": "zy74hXkgGxzX",
        "colab_type": "code",
        "colab": {
          "base_uri": "https://localhost:8080/",
          "height": 221
        },
        "outputId": "66291076-bb28-4c58-8655-ead8ebf59709"
      },
      "source": [
        "test_load = pd.read_csv('test_features.csv')\n",
        "print(len(test_load))\n",
        "X_load_test = test_load.loc[:, test_load.columns != 'score']\n",
        "y_load_test = test_load['score']\n",
        "\n",
        "# X_load_test_reduced = X_load_test[[c for c in list(X_load_test.columns) \n",
        "#                           if c not in feats_to_remove]]\n",
        "X_load_test_scaled = scaler2.transform(X_load_test)\n",
        "\n",
        "X_load_test.head()"
      ],
      "execution_count": 4,
      "outputs": [
        {
          "output_type": "stream",
          "text": [
            "3108\n"
          ],
          "name": "stdout"
        },
        {
          "output_type": "execute_result",
          "data": {
            "text/plain": [
              "         ps       lch       wup       lin        dp     infer      over\n",
              "0  0.285233  0.347540  0.340741  0.231831  0.963686  0.964584  0.444444\n",
              "1  0.506706  0.588826  0.582735  0.392431  0.952877  0.946450  0.333333\n",
              "2  0.572329  0.505012  0.626161  0.469726  0.947358  0.950543  0.709677\n",
              "3  0.485281  0.553779  0.538273  0.481043  0.940341  0.942599  0.526316\n",
              "4  0.293447  0.365735  0.379464  0.334849  0.903658  0.927247  0.421053"
            ],
            "text/html": [
              "<div>\n",
              "<style scoped>\n",
              "    .dataframe tbody tr th:only-of-type {\n",
              "        vertical-align: middle;\n",
              "    }\n",
              "\n",
              "    .dataframe tbody tr th {\n",
              "        vertical-align: top;\n",
              "    }\n",
              "\n",
              "    .dataframe thead th {\n",
              "        text-align: right;\n",
              "    }\n",
              "</style>\n",
              "<table border=\"1\" class=\"dataframe\">\n",
              "  <thead>\n",
              "    <tr style=\"text-align: right;\">\n",
              "      <th></th>\n",
              "      <th>ps</th>\n",
              "      <th>lch</th>\n",
              "      <th>wup</th>\n",
              "      <th>lin</th>\n",
              "      <th>dp</th>\n",
              "      <th>infer</th>\n",
              "      <th>over</th>\n",
              "    </tr>\n",
              "  </thead>\n",
              "  <tbody>\n",
              "    <tr>\n",
              "      <th>0</th>\n",
              "      <td>0.285233</td>\n",
              "      <td>0.347540</td>\n",
              "      <td>0.340741</td>\n",
              "      <td>0.231831</td>\n",
              "      <td>0.963686</td>\n",
              "      <td>0.964584</td>\n",
              "      <td>0.444444</td>\n",
              "    </tr>\n",
              "    <tr>\n",
              "      <th>1</th>\n",
              "      <td>0.506706</td>\n",
              "      <td>0.588826</td>\n",
              "      <td>0.582735</td>\n",
              "      <td>0.392431</td>\n",
              "      <td>0.952877</td>\n",
              "      <td>0.946450</td>\n",
              "      <td>0.333333</td>\n",
              "    </tr>\n",
              "    <tr>\n",
              "      <th>2</th>\n",
              "      <td>0.572329</td>\n",
              "      <td>0.505012</td>\n",
              "      <td>0.626161</td>\n",
              "      <td>0.469726</td>\n",
              "      <td>0.947358</td>\n",
              "      <td>0.950543</td>\n",
              "      <td>0.709677</td>\n",
              "    </tr>\n",
              "    <tr>\n",
              "      <th>3</th>\n",
              "      <td>0.485281</td>\n",
              "      <td>0.553779</td>\n",
              "      <td>0.538273</td>\n",
              "      <td>0.481043</td>\n",
              "      <td>0.940341</td>\n",
              "      <td>0.942599</td>\n",
              "      <td>0.526316</td>\n",
              "    </tr>\n",
              "    <tr>\n",
              "      <th>4</th>\n",
              "      <td>0.293447</td>\n",
              "      <td>0.365735</td>\n",
              "      <td>0.379464</td>\n",
              "      <td>0.334849</td>\n",
              "      <td>0.903658</td>\n",
              "      <td>0.927247</td>\n",
              "      <td>0.421053</td>\n",
              "    </tr>\n",
              "  </tbody>\n",
              "</table>\n",
              "</div>"
            ]
          },
          "metadata": {
            "tags": []
          },
          "execution_count": 4
        }
      ]
    },
    {
      "cell_type": "markdown",
      "metadata": {
        "id": "h8U0Vgc3HqkM",
        "colab_type": "text"
      },
      "source": [
        "auto-sklearn"
      ]
    },
    {
      "cell_type": "code",
      "metadata": {
        "id": "dzCUXRBpX1Cf",
        "colab_type": "code",
        "colab": {
          "base_uri": "https://localhost:8080/",
          "height": 1000
        },
        "outputId": "c799ceae-f0be-4146-b1cd-60a5189af14a"
      },
      "source": [
        "%%time\n",
        "\n",
        "import autosklearn.regression\n",
        "\n",
        "# automl = autosklearn.regression.AutoSklearnRegressor()\n",
        "feature_types = (['numerical'] * X_load_train_scaled.shape[1])\n",
        "automl = autosklearn.regression.AutoSklearnRegressor(\n",
        "    time_left_for_this_task=60*5,\n",
        "    per_run_time_limit=30,\n",
        "    seed=1\n",
        "    # tmp_folder='/tmp/autosklearn_regression_example_tmp',\n",
        "    # output_folder='/tmp/autosklearn_regression_example_out',\n",
        ")\n",
        "\n",
        "automl.fit(X_load_train_scaled, y_load_train.values,\n",
        "               feat_type=feature_types)\n",
        "# y_hat = automl.predict(X_test)\n",
        "\n",
        "# best_model_final.fit(X_scaled, y.values)\n",
        "automl            "
      ],
      "execution_count": 4,
      "outputs": [
        {
          "output_type": "stream",
          "text": [
            "/home/guess/anaconda3/lib/python3.7/site-packages/pyparsing.py:2725: FutureWarning: Possible set intersection at position 3\n",
            "  self.re = re.compile( self.reString )\n",
            "/home/guess/anaconda3/lib/python3.7/site-packages/sklearn/ensemble/weight_boosting.py:29: DeprecationWarning: numpy.core.umath_tests is an internal NumPy module and should not be imported. It will be removed in a future NumPy release.\n",
            "  from numpy.core.umath_tests import inner1d\n",
            "/home/guess/anaconda3/lib/python3.7/site-packages/autosklearn/evaluation/train_evaluator.py:197: RuntimeWarning: Mean of empty slice\n",
            "  Y_train_pred = np.nanmean(Y_train_pred_full, axis=0)\n"
          ],
          "name": "stderr"
        },
        {
          "output_type": "stream",
          "text": [
            "[WARNING] [2019-12-09 07:12:03,638:AutoMLSMBO(1)::4d8d747d0aed32d359a9bfa9a91f80a7] Could not find meta-data directory /home/guess/anaconda3/lib/python3.7/site-packages/autosklearn/metalearning/files/r2_regression_dense\n",
            "[WARNING] [2019-12-09 07:12:03,655:EnsembleBuilder(1):4d8d747d0aed32d359a9bfa9a91f80a7] No models better than random - using Dummy Score!\n",
            "[WARNING] [2019-12-09 07:12:03,672:EnsembleBuilder(1):4d8d747d0aed32d359a9bfa9a91f80a7] No models better than random - using Dummy Score!\n"
          ],
          "name": "stdout"
        },
        {
          "output_type": "stream",
          "text": [
            "/home/guess/anaconda3/lib/python3.7/site-packages/autosklearn/evaluation/train_evaluator.py:197: RuntimeWarning: Mean of empty slice\n",
            "  Y_train_pred = np.nanmean(Y_train_pred_full, axis=0)\n",
            "/home/guess/anaconda3/lib/python3.7/site-packages/autosklearn/evaluation/train_evaluator.py:197: RuntimeWarning: Mean of empty slice\n",
            "  Y_train_pred = np.nanmean(Y_train_pred_full, axis=0)\n",
            "/home/guess/anaconda3/lib/python3.7/site-packages/autosklearn/evaluation/train_evaluator.py:197: RuntimeWarning: Mean of empty slice\n",
            "  Y_train_pred = np.nanmean(Y_train_pred_full, axis=0)\n",
            "/home/guess/anaconda3/lib/python3.7/site-packages/autosklearn/evaluation/train_evaluator.py:197: RuntimeWarning: Mean of empty slice\n",
            "  Y_train_pred = np.nanmean(Y_train_pred_full, axis=0)\n",
            "/home/guess/anaconda3/lib/python3.7/site-packages/autosklearn/evaluation/train_evaluator.py:197: RuntimeWarning: Mean of empty slice\n",
            "  Y_train_pred = np.nanmean(Y_train_pred_full, axis=0)\n",
            "/home/guess/anaconda3/lib/python3.7/site-packages/autosklearn/evaluation/train_evaluator.py:197: RuntimeWarning: Mean of empty slice\n",
            "  Y_train_pred = np.nanmean(Y_train_pred_full, axis=0)\n",
            "/home/guess/anaconda3/lib/python3.7/site-packages/autosklearn/evaluation/train_evaluator.py:197: RuntimeWarning: Mean of empty slice\n",
            "  Y_train_pred = np.nanmean(Y_train_pred_full, axis=0)\n",
            "/home/guess/anaconda3/lib/python3.7/site-packages/autosklearn/evaluation/train_evaluator.py:197: RuntimeWarning: Mean of empty slice\n",
            "  Y_train_pred = np.nanmean(Y_train_pred_full, axis=0)\n",
            "/home/guess/anaconda3/lib/python3.7/site-packages/autosklearn/evaluation/train_evaluator.py:197: RuntimeWarning: Mean of empty slice\n",
            "  Y_train_pred = np.nanmean(Y_train_pred_full, axis=0)\n",
            "/home/guess/anaconda3/lib/python3.7/site-packages/autosklearn/evaluation/train_evaluator.py:197: RuntimeWarning: Mean of empty slice\n",
            "  Y_train_pred = np.nanmean(Y_train_pred_full, axis=0)\n",
            "/home/guess/anaconda3/lib/python3.7/site-packages/autosklearn/evaluation/train_evaluator.py:197: RuntimeWarning: Mean of empty slice\n",
            "  Y_train_pred = np.nanmean(Y_train_pred_full, axis=0)\n",
            "/home/guess/anaconda3/lib/python3.7/site-packages/autosklearn/evaluation/train_evaluator.py:197: RuntimeWarning: Mean of empty slice\n",
            "  Y_train_pred = np.nanmean(Y_train_pred_full, axis=0)\n",
            "/home/guess/anaconda3/lib/python3.7/site-packages/autosklearn/evaluation/train_evaluator.py:197: RuntimeWarning: Mean of empty slice\n",
            "  Y_train_pred = np.nanmean(Y_train_pred_full, axis=0)\n",
            "/home/guess/anaconda3/lib/python3.7/site-packages/autosklearn/evaluation/train_evaluator.py:197: RuntimeWarning: Mean of empty slice\n",
            "  Y_train_pred = np.nanmean(Y_train_pred_full, axis=0)\n",
            "/home/guess/anaconda3/lib/python3.7/site-packages/autosklearn/evaluation/train_evaluator.py:197: RuntimeWarning: Mean of empty slice\n",
            "  Y_train_pred = np.nanmean(Y_train_pred_full, axis=0)\n",
            "/home/guess/anaconda3/lib/python3.7/site-packages/autosklearn/evaluation/train_evaluator.py:197: RuntimeWarning: Mean of empty slice\n",
            "  Y_train_pred = np.nanmean(Y_train_pred_full, axis=0)\n",
            "/home/guess/anaconda3/lib/python3.7/site-packages/autosklearn/evaluation/train_evaluator.py:197: RuntimeWarning: Mean of empty slice\n",
            "  Y_train_pred = np.nanmean(Y_train_pred_full, axis=0)\n",
            "/home/guess/anaconda3/lib/python3.7/site-packages/autosklearn/evaluation/train_evaluator.py:197: RuntimeWarning: Mean of empty slice\n",
            "  Y_train_pred = np.nanmean(Y_train_pred_full, axis=0)\n",
            "/home/guess/anaconda3/lib/python3.7/site-packages/autosklearn/evaluation/train_evaluator.py:197: RuntimeWarning: Mean of empty slice\n",
            "  Y_train_pred = np.nanmean(Y_train_pred_full, axis=0)\n",
            "/home/guess/anaconda3/lib/python3.7/site-packages/autosklearn/evaluation/train_evaluator.py:197: RuntimeWarning: Mean of empty slice\n",
            "  Y_train_pred = np.nanmean(Y_train_pred_full, axis=0)\n",
            "/home/guess/anaconda3/lib/python3.7/site-packages/autosklearn/evaluation/train_evaluator.py:197: RuntimeWarning: Mean of empty slice\n",
            "  Y_train_pred = np.nanmean(Y_train_pred_full, axis=0)\n",
            "/home/guess/anaconda3/lib/python3.7/site-packages/autosklearn/evaluation/train_evaluator.py:197: RuntimeWarning: Mean of empty slice\n",
            "  Y_train_pred = np.nanmean(Y_train_pred_full, axis=0)\n",
            "/home/guess/anaconda3/lib/python3.7/site-packages/autosklearn/evaluation/train_evaluator.py:197: RuntimeWarning: Mean of empty slice\n",
            "  Y_train_pred = np.nanmean(Y_train_pred_full, axis=0)\n",
            "/home/guess/anaconda3/lib/python3.7/site-packages/autosklearn/evaluation/train_evaluator.py:197: RuntimeWarning: Mean of empty slice\n",
            "  Y_train_pred = np.nanmean(Y_train_pred_full, axis=0)\n",
            "/home/guess/anaconda3/lib/python3.7/site-packages/autosklearn/evaluation/train_evaluator.py:197: RuntimeWarning: Mean of empty slice\n",
            "  Y_train_pred = np.nanmean(Y_train_pred_full, axis=0)\n",
            "/home/guess/anaconda3/lib/python3.7/site-packages/autosklearn/evaluation/train_evaluator.py:197: RuntimeWarning: Mean of empty slice\n",
            "  Y_train_pred = np.nanmean(Y_train_pred_full, axis=0)\n",
            "/home/guess/anaconda3/lib/python3.7/site-packages/autosklearn/evaluation/train_evaluator.py:197: RuntimeWarning: Mean of empty slice\n",
            "  Y_train_pred = np.nanmean(Y_train_pred_full, axis=0)\n",
            "/home/guess/anaconda3/lib/python3.7/site-packages/autosklearn/evaluation/train_evaluator.py:197: RuntimeWarning: Mean of empty slice\n",
            "  Y_train_pred = np.nanmean(Y_train_pred_full, axis=0)\n",
            "/home/guess/anaconda3/lib/python3.7/site-packages/autosklearn/evaluation/train_evaluator.py:197: RuntimeWarning: Mean of empty slice\n",
            "  Y_train_pred = np.nanmean(Y_train_pred_full, axis=0)\n",
            "/home/guess/anaconda3/lib/python3.7/site-packages/autosklearn/evaluation/train_evaluator.py:197: RuntimeWarning: Mean of empty slice\n",
            "  Y_train_pred = np.nanmean(Y_train_pred_full, axis=0)\n",
            "/home/guess/anaconda3/lib/python3.7/site-packages/autosklearn/evaluation/train_evaluator.py:197: RuntimeWarning: Mean of empty slice\n",
            "  Y_train_pred = np.nanmean(Y_train_pred_full, axis=0)\n",
            "/home/guess/anaconda3/lib/python3.7/site-packages/autosklearn/evaluation/train_evaluator.py:197: RuntimeWarning: Mean of empty slice\n",
            "  Y_train_pred = np.nanmean(Y_train_pred_full, axis=0)\n",
            "/home/guess/anaconda3/lib/python3.7/site-packages/autosklearn/evaluation/train_evaluator.py:197: RuntimeWarning: Mean of empty slice\n",
            "  Y_train_pred = np.nanmean(Y_train_pred_full, axis=0)\n",
            "/home/guess/anaconda3/lib/python3.7/site-packages/autosklearn/evaluation/train_evaluator.py:197: RuntimeWarning: Mean of empty slice\n",
            "  Y_train_pred = np.nanmean(Y_train_pred_full, axis=0)\n",
            "/home/guess/anaconda3/lib/python3.7/site-packages/autosklearn/evaluation/train_evaluator.py:197: RuntimeWarning: Mean of empty slice\n",
            "  Y_train_pred = np.nanmean(Y_train_pred_full, axis=0)\n",
            "/home/guess/anaconda3/lib/python3.7/site-packages/autosklearn/evaluation/train_evaluator.py:197: RuntimeWarning: Mean of empty slice\n",
            "  Y_train_pred = np.nanmean(Y_train_pred_full, axis=0)\n",
            "/home/guess/anaconda3/lib/python3.7/site-packages/autosklearn/evaluation/train_evaluator.py:197: RuntimeWarning: Mean of empty slice\n",
            "  Y_train_pred = np.nanmean(Y_train_pred_full, axis=0)\n",
            "/home/guess/anaconda3/lib/python3.7/site-packages/autosklearn/evaluation/train_evaluator.py:197: RuntimeWarning: Mean of empty slice\n",
            "  Y_train_pred = np.nanmean(Y_train_pred_full, axis=0)\n",
            "/home/guess/anaconda3/lib/python3.7/site-packages/autosklearn/evaluation/train_evaluator.py:197: RuntimeWarning: Mean of empty slice\n",
            "  Y_train_pred = np.nanmean(Y_train_pred_full, axis=0)\n",
            "/home/guess/anaconda3/lib/python3.7/site-packages/autosklearn/evaluation/train_evaluator.py:197: RuntimeWarning: Mean of empty slice\n",
            "  Y_train_pred = np.nanmean(Y_train_pred_full, axis=0)\n",
            "/home/guess/anaconda3/lib/python3.7/site-packages/autosklearn/evaluation/train_evaluator.py:197: RuntimeWarning: Mean of empty slice\n",
            "  Y_train_pred = np.nanmean(Y_train_pred_full, axis=0)\n",
            "/home/guess/anaconda3/lib/python3.7/site-packages/autosklearn/evaluation/train_evaluator.py:197: RuntimeWarning: Mean of empty slice\n",
            "  Y_train_pred = np.nanmean(Y_train_pred_full, axis=0)\n",
            "/home/guess/anaconda3/lib/python3.7/site-packages/autosklearn/evaluation/train_evaluator.py:197: RuntimeWarning: Mean of empty slice\n",
            "  Y_train_pred = np.nanmean(Y_train_pred_full, axis=0)\n",
            "/home/guess/anaconda3/lib/python3.7/site-packages/autosklearn/evaluation/train_evaluator.py:197: RuntimeWarning: Mean of empty slice\n",
            "  Y_train_pred = np.nanmean(Y_train_pred_full, axis=0)\n",
            "/home/guess/anaconda3/lib/python3.7/site-packages/autosklearn/evaluation/train_evaluator.py:197: RuntimeWarning: Mean of empty slice\n",
            "  Y_train_pred = np.nanmean(Y_train_pred_full, axis=0)\n",
            "/home/guess/anaconda3/lib/python3.7/site-packages/autosklearn/evaluation/train_evaluator.py:197: RuntimeWarning: Mean of empty slice\n",
            "  Y_train_pred = np.nanmean(Y_train_pred_full, axis=0)\n",
            "/home/guess/anaconda3/lib/python3.7/site-packages/autosklearn/evaluation/train_evaluator.py:197: RuntimeWarning: Mean of empty slice\n",
            "  Y_train_pred = np.nanmean(Y_train_pred_full, axis=0)\n",
            "/home/guess/anaconda3/lib/python3.7/site-packages/autosklearn/evaluation/train_evaluator.py:197: RuntimeWarning: Mean of empty slice\n",
            "  Y_train_pred = np.nanmean(Y_train_pred_full, axis=0)\n",
            "/home/guess/anaconda3/lib/python3.7/site-packages/autosklearn/evaluation/train_evaluator.py:197: RuntimeWarning: Mean of empty slice\n",
            "  Y_train_pred = np.nanmean(Y_train_pred_full, axis=0)\n",
            "/home/guess/anaconda3/lib/python3.7/site-packages/autosklearn/evaluation/train_evaluator.py:197: RuntimeWarning: Mean of empty slice\n",
            "  Y_train_pred = np.nanmean(Y_train_pred_full, axis=0)\n",
            "/home/guess/anaconda3/lib/python3.7/site-packages/autosklearn/evaluation/train_evaluator.py:197: RuntimeWarning: Mean of empty slice\n",
            "  Y_train_pred = np.nanmean(Y_train_pred_full, axis=0)\n",
            "/home/guess/anaconda3/lib/python3.7/site-packages/autosklearn/evaluation/train_evaluator.py:197: RuntimeWarning: Mean of empty slice\n",
            "  Y_train_pred = np.nanmean(Y_train_pred_full, axis=0)\n",
            "/home/guess/anaconda3/lib/python3.7/site-packages/autosklearn/evaluation/train_evaluator.py:197: RuntimeWarning: Mean of empty slice\n",
            "  Y_train_pred = np.nanmean(Y_train_pred_full, axis=0)\n",
            "/home/guess/anaconda3/lib/python3.7/site-packages/autosklearn/evaluation/train_evaluator.py:197: RuntimeWarning: Mean of empty slice\n",
            "  Y_train_pred = np.nanmean(Y_train_pred_full, axis=0)\n",
            "/home/guess/anaconda3/lib/python3.7/site-packages/autosklearn/evaluation/train_evaluator.py:197: RuntimeWarning: Mean of empty slice\n",
            "  Y_train_pred = np.nanmean(Y_train_pred_full, axis=0)\n",
            "/home/guess/anaconda3/lib/python3.7/site-packages/autosklearn/evaluation/train_evaluator.py:197: RuntimeWarning: Mean of empty slice\n",
            "  Y_train_pred = np.nanmean(Y_train_pred_full, axis=0)\n",
            "/home/guess/anaconda3/lib/python3.7/site-packages/autosklearn/evaluation/train_evaluator.py:197: RuntimeWarning: Mean of empty slice\n",
            "  Y_train_pred = np.nanmean(Y_train_pred_full, axis=0)\n",
            "/home/guess/anaconda3/lib/python3.7/site-packages/autosklearn/evaluation/train_evaluator.py:197: RuntimeWarning: Mean of empty slice\n",
            "  Y_train_pred = np.nanmean(Y_train_pred_full, axis=0)\n",
            "/home/guess/anaconda3/lib/python3.7/site-packages/autosklearn/evaluation/train_evaluator.py:197: RuntimeWarning: Mean of empty slice\n",
            "  Y_train_pred = np.nanmean(Y_train_pred_full, axis=0)\n",
            "/home/guess/anaconda3/lib/python3.7/site-packages/autosklearn/evaluation/train_evaluator.py:197: RuntimeWarning: Mean of empty slice\n",
            "  Y_train_pred = np.nanmean(Y_train_pred_full, axis=0)\n",
            "/home/guess/anaconda3/lib/python3.7/site-packages/autosklearn/evaluation/train_evaluator.py:197: RuntimeWarning: Mean of empty slice\n",
            "  Y_train_pred = np.nanmean(Y_train_pred_full, axis=0)\n",
            "/home/guess/anaconda3/lib/python3.7/site-packages/autosklearn/evaluation/train_evaluator.py:197: RuntimeWarning: Mean of empty slice\n",
            "  Y_train_pred = np.nanmean(Y_train_pred_full, axis=0)\n",
            "/home/guess/anaconda3/lib/python3.7/site-packages/autosklearn/evaluation/train_evaluator.py:197: RuntimeWarning: Mean of empty slice\n",
            "  Y_train_pred = np.nanmean(Y_train_pred_full, axis=0)\n",
            "/home/guess/anaconda3/lib/python3.7/site-packages/autosklearn/evaluation/train_evaluator.py:197: RuntimeWarning: Mean of empty slice\n",
            "  Y_train_pred = np.nanmean(Y_train_pred_full, axis=0)\n",
            "/home/guess/anaconda3/lib/python3.7/site-packages/autosklearn/evaluation/train_evaluator.py:197: RuntimeWarning: Mean of empty slice\n",
            "  Y_train_pred = np.nanmean(Y_train_pred_full, axis=0)\n",
            "/home/guess/anaconda3/lib/python3.7/site-packages/autosklearn/evaluation/train_evaluator.py:197: RuntimeWarning: Mean of empty slice\n",
            "  Y_train_pred = np.nanmean(Y_train_pred_full, axis=0)\n",
            "/home/guess/anaconda3/lib/python3.7/site-packages/autosklearn/evaluation/train_evaluator.py:197: RuntimeWarning: Mean of empty slice\n",
            "  Y_train_pred = np.nanmean(Y_train_pred_full, axis=0)\n",
            "/home/guess/anaconda3/lib/python3.7/site-packages/autosklearn/evaluation/train_evaluator.py:197: RuntimeWarning: Mean of empty slice\n",
            "  Y_train_pred = np.nanmean(Y_train_pred_full, axis=0)\n",
            "/home/guess/anaconda3/lib/python3.7/site-packages/autosklearn/evaluation/train_evaluator.py:197: RuntimeWarning: Mean of empty slice\n",
            "  Y_train_pred = np.nanmean(Y_train_pred_full, axis=0)\n",
            "/home/guess/anaconda3/lib/python3.7/site-packages/autosklearn/evaluation/train_evaluator.py:197: RuntimeWarning: Mean of empty slice\n",
            "  Y_train_pred = np.nanmean(Y_train_pred_full, axis=0)\n",
            "/home/guess/anaconda3/lib/python3.7/site-packages/autosklearn/evaluation/train_evaluator.py:197: RuntimeWarning: Mean of empty slice\n",
            "  Y_train_pred = np.nanmean(Y_train_pred_full, axis=0)\n",
            "/home/guess/anaconda3/lib/python3.7/site-packages/autosklearn/evaluation/train_evaluator.py:197: RuntimeWarning: Mean of empty slice\n",
            "  Y_train_pred = np.nanmean(Y_train_pred_full, axis=0)\n",
            "/home/guess/anaconda3/lib/python3.7/site-packages/autosklearn/evaluation/train_evaluator.py:197: RuntimeWarning: Mean of empty slice\n",
            "  Y_train_pred = np.nanmean(Y_train_pred_full, axis=0)\n"
          ],
          "name": "stderr"
        },
        {
          "output_type": "stream",
          "text": [
            "[WARNING] [2019-12-09 07:16:54,085:smac.intensification.intensification.Intensifier] Challenger was the same as the current incumbent; Skipping challenger\n",
            "[WARNING] [2019-12-09 07:16:54,085:smac.intensification.intensification.Intensifier] Challenger was the same as the current incumbent; Skipping challenger\n",
            "[WARNING] [2019-12-09 07:16:57,681:smac.intensification.intensification.Intensifier] Challenger was the same as the current incumbent; Skipping challenger\n",
            "[WARNING] [2019-12-09 07:16:57,681:smac.intensification.intensification.Intensifier] Challenger was the same as the current incumbent; Skipping challenger\n",
            "1\n",
            "['/tmp/autosklearn_tmp_13397_6668/.auto-sklearn/ensembles/1.0000000000.ensemble', '/tmp/autosklearn_tmp_13397_6668/.auto-sklearn/ensembles/1.0000000001.ensemble', '/tmp/autosklearn_tmp_13397_6668/.auto-sklearn/ensembles/1.0000000002.ensemble', '/tmp/autosklearn_tmp_13397_6668/.auto-sklearn/ensembles/1.0000000003.ensemble', '/tmp/autosklearn_tmp_13397_6668/.auto-sklearn/ensembles/1.0000000004.ensemble', '/tmp/autosklearn_tmp_13397_6668/.auto-sklearn/ensembles/1.0000000005.ensemble', '/tmp/autosklearn_tmp_13397_6668/.auto-sklearn/ensembles/1.0000000006.ensemble', '/tmp/autosklearn_tmp_13397_6668/.auto-sklearn/ensembles/1.0000000007.ensemble', '/tmp/autosklearn_tmp_13397_6668/.auto-sklearn/ensembles/1.0000000008.ensemble', '/tmp/autosklearn_tmp_13397_6668/.auto-sklearn/ensembles/1.0000000009.ensemble', '/tmp/autosklearn_tmp_13397_6668/.auto-sklearn/ensembles/1.0000000010.ensemble', '/tmp/autosklearn_tmp_13397_6668/.auto-sklearn/ensembles/1.0000000011.ensemble', '/tmp/autosklearn_tmp_13397_6668/.auto-sklearn/ensembles/1.0000000012.ensemble', '/tmp/autosklearn_tmp_13397_6668/.auto-sklearn/ensembles/1.0000000013.ensemble', '/tmp/autosklearn_tmp_13397_6668/.auto-sklearn/ensembles/1.0000000014.ensemble', '/tmp/autosklearn_tmp_13397_6668/.auto-sklearn/ensembles/1.0000000015.ensemble', '/tmp/autosklearn_tmp_13397_6668/.auto-sklearn/ensembles/1.0000000016.ensemble', '/tmp/autosklearn_tmp_13397_6668/.auto-sklearn/ensembles/1.0000000017.ensemble', '/tmp/autosklearn_tmp_13397_6668/.auto-sklearn/ensembles/1.0000000018.ensemble', '/tmp/autosklearn_tmp_13397_6668/.auto-sklearn/ensembles/1.0000000019.ensemble', '/tmp/autosklearn_tmp_13397_6668/.auto-sklearn/ensembles/1.0000000020.ensemble', '/tmp/autosklearn_tmp_13397_6668/.auto-sklearn/ensembles/1.0000000021.ensemble', '/tmp/autosklearn_tmp_13397_6668/.auto-sklearn/ensembles/1.0000000022.ensemble', '/tmp/autosklearn_tmp_13397_6668/.auto-sklearn/ensembles/1.0000000023.ensemble', '/tmp/autosklearn_tmp_13397_6668/.auto-sklearn/ensembles/1.0000000024.ensemble', '/tmp/autosklearn_tmp_13397_6668/.auto-sklearn/ensembles/1.0000000025.ensemble', '/tmp/autosklearn_tmp_13397_6668/.auto-sklearn/ensembles/1.0000000026.ensemble', '/tmp/autosklearn_tmp_13397_6668/.auto-sklearn/ensembles/1.0000000027.ensemble', '/tmp/autosklearn_tmp_13397_6668/.auto-sklearn/ensembles/1.0000000028.ensemble', '/tmp/autosklearn_tmp_13397_6668/.auto-sklearn/ensembles/1.0000000029.ensemble', '/tmp/autosklearn_tmp_13397_6668/.auto-sklearn/ensembles/1.0000000030.ensemble', '/tmp/autosklearn_tmp_13397_6668/.auto-sklearn/ensembles/1.0000000031.ensemble', '/tmp/autosklearn_tmp_13397_6668/.auto-sklearn/ensembles/1.0000000032.ensemble', '/tmp/autosklearn_tmp_13397_6668/.auto-sklearn/ensembles/1.0000000033.ensemble', '/tmp/autosklearn_tmp_13397_6668/.auto-sklearn/ensembles/1.0000000034.ensemble', '/tmp/autosklearn_tmp_13397_6668/.auto-sklearn/ensembles/1.0000000035.ensemble', '/tmp/autosklearn_tmp_13397_6668/.auto-sklearn/ensembles/1.0000000036.ensemble', '/tmp/autosklearn_tmp_13397_6668/.auto-sklearn/ensembles/1.0000000037.ensemble', '/tmp/autosklearn_tmp_13397_6668/.auto-sklearn/ensembles/1.0000000038.ensemble', '/tmp/autosklearn_tmp_13397_6668/.auto-sklearn/ensembles/1.0000000039.ensemble', '/tmp/autosklearn_tmp_13397_6668/.auto-sklearn/ensembles/1.0000000040.ensemble', '/tmp/autosklearn_tmp_13397_6668/.auto-sklearn/ensembles/1.0000000041.ensemble', '/tmp/autosklearn_tmp_13397_6668/.auto-sklearn/ensembles/1.0000000042.ensemble']\n",
            "CPU times: user 36.5 s, sys: 864 ms, total: 37.4 s\n",
            "Wall time: 4min 55s\n"
          ],
          "name": "stdout"
        },
        {
          "output_type": "execute_result",
          "data": {
            "text/plain": [
              "AutoSklearnRegressor(delete_output_folder_after_terminate=True,\n",
              "           delete_tmp_folder_after_terminate=True,\n",
              "           disable_evaluator_output=False, ensemble_memory_limit=1024,\n",
              "           ensemble_nbest=50, ensemble_size=50, exclude_estimators=None,\n",
              "           exclude_preprocessors=None, get_smac_object_callback=None,\n",
              "           include_estimators=None, include_preprocessors=None,\n",
              "           initial_configurations_via_metalearning=25, logging_config=None,\n",
              "           metadata_directory=None, ml_memory_limit=3072, n_jobs=None,\n",
              "           output_folder=None, per_run_time_limit=30,\n",
              "           resampling_strategy='holdout',\n",
              "           resampling_strategy_arguments=None, seed=1, shared_mode=False,\n",
              "           smac_scenario_args=None, time_left_for_this_task=300,\n",
              "           tmp_folder=None)"
            ]
          },
          "metadata": {
            "tags": []
          },
          "execution_count": 4
        }
      ]
    },
    {
      "cell_type": "markdown",
      "metadata": {
        "id": "SAZusLAmHs7b",
        "colab_type": "text"
      },
      "source": [
        "Tpot"
      ]
    },
    {
      "cell_type": "code",
      "metadata": {
        "id": "sx3Rqy7P7elg",
        "colab_type": "code",
        "colab": {
          "base_uri": "https://localhost:8080/",
          "height": 207
        },
        "outputId": "aba70632-43c5-4e41-cd97-53499706fe49"
      },
      "source": [
        "%%time\n",
        "\n",
        "from tpot import TPOTRegressor\n",
        "\n",
        "tpot = TPOTRegressor(generations=20, population_size=50, \n",
        "                     verbosity=1, n_jobs=-1, random_state=42)\n",
        "tpot.fit(X_load_train_scaled, y_load_train.values)\n"
      ],
      "execution_count": 5,
      "outputs": [
        {
          "output_type": "stream",
          "text": [
            "Best pipeline: RandomForestRegressor(AdaBoostRegressor(ExtraTreesRegressor(input_matrix, bootstrap=False, max_features=0.9000000000000001, min_samples_leaf=3, min_samples_split=11, n_estimators=100), learning_rate=0.1, loss=linear, n_estimators=100), bootstrap=False, max_features=0.05, min_samples_leaf=2, min_samples_split=4, n_estimators=100)\n",
            "CPU times: user 2min 23s, sys: 9.13 s, total: 2min 32s\n",
            "Wall time: 31min 44s\n"
          ],
          "name": "stdout"
        },
        {
          "output_type": "execute_result",
          "data": {
            "text/plain": [
              "TPOTRegressor(config_dict=None, crossover_rate=0.1, cv=5,\n",
              "              disable_update_check=False, early_stop=None, generations=20,\n",
              "              max_eval_time_mins=5, max_time_mins=None, memory=None,\n",
              "              mutation_rate=0.9, n_jobs=-1, offspring_size=None,\n",
              "              periodic_checkpoint_folder=None, population_size=50,\n",
              "              random_state=42, scoring=None, subsample=1.0, template=None,\n",
              "              use_dask=False, verbosity=1, warm_start=False)"
            ]
          },
          "metadata": {
            "tags": []
          },
          "execution_count": 5
        }
      ]
    },
    {
      "cell_type": "markdown",
      "metadata": {
        "id": "BDgGkf-G76XR",
        "colab_type": "text"
      },
      "source": [
        "Auto sklearn"
      ]
    },
    {
      "cell_type": "code",
      "metadata": {
        "id": "T6qn8Zynh4Ub",
        "colab_type": "code",
        "colab": {
          "base_uri": "https://localhost:8080/",
          "height": 34
        },
        "outputId": "f7a4cff1-7d5c-496e-ddc4-a1ef71b51a72"
      },
      "source": [
        "y_pred2 = automl.predict(X_load_test_scaled)\n",
        "\n",
        "print(f'Pearson correlation: {pearsonr(y_load_test.values, y_pred2)[0]}')"
      ],
      "execution_count": 5,
      "outputs": [
        {
          "output_type": "stream",
          "text": [
            "Pearson correlation: 0.7256968527053161\n"
          ],
          "name": "stdout"
        }
      ]
    },
    {
      "cell_type": "markdown",
      "metadata": {
        "id": "eP-eXEr474mr",
        "colab_type": "text"
      },
      "source": [
        "Tpot"
      ]
    },
    {
      "cell_type": "code",
      "metadata": {
        "id": "-ou2HOAZ7wgz",
        "colab_type": "code",
        "colab": {
          "base_uri": "https://localhost:8080/",
          "height": 34
        },
        "outputId": "b458ce7b-6f17-4a50-8b0a-a45bd60fe101"
      },
      "source": [
        "y_pred2 = tpot.predict(X_load_test_scaled)\n",
        "\n",
        "print(f'Pearson correlation: {pearsonr(y_load_test.values, y_pred2)[0]}')"
      ],
      "execution_count": 6,
      "outputs": [
        {
          "output_type": "stream",
          "text": [
            "Pearson correlation: 0.719207068032175\n"
          ],
          "name": "stdout"
        }
      ]
    },
    {
      "cell_type": "markdown",
      "metadata": {
        "id": "LGIn_7o373Tm",
        "colab_type": "text"
      },
      "source": [
        "Base"
      ]
    },
    {
      "cell_type": "code",
      "metadata": {
        "id": "KimXBt2eYJCx",
        "colab_type": "code",
        "colab": {
          "base_uri": "https://localhost:8080/",
          "height": 105
        },
        "outputId": "53bd308a-74d7-4418-9952-c9fb7b9c744c"
      },
      "source": [
        "y_pred2 = automl.predict(X_load_test_scaled)\n",
        "\n",
        "print(f'Pearson correlation: {pearsonr(y_test.values, y_pred2)[0]}')"
      ],
      "execution_count": 195,
      "outputs": [
        {
          "output_type": "stream",
          "text": [
            "1\n",
            "['/tmp/autosklearn_tmp_12651_1979/.auto-sklearn/ensembles/1.0000000000.ensemble', '/tmp/autosklearn_tmp_12651_1979/.auto-sklearn/ensembles/1.0000000001.ensemble', '/tmp/autosklearn_tmp_12651_1979/.auto-sklearn/ensembles/1.0000000002.ensemble', '/tmp/autosklearn_tmp_12651_1979/.auto-sklearn/ensembles/1.0000000003.ensemble', '/tmp/autosklearn_tmp_12651_1979/.auto-sklearn/ensembles/1.0000000004.ensemble', '/tmp/autosklearn_tmp_12651_1979/.auto-sklearn/ensembles/1.0000000005.ensemble', '/tmp/autosklearn_tmp_12651_1979/.auto-sklearn/ensembles/1.0000000006.ensemble', '/tmp/autosklearn_tmp_12651_1979/.auto-sklearn/ensembles/1.0000000007.ensemble', '/tmp/autosklearn_tmp_12651_1979/.auto-sklearn/ensembles/1.0000000008.ensemble', '/tmp/autosklearn_tmp_12651_1979/.auto-sklearn/ensembles/1.0000000009.ensemble', '/tmp/autosklearn_tmp_12651_1979/.auto-sklearn/ensembles/1.0000000010.ensemble', '/tmp/autosklearn_tmp_12651_1979/.auto-sklearn/ensembles/1.0000000011.ensemble', '/tmp/autosklearn_tmp_12651_1979/.auto-sklearn/ensembles/1.0000000012.ensemble', '/tmp/autosklearn_tmp_12651_1979/.auto-sklearn/ensembles/1.0000000013.ensemble', '/tmp/autosklearn_tmp_12651_1979/.auto-sklearn/ensembles/1.0000000014.ensemble', '/tmp/autosklearn_tmp_12651_1979/.auto-sklearn/ensembles/1.0000000015.ensemble', '/tmp/autosklearn_tmp_12651_1979/.auto-sklearn/ensembles/1.0000000016.ensemble', '/tmp/autosklearn_tmp_12651_1979/.auto-sklearn/ensembles/1.0000000017.ensemble', '/tmp/autosklearn_tmp_12651_1979/.auto-sklearn/ensembles/1.0000000018.ensemble', '/tmp/autosklearn_tmp_12651_1979/.auto-sklearn/ensembles/1.0000000019.ensemble', '/tmp/autosklearn_tmp_12651_1979/.auto-sklearn/ensembles/1.0000000020.ensemble', '/tmp/autosklearn_tmp_12651_1979/.auto-sklearn/ensembles/1.0000000021.ensemble', '/tmp/autosklearn_tmp_12651_1979/.auto-sklearn/ensembles/1.0000000022.ensemble', '/tmp/autosklearn_tmp_12651_1979/.auto-sklearn/ensembles/1.0000000023.ensemble', '/tmp/autosklearn_tmp_12651_1979/.auto-sklearn/ensembles/1.0000000024.ensemble', '/tmp/autosklearn_tmp_12651_1979/.auto-sklearn/ensembles/1.0000000025.ensemble', '/tmp/autosklearn_tmp_12651_1979/.auto-sklearn/ensembles/1.0000000026.ensemble', '/tmp/autosklearn_tmp_12651_1979/.auto-sklearn/ensembles/1.0000000027.ensemble', '/tmp/autosklearn_tmp_12651_1979/.auto-sklearn/ensembles/1.0000000028.ensemble', '/tmp/autosklearn_tmp_12651_1979/.auto-sklearn/ensembles/1.0000000029.ensemble', '/tmp/autosklearn_tmp_12651_1979/.auto-sklearn/ensembles/1.0000000030.ensemble', '/tmp/autosklearn_tmp_12651_1979/.auto-sklearn/ensembles/1.0000000031.ensemble', '/tmp/autosklearn_tmp_12651_1979/.auto-sklearn/ensembles/1.0000000032.ensemble', '/tmp/autosklearn_tmp_12651_1979/.auto-sklearn/ensembles/1.0000000033.ensemble', '/tmp/autosklearn_tmp_12651_1979/.auto-sklearn/ensembles/1.0000000034.ensemble', '/tmp/autosklearn_tmp_12651_1979/.auto-sklearn/ensembles/1.0000000035.ensemble', '/tmp/autosklearn_tmp_12651_1979/.auto-sklearn/ensembles/1.0000000036.ensemble', '/tmp/autosklearn_tmp_12651_1979/.auto-sklearn/ensembles/1.0000000037.ensemble']\n",
            "[03:26:32] WARNING: /workspace/src/objective/regression_obj.cu:152: reg:linear is now deprecated in favor of reg:squarederror.\n",
            "Pearson correlation: 0.6905660356801311\n"
          ],
          "name": "stdout"
        }
      ]
    },
    {
      "cell_type": "markdown",
      "metadata": {
        "id": "ebxYevG-GA49",
        "colab_type": "text"
      },
      "source": [
        "## Feature selection"
      ]
    },
    {
      "cell_type": "markdown",
      "metadata": {
        "id": "Gst1_ODNHqj9",
        "colab_type": "text"
      },
      "source": [
        "We have to selection those features that are not correlated and more important. Similarly, remove those highly correlated and less important.\n",
        "\n"
      ]
    },
    {
      "cell_type": "code",
      "metadata": {
        "id": "E_QWnnfvGULv",
        "colab_type": "code",
        "colab": {
          "base_uri": "https://localhost:8080/",
          "height": 34
        },
        "outputId": "6bdd9d88-ebd8-4f6d-b9ff-a96e3bfbd5e4"
      },
      "source": [
        "import seaborn as sns\n",
        "import matplotlib.pyplot as plt\n",
        "\n",
        "f = plt.figure(figsize=(5, 5))\n",
        "corr = X_load_train.corr(method='pearson')\n",
        "\n",
        "plt.title('Numerical features')\n",
        "sns.heatmap(corr, annot=True, cmap=\"YlGnBu\")\n",
        "plt.show();"
      ],
      "execution_count": 5,
      "outputs": [
        {
          "output_type": "display_data",
          "data": {
            "text/plain": [
              "<Figure size 500x500 with 2 Axes>"
            ]
          },
          "metadata": {
            "tags": []
          }
        }
      ]
    },
    {
      "cell_type": "code",
      "metadata": {
        "id": "BrPnIbp1H5-S",
        "colab_type": "code",
        "colab": {
          "base_uri": "https://localhost:8080/",
          "height": 281
        },
        "outputId": "cbc73240-920c-43c2-8714-202a2701d4d8"
      },
      "source": [
        "feats_to_remove = ['wup']\n",
        "X_train_reduced = X_load_train[[c for c in list(X_load_train.columns) \n",
        "                          if c not in feats_to_remove]]\n",
        "corr = X_train_reduced.corr(method='pearson')\n",
        "\n",
        "plt.title('Numerical features')\n",
        "sns.heatmap(corr, annot=True, cmap=\"YlGnBu\")\n",
        "plt.show();"
      ],
      "execution_count": 6,
      "outputs": [
        {
          "output_type": "display_data",
          "data": {
            "text/plain": [
              "<Figure size 432x288 with 2 Axes>"
            ],
            "image/png": "[encoded data removed]"
          },
          "metadata": {
            "tags": [],
            "needs_background": "light"
          }
        }
      ]
    },
    {
      "cell_type": "code",
      "metadata": {
        "id": "sXzQpAGOPryK",
        "colab_type": "code",
        "colab": {
          "base_uri": "https://localhost:8080/",
          "height": 785
        },
        "outputId": "6800f403-1e94-42c1-a5d0-db3bbf268818"
      },
      "source": [
        "import autosklearn.regression\n",
        "\n",
        "\n",
        "\n",
        "feature_types = (['numerical'] * X_train_reduced.values.shape[1])\n",
        "automl2 = autosklearn.regression.AutoSklearnRegressor(\n",
        "    time_left_for_this_task=60*2,\n",
        "    per_run_time_limit=30,\n",
        ")\n",
        "\n",
        "X_load_train_reduced_scaled = X_load_train_scaled[:, 1:]\n",
        "\n",
        "automl2.fit(X_load_train_reduced_scaled, y_load_train.values )\n",
        "\n"
      ],
      "execution_count": 15,
      "outputs": [
        {
          "output_type": "stream",
          "text": [
            "/home/guess/anaconda3/lib/python3.7/site-packages/autosklearn/evaluation/train_evaluator.py:197: RuntimeWarning: Mean of empty slice\n",
            "  Y_train_pred = np.nanmean(Y_train_pred_full, axis=0)\n"
          ],
          "name": "stderr"
        },
        {
          "output_type": "stream",
          "text": [
            "[WARNING] [2019-12-09 08:20:53,142:AutoMLSMBO(1)::e0922da2dfe015cc6daac63c8b39004b] Could not find meta-data directory /home/guess/anaconda3/lib/python3.7/site-packages/autosklearn/metalearning/files/r2_regression_dense\n",
            "[WARNING] [2019-12-09 08:20:53,159:EnsembleBuilder(1):e0922da2dfe015cc6daac63c8b39004b] No models better than random - using Dummy Score!\n",
            "[WARNING] [2019-12-09 08:20:53,167:EnsembleBuilder(1):e0922da2dfe015cc6daac63c8b39004b] No models better than random - using Dummy Score!\n"
          ],
          "name": "stdout"
        },
        {
          "output_type": "stream",
          "text": [
            "/home/guess/anaconda3/lib/python3.7/site-packages/autosklearn/evaluation/train_evaluator.py:197: RuntimeWarning: Mean of empty slice\n",
            "  Y_train_pred = np.nanmean(Y_train_pred_full, axis=0)\n",
            "/home/guess/anaconda3/lib/python3.7/site-packages/autosklearn/evaluation/train_evaluator.py:197: RuntimeWarning: Mean of empty slice\n",
            "  Y_train_pred = np.nanmean(Y_train_pred_full, axis=0)\n",
            "/home/guess/anaconda3/lib/python3.7/site-packages/autosklearn/evaluation/train_evaluator.py:197: RuntimeWarning: Mean of empty slice\n",
            "  Y_train_pred = np.nanmean(Y_train_pred_full, axis=0)\n",
            "/home/guess/anaconda3/lib/python3.7/site-packages/autosklearn/evaluation/train_evaluator.py:197: RuntimeWarning: Mean of empty slice\n",
            "  Y_train_pred = np.nanmean(Y_train_pred_full, axis=0)\n",
            "/home/guess/anaconda3/lib/python3.7/site-packages/autosklearn/evaluation/train_evaluator.py:197: RuntimeWarning: Mean of empty slice\n",
            "  Y_train_pred = np.nanmean(Y_train_pred_full, axis=0)\n",
            "/home/guess/anaconda3/lib/python3.7/site-packages/autosklearn/evaluation/train_evaluator.py:197: RuntimeWarning: Mean of empty slice\n",
            "  Y_train_pred = np.nanmean(Y_train_pred_full, axis=0)\n",
            "/home/guess/anaconda3/lib/python3.7/site-packages/autosklearn/evaluation/train_evaluator.py:197: RuntimeWarning: Mean of empty slice\n",
            "  Y_train_pred = np.nanmean(Y_train_pred_full, axis=0)\n",
            "/home/guess/anaconda3/lib/python3.7/site-packages/autosklearn/evaluation/train_evaluator.py:197: RuntimeWarning: Mean of empty slice\n",
            "  Y_train_pred = np.nanmean(Y_train_pred_full, axis=0)\n",
            "/home/guess/anaconda3/lib/python3.7/site-packages/autosklearn/evaluation/train_evaluator.py:197: RuntimeWarning: Mean of empty slice\n",
            "  Y_train_pred = np.nanmean(Y_train_pred_full, axis=0)\n",
            "/home/guess/anaconda3/lib/python3.7/site-packages/autosklearn/evaluation/train_evaluator.py:197: RuntimeWarning: Mean of empty slice\n",
            "  Y_train_pred = np.nanmean(Y_train_pred_full, axis=0)\n",
            "/home/guess/anaconda3/lib/python3.7/site-packages/autosklearn/evaluation/train_evaluator.py:197: RuntimeWarning: Mean of empty slice\n",
            "  Y_train_pred = np.nanmean(Y_train_pred_full, axis=0)\n"
          ],
          "name": "stderr"
        },
        {
          "output_type": "stream",
          "text": [
            "1\n",
            "['/tmp/autosklearn_tmp_18877_8424/.auto-sklearn/ensembles/1.0000000000.ensemble', '/tmp/autosklearn_tmp_18877_8424/.auto-sklearn/ensembles/1.0000000001.ensemble', '/tmp/autosklearn_tmp_18877_8424/.auto-sklearn/ensembles/1.0000000002.ensemble', '/tmp/autosklearn_tmp_18877_8424/.auto-sklearn/ensembles/1.0000000003.ensemble', '/tmp/autosklearn_tmp_18877_8424/.auto-sklearn/ensembles/1.0000000004.ensemble', '/tmp/autosklearn_tmp_18877_8424/.auto-sklearn/ensembles/1.0000000005.ensemble', '/tmp/autosklearn_tmp_18877_8424/.auto-sklearn/ensembles/1.0000000006.ensemble', '/tmp/autosklearn_tmp_18877_8424/.auto-sklearn/ensembles/1.0000000007.ensemble', '/tmp/autosklearn_tmp_18877_8424/.auto-sklearn/ensembles/1.0000000008.ensemble']\n",
            "[08:22:47] WARNING: /workspace/src/objective/regression_obj.cu:152: reg:linear is now deprecated in favor of reg:squarederror.\n",
            "[08:22:47] WARNING: /workspace/src/objective/regression_obj.cu:152: reg:linear is now deprecated in favor of reg:squarederror.\n"
          ],
          "name": "stdout"
        },
        {
          "output_type": "execute_result",
          "data": {
            "text/plain": [
              "AutoSklearnRegressor(delete_output_folder_after_terminate=True,\n",
              "           delete_tmp_folder_after_terminate=True,\n",
              "           disable_evaluator_output=False, ensemble_memory_limit=1024,\n",
              "           ensemble_nbest=50, ensemble_size=50, exclude_estimators=None,\n",
              "           exclude_preprocessors=None, get_smac_object_callback=None,\n",
              "           include_estimators=None, include_preprocessors=None,\n",
              "           initial_configurations_via_metalearning=25, logging_config=None,\n",
              "           metadata_directory=None, ml_memory_limit=3072, n_jobs=None,\n",
              "           output_folder=None, per_run_time_limit=30,\n",
              "           resampling_strategy='holdout',\n",
              "           resampling_strategy_arguments=None, seed=1, shared_mode=False,\n",
              "           smac_scenario_args=None, time_left_for_this_task=120,\n",
              "           tmp_folder=None)"
            ]
          },
          "metadata": {
            "tags": []
          },
          "execution_count": 15
        }
      ]
    },
    {
      "cell_type": "code",
      "metadata": {
        "id": "vi_dpFbd2ZYq",
        "colab_type": "code",
        "colab": {
          "base_uri": "https://localhost:8080/",
          "height": 34
        },
        "outputId": "dffc3873-f076-4e54-8767-91ad8af5db6e"
      },
      "source": [
        "X_load_test_reduced_scaled = X_load_test_scaled[:, 1:]\n",
        "y_pred2 = automl2.predict(X_load_test_reduced_scaled)\n",
        "\n",
        "\n",
        "print(f'Pearson correlation: {pearsonr(y_load_test.values, y_pred2)[0]}')"
      ],
      "execution_count": 16,
      "outputs": [
        {
          "output_type": "stream",
          "text": [
            "Pearson correlation: 0.7181710128701657\n"
          ],
          "name": "stdout"
        }
      ]
    },
    {
      "cell_type": "code",
      "metadata": {
        "id": "lEhZ7xM5UjZp",
        "colab_type": "code",
        "colab": {
          "base_uri": "https://localhost:8080/",
          "height": 34
        },
        "outputId": "837dd6c1-286e-447b-c3c2-5ee9dcbbd1c7"
      },
      "source": [
        "y_pred2 = automl2.predict(X_load_test_reduced_scaled)\n",
        "\n",
        "\n",
        "print(f'Pearson correlation: {pearsonr(y_load_test.values, y_pred2)[0]}')"
      ],
      "execution_count": 262,
      "outputs": [
        {
          "output_type": "stream",
          "text": [
            "Pearson correlation: 0.722289444024046\n"
          ],
          "name": "stdout"
        }
      ]
    },
    {
      "cell_type": "markdown",
      "metadata": {
        "colab_type": "text",
        "id": "IiSEbuGzDVVl"
      },
      "source": [
        "# Conclusions\n",
        "\n",
        "\n",
        "\n",
        "\n",
        "\n"
      ]
    },
    {
      "cell_type": "code",
      "metadata": {
        "colab_type": "code",
        "id": "6gW13ET70xJI",
        "colab": {}
      },
      "source": [
        ""
      ],
      "execution_count": 0,
      "outputs": []
    }
  ]
}