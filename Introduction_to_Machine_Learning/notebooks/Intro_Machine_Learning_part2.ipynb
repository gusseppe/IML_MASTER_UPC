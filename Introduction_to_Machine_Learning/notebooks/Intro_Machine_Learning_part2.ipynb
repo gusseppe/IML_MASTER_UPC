{
  "nbformat": 4,
  "nbformat_minor": 0,
  "metadata": {
    "colab": {
      "name": "Intro_Machine_Learning_part2.ipynb",
      "provenance": [],
      "collapsed_sections": [
        "fNj2E14VGdvT",
        "Wn3XZcpdHhHD"
      ]
    },
    "kernelspec": {
      "name": "python3",
      "display_name": "Python 3"
    }
  },
  "cells": [
    {
      "cell_type": "markdown",
      "metadata": {
        "id": "EiPJp5P2GKCR",
        "colab_type": "text"
      },
      "source": [
        "# Introduction to Machine Learning\n",
        "\n",
        "This course provides an introduction on machine learning. It gives an overview of many concepts, techniques and algorithms in machine learning, beginning with topics such as classification and linear regression and ending up with more recent topics such support vector machines. The course is divided into three main topics: supervised learning, unsupervised learning, and machine learning theory. Topics include: (i) Supervised learning (linear decision, non linear decision and probabilistic). (ii) Unsupervised learning (clustering, factor analysis, visualization). (iii) Learning theory (bias/variance theory, empirical risk minimization). The course will also draw from numerous case studies and applications, so that you'll also learn how to apply learning algorithms to computer vision, medical informatics, and signal analysis [1].\n",
        "\n",
        "[1] https://www.fib.upc.edu/en/studies/masters/master-artificial-intelligence/curriculum/syllabus/IML-MAI"
      ]
    },
    {
      "cell_type": "markdown",
      "metadata": {
        "id": "fNj2E14VGdvT",
        "colab_type": "text"
      },
      "source": [
        "## Contents\n",
        "\n",
        "1. Introduction to machine learning \n",
        "  - What is learning?\n",
        "  - Definition of learning\n",
        "  - Elements of machine learning\n",
        "  - Paradigms of machine learning \n",
        "  - Applications of machine learning\n",
        "  - Nuts and bolts of machine learning theory\n",
        "\n",
        "2. **Unsupervised learning**  \n",
        "  - Introduction to unsupervised learning\n",
        "  - Clustering\n",
        "  - Classification of clustering algorithms: K-Means and EM \n",
        "  - Factor Analysis : PCA (Principal Components Analysis) and ICA (Independent Component Analysis)\n",
        "  - Self-Organized Maps (SOM) and Multi-dimensional Scaling\n",
        "  - Recommender Systems\n",
        "\n",
        "3. Supervised learning \n",
        "  - Introduction and perspectives\n",
        "  - Lazy Learning \n",
        "  - Introduction to feature selection \n",
        "  - Model selection \n",
        "  - Supervised learning taxonomy\n",
        "  - Linear decision\n",
        "  - Non-linear decision learning: Kernel methods\n",
        "  - Non-linear decision learning: Ensemble Learning\n",
        "  - Bayesian Learning\n",
        "\n",
        "\n",
        "\n",
        "\n",
        "\n",
        "\n"
      ]
    },
    {
      "cell_type": "markdown",
      "metadata": {
        "id": "Wn3XZcpdHhHD",
        "colab_type": "text"
      },
      "source": [
        "## Bibliography\n",
        "**Basic:**\n",
        "\n",
        "* Pattern recognition and machine learning - Bishop, Christopher M, Springer, cop. 2006. \n",
        "\n",
        "* Machine learning - Mitchell, Tom M, The McGraw-Hill Companies, cop. 1997. \n",
        "\n"
      ]
    },
    {
      "cell_type": "markdown",
      "metadata": {
        "id": "t6ui4PodKf66",
        "colab_type": "text"
      },
      "source": [
        "## 1. Unsupervised learning\n",
        "\n",
        "**Introduction to unsupervised learning**\n",
        "\n",
        "This type of Machine Learning is also known as the descriptive learning.\n",
        "The idea is given: \n",
        "$$\\mathcal{D}=\\left\\{\\mathbf{x}_{i}\\right\\}_{i=1}^{N}$$\n",
        "  \n",
        "the goal is to find interesting patterns in the $\\mathcal{D}$. This task is also called knowledge discovery [1].\n",
        "\n",
        "We are given an unlabeled training set:\n",
        "\n",
        "$$\n",
        "\\left\\{x^{(1)}, x^{(2)}, x^{(3)}, \\ldots, x^{(m)}\\right\\}\n",
        "$$\n",
        "\n",
        "So that, the goal is to find out clusters on this data set:\n",
        "\n",
        "\n",
        "<img src=\"https://drive.google.com/uc?export=view&id=1Ku26mMQqW2J8FUjxGFj22ivoaCHgIR1E\" alt=\"drawing\" width=\"500\" />\n",
        "\n",
        "\n",
        "<img src=\"https://drive.google.com/uc?export=view&id=1LlMjGLlxhP-j6yKgQBlF_nwjVmuiXRs7\" alt=\"drawing\" width=\"500\" />\n",
        "\n",
        "\n",
        "**Clustering**\n",
        "\n",
        "Clustering is the process of grouping similar objects together and dissimilar objects into different groups [1].\n",
        "\n",
        "- There is a lack of what is the \"ground truth\" for clustering. For example [2]:\n",
        "  - If we want that two similar elements share the same cluster, then, for instance, let $x_1, x_2, ..., x_m$ a sequence of points, where $x_i$ is similar to $x_{i-1}$ and $x_{i+1}$ but $x_{i+1}$ and $x_m$ are very dissimilar. So it is a contradiction.\n",
        "  - How can we group these groups of points?\n",
        "  \n",
        "\n",
        "<img src=\"https://drive.google.com/uc?export=view&id=1VdwRD6k1fzSNbws77q0R5TV-HmJSQFc-\" alt=\"drawing\" width=\"500\" />\n",
        "\n",
        "  - There are some ways to do it, in a vertical or horizontal way, or even 4 clusters.\n",
        "  - So cluster a group of points depends on the notion of distance or similarity. E.g, cluster a movie reviews by movie topic or by review sentiment.\n",
        "  - As result, there are a variety of clustering algorithms for a given data set.\n",
        "\n",
        "Applications:\n",
        "\n",
        "- Cluster genes based on similarities.\n",
        "- Customer profiles.\n",
        "- Cluster of starts based on their spacial proximity.\n",
        "\n",
        "Common cluster definition:\n",
        "\n",
        "- Input: $\\mathcal{X}$ and a distance: $d : \\mathcal{X} \\times \\mathcal{X} \\rightarrow \\mathbb{R}_{+}$ where $d(x, x)=0$. Alternatively, the distance function could be a similarity function: $s(x, x)=1$. In addition, some clustering algorithms need an input parameter k (number of clusters).\n",
        "\n",
        "- Output: $C=\\left(C_{1}, \\ldots C_{k}\\right)$, a partition of $\\mathcal{X}$, where $\\bigcup_{i=1}^{k} C_{i}=\\mathcal{X}$ and for all $i \\neq j, C_{i} \\cap C_{j}=\\emptyset$. A soft clustering (the belonging to a partition is probabilistic) yields a vector: $\\left(p_{1}(x), \\ldots, p_{k}(x)\\right)$ where $p_{i}(x)=\\mathbb{P}\\left[\\mathbf{x} \\in C_{i}\\right]$ is the probability that $x$ belogs to cluster $C_{i}$. Another output could be a dendogram, which is a hierarchical tree of subsets where the full domain is in its root and the  singleton subsets as its leaves.\n",
        "\n",
        "**Types of clustering**\n",
        "\n",
        "- Prototype-based clustering: E.g, k-means.\n",
        "- Agglomerative hierarchical clustering: E.g, Linkage-Based Clustering.\n",
        "- Spatial Clustering: E.g, DBSCAN.\n",
        "- Graph-based clustering: E.g, Spectral clustering\n",
        "\n",
        "\n",
        "**Linkage-Based Clustering Algorithms:**\n",
        "\n",
        "The simplest paradigm of clustering. It start having each data point as a cluster, then  repeatedly, these algorithms merge \"the closest\" clusters of the previous clustering, thus converging eventually to a one big cluster (all the domain points). There are two parameters to define these algorithms: the distance between cluster and when to stop.\n",
        "\n",
        "\n",
        "<img src=\"https://drive.google.com/uc?export=view&id=1movkXwslyedw0mrbyDDrLXeRh-Q5F2Oc\" alt=\"drawing\" width=\"500\" />\n",
        "\n",
        "  - Distances: Single (the picture), average, max linkage clustering.\n",
        "  - Stop criteria: k of clusters, distance upper bound.\n",
        "\n",
        "<!-- <img src=\"https://drive.google.com/uc?export=view&id=1LlMjGLlxhP-j6yKgQBlF_nwjVmuiXRs7\" alt=\"drawing\" width=\"500\" /> -->\n",
        "\n",
        "\n",
        "\n",
        "\n",
        "[1] Murphy. Machine Learning: A probabilistic Perspective. 2012.\n",
        "\n",
        "[2] Understanding Machine Learning Theory algorithms."
      ]
    },
    {
      "cell_type": "markdown",
      "metadata": {
        "id": "iFF8igXESCri",
        "colab_type": "text"
      },
      "source": [
        "**k-means:**\n",
        "\n",
        "Input : a set of points: **X**, and the numbers of clusters we want: **k**.\n",
        "\n",
        "Output: **C**, a vector containing the index of the cluster **$x_i \\in X$** belongs to.\n",
        "\n",
        "Algorithm step by step:\n",
        "\n",
        "Input: X and k=2.\n",
        "\n",
        "Step 1: Initial data (2 features, k=2 clusters)\n",
        "\n",
        "<img src=\"https://drive.google.com/uc?export=view&id=1LVCvCqlzHTgMVpqI6-Q50wdXQi3sVH9c\" alt=\"drawing\" width=\"200\" />\n",
        "\n",
        "Step 2:  Randomly initilize K cluster centroids $\\mu_{1}, \\mu_{2}, \\dots, \\mu_{K} \\in \\mathbb{R}^{n}$: \n",
        "\n",
        "<img src=\"https://drive.google.com/uc?export=view&id=1DWQ_Itr7rFSqyaBijZsZvBvD1aCysbeC\" alt=\"drawing\" width=\"200\" />\n",
        "\n",
        "Step 3: Find the nearest points to each centroid $\\mu_i$ :\n",
        "\n",
        "<img src=\"https://drive.google.com/uc?export=view&id=10x5jN_kr5TApGXWkYxOY2qeAScjS3USi\" alt=\"drawing\" width=\"200\" />\n",
        "\n",
        "Step 4: Calculate the average for each set of points belonging to each centroid $\\mu_i$  and move the centroid:\n",
        "\n",
        "<img src=\"https://drive.google.com/uc?export=view&id=1VMCYKE5EIzvIhUsMf7Mq9zfaVYuDqq4R\" alt=\"drawing\" width=\"200\" />\n",
        "\n",
        "Step 5: Repeat this task until the centroid $\\mu_i$ can not move anymore.\n",
        "\n",
        "<img src=\"https://drive.google.com/uc?export=view&id=1OXyUatVqnErBR4Ptvcl_uTRnJRh4QqXR\" alt=\"drawing\" width=\"200\" />\n",
        "\n",
        "Algorithm:\n",
        "\n",
        "Input: $\\mathcal{X} \\subset \\mathbb{R}^{n}$; Number of cluster $k$.\n",
        "Output: $c^{(1)}, \\dots, c^{(m)}$ indexes where each $x^{(1)}, x^{(2)}, \\dots, x^{(m)}$ belongs to  and  centroids  $\\mu_{1}, \\mu_{2}, \\dots, \\mu_{K}$ \n",
        "\n",
        "Optimization objetive: Distorsion function.\n",
        "$$\n",
        "\\begin{array}{l}{J\\left(c^{(1)}, \\ldots, c^{(m)}, \\mu_{1}, \\ldots, \\mu_{K}\\right)=\\frac{1}{m} \\sum_{i=1}^{m}\\left\\|x^{(i)}-\\mu_{c^{(i)}}\\right\\|^{2}} \\\\ {\\min _{c^{(1)}, \\ldots, c^{(m)}, \\mu_{1}, \\dots, \\mu_{K}} J\\left(c^{(1)}, \\ldots, c^{(m)}, \\mu_{1}, \\ldots, \\mu_{K}\\right)}\\end{array}\n",
        "$$\n",
        "\n",
        "1. Randomly initialize K cluster centroids $\\mu_{1}, \\mu_{2}, \\dots, \\mu_{K} \\in \\mathbb{R}^{n}$\n",
        "\n",
        "Repeat until convergence:\n",
        "  2.  for i=1 to m: Cluster assignment step: minimize $J$ respect to $C$.\n",
        "      - Set $c^{(i)}$ := $\\min_k \\left\\|x^{(i)}-\\mu_{k}\\right\\|^{2}$ , assign each index (1, 2, ..., k) of cluster centroid closest to $x^{(i)}$. E.g, $c^{(1)}=2$ means that $x^{(1)}$ belongs to cluster k= 2.\n",
        "\n",
        "  3. for k=1 to K: Move centroid step. Minimize $J$ respect to $\\mu$.\n",
        "    - Update $\\mu_{k}$ := $\\frac{1}{\\left|C_{i}\\right|} \\sum_{\\mathbf{x} \\in C_{i}} \\mathbf{x}$, calculate the average of the points belonging to each cluster and move the centroid. E.g, if , $c^{(1)}=2, c^{(5)}=2$, then $\\mu_{2}=\\frac{1}{2}\\left[x^{(1)}+x^{(5)}\\right].$\n",
        "\n",
        ".\n",
        "\n",
        "Tips:\n",
        "\n",
        "- Pick $k$ distinct random integers $i_{1}, \\ldots, i_{k}$ from $\\{1, \\ldots, m\\}$, then set $\\mu_{1}=x^{\\left(i_{1}\\right)}, \\mu_{2}=x^{\\left(i_{2}\\right)}, \\ldots, \\mu_{k}=x^{\\left(i_{k}\\right)}$.\n",
        "- Should have $K < m $ (number of examples).\n",
        "- The centroids  $\\mu_{1}, \\mu_{2}, \\dots, \\mu_{K}$ \n",
        "- Good at identifying clusters with a spherical shape.\n",
        "- We have to specify the number of cluster. k, a priori.\n",
        "- K-means is limited to linear cluster boundaries.\n",
        "- There are two techniques to evaluate the quality of a clustering: elbow and silhouette. \n",
        "\n",
        "**Elbow**: Plot the cost function $J$ (a.k.a distorsion function) and find the point where it starts a slow reduction of the error.\n",
        "\n",
        "<img src=\"https://drive.google.com/uc?export=view&id=1ov2sfzblVDafaBoSek0uR94oB9jRBmzV\" alt=\"drawing\" width=\"300\" />\n",
        "\n",
        "- There are some times where the right $K$ is not easy to choose so it will depend on the bussines logic.\n",
        "\n",
        "<img src=\"https://drive.google.com/uc?export=view&id=1s878xOf-UcNAeEjTbZQPuUA8sUD2QFup\" alt=\"drawing\" width=\"300\" />\n",
        "\n",
        "\n",
        "**silhouette**: Measure the distance $a\\left(\\mathbf{x}_{i}\\right)$ btw $x_i$ to its own cluster $c^{(i)}$   and the distance btw $x_i$ to its neighbours  clusters   $c^{(j \\neq i)}$, expressed as $b\\left(\\mathbf{x}_{i}\\right)$.  It is supposed that $a\\left(\\mathbf{x}_{i}\\right)$ has to be smaller than $b\\left(\\mathbf{x}_{i}\\right)$ , but this is not guaranteed. If $a\\left(\\mathbf{x}_{i}\\right)$ is closer to 0, then $S\\left(\\mathbf{X}_{i}\\right)$ would be closer to 1 (perfect clustering), that means that the point $x_i$ is really close to its own cluster $c^{(i)}$.\n",
        "\n",
        "$s\\left(\\mathbf{x}_{i}\\right)=\\frac{b\\left(\\mathbf{x}_{i}\\right)-a\\left(\\mathbf{x}_{i}\\right)}{\\max \\left(a\\left(\\mathbf{x}_{i}\\right), b\\left(\\mathbf{x}_{i}\\right)\\right)}$\n",
        "\n",
        "<img src=\"https://drive.google.com/uc?export=view&id=1_XR94-9jN-SYnlohbbYXJ24-wa-8VNfW\" alt=\"drawing\" width=\"500\" />\n",
        "\n",
        "<img src=\"https://drive.google.com/uc?export=view&id=1fuMchXmfaL6_JsAk6C7mF86ZlwXLf_io\" alt=\"drawing\" width=\"500\" />\n",
        "\n",
        "\n",
        "[1] Machine Learning Art ans science.\n",
        "\n",
        "[2] Understanding Machine Learning Theory algorithms."
      ]
    },
    {
      "cell_type": "markdown",
      "metadata": {
        "id": "qs6LxHTj2C6f",
        "colab_type": "text"
      },
      "source": [
        "## K-means implementation\n"
      ]
    },
    {
      "cell_type": "code",
      "metadata": {
        "id": "T8zPISYw2COE",
        "colab_type": "code",
        "outputId": "817bbb00-64d3-4120-d14f-c1db0c611161",
        "colab": {
          "base_uri": "https://localhost:8080/",
          "height": 269
        }
      },
      "source": [
        "import matplotlib.pyplot as plt\n",
        "\n",
        "from sklearn.datasets.samples_generator import make_blobs\n",
        "\n",
        "X, y_true = make_blobs(n_samples=300, centers=4,\n",
        "                       cluster_std=0.30, random_state=0)\n",
        "\n",
        "plt.scatter(X[:, 0], X[:, 1], s=30);"
      ],
      "execution_count": 0,
      "outputs": [
        {
          "output_type": "display_data",
          "data": {
            "image/png": "[encoded data removed]",
            "text/plain": [
              "<Figure size 432x288 with 1 Axes>"
            ]
          },
          "metadata": {
            "tags": []
          }
        }
      ]
    },
    {
      "cell_type": "code",
      "metadata": {
        "id": "0TBxS94wLz7q",
        "colab_type": "code",
        "outputId": "f77155e9-e691-423b-912d-656f8abe0477",
        "colab": {
          "base_uri": "https://localhost:8080/",
          "height": 35
        }
      },
      "source": [
        "import numpy as np\n",
        "\n",
        "np.random.choice(X.shape[0], k)\n"
      ],
      "execution_count": 0,
      "outputs": [
        {
          "output_type": "execute_result",
          "data": {
            "text/plain": [
              "array([117,  79])"
            ]
          },
          "metadata": {
            "tags": []
          },
          "execution_count": 151
        }
      ]
    },
    {
      "cell_type": "code",
      "metadata": {
        "id": "86VjZpZ2QjOa",
        "colab_type": "code",
        "outputId": "6d1fd2af-8c32-4f9d-bd8f-d05d2e61f91f",
        "colab": {
          "base_uri": "https://localhost:8080/",
          "height": 54
        }
      },
      "source": [
        "centroids"
      ],
      "execution_count": 0,
      "outputs": [
        {
          "output_type": "execute_result",
          "data": {
            "text/plain": [
              "array([[1.12439261, 4.26895615],\n",
              "       [0.82686034, 4.88264694]])"
            ]
          },
          "metadata": {
            "tags": []
          },
          "execution_count": 89
        }
      ]
    },
    {
      "cell_type": "code",
      "metadata": {
        "id": "_PTGYQpqMveM",
        "colab_type": "code",
        "outputId": "e9f0cab8-b439-4933-944c-2f51f2969120",
        "colab": {
          "base_uri": "https://localhost:8080/",
          "height": 54
        }
      },
      "source": [
        "X.mean()"
      ],
      "execution_count": 0,
      "outputs": [
        {
          "output_type": "execute_result",
          "data": {
            "text/plain": [
              "array([[1.12439261, 4.26895615],\n",
              "       [0.82686034, 4.88264694]])"
            ]
          },
          "metadata": {
            "tags": []
          },
          "execution_count": 87
        }
      ]
    },
    {
      "cell_type": "code",
      "metadata": {
        "id": "toOYde4ELcvS",
        "colab_type": "code",
        "outputId": "020baa40-dc34-4d45-acb2-248ace6f1ad6",
        "colab": {
          "base_uri": "https://localhost:8080/",
          "height": 269
        }
      },
      "source": [
        "# %%timeit -n10\n",
        "\n",
        "import numpy as np\n",
        "\n",
        "\n",
        "\n",
        "def k_means(X, k, random_state=12):\n",
        "  \n",
        "  #Randomly initialize centroids\n",
        "  random_state = np.random.RandomState(random_state)\n",
        "  centroids = X[random_state.choice(X.shape[0], k)]\n",
        "  centroids_updated = centroids.copy()\n",
        "  \n",
        "  distances = np.zeros((X.shape[0], k))\n",
        "  \n",
        "  while True:\n",
        "    \n",
        "    #Cluster assignment step\n",
        "    for index in range(k):\n",
        "      distances[:, index] = np.linalg.norm(X-centroids[index], axis=1)\n",
        "\n",
        "\n",
        "  #   distances = np.array([np.linalg.norm(X-centroids[index], axis=1) \\\n",
        "  #                                    for index in range(k)]).T\n",
        "\n",
        "    clusters = np.argmin(distances, axis=1)\n",
        "\n",
        "    # Move centroid step\n",
        "      \n",
        "    centroids_updated = np.array([X[clusters == index].mean(axis=0)\n",
        "                                for index in range(k)])\n",
        "\n",
        "    if np.all(centroids == centroids_updated):\n",
        "      break\n",
        "      \n",
        "    centroids = centroids_updated\n",
        "    \n",
        "  return centroids, clusters\n",
        "\n",
        "\n",
        "centroids, clusters = k_means(X, k=4)\n",
        "plt.scatter(X[:, 0], X[:, 1], c=clusters,\n",
        "            s=50, cmap='viridis');\n",
        "plt.scatter(centroids[:,0], centroids[:,1], marker='x', c='g', s=200);"
      ],
      "execution_count": 0,
      "outputs": [
        {
          "output_type": "display_data",
          "data": {
            "image/png": "[encoded data removed]",
            "text/plain": [
              "<Figure size 432x288 with 1 Axes>"
            ]
          },
          "metadata": {
            "tags": []
          }
        }
      ]
    },
    {
      "cell_type": "markdown",
      "metadata": {
        "id": "2AAJBwmEY2rK",
        "colab_type": "text"
      },
      "source": [
        "## PCA (Principal Component Analysis)\n",
        "\n",
        "**Motivation**\n",
        "\n",
        "**Data compresion**\n",
        "\n",
        "- The idea is to reduce the dimension of a dataset. It can lead to a faster training.\n",
        "- Mapping from 2D to 1D involves finding 1 vector, that forms a line,  where the 2D points can be projected.\n",
        "- Mapping from 3D to 2D involves finding 2 vectors, that forms a plane,  where the 3D points can be projected.\n",
        "\n",
        "<img src=\"https://drive.google.com/uc?export=view&id=14HWnwTPpscYurPSAq-5T5tYsgi_CmoiS\" alt=\"drawing\" width=\"500\" />\n",
        "\n",
        "<img src=\"https://drive.google.com/uc?export=view&id=1d4FbTPpnkeWNC1Kj1hBlq4OID1sw9qC6\" alt=\"drawing\" width=\"500\" />\n",
        "\n",
        "**Data visualization**\n",
        "\n",
        "- In order to interpret data in several dimensions, it is very often to use PCA to map this data to 2D or 3D.\n",
        "\n",
        "<img src=\"https://i.stack.imgur.com/9wmJ2.png\" alt=\"drawing\" width=\"400\" />\n",
        "\n",
        "\n",
        "**Highe level formulation**\n",
        "\n",
        "The idea behind PCA is to find out direction vectors where to project the input data that minimize the error.\n",
        "\n",
        "<img src=\"https://drive.google.com/uc?export=view&id=1lxymU4ICJM4twO67pRpbKgho5M9-T3Wf\" alt=\"drawing\" width=\"500\" />\n",
        "\n",
        "**PCA vs Linear regression**\n",
        "\n",
        "In Linear regression we calculate the error btw the actual and the predicted label. Whereas in PCA, we calculate the distance of the  input point to the projected plane.\n",
        "\n",
        "<img src=\"https://drive.google.com/uc?export=view&id=1AJYPx69irUfxiyRuzPiKxDVdqhCarbq2\" alt=\"drawing\" width=\"500\" />\n",
        "\n",
        "**Formal way**\n",
        "\n",
        "If we have $\\mathbf{x}_{1}, \\dots, \\mathbf{x}_{m}$ (m vectors) in $\\mathbb{R}^{d}$, and we'd like to reduce its dimensionality using a linear transformation, then we need a matrix $W \\in \\mathbb{R}^{n,d}$ where $n < d$ that maps $x$ to $Wx$ where $Wx \\in \\mathbb{R}^{n}$, which is the lower dimensionality representation of $x$.\n",
        "\n",
        "A second matrix $U  \\in \\mathbb{R}^{d,n}$ is needed to recover each original vector $x$ from its compressed version, so that $\\tilde{\\mathbf{x}}=UWx$, where $\\tilde{\\mathbf{x}}$ is the recovered version of $x$ (aproximately)  and belongs to the original dimension $\\mathbb{R}^{d}$\n",
        "\n",
        "So in PCA we need to find the compression matrix $W$ and the recovering matrix $U$, so the erros btw both matrices are minimal (squared distance), thus we need to solve this problem:\n",
        "\n",
        "$$\n",
        "\\underset{W \\in \\mathbb{R}^{n}, d, U \\in \\mathbb{R}^{d, n}}{\\operatorname{argmin}} \\sum_{i=1}^{m}\\left\\|\\mathbf{x}_{i}-U W \\mathbf{x}_{i}\\right\\|_{2}^{2}\n",
        "$$\n",
        "\n",
        "An optimal solution of that problem is considering $A=\\sum_{i=1}^{m} \\mathbf{x}_{i} \\mathbf{x}_{i}^{\\top}$ and find its $\\mathbf{u}_{1}, \\dots, \\mathbf{u}_{n}$, n eigenvectors of this matrix A corresponding to the largest n eigenvalues of A. So that the solution would be setting $U$ whose columns are  $\\mathbf{u}_{1}, \\dots, \\mathbf{u}_{n}$ and setting $W=U^{\\top}$.\n",
        "\n",
        "References:\n",
        "\n",
        "[1]  Shai S. at el. Understanding Machine Learning Theory algorithms, 2014. Page 323."
      ]
    },
    {
      "cell_type": "markdown",
      "metadata": {
        "id": "6_MzgrfqY7Vj",
        "colab_type": "text"
      },
      "source": [
        ""
      ]
    },
    {
      "cell_type": "code",
      "metadata": {
        "id": "DlCDSBh9AWVA",
        "colab_type": "code",
        "outputId": "1cfb562a-efc8-4432-f437-9eeba3c20d29",
        "colab": {
          "base_uri": "https://localhost:8080/",
          "height": 35
        }
      },
      "source": [
        "# map drive links to notebook images\n",
        "\n",
        "drive_link = 'https://drive.google.com/open?id=1AJYPx69irUfxiyRuzPiKxDVdqhCarbq2'\n",
        "image_id = drive_link.split('=')[1]\n",
        "image = f\"\"\"<img src=\"https://drive.google.com/uc?export=view&id={image_id}\" alt=\"drawing\" width=\"500\" />\"\"\"\n",
        "image"
      ],
      "execution_count": 0,
      "outputs": [
        {
          "output_type": "execute_result",
          "data": {
            "text/plain": [
              "'<img src=\"https://drive.google.com/uc?export=view&id=1AJYPx69irUfxiyRuzPiKxDVdqhCarbq2\" alt=\"drawing\" width=\"500\" />'"
            ]
          },
          "metadata": {
            "tags": []
          },
          "execution_count": 4
        }
      ]
    },
    {
      "cell_type": "code",
      "metadata": {
        "id": "d2YvqnOM2ndz",
        "colab_type": "code",
        "colab": {}
      },
      "source": [
        ""
      ],
      "execution_count": 0,
      "outputs": []
    }
  ]
}