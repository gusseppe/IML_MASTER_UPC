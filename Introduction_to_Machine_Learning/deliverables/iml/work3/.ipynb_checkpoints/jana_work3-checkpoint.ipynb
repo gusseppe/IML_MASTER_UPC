{
 "cells": [
  {
   "cell_type": "markdown",
   "metadata": {},
   "source": [
    "## LAZY LEARNING EXERCISE \n",
    "\n"
   ]
  },
  {
   "cell_type": "code",
   "execution_count": 2,
   "metadata": {},
   "outputs": [],
   "source": [
    "%load_ext autoreload\n",
    "%autoreload 2\n",
    "\n",
    "import pandas as pd\n",
    "import matplotlib.pyplot as plt\n",
    "import seaborn as sns\n",
    "import numpy as np\n",
    "\n",
    "from urllib import request\n",
    "from scipy.io import arff\n",
    "from io import StringIO\n",
    "from sklearn.preprocessing import LabelEncoder\n",
    "\n",
    "from tools import eda \n",
    "from tools import preprocess as prep"
   ]
  },
  {
   "cell_type": "markdown",
   "metadata": {},
   "source": [
    "### Read the test file "
   ]
  },
  {
   "cell_type": "code",
   "execution_count": 3,
   "metadata": {},
   "outputs": [
    {
     "data": {
      "text/html": [
       "<div>\n",
       "<style scoped>\n",
       "    .dataframe tbody tr th:only-of-type {\n",
       "        vertical-align: middle;\n",
       "    }\n",
       "\n",
       "    .dataframe tbody tr th {\n",
       "        vertical-align: top;\n",
       "    }\n",
       "\n",
       "    .dataframe thead th {\n",
       "        text-align: right;\n",
       "    }\n",
       "</style>\n",
       "<table border=\"1\" class=\"dataframe\">\n",
       "  <thead>\n",
       "    <tr style=\"text-align: right;\">\n",
       "      <th></th>\n",
       "      <th>a1</th>\n",
       "      <th>a2</th>\n",
       "      <th>a3</th>\n",
       "      <th>a4</th>\n",
       "      <th>class</th>\n",
       "    </tr>\n",
       "  </thead>\n",
       "  <tbody>\n",
       "    <tr>\n",
       "      <td>0</td>\n",
       "      <td>4.0</td>\n",
       "      <td>3.0</td>\n",
       "      <td>1.0</td>\n",
       "      <td>1.0</td>\n",
       "      <td>b'L'</td>\n",
       "    </tr>\n",
       "    <tr>\n",
       "      <td>1</td>\n",
       "      <td>1.0</td>\n",
       "      <td>5.0</td>\n",
       "      <td>1.0</td>\n",
       "      <td>2.0</td>\n",
       "      <td>b'L'</td>\n",
       "    </tr>\n",
       "    <tr>\n",
       "      <td>2</td>\n",
       "      <td>3.0</td>\n",
       "      <td>2.0</td>\n",
       "      <td>3.0</td>\n",
       "      <td>4.0</td>\n",
       "      <td>b'R'</td>\n",
       "    </tr>\n",
       "    <tr>\n",
       "      <td>3</td>\n",
       "      <td>3.0</td>\n",
       "      <td>5.0</td>\n",
       "      <td>4.0</td>\n",
       "      <td>5.0</td>\n",
       "      <td>b'R'</td>\n",
       "    </tr>\n",
       "    <tr>\n",
       "      <td>4</td>\n",
       "      <td>5.0</td>\n",
       "      <td>1.0</td>\n",
       "      <td>4.0</td>\n",
       "      <td>1.0</td>\n",
       "      <td>b'L'</td>\n",
       "    </tr>\n",
       "  </tbody>\n",
       "</table>\n",
       "</div>"
      ],
      "text/plain": [
       "    a1   a2   a3   a4 class\n",
       "0  4.0  3.0  1.0  1.0  b'L'\n",
       "1  1.0  5.0  1.0  2.0  b'L'\n",
       "2  3.0  2.0  3.0  4.0  b'R'\n",
       "3  3.0  5.0  4.0  5.0  b'R'\n",
       "4  5.0  1.0  4.0  1.0  b'L'"
      ]
     },
     "execution_count": 3,
     "metadata": {},
     "output_type": "execute_result"
    }
   ],
   "source": [
    "path = 'datasetsCBR/bal/bal.fold.000000.test.arff'\n",
    "\n",
    "# Read the data set\n",
    "df_test = eda.read_arff(path_data=path, url_data=None)\n",
    "\n",
    "df_test.head()"
   ]
  },
  {
   "cell_type": "code",
   "execution_count": 4,
   "metadata": {},
   "outputs": [],
   "source": [
    "splits, metadata = eda.split(df_test, cat_features=None,response='class')\n",
    "X_num = splits['X_num']\n",
    "X_cat = splits['X_cat'] # No categorical features"
   ]
  },
  {
   "cell_type": "code",
   "execution_count": 5,
   "metadata": {},
   "outputs": [],
   "source": [
    "# True labels of all datapoints\n",
    "y = splits['y']['class'].values"
   ]
  },
  {
   "cell_type": "code",
   "execution_count": 6,
   "metadata": {},
   "outputs": [
    {
     "data": {
      "text/html": [
       "<div>\n",
       "<style scoped>\n",
       "    .dataframe tbody tr th:only-of-type {\n",
       "        vertical-align: middle;\n",
       "    }\n",
       "\n",
       "    .dataframe tbody tr th {\n",
       "        vertical-align: top;\n",
       "    }\n",
       "\n",
       "    .dataframe thead th {\n",
       "        text-align: right;\n",
       "    }\n",
       "</style>\n",
       "<table border=\"1\" class=\"dataframe\">\n",
       "  <thead>\n",
       "    <tr style=\"text-align: right;\">\n",
       "      <th></th>\n",
       "      <th>a1</th>\n",
       "      <th>a2</th>\n",
       "      <th>a3</th>\n",
       "      <th>a4</th>\n",
       "    </tr>\n",
       "  </thead>\n",
       "  <tbody>\n",
       "    <tr>\n",
       "      <td>0</td>\n",
       "      <td>4.0</td>\n",
       "      <td>3.0</td>\n",
       "      <td>1.0</td>\n",
       "      <td>1.0</td>\n",
       "    </tr>\n",
       "    <tr>\n",
       "      <td>1</td>\n",
       "      <td>1.0</td>\n",
       "      <td>5.0</td>\n",
       "      <td>1.0</td>\n",
       "      <td>2.0</td>\n",
       "    </tr>\n",
       "    <tr>\n",
       "      <td>2</td>\n",
       "      <td>3.0</td>\n",
       "      <td>2.0</td>\n",
       "      <td>3.0</td>\n",
       "      <td>4.0</td>\n",
       "    </tr>\n",
       "    <tr>\n",
       "      <td>3</td>\n",
       "      <td>3.0</td>\n",
       "      <td>5.0</td>\n",
       "      <td>4.0</td>\n",
       "      <td>5.0</td>\n",
       "    </tr>\n",
       "    <tr>\n",
       "      <td>4</td>\n",
       "      <td>5.0</td>\n",
       "      <td>1.0</td>\n",
       "      <td>4.0</td>\n",
       "      <td>1.0</td>\n",
       "    </tr>\n",
       "  </tbody>\n",
       "</table>\n",
       "</div>"
      ],
      "text/plain": [
       "    a1   a2   a3   a4\n",
       "0  4.0  3.0  1.0  1.0\n",
       "1  1.0  5.0  1.0  2.0\n",
       "2  3.0  2.0  3.0  4.0\n",
       "3  3.0  5.0  4.0  5.0\n",
       "4  5.0  1.0  4.0  1.0"
      ]
     },
     "execution_count": 6,
     "metadata": {},
     "output_type": "execute_result"
    }
   ],
   "source": [
    "X_num.head()"
   ]
  },
  {
   "cell_type": "code",
   "execution_count": 7,
   "metadata": {},
   "outputs": [
    {
     "name": "stdout",
     "output_type": "stream",
     "text": [
      "# instances: 62 | # features: 4\n",
      "# num_features: 4\n"
     ]
    }
   ],
   "source": [
    "print(f'# instances: {len(X_num)} | # features: {len(X_num.columns)}')\n",
    "print(f'# num_features: {len(X_num.columns)}')"
   ]
  },
  {
   "cell_type": "code",
   "execution_count": 8,
   "metadata": {},
   "outputs": [
    {
     "name": "stdout",
     "output_type": "stream",
     "text": [
      "Numerical: a1    0\n",
      "a2    0\n",
      "a3    0\n",
      "a4    0\n",
      "dtype: int64\n"
     ]
    }
   ],
   "source": [
    "def check_null(X):\n",
    "    return X.isnull().sum()\n",
    "print(f'Numerical: {eda.check_null(X_num)}')"
   ]
  },
  {
   "cell_type": "code",
   "execution_count": 9,
   "metadata": {},
   "outputs": [
    {
     "data": {
      "text/html": [
       "<div>\n",
       "<style scoped>\n",
       "    .dataframe tbody tr th:only-of-type {\n",
       "        vertical-align: middle;\n",
       "    }\n",
       "\n",
       "    .dataframe tbody tr th {\n",
       "        vertical-align: top;\n",
       "    }\n",
       "\n",
       "    .dataframe thead th {\n",
       "        text-align: right;\n",
       "    }\n",
       "</style>\n",
       "<table border=\"1\" class=\"dataframe\">\n",
       "  <thead>\n",
       "    <tr style=\"text-align: right;\">\n",
       "      <th></th>\n",
       "      <th>a1</th>\n",
       "      <th>a2</th>\n",
       "      <th>a3</th>\n",
       "      <th>a4</th>\n",
       "    </tr>\n",
       "  </thead>\n",
       "  <tbody>\n",
       "    <tr>\n",
       "      <td>0</td>\n",
       "      <td>0.75</td>\n",
       "      <td>0.50</td>\n",
       "      <td>0.00</td>\n",
       "      <td>0.00</td>\n",
       "    </tr>\n",
       "    <tr>\n",
       "      <td>1</td>\n",
       "      <td>0.00</td>\n",
       "      <td>1.00</td>\n",
       "      <td>0.00</td>\n",
       "      <td>0.25</td>\n",
       "    </tr>\n",
       "    <tr>\n",
       "      <td>2</td>\n",
       "      <td>0.50</td>\n",
       "      <td>0.25</td>\n",
       "      <td>0.50</td>\n",
       "      <td>0.75</td>\n",
       "    </tr>\n",
       "    <tr>\n",
       "      <td>3</td>\n",
       "      <td>0.50</td>\n",
       "      <td>1.00</td>\n",
       "      <td>0.75</td>\n",
       "      <td>1.00</td>\n",
       "    </tr>\n",
       "    <tr>\n",
       "      <td>4</td>\n",
       "      <td>1.00</td>\n",
       "      <td>0.00</td>\n",
       "      <td>0.75</td>\n",
       "      <td>0.00</td>\n",
       "    </tr>\n",
       "  </tbody>\n",
       "</table>\n",
       "</div>"
      ],
      "text/plain": [
       "     a1    a2    a3    a4\n",
       "0  0.75  0.50  0.00  0.00\n",
       "1  0.00  1.00  0.00  0.25\n",
       "2  0.50  0.25  0.50  0.75\n",
       "3  0.50  1.00  0.75  1.00\n",
       "4  1.00  0.00  0.75  0.00"
      ]
     },
     "execution_count": 9,
     "metadata": {},
     "output_type": "execute_result"
    }
   ],
   "source": [
    "X_norm_test = (X_num - X_num.min()) / (X_num.max() - X_num.min())\n",
    "X_norm_test.head()"
   ]
  },
  {
   "cell_type": "markdown",
   "metadata": {},
   "source": [
    "### Read the training file"
   ]
  },
  {
   "cell_type": "code",
   "execution_count": 10,
   "metadata": {},
   "outputs": [
    {
     "data": {
      "text/html": [
       "<div>\n",
       "<style scoped>\n",
       "    .dataframe tbody tr th:only-of-type {\n",
       "        vertical-align: middle;\n",
       "    }\n",
       "\n",
       "    .dataframe tbody tr th {\n",
       "        vertical-align: top;\n",
       "    }\n",
       "\n",
       "    .dataframe thead th {\n",
       "        text-align: right;\n",
       "    }\n",
       "</style>\n",
       "<table border=\"1\" class=\"dataframe\">\n",
       "  <thead>\n",
       "    <tr style=\"text-align: right;\">\n",
       "      <th></th>\n",
       "      <th>a1</th>\n",
       "      <th>a2</th>\n",
       "      <th>a3</th>\n",
       "      <th>a4</th>\n",
       "      <th>class</th>\n",
       "    </tr>\n",
       "  </thead>\n",
       "  <tbody>\n",
       "    <tr>\n",
       "      <td>0</td>\n",
       "      <td>3.0</td>\n",
       "      <td>1.0</td>\n",
       "      <td>4.0</td>\n",
       "      <td>5.0</td>\n",
       "      <td>b'R'</td>\n",
       "    </tr>\n",
       "    <tr>\n",
       "      <td>1</td>\n",
       "      <td>3.0</td>\n",
       "      <td>2.0</td>\n",
       "      <td>2.0</td>\n",
       "      <td>5.0</td>\n",
       "      <td>b'R'</td>\n",
       "    </tr>\n",
       "    <tr>\n",
       "      <td>2</td>\n",
       "      <td>2.0</td>\n",
       "      <td>4.0</td>\n",
       "      <td>2.0</td>\n",
       "      <td>3.0</td>\n",
       "      <td>b'L'</td>\n",
       "    </tr>\n",
       "    <tr>\n",
       "      <td>3</td>\n",
       "      <td>4.0</td>\n",
       "      <td>1.0</td>\n",
       "      <td>1.0</td>\n",
       "      <td>2.0</td>\n",
       "      <td>b'L'</td>\n",
       "    </tr>\n",
       "    <tr>\n",
       "      <td>4</td>\n",
       "      <td>3.0</td>\n",
       "      <td>3.0</td>\n",
       "      <td>4.0</td>\n",
       "      <td>1.0</td>\n",
       "      <td>b'L'</td>\n",
       "    </tr>\n",
       "  </tbody>\n",
       "</table>\n",
       "</div>"
      ],
      "text/plain": [
       "    a1   a2   a3   a4 class\n",
       "0  3.0  1.0  4.0  5.0  b'R'\n",
       "1  3.0  2.0  2.0  5.0  b'R'\n",
       "2  2.0  4.0  2.0  3.0  b'L'\n",
       "3  4.0  1.0  1.0  2.0  b'L'\n",
       "4  3.0  3.0  4.0  1.0  b'L'"
      ]
     },
     "execution_count": 10,
     "metadata": {},
     "output_type": "execute_result"
    }
   ],
   "source": [
    "path = 'datasetsCBR/bal/bal.fold.000000.train.arff'\n",
    "\n",
    "# Read the data set\n",
    "df_train = eda.read_arff(path_data=path, url_data=None)\n",
    "\n",
    "df_train.head()"
   ]
  },
  {
   "cell_type": "code",
   "execution_count": 11,
   "metadata": {},
   "outputs": [],
   "source": [
    "splits, metadata = eda.split(df_train, cat_features=None,response='class')\n",
    "X_num = splits['X_num']\n",
    "X_cat = splits['X_cat'] # No categorical features"
   ]
  },
  {
   "cell_type": "code",
   "execution_count": 12,
   "metadata": {},
   "outputs": [],
   "source": [
    "# True labels of all datapoints\n",
    "y = splits['y']['class'].values"
   ]
  },
  {
   "cell_type": "code",
   "execution_count": 13,
   "metadata": {},
   "outputs": [
    {
     "name": "stdout",
     "output_type": "stream",
     "text": [
      "# instances: 563 | # features: 4\n",
      "# num_features: 4\n"
     ]
    }
   ],
   "source": [
    "print(f'# instances: {len(X_num)} | # features: {len(X_num.columns)}')\n",
    "print(f'# num_features: {len(X_num.columns)}')"
   ]
  },
  {
   "cell_type": "code",
   "execution_count": 14,
   "metadata": {},
   "outputs": [
    {
     "name": "stdout",
     "output_type": "stream",
     "text": [
      "Numerical: a1    0\n",
      "a2    0\n",
      "a3    0\n",
      "a4    0\n",
      "dtype: int64\n"
     ]
    }
   ],
   "source": [
    "def check_null(X):\n",
    "    return X.isnull().sum()\n",
    "print(f'Numerical: {eda.check_null(X_num)}')"
   ]
  },
  {
   "cell_type": "code",
   "execution_count": 15,
   "metadata": {},
   "outputs": [
    {
     "data": {
      "text/html": [
       "<div>\n",
       "<style scoped>\n",
       "    .dataframe tbody tr th:only-of-type {\n",
       "        vertical-align: middle;\n",
       "    }\n",
       "\n",
       "    .dataframe tbody tr th {\n",
       "        vertical-align: top;\n",
       "    }\n",
       "\n",
       "    .dataframe thead th {\n",
       "        text-align: right;\n",
       "    }\n",
       "</style>\n",
       "<table border=\"1\" class=\"dataframe\">\n",
       "  <thead>\n",
       "    <tr style=\"text-align: right;\">\n",
       "      <th></th>\n",
       "      <th>a1</th>\n",
       "      <th>a2</th>\n",
       "      <th>a3</th>\n",
       "      <th>a4</th>\n",
       "    </tr>\n",
       "  </thead>\n",
       "  <tbody>\n",
       "    <tr>\n",
       "      <td>0</td>\n",
       "      <td>-0.00222</td>\n",
       "      <td>-0.50444</td>\n",
       "      <td>0.250444</td>\n",
       "      <td>0.498668</td>\n",
       "    </tr>\n",
       "    <tr>\n",
       "      <td>1</td>\n",
       "      <td>-0.00222</td>\n",
       "      <td>-0.25444</td>\n",
       "      <td>-0.249556</td>\n",
       "      <td>0.498668</td>\n",
       "    </tr>\n",
       "    <tr>\n",
       "      <td>2</td>\n",
       "      <td>-0.25222</td>\n",
       "      <td>0.24556</td>\n",
       "      <td>-0.249556</td>\n",
       "      <td>-0.001332</td>\n",
       "    </tr>\n",
       "    <tr>\n",
       "      <td>3</td>\n",
       "      <td>0.24778</td>\n",
       "      <td>-0.50444</td>\n",
       "      <td>-0.499556</td>\n",
       "      <td>-0.251332</td>\n",
       "    </tr>\n",
       "    <tr>\n",
       "      <td>4</td>\n",
       "      <td>-0.00222</td>\n",
       "      <td>-0.00444</td>\n",
       "      <td>0.250444</td>\n",
       "      <td>-0.501332</td>\n",
       "    </tr>\n",
       "  </tbody>\n",
       "</table>\n",
       "</div>"
      ],
      "text/plain": [
       "        a1       a2        a3        a4\n",
       "0 -0.00222 -0.50444  0.250444  0.498668\n",
       "1 -0.00222 -0.25444 -0.249556  0.498668\n",
       "2 -0.25222  0.24556 -0.249556 -0.001332\n",
       "3  0.24778 -0.50444 -0.499556 -0.251332\n",
       "4 -0.00222 -0.00444  0.250444 -0.501332"
      ]
     },
     "execution_count": 15,
     "metadata": {},
     "output_type": "execute_result"
    }
   ],
   "source": [
    "X_norm_train = (X_num - X_num.mean()) / (X_num.max() - X_num.min())\n",
    "X_norm_train.head()"
   ]
  },
  {
   "cell_type": "markdown",
   "metadata": {},
   "source": [
    "### Function that automatically reads the files and performs the pre-processing"
   ]
  },
  {
   "cell_type": "code",
   "execution_count": 16,
   "metadata": {},
   "outputs": [],
   "source": [
    "def read_train_test_files(fold_number):\n",
    "    import glob\n",
    "    train_arff_files = glob.glob('datasetsCBR/bal/*.train.arff')\n",
    "    test_arff_files = glob.glob('datasetsCBR/bal/*.test.arff')\n",
    "    \n",
    "    TrainTotal = []\n",
    "    Y_TrainTotal = []\n",
    "    \n",
    "    TestTotal = []\n",
    "    Y_TestTotal = []\n",
    "    \n",
    "    for file in train_arff_files:\n",
    "        \n",
    "\n",
    "        df_train = eda.read_arff(path_data=file, url_data=None)\n",
    "        splits, metadata = eda.split(df_train, cat_features=None,response='class')\n",
    "        X_num = splits['X_num']\n",
    "        X_cat = splits['X_cat'] # No categorical features\n",
    "        y_train = splits['y']['class'].values\n",
    "        X_norm_train = (X_num - X_num.min()) / (X_num.max() - X_num.min())\n",
    "        TrainTotal.append(X_norm_train)\n",
    "        Y_TrainTotal.append(y_train)\n",
    "        \n",
    "    \n",
    "    for file in test_arff_files: \n",
    "       \n",
    "        df_test = eda.read_arff(path_data=file, url_data=None)\n",
    "        splits, metadata = eda.split(df_test, cat_features=None,response='class')\n",
    "        X_num = splits['X_num']\n",
    "        X_cat = splits['X_cat'] # No categorical features\n",
    "        y_test = splits['y']['class'].values\n",
    "        X_norm_test = (X_num - X_num.min()) / (X_num.max() - X_num.min())\n",
    "        TestTotal.append(X_norm_test)\n",
    "        Y_TestTotal.append(y_test)\n",
    "        \n",
    "        \n",
    "    return TrainTotal[fold_number-1],Y_TrainTotal[fold_number-1], TestTotal[fold_number-1], Y_TestTotal[fold_number-1]\n",
    "\n"
   ]
  },
  {
   "cell_type": "code",
   "execution_count": 17,
   "metadata": {},
   "outputs": [],
   "source": [
    "fold_number = 1\n",
    "Train,Y_Train, Test, Y_Test = read_train_test_files(fold_number)"
   ]
  },
  {
   "cell_type": "code",
   "execution_count": 53,
   "metadata": {},
   "outputs": [
    {
     "name": "stdout",
     "output_type": "stream",
     "text": [
      "563 63\n"
     ]
    }
   ],
   "source": [
    "print(len(Train),len(Test))"
   ]
  },
  {
   "cell_type": "markdown",
   "metadata": {},
   "source": [
    "### KNN "
   ]
  },
  {
   "cell_type": "code",
   "execution_count": 79,
   "metadata": {},
   "outputs": [],
   "source": [
    "# FER MENÚ PER TRIAR EL VOTING METHOD\n",
    "import operator\n",
    "from scipy.stats import mode\n",
    "\n",
    "class KIblAlgorithm:\n",
    "    def __init__(self,r,k,voting_method,retention_type):\n",
    "        \n",
    "        \"\"\"Values for voting method:\n",
    "        'most_voted'\n",
    "        'modified plurality' \n",
    "        \"\"\"\n",
    "        \n",
    "        \"\"\"Values for retention_type:\n",
    "        'nr' (Never retain)\n",
    "        'ar' (Always retain)\n",
    "        'df' (Different Class retention)\n",
    "        'dd' (Degree of Desagreement)\n",
    "        \"\"\"\n",
    "        \n",
    "        self.r = r\n",
    "        self.k = k\n",
    "        self.voting_method = voting_method\n",
    "        \n",
    "\n",
    "        assert retention_type in ['nr', 'ar', 'df', 'dd']\n",
    "        self.retention_type = retention_type\n",
    "        \n",
    "    \n",
    "    def minskowski_metric(self,p1,p2,length):\n",
    "        \"\"\"Minskowski distance between two points.\"\"\"\n",
    "        distance =0.0\n",
    "        for i in range(length):\n",
    "            distance += (abs(p1[i]-p2[i])**self.r)\n",
    "\n",
    "        return distance**(1/self.r)\n",
    "    \n",
    "    def most_voted(self,neighbors,TrainLabels):\n",
    "        Count = {}  # to get most frequent class of rows \n",
    "        for i in range(len(neighbors)):\n",
    "            label = TrainLabels[neighbors[i]]\n",
    "        \n",
    "            if label in Count:\n",
    "                Count[label] += 1\n",
    "            else:\n",
    "                Count[label] = 1\n",
    "        \n",
    "        sortcount = sorted(Count.items(), key=operator.itemgetter(1), reverse=True) # We sort from most frequent label to less frequent\n",
    "    \n",
    "        return sortcount\n",
    "    \n",
    "    def modified_plurality(self,neighbors,TrainLabels):\n",
    "        \n",
    "        Count = {}  # to get most frequent class of rows \n",
    "        for i in range(len(neighbors)):\n",
    "            label = TrainLabels[neighbors[i]]\n",
    "        \n",
    "            if label in Count:\n",
    "                Count[label] += 1\n",
    "            else:\n",
    "                Count[label] = 1\n",
    "        \n",
    "        sortcount = sorted(Count.items(), key=operator.itemgetter(1), reverse=True) # We sort from most frequent label to less frequent\n",
    "    \n",
    "        # 2) Modified plurality\n",
    "        while sortcount[0][1] == sortcount[1][1]:\n",
    "            neighbors = neighbors[:-1]\n",
    "            \n",
    "            Count = {}  # to get most frequent class of rows \n",
    "            for i in range(len(neighbors)):\n",
    "                label = TrainLabels[neighbors[i]]\n",
    "                if label in Count:\n",
    "                    Count[label] += 1\n",
    "                else:\n",
    "                    Count[label] = 1\n",
    "            sortcount = sorted(Count.items(), key=operator.itemgetter(1), reverse=True) # We sort from most frequent label to lenttss frequent\n",
    "\n",
    "            print('There is a Tie')\n",
    "\n",
    "            if len(sortcount)==1:\n",
    "                print(sortcount)\n",
    "                break\n",
    "            elif sortcount[0][1] != sortcount[1][1]:\n",
    "                print(sortcount)\n",
    "                break\n",
    "\n",
    "        else:\n",
    "            print('No Tie')\n",
    "        \n",
    "        return sortcount \n",
    "    \n",
    "    def classifier(self,TrainMatrix,TestInstances,TrainLabels):\n",
    "        \"\"\"K-Instance-Based Learning algorithm\"\"\"\n",
    "        import operator\n",
    "\n",
    "        distances = {}\n",
    "        length = TrainMatrix.shape[1]\n",
    "\n",
    "        # Compute distances between one Test Incance (current test instance) and all the TrainMatrix rows\n",
    "        for i in range(len(TrainMatrix)): # each row \n",
    "            dist = self.minskowski_metric(TrainMatrix[i], TestInstances, length) # Selecting data by row numbers (.iloc)\n",
    "            distances[i] = dist\n",
    "        sortdist = sorted(distances.items(), key=operator.itemgetter(1)) # sort in decreasing order\n",
    "\n",
    "        # Find the Train Instances that are close to the Train Instance\n",
    "        neighbors = []\n",
    "        for i in range(self.k):\n",
    "            neighbors.append(sortdist[i][0]) # we choose the index of the K most similar instances (min distance)\n",
    "        \n",
    "        if self.voting_method == 'most_voted': \n",
    "            sortcount = self.most_voted(neighbors,TrainLabels)\n",
    "        else: \n",
    "            sortcount = self.modified_plurality(neighbors,TrainLabels)\n",
    "        \n",
    "        return (sortcount[0][0],neighbors)\n",
    "    \n",
    "    \n",
    "    def update_instance_base(self, instance_index, TrainMatrix, TestInstances, TestLabels, predicted, neighbors=None):\n",
    "        def instance_base_with_current_instance():\n",
    "            newTrainMatrix = TrainMatrix.copy()\n",
    "            instance = TestInstances[instance_index]\n",
    "            return np.append(newTrainMatrix, instance)\n",
    "\n",
    "        if self.retention_type == 'nr':\n",
    "            return TrainMatrix\n",
    "        elif self.retention_type == 'ar':\n",
    "            return instance_base_with_current_instance()\n",
    "        elif self.retention_type == 'df':\n",
    "            if TestLabels[instance_index] == predicted:\n",
    "                return TrainMatrix \n",
    "            else:\n",
    "                return instance_base_with_current_instance()\n",
    "        elif self.retention_type == 'dd':\n",
    "            n_clases = len(np.unique(TestLabels))\n",
    "            majority = mode(neighbors)[0][0]\n",
    "            # print(majority)\n",
    "            n_majority_classes = len([x for x in neighbors if x == majority])\n",
    "            n_remaining_classes = len(neighbors) - n_majority_classes\n",
    "        \n",
    "            d = n_remaining_classes/((n_clases - 1) * n_majority_classes)\n",
    "            # print(d)\n",
    "            if d > 0.5:\n",
    "                return instance_base_with_current_instance()\n",
    "            else:\n",
    "                return TrainMatrix\n",
    "        else:\n",
    "            print('Wrong retention_type')\n",
    "    \n",
    "    \n",
    "    def fit(self,TrainMatrix,TestInstances, TrainLabels, TestLabels):\n",
    "        \n",
    "        classification = []\n",
    "        \n",
    "        for i in range(len(Test)):\n",
    "            label,neighbors = self.classifier(TrainMatrix,TestInstances[i],TrainLabels)\n",
    "            TrainMatrix = self.update_instance_base(i, TrainMatrix,TestInstances, TestLabels[i],label,neighbors)\n",
    "            classification.append((i,label))\n",
    "        \n",
    "        return classification "
   ]
  },
  {
   "cell_type": "code",
   "execution_count": 80,
   "metadata": {},
   "outputs": [
    {
     "ename": "ZeroDivisionError",
     "evalue": "division by zero",
     "output_type": "error",
     "traceback": [
      "\u001b[0;31m---------------------------------------------------------------------------\u001b[0m",
      "\u001b[0;31mZeroDivisionError\u001b[0m                         Traceback (most recent call last)",
      "\u001b[0;32m<timed exec>\u001b[0m in \u001b[0;36m<module>\u001b[0;34m\u001b[0m\n",
      "\u001b[0;32m<ipython-input-79-9425e901c7aa>\u001b[0m in \u001b[0;36mfit\u001b[0;34m(self, TrainMatrix, TestInstances, TrainLabels, TestLabels)\u001b[0m\n\u001b[1;32m    153\u001b[0m         \u001b[0;32mfor\u001b[0m \u001b[0mi\u001b[0m \u001b[0;32min\u001b[0m \u001b[0mrange\u001b[0m\u001b[0;34m(\u001b[0m\u001b[0mlen\u001b[0m\u001b[0;34m(\u001b[0m\u001b[0mTest\u001b[0m\u001b[0;34m)\u001b[0m\u001b[0;34m)\u001b[0m\u001b[0;34m:\u001b[0m\u001b[0;34m\u001b[0m\u001b[0;34m\u001b[0m\u001b[0m\n\u001b[1;32m    154\u001b[0m             \u001b[0mlabel\u001b[0m\u001b[0;34m,\u001b[0m\u001b[0mneighbors\u001b[0m \u001b[0;34m=\u001b[0m \u001b[0mself\u001b[0m\u001b[0;34m.\u001b[0m\u001b[0mclassifier\u001b[0m\u001b[0;34m(\u001b[0m\u001b[0mTrainMatrix\u001b[0m\u001b[0;34m,\u001b[0m\u001b[0mTestInstances\u001b[0m\u001b[0;34m[\u001b[0m\u001b[0mi\u001b[0m\u001b[0;34m]\u001b[0m\u001b[0;34m,\u001b[0m\u001b[0mTrainLabels\u001b[0m\u001b[0;34m)\u001b[0m\u001b[0;34m\u001b[0m\u001b[0;34m\u001b[0m\u001b[0m\n\u001b[0;32m--> 155\u001b[0;31m             \u001b[0mTrainMatrix\u001b[0m \u001b[0;34m=\u001b[0m \u001b[0mself\u001b[0m\u001b[0;34m.\u001b[0m\u001b[0mupdate_instance_base\u001b[0m\u001b[0;34m(\u001b[0m\u001b[0mi\u001b[0m\u001b[0;34m,\u001b[0m \u001b[0mTrainMatrix\u001b[0m\u001b[0;34m,\u001b[0m\u001b[0mTestInstances\u001b[0m\u001b[0;34m,\u001b[0m \u001b[0mTestLabels\u001b[0m\u001b[0;34m[\u001b[0m\u001b[0mi\u001b[0m\u001b[0;34m]\u001b[0m\u001b[0;34m,\u001b[0m\u001b[0mlabel\u001b[0m\u001b[0;34m,\u001b[0m\u001b[0mneighbors\u001b[0m\u001b[0;34m)\u001b[0m\u001b[0;34m\u001b[0m\u001b[0;34m\u001b[0m\u001b[0m\n\u001b[0m\u001b[1;32m    156\u001b[0m             \u001b[0mclassification\u001b[0m\u001b[0;34m.\u001b[0m\u001b[0mappend\u001b[0m\u001b[0;34m(\u001b[0m\u001b[0;34m(\u001b[0m\u001b[0mi\u001b[0m\u001b[0;34m,\u001b[0m\u001b[0mlabel\u001b[0m\u001b[0;34m)\u001b[0m\u001b[0;34m)\u001b[0m\u001b[0;34m\u001b[0m\u001b[0;34m\u001b[0m\u001b[0m\n\u001b[1;32m    157\u001b[0m \u001b[0;34m\u001b[0m\u001b[0m\n",
      "\u001b[0;32m<ipython-input-79-9425e901c7aa>\u001b[0m in \u001b[0;36mupdate_instance_base\u001b[0;34m(self, instance_index, TrainMatrix, TestInstances, TestLabels, predicted, neighbors)\u001b[0m\n\u001b[1;32m    137\u001b[0m             \u001b[0mn_remaining_classes\u001b[0m \u001b[0;34m=\u001b[0m \u001b[0mlen\u001b[0m\u001b[0;34m(\u001b[0m\u001b[0mneighbors\u001b[0m\u001b[0;34m)\u001b[0m \u001b[0;34m-\u001b[0m \u001b[0mn_majority_classes\u001b[0m\u001b[0;34m\u001b[0m\u001b[0;34m\u001b[0m\u001b[0m\n\u001b[1;32m    138\u001b[0m \u001b[0;34m\u001b[0m\u001b[0m\n\u001b[0;32m--> 139\u001b[0;31m             \u001b[0md\u001b[0m \u001b[0;34m=\u001b[0m \u001b[0mn_remaining_classes\u001b[0m\u001b[0;34m/\u001b[0m\u001b[0;34m(\u001b[0m\u001b[0;34m(\u001b[0m\u001b[0mn_clases\u001b[0m \u001b[0;34m-\u001b[0m \u001b[0;36m1\u001b[0m\u001b[0;34m)\u001b[0m \u001b[0;34m*\u001b[0m \u001b[0mn_majority_classes\u001b[0m\u001b[0;34m)\u001b[0m\u001b[0;34m\u001b[0m\u001b[0;34m\u001b[0m\u001b[0m\n\u001b[0m\u001b[1;32m    140\u001b[0m             \u001b[0;31m# print(d)\u001b[0m\u001b[0;34m\u001b[0m\u001b[0;34m\u001b[0m\u001b[0;34m\u001b[0m\u001b[0m\n\u001b[1;32m    141\u001b[0m             \u001b[0;32mif\u001b[0m \u001b[0md\u001b[0m \u001b[0;34m>\u001b[0m \u001b[0;36m0.5\u001b[0m\u001b[0;34m:\u001b[0m\u001b[0;34m\u001b[0m\u001b[0;34m\u001b[0m\u001b[0m\n",
      "\u001b[0;31mZeroDivisionError\u001b[0m: division by zero"
     ]
    }
   ],
   "source": [
    "%%time\n",
    "knn = KIblAlgorithm(r=1,k=3,voting_method='most_voted',retention_type = 'dd')\n",
    "TestPrediction = knn.fit(Train.values,Test.values,Y_Train,Y_Test)"
   ]
  },
  {
   "cell_type": "code",
   "execution_count": 76,
   "metadata": {},
   "outputs": [
    {
     "name": "stdout",
     "output_type": "stream",
     "text": [
      "[(0, 2), (1, 2), (2, 1), (3, 2), (4, 2), (5, 1), (6, 1), (7, 1), (8, 0), (9, 1), (10, 1), (11, 2), (12, 2), (13, 2), (14, 2), (15, 1), (16, 1), (17, 1), (18, 2), (19, 1), (20, 2), (21, 1), (22, 2), (23, 1), (24, 0), (25, 2), (26, 2), (27, 1), (28, 1), (29, 1), (30, 2), (31, 1), (32, 1), (33, 1), (34, 1), (35, 2), (36, 2), (37, 1), (38, 2), (39, 1), (40, 2), (41, 1), (42, 1), (43, 1), (44, 1), (45, 2), (46, 1), (47, 1), (48, 2), (49, 2), (50, 2), (51, 1), (52, 2), (53, 2), (54, 1), (55, 1), (56, 2), (57, 2), (58, 2), (59, 1), (60, 1), (61, 2), (62, 2)]\n"
     ]
    }
   ],
   "source": [
    "print(TestPrediction)"
   ]
  },
  {
   "cell_type": "markdown",
   "metadata": {},
   "source": [
    "**Retention policy**\n"
   ]
  },
  {
   "cell_type": "code",
   "execution_count": null,
   "metadata": {},
   "outputs": [],
   "source": [
    "class RetentionPolicy:\n",
    "    def _init_(self, retention_type):\n",
    "        \"\"\"Values for retention_type:\n",
    "            'nr' (Never retain)\n",
    "            'ar' (Always retain)\n",
    "            'df' (Different Class retention)\n",
    "            'dd' (Degree of Desagreement)\n",
    "        \"\"\"\n",
    "        assert retention_type in ['nr', 'ar', 'df', 'dd']\n",
    "        self.retention_type = retention_type\n",
    "    \n",
    "    def update_instance_base(self, instance_index, TrainMatrix, TestMatrix, y_Test, predicted, neighbors=None):\n",
    "        def instance_base_with_current_instance():\n",
    "            newTrainMatrix = TrainMatrix.copy()\n",
    "            instance = TestMatrix[instance_index]\n",
    "            return np.append(newTrainMatrix, instance)\n",
    "\n",
    "        if self.retention_type == 'nr':\n",
    "            return TrainMatrix\n",
    "        elif self.retention_type == 'ar':\n",
    "            return instance_base_with_current_instance()\n",
    "        elif self.retention_type == 'df':\n",
    "            if y_Test[instance_index] == predicted:\n",
    "                return TrainMatrix \n",
    "            else:\n",
    "                return instance_base_with_current_instance()\n",
    "        elif self.retention_type == 'dd':\n",
    "            n_clases = len(np.unique(y_Test))\n",
    "            majority = stats.mode(neighbors)[0][0]\n",
    "            # print(majority)\n",
    "            n_majority_classes = len([x for x in neighbors if x == majority])\n",
    "            n_remaining_classes = len(neighbors) - n_majority_classes\n",
    "        \n",
    "            d = n_remaining_classes/((n_clases - 1) * n_majority_classes)\n",
    "            # print(d)\n",
    "            if d > 0.5:\n",
    "                return instance_base_with_current_instance()\n",
    "            else:\n",
    "                return TrainMatrix\n",
    "        else:\n",
    "            print('Wrong retention_type')"
   ]
  },
  {
   "cell_type": "markdown",
   "metadata": {},
   "source": [
    "**Computes de distance between two points:**"
   ]
  },
  {
   "cell_type": "code",
   "execution_count": 1,
   "metadata": {},
   "outputs": [],
   "source": [
    "def minskowski_metric(p1,p2,length,r):\n",
    "    \"\"\"Minskowski distance between two points.\"\"\"\n",
    "    distance =0.0\n",
    "    for k in range(length):\n",
    "        distance += (abs(p1[k]-p2[k])**r)\n",
    "        \n",
    "    return distance**(1/r)\n"
   ]
  },
  {
   "cell_type": "markdown",
   "metadata": {},
   "source": [
    "**K-Instance-Based Learning Algorithm**\n",
    "\n",
    "KNN algorithm. It computes label of a Test Instance taking into acount the K nearest neighbours. "
   ]
  },
  {
   "cell_type": "code",
   "execution_count": 37,
   "metadata": {},
   "outputs": [
    {
     "name": "stdout",
     "output_type": "stream",
     "text": [
      "CPU times: user 3.35 ms, sys: 271 µs, total: 3.62 ms\n",
      "Wall time: 3.35 ms\n"
     ]
    },
    {
     "data": {
      "text/plain": [
       "(2, [190, 62, 99, 140, 385, 390, 484])"
      ]
     },
     "execution_count": 37,
     "metadata": {},
     "output_type": "execute_result"
    }
   ],
   "source": [
    "%%time \n",
    "def kIBLAlgorithm (TrainMatrix,TestInstance,TrainLabels,K,r):\n",
    "    \"\"\"K-Instance-Based Learning algorithm\"\"\"\n",
    "    import operator\n",
    "\n",
    "    distances = {}\n",
    "    length = TrainMatrix.shape[1]\n",
    "    \n",
    "    # Compute distances between one Test Incance (current test instance) and all the TrainMatrix rows\n",
    "    for i in range(len(TrainMatrix)): # each row \n",
    "        dist = minskowski_metric(TrainMatrix[i], TestInstance , length,r) # Selecting data by row numbers (.iloc)\n",
    "        distances[i] = dist\n",
    "    sortdist = sorted(distances.items(), key=operator.itemgetter(1)) # sort in decreasing order\n",
    "\n",
    "    # Find the Train Instances that are close to the Train Instance\n",
    "    neighbors = []\n",
    "    for i in range(K):\n",
    "        neighbors.append(sortdist[i][0]) # we choose the index of the K most similar instances (min distance)\n",
    "\n",
    "    # Voting policies: \n",
    "    \n",
    "    # 1) Most voted solution \n",
    "    Count = {}  # to get most frequent class of rows \n",
    "    for i in range(len(neighbors)):\n",
    "        label = TrainLabels[neighbors[i]]\n",
    "        if label in Count:\n",
    "            Count[label] += 1\n",
    "        else:\n",
    "            Count[label] = 1\n",
    "    sortcount = sorted(Count.items(), key=operator.itemgetter(1), reverse=True) # We sort from most frequent label to less frequent\n",
    "    \n",
    "    return (sortcount[0][0],neighbors)\n",
    "\n",
    "TrainMatrix = Train.values\n",
    "TestInstance = Test.values[0]\n",
    "TrainLabels = Y_Train\n",
    "K = 7\n",
    "r=1\n",
    "kIBLAlgorithm (TrainMatrix,TestInstance,TrainLabels,K,r)"
   ]
  },
  {
   "cell_type": "code",
   "execution_count": 38,
   "metadata": {},
   "outputs": [
    {
     "name": "stdout",
     "output_type": "stream",
     "text": [
      "Test KNN classification (classification = [(num_instance,label):\n",
      "[(0, 2), (1, 2), (2, 1), (3, 2), (4, 2), (5, 1), (6, 1), (7, 1), (8, 1), (9, 1), (10, 1), (11, 2), (12, 2), (13, 0), (14, 2), (15, 1), (16, 1), (17, 1), (18, 2), (19, 1), (20, 2), (21, 1), (22, 2), (23, 1), (24, 2), (25, 2), (26, 2), (27, 1), (28, 1), (29, 1), (30, 2), (31, 1), (32, 1), (33, 1), (34, 1), (35, 2), (36, 2), (37, 1), (38, 2), (39, 0), (40, 2), (41, 2), (42, 1), (43, 1), (44, 1), (45, 2), (46, 1), (47, 1), (48, 2), (49, 2), (50, 2), (51, 1), (52, 2), (53, 2), (54, 1), (55, 1), (56, 2), (57, 2), (58, 2), (59, 1), (60, 1), (61, 2), (62, 2)]\n",
      "CPU times: user 160 ms, sys: 996 µs, total: 161 ms\n",
      "Wall time: 161 ms\n"
     ]
    }
   ],
   "source": [
    "%%time\n",
    "TrainMatrix = Train.values\n",
    "TestInstances = Test.values\n",
    "TrainLabels = Y_Train\n",
    "K = 5\n",
    "r=1\n",
    "classification = []\n",
    "for i in range(len(Test)):\n",
    "    label,_ = kIBLAlgorithm (TrainMatrix,TestInstances[i],TrainLabels,K,r)\n",
    "    classification.append((i,label))\n",
    "print('Test KNN classification (classification = [(num_instance,label):')\n",
    "print(classification)"
   ]
  },
  {
   "cell_type": "code",
   "execution_count": 25,
   "metadata": {},
   "outputs": [
    {
     "data": {
      "image/png": "[encoded data removed]",
      "text/plain": [
       "<Figure size 360x360 with 1 Axes>"
      ]
     },
     "metadata": {
      "needs_background": "light"
     },
     "output_type": "display_data"
    }
   ],
   "source": [
    "# REAL CLASSIFICATION:\n",
    "\n",
    "Y_pred = [label for instance,label in classification]\n",
    "fig = plt.figure(figsize=(5, 5))\n",
    "plt.scatter(Test.values[:, 0], Test.values[:, 1], c=Y_Test,\n",
    "            s=50, cmap='viridis');\n",
    "\n",
    "#plt.savefig(fname='numerical_true')\n",
    "plt.show()"
   ]
  },
  {
   "cell_type": "code",
   "execution_count": 26,
   "metadata": {},
   "outputs": [
    {
     "data": {
      "image/png": "[encoded data removed]",
      "text/plain": [
       "<Figure size 360x360 with 1 Axes>"
      ]
     },
     "metadata": {
      "needs_background": "light"
     },
     "output_type": "display_data"
    }
   ],
   "source": [
    "# PREDICTED CLASSIFICATION\n",
    "Y_pred = [label for instance,label in classification]\n",
    "fig = plt.figure(figsize=(5, 5))\n",
    "plt.scatter(Test.values[:, 0], Test.values[:, 1], c=Y_pred,\n",
    "            s=50, cmap='viridis');\n",
    "\n",
    "#plt.savefig(fname='numerical_true')\n",
    "plt.show()"
   ]
  },
  {
   "cell_type": "markdown",
   "metadata": {},
   "source": [
    "**Accuracy**"
   ]
  },
  {
   "cell_type": "code",
   "execution_count": 27,
   "metadata": {},
   "outputs": [
    {
     "name": "stdout",
     "output_type": "stream",
     "text": [
      "Accuracy: 0.8888888888888888\n",
      "Instances Correctly Classified (index):\n",
      "[0, 1, 2, 3, 4, 5, 6, 7, 9, 10, 11, 14, 15, 16, 17, 18, 19, 20, 21, 22, 23, 24, 25, 26, 27, 28, 29, 30, 31, 32, 33, 34, 35, 36, 37, 38, 40, 41, 42, 43, 44, 46, 47, 48, 49, 50, 51, 52, 53, 54, 55, 56, 57, 60, 61, 62]\n",
      "Instances Incorrecly Clssified (index):\n",
      "[8, 12, 13, 39, 45, 58, 59]\n"
     ]
    }
   ],
   "source": [
    "def accuracy(Y_Test,TestClassification):\n",
    "    from sklearn import metrics\n",
    "    Y_pred = [label for instance,label in TestClassification]\n",
    "    return metrics.accuracy_score(Y_Test, Y_pred)\n",
    "\n",
    "def instance_classification(Y_Test,TestClassification):\n",
    "    \n",
    "    correct_classification = []\n",
    "    incorrect_classification = []\n",
    "    \n",
    "    Y_pred = [label for instance,label in TestClassification]\n",
    "    \n",
    "    for i in range(len(Y_pred)):\n",
    "        if Y_pred[i] == Y_Test[i]:\n",
    "            correct_classification.append(i) # index of Correct Classified Instance\n",
    "        else:\n",
    "            incorrect_classification.append(i)  # Index of Incorrect Classified Instance\n",
    "    return correct_classification,incorrect_classification\n",
    "\n",
    "print('Accuracy:',accuracy(Y_Test,classification))\n",
    "\n",
    "correct,incorrect = instance_classification(Y_Test,classification)\n",
    "print('Instances Correctly Classified (index):')\n",
    "print(correct)\n",
    "print('Instances Incorrecly Clssified (index):')\n",
    "print(incorrect)"
   ]
  },
  {
   "cell_type": "markdown",
   "metadata": {},
   "source": [
    "### Instance-Based Algorithm \n",
    "\n",
    "An instance-based concept description includes a set of stored instances and, possibly,\n",
    "some information concerning their past performances during classification (e.g., their number of correct and incorrect classification predictions). This set of instances can change\n",
    "after each training instance is processed. However, IBL algorithms do not construct extensional concept descriptions. Instead, concept descriptions are determined by how the IBL algorithm's selected similarity and classification functions use the current set of saved instances. These functions are two of the three components in the following framework that describes all IBL algorithms. \n",
    "\n",
    "1. Similarity Function: This computes the similarity between a training instance i and the instances in the concept description. Similarities are numeric-valued.\n",
    "\n",
    "2. Classification Function: This receives the similarity function's results and the classification performance records of the instances in the concept description. It yields a classification for i.\n",
    "\n",
    "3. Concept Description Updater: This maintains records on classification performance and decides which instances to include in the concept description. Inputs include i, the similarity results, the classification results, and a current concept description. It yields the modified concept description.\n",
    "\n",
    "**The concept description (CD) is the primary output of the IBL algorithm.** It is some kind of a function that maps\n",
    "instances to categories, i.e., given an instance, it tells us which class it belongs to. \n",
    "\n",
    "### Learning strategies (Retention policies):"
   ]
  },
  {
   "cell_type": "code",
   "execution_count": 28,
   "metadata": {},
   "outputs": [
    {
     "name": "stdout",
     "output_type": "stream",
     "text": [
      "Instances Correctly Classified (index,label):\n",
      "[(0, 2), (1, 2), (2, 1), (3, 2), (4, 2), (5, 1), (6, 1), (7, 1), (9, 1), (10, 1), (11, 2), (14, 2), (15, 1), (16, 1), (17, 1), (18, 2), (19, 1), (20, 2), (21, 1), (22, 2), (23, 1), (24, 2), (25, 2), (26, 2), (27, 1), (28, 1), (29, 1), (30, 2), (31, 1), (32, 1), (33, 1), (34, 1), (35, 2), (36, 2), (37, 1), (38, 2), (40, 2), (41, 2), (42, 1), (43, 1), (44, 1), (46, 1), (47, 1), (48, 2), (49, 2), (50, 2), (51, 1), (52, 2), (53, 2), (54, 1), (55, 1), (56, 2), (57, 2), (60, 1), (61, 2), (62, 2)]\n",
      "Instances Incorrecly Clssified (index,label):\n",
      "[(8, 1), (12, 2), (13, 0), (39, 0), (45, 2), (58, 2), (59, 1)]\n",
      "IB1 (all examples stored):\n",
      " [(0, 2), (1, 2), (2, 1), (3, 2), (4, 2), (5, 1), (6, 1), (7, 1), (8, 1), (9, 1), (10, 1), (11, 2), (12, 2), (13, 0), (14, 2), (15, 1), (16, 1), (17, 1), (18, 2), (19, 1), (20, 2), (21, 1), (22, 2), (23, 1), (24, 2), (25, 2), (26, 2), (27, 1), (28, 1), (29, 1), (30, 2), (31, 1), (32, 1), (33, 1), (34, 1), (35, 2), (36, 2), (37, 1), (38, 2), (39, 0), (40, 2), (41, 2), (42, 1), (43, 1), (44, 1), (45, 2), (46, 1), (47, 1), (48, 2), (49, 2), (50, 2), (51, 1), (52, 2), (53, 2), (54, 1), (55, 1), (56, 2), (57, 2), (58, 2), (59, 1), (60, 1), (61, 2), (62, 2)]\n"
     ]
    }
   ],
   "source": [
    "# IB1 \n",
    "TestClassification = classification\n",
    "def IB1(Y_Test,TestClassification):\n",
    "    \n",
    "    correct_classification = []\n",
    "    incorrect_classification = []\n",
    "    \n",
    "    Y_pred = [label for instance,label in TestClassification]\n",
    "    \n",
    "    for i in range(len(Y_pred)):\n",
    "        if Y_pred[i] == Y_Test[i]:\n",
    "            correct_classification.append((i,Y_pred[i])) # index of Correct Classified Instance\n",
    "        else:\n",
    "            incorrect_classification.append((i,Y_pred[i]))  # Index of Incorrect Classified Instance\n",
    "    print('Instances Correctly Classified (index,label):')\n",
    "    print(correct_classification)\n",
    "    print('Instances Incorrecly Clssified (index,label):')\n",
    "    print(incorrect_classification)\n",
    "    return TestClassification\n",
    "print('IB1 (all examples stored):\\n',IB1(Y_Test,TestClassification))"
   ]
  },
  {
   "cell_type": "code",
   "execution_count": 19,
   "metadata": {},
   "outputs": [
    {
     "name": "stdout",
     "output_type": "stream",
     "text": [
      "Instances Correctly Classified (index):\n",
      "[0, 1, 2, 3, 4, 5, 6, 7, 9, 10, 11, 13, 14, 15, 16, 17, 18, 19, 20, 21, 22, 23, 24, 25, 26, 27, 28, 29, 30, 31, 32, 33, 34, 35, 36, 37, 38, 39, 40, 41, 42, 43, 44, 46, 47, 48, 49, 50, 51, 52, 53, 54, 55, 56, 57, 60, 61, 62]\n",
      "Instances Incorrecly Clssified (index):\n",
      "[8, 12, 45, 58, 59]\n",
      "IB2 (missclassified instances stored):\n",
      " [8, 12, 45, 58, 59]\n"
     ]
    }
   ],
   "source": [
    "# IB2 \n",
    "TestClassification = classification\n",
    "def IB2(Y_Test,TestClassification):\n",
    "    \n",
    "    correct_classification = []\n",
    "    incorrect_classification = []\n",
    "    \n",
    "    Y_pred = [label for instance,label in TestClassification]\n",
    "    \n",
    "    for i in range(len(Y_pred)):\n",
    "        if Y_pred[i] == Y_Test[i]:\n",
    "            correct_classification.append(i) # index of Correct Classified Instance\n",
    "        else:\n",
    "            incorrect_classification.append(i)  # Index of Incorrect Classified Instance\n",
    "    print('Instances Correctly Classified (index):')\n",
    "    print(correct_classification)\n",
    "    print('Instances Incorrecly Clssified (index):')\n",
    "    print(incorrect_classification)\n",
    "    return incorrect_classification\n",
    "print('IB2 (missclassified instances stored):\\n',IB2(Y_Test,TestClassification))"
   ]
  },
  {
   "cell_type": "code",
   "execution_count": null,
   "metadata": {},
   "outputs": [],
   "source": [
    "def DD (TrainMatrix,TestInstance,TrainLabels,K,r):\n",
    "    \"\"\"K-Instance-Based Learning algorithm\"\"\"\n",
    "    import operator\n",
    "\n",
    "    distances = {}\n",
    "    length = TrainMatrix.shape[1]\n",
    "    \n",
    "    # Compute distances between one Test Incance (current test instance) and all the TrainMatrix rows\n",
    "    for i in range(len(TrainMatrix)): # each row \n",
    "        dist = minskowski_metric(TrainMatrix[i], TestInstance , length,r) # Selecting data by row numbers (.iloc)\n",
    "        distances[i] = dist\n",
    "    sortdist = sorted(distances.items(), key=operator.itemgetter(1)) # sort in decreasing order\n",
    "\n",
    "    # Find the Train Instances that are close to the Train Instance\n",
    "    neighbors = []\n",
    "    for i in range(K):\n",
    "        neighbors.append(sortdist[i][0]) # we choose the index of the K most similar instances (min distance)\n",
    "\n",
    "    # Voting policies: \n",
    "    \n",
    "    # 1) Most voted solution \n",
    "    Count = {}  # to get most frequent class of rows \n",
    "    for i in range(len(neighbors)):\n",
    "        label = Y_Train[neighbors[i]]\n",
    "        if label in Count:\n",
    "            Count[label] += 1\n",
    "        else:\n",
    "            Count[label] = 1\n",
    "    sortcount = sorted(Count.items(), key=operator.itemgetter(1), reverse=True) # We sort from most frequent label to less frequent\n",
    "    \n",
    "    return (sortcount[0][0],neighbors)\n",
    "\n",
    "TrainMatrix = Train.values\n",
    "TestInstance = Test.values[0]\n",
    "TrainLabels = Y_Train\n",
    "K = 7\n",
    "r=1\n",
    "kIBLAlgorithm (TrainMatrix,TestInstance,TrainLabels,K,r)"
   ]
  },
  {
   "cell_type": "markdown",
   "metadata": {},
   "source": [
    "**Modified Plurality**\n",
    "\n",
    "computes the most voted solution but in case of ties, it removes the last k nearest neighbors and computes again the most voted solution. In case of ties, the process is repeated. The process finishes when there is a winner solution or when just one nearest neighbor remains."
   ]
  },
  {
   "cell_type": "code",
   "execution_count": 7,
   "metadata": {},
   "outputs": [
    {
     "name": "stdout",
     "output_type": "stream",
     "text": [
      "No Tie\n"
     ]
    }
   ],
   "source": [
    "import operator\n",
    "sortcount = [(2, 2), (1,1),(0,1)]\n",
    "neighbors = [190, 140, 62]\n",
    "\n",
    "# 2) Modified plurality\n",
    "while sortcount[0][1] == sortcount[1][1]:\n",
    "    print(neighbors)\n",
    "    neighbors = neighbors[:-1]\n",
    "    print(neighbors)\n",
    "    Count = {}  # to get most frequent class of rows \n",
    "    for i in range(len(neighbors)):\n",
    "        label = Y_Train[neighbors[i]]\n",
    "        if label in Count:\n",
    "            Count[label] += 1\n",
    "        else:\n",
    "            Count[label] = 1\n",
    "    sortcount = sorted(Count.items(), key=operator.itemgetter(1), reverse=True) # We sort from most frequent label to lenttss frequent\n",
    "\n",
    "    print('There is a Tie')\n",
    "    \n",
    "    if len(sortcount)==1:\n",
    "        print(sortcount)\n",
    "        break\n",
    "    elif sortcount[0][1] != sortcount[1][1]:\n",
    "        print(sortcount)\n",
    "        break\n",
    "\n",
    "else:\n",
    "    print('No Tie')\n",
    "    Count = {}  # to get most frequent class of rows \n",
    "    for i in range(len(neighbors)):\n",
    "        label = Y_Train[neighbors[i]]\n",
    "        if label in Count:\n",
    "            Count[label] += 1\n",
    "        else:\n",
    "            Count[label] = 1\n",
    "    sortcount = sorted(Count.items(), key=operator.itemgetter(1), reverse=True) # We sort from most frequent label to lenttss frequent"
   ]
  },
  {
   "cell_type": "markdown",
   "metadata": {},
   "source": [
    "## IB algorithms \n",
    "\n",
    "### IB1"
   ]
  },
  {
   "cell_type": "markdown",
   "metadata": {},
   "source": [
    "Evaluation \n",
    "- accuracy \n",
    "- time \n",
    "- instance base size\n",
    "\n",
    "Decide the evaluation metric: read the demar's paper, you can use...\n",
    "- T-test\n",
    "- anova\n",
    "- friedman \n",
    "- Wilcoxon \n"
   ]
  },
  {
   "cell_type": "code",
   "execution_count": null,
   "metadata": {},
   "outputs": [],
   "source": []
  }
 ],
 "metadata": {
  "kernelspec": {
   "display_name": "Python_3_6",
   "language": "python",
   "name": "python_3_6"
  },
  "language_info": {
   "codemirror_mode": {
    "name": "ipython",
    "version": 3
   },
   "file_extension": ".py",
   "mimetype": "text/x-python",
   "name": "python",
   "nbconvert_exporter": "python",
   "pygments_lexer": "ipython3",
   "version": "3.6.8"
  }
 },
 "nbformat": 4,
 "nbformat_minor": 2
}
