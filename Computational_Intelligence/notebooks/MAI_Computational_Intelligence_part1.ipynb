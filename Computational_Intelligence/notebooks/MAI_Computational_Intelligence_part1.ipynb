{
  "nbformat": 4,
  "nbformat_minor": 0,
  "metadata": {
    "colab": {
      "name": "MAI_Computational_Intelligence_part1.ipynb",
      "provenance": [],
      "collapsed_sections": []
    },
    "kernelspec": {
      "name": "python3",
      "display_name": "Python 3"
    }
  },
  "cells": [
    {
      "cell_type": "markdown",
      "metadata": {
        "id": "EiPJp5P2GKCR",
        "colab_type": "text"
      },
      "source": [
        "# Computational Intelligence\n",
        "\n",
        "The aim of this course is to provide the students with the knowledge and skills required to design and implement effective and efficient Computational Intelligence solutions to problems for which a direct solution is impractical or unknown. Specifically, students will acquire the basic concepts of fuzzy, evolutionary and neural computation. The student will also apply this knowledge to solve some real case studies. [1].\n",
        "\n",
        "[1] https://www.fib.upc.edu/en/studies/masters/master-artificial-intelligence/curriculum/syllabus/CI-MAI"
      ]
    },
    {
      "cell_type": "markdown",
      "metadata": {
        "id": "fNj2E14VGdvT",
        "colab_type": "text"
      },
      "source": [
        "## Contents\n",
        "\n",
        "1. **Introduction to Computational Intelligence**\n",
        "  - Computational Intelligence: definition and paradigms. Brief historical sketch.\n",
        "2. Foundations of Neural Computation \n",
        "  - Introduction to neural computation: biological inspiration, neural network models, architectures and training algorithms. Learning and generalization.\n",
        "3. Foundations of Evolutionary Computation \n",
        "  - Introduction to evolutionary computation: evolutionary processes in nature, genetic operators, evolutionary optimization algorithms. Genetic algorithms. Evolution Strategies and CMA-ES.\n",
        "4. Foundations of Fuzzy Computation \n",
        "  - Introduction to fuzzy computation: fuzzy sets and systems, fuzzy inference systems and FIR.\n",
        "5. Applications and case studies \n",
        "  - Applications and case studies on real problems in regression, classification, identification and system optimization\n",
        "\n",
        "Chosen project: GANs for data augmentation for updating a machine learning model.\n",
        "\n",
        "\n",
        "\n",
        "\n"
      ]
    },
    {
      "cell_type": "markdown",
      "metadata": {
        "id": "Wn3XZcpdHhHD",
        "colab_type": "text"
      },
      "source": [
        "## Bibliography\n",
        "**Basic:**\n",
        "\n",
        "* **Computational Intelligence: An Introduction - Engelbrecht, Andries, Wiley, 2007** .\n",
        "\n",
        "* **Neural networks and learning machines - Haykin, Simon S, Prentice Hall, cop. 2009.**\n",
        "\n",
        "**Website:**\n",
        "  \n",
        "* http://ci.cs.up.ac.za/?page=algo_pso"
      ]
    },
    {
      "cell_type": "markdown",
      "metadata": {
        "id": "t6ui4PodKf66",
        "colab_type": "text"
      },
      "source": [
        "## 1. Introduction to Computational Intelligence\n",
        "\n",
        "  - Computational Intelligence: definition and paradigms. Brief historical sketch."
      ]
    },
    {
      "cell_type": "markdown",
      "metadata": {
        "id": "hCeT_pP6Uo1o",
        "colab_type": "text"
      },
      "source": [
        "- what is intelligence?: Is the ability to understand from experience to reason. also, it includes, creativity, skill, emotion, etc.\n",
        "\n",
        "- Can computers be intelligent? . In the mid-1900s Alan Turing believed that there was nothing the brain could do that a well-designed computer could not. Check the turing test.\n",
        "\n",
        "- Recent definition of AI: how to make computers do things at which people are doing better. IEEE 1996.\n",
        "\n",
        "- CI, a sub-branch of AI, which is the study if mechanisms to enable intelligent behavior in complex environments. The mechanisms are the AI paradigms that exhibit an ability to learn, to generalize, abstract, etc. There paradigms are: \n",
        "  - Artificial Neural Networks (NN).\n",
        "  - Evolutionary computation (EC).\n",
        "  - Swarm intelligence (SI).\n",
        "  - Artificial Inmune Systems (AIS).\n",
        "  - Fuzzy systems (FS).\n",
        "  \n",
        "   \n",
        "\n",
        "<img src=\"https://drive.google.com/uc?export=view&id=1LxVORhdLhzyeK8l7aRLz8GduKZKyMFcL\" alt=\"drawing\" width=\"400\" />\n",
        "\n",
        "- All these paradigms together with probabilistic techniques belong to soft computing.\n",
        "\n",
        "- What is soft computing and hard computing? [1]\n",
        "  - Soft computing: is tolerant to imprecison, uncertainty and aproximation. whereas, hard computing requires precision.\n",
        "  - Soft computing programs can evolve whereas hard computing need more code to work.\n",
        "  - Sof computing incorporates stochasticity whereas hard computing is deterministic.\n",
        "  - Hard computing deals with binary logic and numerical analysis.\n",
        "  \n",
        "- What are the differences btw Machine Learning and Computationl Intelligence and Artificial Intelligence? [2][3]\n",
        "  - CI is a subset of AI. Both, AI and CI, seek for a general intelligence (AGI, strong AI) [4]. CI work with nature-inspired computational approaches. Wheres ML also contains other methods. There is an overlapping btw ML and CI, because both study, for instance, the neural networks.  \n",
        " \n",
        "[1] https://blog.oureducation.in/soft-computing-and-hard-computing/\n",
        "\n",
        "[2] https://www.quora.com/What-are-the-differences-between-computational-intelligence-and-machine-learning\n",
        "\n",
        "[3] https://en.wikipedia.org/wiki/Computational_intelligence\n",
        "\n",
        "[3] https://en.wikipedia.org/wiki/Artificial_general_intelligence\n",
        "\n"
      ]
    },
    {
      "cell_type": "markdown",
      "metadata": {
        "id": "iFF8igXESCri",
        "colab_type": "text"
      },
      "source": [
        "### Artificial Neural Networks\n",
        "\n",
        "- The brain is a complex, nonlinear and parallel computer. It performs pattern recognition, perception and motor control.\n",
        "\n",
        "- There is about 10-500 billion neurons in the human cortex, with 60 trillion synapses. They are arranged in 1000 main modules, each having about 500 neural networks.\n",
        "\n",
        "- AN (artificial neuron) is a model of a biological neuron. \n",
        "\n",
        "<img src=\"https://drive.google.com/uc?export=view&id=14vkBQM-QkAgjQbN1-Lsq6GQRU5d-tCRj\" alt=\"drawing\" width=\"400\" />\n",
        "\n",
        "\n",
        "<img src=\"https://drive.google.com/uc?export=view&id=1NBgaqvlB_-KDuBqE4QGo8bBJXx1DCq7B\" alt=\"drawing\" width=\"400\" />\n",
        "\n"
      ]
    },
    {
      "cell_type": "markdown",
      "metadata": {
        "id": "Bin4oLnldQ5P",
        "colab_type": "text"
      },
      "source": [
        "### Evolutionary Computation\n",
        "\n",
        "- Mimic the processes from natural evolution, where the main concept is survival of the fittest: whe weak must die.\n",
        "\n",
        "- Evolutionary algorithms use a population, where each individual in the population is referred to as a chromosome (characteristics of an individual). Each characteristic is a gen (e.g hair color). The value of each gen is an allele (e.g brown, blonde). For each generation, individual compete to reproduce offspring, but just ones  that are consider strong. Each offspring have inherited parts of their parents, crossover. Also can have some mutation in theirs alleles. The Strength of a indivual is measured by a fitness function."
      ]
    },
    {
      "cell_type": "markdown",
      "metadata": {
        "id": "yHjcchwfgcE0",
        "colab_type": "text"
      },
      "source": [
        "### Swarm Intelligence\n",
        "\n",
        "- Originated for the study of colonies or swarms of social organisms.\n",
        "\n",
        "- For instance, the Particle swarm optimization (PSO) is an approach where each particle in swarm represents a posible solution to the optimization problem. Each particle adjust it self by its own experience and that of neighboring particles."
      ]
    },
    {
      "cell_type": "markdown",
      "metadata": {
        "id": "kuMLpbD2jp64",
        "colab_type": "text"
      },
      "source": [
        "### Artificial Inmune systems\n",
        "\n",
        "- A Natural Inmune system (NIS) has a pattern matching ability to distinguish btw foreign cells (antigen) and cells belonging to the body. The NIS memorizes the structure of these antigens for faster future response.\n",
        "\n",
        "- An Artificial Inmune System (AIS) is applied to solve pattern recognition problems, and mainly anomaly detection tasks, such as fraud detection and computer virus detection.\n"
      ]
    },
    {
      "cell_type": "markdown",
      "metadata": {
        "id": "M84dZRmjryug",
        "colab_type": "text"
      },
      "source": [
        "### Fuzzy Systems\n",
        "\n",
        "- Human reasoning is not exact, it includes a measure of uncertainty.\n",
        "- Fuzzy sets and fuzzy logics allow 'approximate reasoning'. They allow the modeling of common sense.\n",
        "- This uncertainty is referred to as nonstatistical uncertainty. A statistical uncertainty is based on laws of probability, whereas nonstatistical uncertainty is based on imprecision, ambiguity.  The former is resolved through observations, the latter not.\n",
        "\n",
        "- Applications: traffic signals, braking systems, control systems.\n"
      ]
    },
    {
      "cell_type": "code",
      "metadata": {
        "id": "PFY9dJihF2TF",
        "colab_type": "code",
        "colab": {}
      },
      "source": [
        "pag 15"
      ],
      "execution_count": 0,
      "outputs": []
    },
    {
      "cell_type": "markdown",
      "metadata": {
        "id": "qATYofJvr8dy",
        "colab_type": "text"
      },
      "source": [
        "## Fuzzy Systems"
      ]
    },
    {
      "cell_type": "markdown",
      "metadata": {
        "id": "lc-KMBSasBZk",
        "colab_type": "text"
      },
      "source": [
        "- Boolean logic: an elements belongs to a set or not. That is, set membership is precise.\n",
        "\n",
        "- However, there is a need for incomplete, imprecise, vague or uncertain information.\n",
        "\n",
        "- Fuzzy terms: very tall, partly cloudy, etc.\n",
        "\n"
      ]
    },
    {
      "cell_type": "markdown",
      "metadata": {
        "id": "c-DKNoC63-p7",
        "colab_type": "text"
      },
      "source": [
        "### Fuzzy sets\n",
        "\n"
      ]
    },
    {
      "cell_type": "markdown",
      "metadata": {
        "id": "WP5KokUK4BWF",
        "colab_type": "text"
      },
      "source": [
        "- Idea: give each element a degree of memmbership. For instance, a person with 1.78 m height, perhaps is consider tall, and also a person with 2.21 m of height. But the latter has a more degree of membership (let's 0.95) and the former just (0.75).\n",
        "\n",
        "**Formal definition**\n",
        "\n",
        "- The membership degree indicates certainty (or uncertainty) that the element $x$ belongs to that set $A$.\n",
        "\n",
        "- Crisp means two-valued elements.\n",
        "\n",
        "$$A=\\left\\{\\left(x, \\mu_{A}(x)\\right) | x \\in X\\right\\}$$\n",
        "\n",
        "where $\\mu_{A}(x)$ is the membership function.\n",
        "\n"
      ]
    },
    {
      "cell_type": "markdown",
      "metadata": {
        "id": "PhSu5ZQAwU-B",
        "colab_type": "text"
      },
      "source": [
        "## 1. Foundations of Neural Computation\n",
        "\n",
        "- Introduction to neural computation: biological inspiration, neural network models, architectures and training algorithms. Learning and generalization."
      ]
    },
    {
      "cell_type": "markdown",
      "metadata": {
        "id": "wD0_DEEDB2tU",
        "colab_type": "text"
      },
      "source": [
        "### What is a neural network?\n",
        "\n",
        "\n",
        "- A Neural Network is a massively parallel distributed processor, made up of processing units that store experiential knowledge. Knowledge is acquired by a learning process. This acquired knowledge is stored in weights.\n",
        "\n",
        "**Benefits of NN**\n",
        "\n",
        "- **Nonlinearity**: Deals with complex problems with nonlinear boundaries (classification).\n",
        "- **Input-Output Mapping**: Also known as supervised learning that involves modifying the weights of a NN by using the training samples (x, y) = (input, target). It also is considered as nonparametric model, also a model-free estimation, tabula rasa learning because no prior assumptions are made on a statistical model for the input data. For instance, the estimation of decision boundaries are not based on statistical distribution such as  normal, poisson, bernoulli, etc.\n",
        "- **Adaptivity**: It can change their weights in real time base on environmental conditions.\n",
        "- **Evidential Response**: It shows the confidence in the decision made, it is like the probability value when dealing with classification problems. It is a measure also of the network's performance.\n",
        "- **Contextual Information**: Every neuron is affected byt the global activity of the other neurons in NN.\n",
        "- **Fault Tolerance.**: It is robust or its performance degrades gracefully under adverse operating conditions. For instance, if some neurons are failing, the degradation is slow.\n",
        "- **very-large-scale-integrated Implementability.**: Due to its parallel nature it is fast for the computation of tasks.\n",
        "\n",
        "\n",
        "**Model of Neuron**\n",
        "\n",
        "\n",
        "<img src=\"https://drive.google.com/uc?export=view&id=1-OzYb6o0DnsDHkGiO59KFsePPeuxx12w\" alt=\"drawing\" width=\"500\" />\n",
        "\n",
        "\n",
        "$$u_{k}=\\sum_{j=1}^{m} w_{k j} x_{j}$$\n",
        "\n",
        "$$y_{k}=\\varphi\\left(u_{k}+b_{k}\\right)$$\n",
        "\n",
        "where $x_{1}, x_{2}, \\dots, x_{m}$ are the inputs and $w_{k 1}, w_{k 2}, \\ldots, w_{k m}$ the weights of neurons. $u_k$ is the linear combiner output. $b_k$ is the bias and $\\varphi(\\cdot)$ is the activation function. $y_k$ is the output of the activation function (the prediction). The goal of the bias is to apply an affine transformation to the $u_k$:\n",
        "\n",
        "$$\n",
        "v_{k}=u_{k}+b_{k}\n",
        "$$\n",
        "\n",
        "<img src=\"https://drive.google.com/uc?export=view&id=1sIKDYUv2_Ag4uBiFzCg3dRJ-QSHuRt-K\" alt=\"drawing\" width=\"500\" />\n",
        "\n",
        "### Network architectures\n",
        "\n",
        "**Single-Layer Feedforward Networks**\n",
        "\n",
        "Only one layer, in one direction.\n",
        "\n",
        "<img src=\"https://drive.google.com/uc?export=view&id=1rDu6fiviJVCKoii4bHIMQ-DuhbgfEeS5\" alt=\"drawing\" width=\"400\" />\n",
        "\n",
        "**Multilayer Feedforward Networks**\n",
        "\n",
        "One or more hidden layers. The layers are called hidden because they are between the input and output layer. The more hidden layer, the higher order of complexity. The NN acquires a globla perspective against a local conectivity. The following example shows a 10-4-2 network, 10 input nodes, 4 hidden neurons and 2 output neurons.\n",
        "\n",
        "<img src=\"https://drive.google.com/uc?export=view&id=1oAeiPOd1jJdZRvYB2emO-HrGHUmDEVCh\" alt=\"drawing\" width=\"400\" />\n",
        "\n",
        "\n",
        "**Recurrent Networks**\n",
        "\n"
      ]
    },
    {
      "cell_type": "markdown",
      "metadata": {
        "id": "2nYe9dCkiPO2",
        "colab_type": "text"
      },
      "source": [
        "## Rosenblatt's Perceptron\n",
        "\n"
      ]
    },
    {
      "cell_type": "code",
      "metadata": {
        "id": "xWzZS7I8wWHV",
        "colab_type": "code",
        "colab": {}
      },
      "source": [
        ""
      ],
      "execution_count": 0,
      "outputs": []
    }
  ]
}