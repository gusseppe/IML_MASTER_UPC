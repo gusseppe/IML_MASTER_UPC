{
  "nbformat": 4,
  "nbformat_minor": 0,
  "metadata": {
    "colab": {
      "name": "MAI_Computational_Intelligence_part4.ipynb",
      "provenance": [],
      "collapsed_sections": []
    },
    "kernelspec": {
      "name": "python3",
      "display_name": "Python 3"
    }
  },
  "cells": [
    {
      "cell_type": "markdown",
      "metadata": {
        "id": "EiPJp5P2GKCR",
        "colab_type": "text"
      },
      "source": [
        "# Computational Intelligence\n",
        "\n",
        "The aim of this course is to provide the students with the knowledge and skills required to design and implement effective and efficient Computational Intelligence solutions to problems for which a direct solution is impractical or unknown. Specifically, students will acquire the basic concepts of fuzzy, evolutionary and neural computation. The student will also apply this knowledge to solve some real case studies. [1].\n",
        "\n",
        "[1] https://www.fib.upc.edu/en/studies/masters/master-artificial-intelligence/curriculum/syllabus/CI-MAI"
      ]
    },
    {
      "cell_type": "markdown",
      "metadata": {
        "id": "fNj2E14VGdvT",
        "colab_type": "text"
      },
      "source": [
        "## Contents\n",
        "\n",
        "1. Introduction to Computational Intelligence\n",
        "  - Computational Intelligence: definition and paradigms. Brief historical sketch.\n",
        "2. Foundations of Neural Computation \n",
        "  - Introduction to neural computation: biological inspiration, neural network models, architectures and training algorithms. Learning and generalization.\n",
        "3. Foundations of Evolutionary Computation \n",
        "  - Introduction to evolutionary computation: evolutionary processes in nature, genetic operators, evolutionary optimization algorithms. Genetic algorithms. Evolution Strategies and CMA-ES.\n",
        "4. **Foundations of Fuzzy Computation**\n",
        "  - Introduction to fuzzy computation: fuzzy sets and systems, fuzzy inference systems and FIR.\n",
        "5. Applications and case studies \n",
        "  - Applications and case studies on real problems in regression, classification, identification and system optimization\n",
        "\n",
        "Chosen project: GANs for data augmentation for updating a machine learning model.\n",
        "\n",
        "\n",
        "\n",
        "\n"
      ]
    },
    {
      "cell_type": "markdown",
      "metadata": {
        "id": "Wn3XZcpdHhHD",
        "colab_type": "text"
      },
      "source": [
        "## Bibliography\n",
        "**Basic:**\n",
        "\n",
        "* **Computational Intelligence: An Introduction - Engelbrecht, Andries, Wiley, 2007** .\n",
        "\n",
        "* **Neural networks and learning machines - Haykin, Simon S, Prentice Hall, cop. 2009.**\n",
        "\n",
        "**Website:**\n",
        "  \n",
        "* http://ci.cs.up.ac.za/?page=algo_pso"
      ]
    },
    {
      "cell_type": "markdown",
      "metadata": {
        "id": "qATYofJvr8dy",
        "colab_type": "text"
      },
      "source": [
        "## 4. Fuzzy Systems"
      ]
    },
    {
      "cell_type": "markdown",
      "metadata": {
        "id": "lc-KMBSasBZk",
        "colab_type": "text"
      },
      "source": [
        "- Boolean logic: an elements belongs to a set or not. That is, set membership is precise.\n",
        "\n",
        "- However, there is a need for incomplete, imprecise, vague or uncertain information.\n",
        "\n",
        "- Fuzzy terms: very tall, partly cloudy, etc.\n",
        "\n"
      ]
    },
    {
      "cell_type": "markdown",
      "metadata": {
        "id": "c-DKNoC63-p7",
        "colab_type": "text"
      },
      "source": [
        "### Fuzzy sets\n",
        "\n"
      ]
    },
    {
      "cell_type": "markdown",
      "metadata": {
        "id": "WP5KokUK4BWF",
        "colab_type": "text"
      },
      "source": [
        "- Idea: give each element a degree of memmbership. For instance, a person with 1.78 m height, perhaps is consider tall, and also a person with 2.21 m of height. But the latter has a more degree of membership (let's 0.95) and the former just (0.75).\n",
        "\n",
        "**Formal definition**\n",
        "\n",
        "- The membership degree indicates certainty (or uncertainty) that the element $x$ belongs to that set $A$.\n",
        "\n",
        "- Crisp means two-valued elements.\n",
        "\n",
        "$$A=\\left\\{\\left(x, \\mu_{A}(x)\\right) | x \\in X\\right\\}$$\n",
        "\n",
        "where $\\mu_{A}(x)$ is the membership function.\n",
        "\n"
      ]
    },
    {
      "cell_type": "code",
      "metadata": {
        "id": "xWzZS7I8wWHV",
        "colab_type": "code",
        "colab": {}
      },
      "source": [
        ""
      ],
      "execution_count": 0,
      "outputs": []
    }
  ]
}